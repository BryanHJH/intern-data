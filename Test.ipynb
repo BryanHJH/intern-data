{
 "cells": [
  {
   "cell_type": "code",
   "execution_count": 44,
   "metadata": {},
   "outputs": [],
   "source": [
    "import numpy as np\n",
    "import pandas as pd\n",
    "from plotly_calplot import calplot"
   ]
  },
  {
   "cell_type": "code",
   "execution_count": 45,
   "metadata": {},
   "outputs": [],
   "source": [
    "df = pd.read_csv('CRM-GRN-PO-Better.csv')\n",
    "df['CreatedDate'] = pd.to_datetime(df['CreatedDate'])"
   ]
  },
  {
   "cell_type": "code",
   "execution_count": 7,
   "metadata": {},
   "outputs": [
    {
     "data": {
      "text/html": [
       "<div>\n",
       "<style scoped>\n",
       "    .dataframe tbody tr th:only-of-type {\n",
       "        vertical-align: middle;\n",
       "    }\n",
       "\n",
       "    .dataframe tbody tr th {\n",
       "        vertical-align: top;\n",
       "    }\n",
       "\n",
       "    .dataframe thead th {\n",
       "        text-align: right;\n",
       "    }\n",
       "</style>\n",
       "<table border=\"1\" class=\"dataframe\">\n",
       "  <thead>\n",
       "    <tr style=\"text-align: right;\">\n",
       "      <th></th>\n",
       "      <th>CreatedDate</th>\n",
       "      <th>PurchaseOrder</th>\n",
       "    </tr>\n",
       "  </thead>\n",
       "  <tbody>\n",
       "    <tr>\n",
       "      <th>0</th>\n",
       "      <td>2015-12-29</td>\n",
       "      <td>PO000001</td>\n",
       "    </tr>\n",
       "    <tr>\n",
       "      <th>1</th>\n",
       "      <td>2016-01-08</td>\n",
       "      <td>PO000002</td>\n",
       "    </tr>\n",
       "    <tr>\n",
       "      <th>2</th>\n",
       "      <td>2016-01-10</td>\n",
       "      <td>PO000002</td>\n",
       "    </tr>\n",
       "    <tr>\n",
       "      <th>3</th>\n",
       "      <td>2016-02-03</td>\n",
       "      <td>PO000002</td>\n",
       "    </tr>\n",
       "    <tr>\n",
       "      <th>4</th>\n",
       "      <td>2016-02-03</td>\n",
       "      <td>PO000002</td>\n",
       "    </tr>\n",
       "  </tbody>\n",
       "</table>\n",
       "</div>"
      ],
      "text/plain": [
       "  CreatedDate PurchaseOrder\n",
       "0  2015-12-29      PO000001\n",
       "1  2016-01-08      PO000002\n",
       "2  2016-01-10      PO000002\n",
       "3  2016-02-03      PO000002\n",
       "4  2016-02-03      PO000002"
      ]
     },
     "execution_count": 7,
     "metadata": {},
     "output_type": "execute_result"
    }
   ],
   "source": [
    "df_test = df[['CreatedDate', 'PurchaseOrder']]\n",
    "df_test.head()"
   ]
  },
  {
   "cell_type": "code",
   "execution_count": 17,
   "metadata": {},
   "outputs": [
    {
     "ename": "KeyError",
     "evalue": "'CreatedDate'",
     "output_type": "error",
     "traceback": [
      "\u001b[1;31m---------------------------------------------------------------------------\u001b[0m",
      "\u001b[1;31mKeyError\u001b[0m                                  Traceback (most recent call last)",
      "File \u001b[1;32mc:\\Users\\2702b\\AppData\\Local\\Programs\\Python\\Python310\\lib\\site-packages\\pandas\\core\\indexes\\base.py:3621\u001b[0m, in \u001b[0;36mIndex.get_loc\u001b[1;34m(self, key, method, tolerance)\u001b[0m\n\u001b[0;32m   3620\u001b[0m \u001b[39mtry\u001b[39;00m:\n\u001b[1;32m-> 3621\u001b[0m     \u001b[39mreturn\u001b[39;00m \u001b[39mself\u001b[39;49m\u001b[39m.\u001b[39;49m_engine\u001b[39m.\u001b[39;49mget_loc(casted_key)\n\u001b[0;32m   3622\u001b[0m \u001b[39mexcept\u001b[39;00m \u001b[39mKeyError\u001b[39;00m \u001b[39mas\u001b[39;00m err:\n",
      "File \u001b[1;32mc:\\Users\\2702b\\AppData\\Local\\Programs\\Python\\Python310\\lib\\site-packages\\pandas\\_libs\\index.pyx:136\u001b[0m, in \u001b[0;36mpandas._libs.index.IndexEngine.get_loc\u001b[1;34m()\u001b[0m\n",
      "File \u001b[1;32mc:\\Users\\2702b\\AppData\\Local\\Programs\\Python\\Python310\\lib\\site-packages\\pandas\\_libs\\index.pyx:163\u001b[0m, in \u001b[0;36mpandas._libs.index.IndexEngine.get_loc\u001b[1;34m()\u001b[0m\n",
      "File \u001b[1;32mpandas\\_libs\\hashtable_class_helper.pxi:5198\u001b[0m, in \u001b[0;36mpandas._libs.hashtable.PyObjectHashTable.get_item\u001b[1;34m()\u001b[0m\n",
      "File \u001b[1;32mpandas\\_libs\\hashtable_class_helper.pxi:5206\u001b[0m, in \u001b[0;36mpandas._libs.hashtable.PyObjectHashTable.get_item\u001b[1;34m()\u001b[0m\n",
      "\u001b[1;31mKeyError\u001b[0m: 'CreatedDate'",
      "\nThe above exception was the direct cause of the following exception:\n",
      "\u001b[1;31mKeyError\u001b[0m                                  Traceback (most recent call last)",
      "\u001b[1;32md:\\Documents\\Visual Studio\\Python\\Nuren Intern\\Test.ipynb Cell 4'\u001b[0m in \u001b[0;36m<cell line: 1>\u001b[1;34m()\u001b[0m\n\u001b[1;32m----> <a href='vscode-notebook-cell:/d%3A/Documents/Visual%20Studio/Python/Nuren%20Intern/Test.ipynb#ch0000003?line=0'>1</a>\u001b[0m df_test[\u001b[39m'\u001b[39m\u001b[39mCreatedDate\u001b[39m\u001b[39m'\u001b[39m] \u001b[39m=\u001b[39m pd\u001b[39m.\u001b[39mto_datetime(df_test[\u001b[39m'\u001b[39;49m\u001b[39mCreatedDate\u001b[39;49m\u001b[39m'\u001b[39;49m])\n\u001b[0;32m      <a href='vscode-notebook-cell:/d%3A/Documents/Visual%20Studio/Python/Nuren%20Intern/Test.ipynb#ch0000003?line=1'>2</a>\u001b[0m df_test\u001b[39m.\u001b[39mset_index(\u001b[39m'\u001b[39m\u001b[39mCreatedDate\u001b[39m\u001b[39m'\u001b[39m, inplace\u001b[39m=\u001b[39m\u001b[39mTrue\u001b[39;00m)\n\u001b[0;32m      <a href='vscode-notebook-cell:/d%3A/Documents/Visual%20Studio/Python/Nuren%20Intern/Test.ipynb#ch0000003?line=2'>3</a>\u001b[0m df_test\u001b[39m.\u001b[39minfo()\n",
      "File \u001b[1;32mc:\\Users\\2702b\\AppData\\Local\\Programs\\Python\\Python310\\lib\\site-packages\\pandas\\core\\frame.py:3505\u001b[0m, in \u001b[0;36mDataFrame.__getitem__\u001b[1;34m(self, key)\u001b[0m\n\u001b[0;32m   3503\u001b[0m \u001b[39mif\u001b[39;00m \u001b[39mself\u001b[39m\u001b[39m.\u001b[39mcolumns\u001b[39m.\u001b[39mnlevels \u001b[39m>\u001b[39m \u001b[39m1\u001b[39m:\n\u001b[0;32m   3504\u001b[0m     \u001b[39mreturn\u001b[39;00m \u001b[39mself\u001b[39m\u001b[39m.\u001b[39m_getitem_multilevel(key)\n\u001b[1;32m-> 3505\u001b[0m indexer \u001b[39m=\u001b[39m \u001b[39mself\u001b[39;49m\u001b[39m.\u001b[39;49mcolumns\u001b[39m.\u001b[39;49mget_loc(key)\n\u001b[0;32m   3506\u001b[0m \u001b[39mif\u001b[39;00m is_integer(indexer):\n\u001b[0;32m   3507\u001b[0m     indexer \u001b[39m=\u001b[39m [indexer]\n",
      "File \u001b[1;32mc:\\Users\\2702b\\AppData\\Local\\Programs\\Python\\Python310\\lib\\site-packages\\pandas\\core\\indexes\\base.py:3623\u001b[0m, in \u001b[0;36mIndex.get_loc\u001b[1;34m(self, key, method, tolerance)\u001b[0m\n\u001b[0;32m   3621\u001b[0m     \u001b[39mreturn\u001b[39;00m \u001b[39mself\u001b[39m\u001b[39m.\u001b[39m_engine\u001b[39m.\u001b[39mget_loc(casted_key)\n\u001b[0;32m   3622\u001b[0m \u001b[39mexcept\u001b[39;00m \u001b[39mKeyError\u001b[39;00m \u001b[39mas\u001b[39;00m err:\n\u001b[1;32m-> 3623\u001b[0m     \u001b[39mraise\u001b[39;00m \u001b[39mKeyError\u001b[39;00m(key) \u001b[39mfrom\u001b[39;00m \u001b[39merr\u001b[39;00m\n\u001b[0;32m   3624\u001b[0m \u001b[39mexcept\u001b[39;00m \u001b[39mTypeError\u001b[39;00m:\n\u001b[0;32m   3625\u001b[0m     \u001b[39m# If we have a listlike key, _check_indexing_error will raise\u001b[39;00m\n\u001b[0;32m   3626\u001b[0m     \u001b[39m#  InvalidIndexError. Otherwise we fall through and re-raise\u001b[39;00m\n\u001b[0;32m   3627\u001b[0m     \u001b[39m#  the TypeError.\u001b[39;00m\n\u001b[0;32m   3628\u001b[0m     \u001b[39mself\u001b[39m\u001b[39m.\u001b[39m_check_indexing_error(key)\n",
      "\u001b[1;31mKeyError\u001b[0m: 'CreatedDate'"
     ]
    }
   ],
   "source": [
    "df_test['CreatedDate'] = pd.to_datetime(df_test['CreatedDate'])\n",
    "df_test.set_index('CreatedDate', inplace=True)"
   ]
  },
  {
   "cell_type": "code",
   "execution_count": 24,
   "metadata": {},
   "outputs": [
    {
     "name": "stdout",
     "output_type": "stream",
     "text": [
      "<class 'pandas.core.frame.DataFrame'>\n",
      "DatetimeIndex: 8482 entries, 2015-12-29 to 2022-01-24\n",
      "Data columns (total 1 columns):\n",
      " #   Column         Non-Null Count  Dtype \n",
      "---  ------         --------------  ----- \n",
      " 0   PurchaseOrder  8482 non-null   object\n",
      "dtypes: object(1)\n",
      "memory usage: 132.5+ KB\n"
     ]
    }
   ],
   "source": [
    "df_test.info()"
   ]
  },
  {
   "cell_type": "code",
   "execution_count": 74,
   "metadata": {},
   "outputs": [
    {
     "data": {
      "text/html": [
       "<div>\n",
       "<style scoped>\n",
       "    .dataframe tbody tr th:only-of-type {\n",
       "        vertical-align: middle;\n",
       "    }\n",
       "\n",
       "    .dataframe tbody tr th {\n",
       "        vertical-align: top;\n",
       "    }\n",
       "\n",
       "    .dataframe thead th {\n",
       "        text-align: right;\n",
       "    }\n",
       "</style>\n",
       "<table border=\"1\" class=\"dataframe\">\n",
       "  <thead>\n",
       "    <tr style=\"text-align: right;\">\n",
       "      <th></th>\n",
       "      <th>CreatedDate</th>\n",
       "      <th>PurchaseOrder</th>\n",
       "      <th>Count</th>\n",
       "    </tr>\n",
       "  </thead>\n",
       "  <tbody>\n",
       "    <tr>\n",
       "      <th>0</th>\n",
       "      <td>2015-12-29</td>\n",
       "      <td>PO000001</td>\n",
       "      <td>1</td>\n",
       "    </tr>\n",
       "    <tr>\n",
       "      <th>1</th>\n",
       "      <td>2015-12-29</td>\n",
       "      <td>PO000005</td>\n",
       "      <td>12</td>\n",
       "    </tr>\n",
       "    <tr>\n",
       "      <th>2</th>\n",
       "      <td>2015-12-29</td>\n",
       "      <td>PO000006</td>\n",
       "      <td>1</td>\n",
       "    </tr>\n",
       "    <tr>\n",
       "      <th>3</th>\n",
       "      <td>2016-01-08</td>\n",
       "      <td>PO000002</td>\n",
       "      <td>1</td>\n",
       "    </tr>\n",
       "    <tr>\n",
       "      <th>4</th>\n",
       "      <td>2016-01-10</td>\n",
       "      <td>PO000002</td>\n",
       "      <td>1</td>\n",
       "    </tr>\n",
       "    <tr>\n",
       "      <th>...</th>\n",
       "      <td>...</td>\n",
       "      <td>...</td>\n",
       "      <td>...</td>\n",
       "    </tr>\n",
       "    <tr>\n",
       "      <th>1866</th>\n",
       "      <td>2022-03-09</td>\n",
       "      <td>PO001422</td>\n",
       "      <td>13</td>\n",
       "    </tr>\n",
       "    <tr>\n",
       "      <th>1867</th>\n",
       "      <td>2022-03-09</td>\n",
       "      <td>PO001423</td>\n",
       "      <td>1</td>\n",
       "    </tr>\n",
       "    <tr>\n",
       "      <th>1868</th>\n",
       "      <td>2022-03-10</td>\n",
       "      <td>PO001424</td>\n",
       "      <td>1</td>\n",
       "    </tr>\n",
       "    <tr>\n",
       "      <th>1869</th>\n",
       "      <td>2022-03-10</td>\n",
       "      <td>PO001425</td>\n",
       "      <td>10</td>\n",
       "    </tr>\n",
       "    <tr>\n",
       "      <th>1870</th>\n",
       "      <td>2022-03-10</td>\n",
       "      <td>PO001426</td>\n",
       "      <td>2</td>\n",
       "    </tr>\n",
       "  </tbody>\n",
       "</table>\n",
       "<p>1871 rows × 3 columns</p>\n",
       "</div>"
      ],
      "text/plain": [
       "     CreatedDate PurchaseOrder  Count\n",
       "0     2015-12-29      PO000001      1\n",
       "1     2015-12-29      PO000005     12\n",
       "2     2015-12-29      PO000006      1\n",
       "3     2016-01-08      PO000002      1\n",
       "4     2016-01-10      PO000002      1\n",
       "...          ...           ...    ...\n",
       "1866  2022-03-09      PO001422     13\n",
       "1867  2022-03-09      PO001423      1\n",
       "1868  2022-03-10      PO001424      1\n",
       "1869  2022-03-10      PO001425     10\n",
       "1870  2022-03-10      PO001426      2\n",
       "\n",
       "[1871 rows x 3 columns]"
      ]
     },
     "execution_count": 74,
     "metadata": {},
     "output_type": "execute_result"
    }
   ],
   "source": [
    "df_group = pd.DataFrame(df_test.groupby(['CreatedDate', 'PurchaseOrder']).size())\n",
    "df_group.rename(columns = {0: 'Count'}, inplace=True)\n",
    "df_group.reset_index(inplace=True)\n",
    "df_group"
   ]
  },
  {
   "cell_type": "code",
   "execution_count": 75,
   "metadata": {},
   "outputs": [
    {
     "name": "stderr",
     "output_type": "stream",
     "text": [
      "c:\\Users\\2702b\\AppData\\Local\\Programs\\Python\\Python310\\lib\\site-packages\\plotly_calplot\\date_extractors.py:16: FutureWarning:\n",
      "\n",
      "Dropping of nuisance columns in DataFrame reductions (with 'numeric_only=None') is deprecated; in a future version this will raise TypeError.  Select only valid columns before calling the reduction.\n",
      "\n",
      "c:\\Users\\2702b\\AppData\\Local\\Programs\\Python\\Python310\\lib\\site-packages\\plotly_calplot\\date_extractors.py:16: FutureWarning:\n",
      "\n",
      "Dropping of nuisance columns in DataFrame reductions (with 'numeric_only=None') is deprecated; in a future version this will raise TypeError.  Select only valid columns before calling the reduction.\n",
      "\n",
      "c:\\Users\\2702b\\AppData\\Local\\Programs\\Python\\Python310\\lib\\site-packages\\plotly_calplot\\date_extractors.py:16: FutureWarning:\n",
      "\n",
      "Dropping of nuisance columns in DataFrame reductions (with 'numeric_only=None') is deprecated; in a future version this will raise TypeError.  Select only valid columns before calling the reduction.\n",
      "\n",
      "c:\\Users\\2702b\\AppData\\Local\\Programs\\Python\\Python310\\lib\\site-packages\\plotly_calplot\\date_extractors.py:16: FutureWarning:\n",
      "\n",
      "Dropping of nuisance columns in DataFrame reductions (with 'numeric_only=None') is deprecated; in a future version this will raise TypeError.  Select only valid columns before calling the reduction.\n",
      "\n",
      "c:\\Users\\2702b\\AppData\\Local\\Programs\\Python\\Python310\\lib\\site-packages\\plotly_calplot\\date_extractors.py:16: FutureWarning:\n",
      "\n",
      "Dropping of nuisance columns in DataFrame reductions (with 'numeric_only=None') is deprecated; in a future version this will raise TypeError.  Select only valid columns before calling the reduction.\n",
      "\n",
      "c:\\Users\\2702b\\AppData\\Local\\Programs\\Python\\Python310\\lib\\site-packages\\plotly_calplot\\date_extractors.py:16: FutureWarning:\n",
      "\n",
      "Dropping of nuisance columns in DataFrame reductions (with 'numeric_only=None') is deprecated; in a future version this will raise TypeError.  Select only valid columns before calling the reduction.\n",
      "\n",
      "c:\\Users\\2702b\\AppData\\Local\\Programs\\Python\\Python310\\lib\\site-packages\\plotly_calplot\\date_extractors.py:16: FutureWarning:\n",
      "\n",
      "Dropping of nuisance columns in DataFrame reductions (with 'numeric_only=None') is deprecated; in a future version this will raise TypeError.  Select only valid columns before calling the reduction.\n",
      "\n",
      "c:\\Users\\2702b\\AppData\\Local\\Programs\\Python\\Python310\\lib\\site-packages\\plotly_calplot\\date_extractors.py:16: FutureWarning:\n",
      "\n",
      "Dropping of nuisance columns in DataFrame reductions (with 'numeric_only=None') is deprecated; in a future version this will raise TypeError.  Select only valid columns before calling the reduction.\n",
      "\n"
     ]
    },
    {
     "data": {
      "application/vnd.plotly.v1+json": {
       "config": {
        "plotlyServerURL": "https://plot.ly"
       },
       "data": [
        {
         "colorscale": [
          [
           0,
           "rgb(247,252,245)"
          ],
          [
           0.125,
           "rgb(229,245,224)"
          ],
          [
           0.25,
           "rgb(199,233,192)"
          ],
          [
           0.375,
           "rgb(161,217,155)"
          ],
          [
           0.5,
           "rgb(116,196,118)"
          ],
          [
           0.625,
           "rgb(65,171,93)"
          ],
          [
           0.75,
           "rgb(35,139,69)"
          ],
          [
           0.875,
           "rgb(0,109,44)"
          ],
          [
           1,
           "rgb(0,68,27)"
          ]
         ],
         "customdata": [
          [
           "2015-01-01",
           "y"
          ],
          [
           "2015-01-02",
           "y"
          ],
          [
           "2015-01-03",
           "y"
          ],
          [
           "2015-01-04",
           "y"
          ],
          [
           "2015-01-05",
           "y"
          ],
          [
           "2015-01-06",
           "y"
          ],
          [
           "2015-01-07",
           "y"
          ],
          [
           "2015-01-08",
           "y"
          ],
          [
           "2015-01-09",
           "y"
          ],
          [
           "2015-01-10",
           "y"
          ],
          [
           "2015-01-11",
           "y"
          ],
          [
           "2015-01-12",
           "y"
          ],
          [
           "2015-01-13",
           "y"
          ],
          [
           "2015-01-14",
           "y"
          ],
          [
           "2015-01-15",
           "y"
          ],
          [
           "2015-01-16",
           "y"
          ],
          [
           "2015-01-17",
           "y"
          ],
          [
           "2015-01-18",
           "y"
          ],
          [
           "2015-01-19",
           "y"
          ],
          [
           "2015-01-20",
           "y"
          ],
          [
           "2015-01-21",
           "y"
          ],
          [
           "2015-01-22",
           "y"
          ],
          [
           "2015-01-23",
           "y"
          ],
          [
           "2015-01-24",
           "y"
          ],
          [
           "2015-01-25",
           "y"
          ],
          [
           "2015-01-26",
           "y"
          ],
          [
           "2015-01-27",
           "y"
          ],
          [
           "2015-01-28",
           "y"
          ],
          [
           "2015-01-29",
           "y"
          ],
          [
           "2015-01-30",
           "y"
          ],
          [
           "2015-01-31",
           "y"
          ],
          [
           "2015-02-01",
           "y"
          ],
          [
           "2015-02-02",
           "y"
          ],
          [
           "2015-02-03",
           "y"
          ],
          [
           "2015-02-04",
           "y"
          ],
          [
           "2015-02-05",
           "y"
          ],
          [
           "2015-02-06",
           "y"
          ],
          [
           "2015-02-07",
           "y"
          ],
          [
           "2015-02-08",
           "y"
          ],
          [
           "2015-02-09",
           "y"
          ],
          [
           "2015-02-10",
           "y"
          ],
          [
           "2015-02-11",
           "y"
          ],
          [
           "2015-02-12",
           "y"
          ],
          [
           "2015-02-13",
           "y"
          ],
          [
           "2015-02-14",
           "y"
          ],
          [
           "2015-02-15",
           "y"
          ],
          [
           "2015-02-16",
           "y"
          ],
          [
           "2015-02-17",
           "y"
          ],
          [
           "2015-02-18",
           "y"
          ],
          [
           "2015-02-19",
           "y"
          ],
          [
           "2015-02-20",
           "y"
          ],
          [
           "2015-02-21",
           "y"
          ],
          [
           "2015-02-22",
           "y"
          ],
          [
           "2015-02-23",
           "y"
          ],
          [
           "2015-02-24",
           "y"
          ],
          [
           "2015-02-25",
           "y"
          ],
          [
           "2015-02-26",
           "y"
          ],
          [
           "2015-02-27",
           "y"
          ],
          [
           "2015-02-28",
           "y"
          ],
          [
           "2015-03-01",
           "y"
          ],
          [
           "2015-03-02",
           "y"
          ],
          [
           "2015-03-03",
           "y"
          ],
          [
           "2015-03-04",
           "y"
          ],
          [
           "2015-03-05",
           "y"
          ],
          [
           "2015-03-06",
           "y"
          ],
          [
           "2015-03-07",
           "y"
          ],
          [
           "2015-03-08",
           "y"
          ],
          [
           "2015-03-09",
           "y"
          ],
          [
           "2015-03-10",
           "y"
          ],
          [
           "2015-03-11",
           "y"
          ],
          [
           "2015-03-12",
           "y"
          ],
          [
           "2015-03-13",
           "y"
          ],
          [
           "2015-03-14",
           "y"
          ],
          [
           "2015-03-15",
           "y"
          ],
          [
           "2015-03-16",
           "y"
          ],
          [
           "2015-03-17",
           "y"
          ],
          [
           "2015-03-18",
           "y"
          ],
          [
           "2015-03-19",
           "y"
          ],
          [
           "2015-03-20",
           "y"
          ],
          [
           "2015-03-21",
           "y"
          ],
          [
           "2015-03-22",
           "y"
          ],
          [
           "2015-03-23",
           "y"
          ],
          [
           "2015-03-24",
           "y"
          ],
          [
           "2015-03-25",
           "y"
          ],
          [
           "2015-03-26",
           "y"
          ],
          [
           "2015-03-27",
           "y"
          ],
          [
           "2015-03-28",
           "y"
          ],
          [
           "2015-03-29",
           "y"
          ],
          [
           "2015-03-30",
           "y"
          ],
          [
           "2015-03-31",
           "y"
          ],
          [
           "2015-04-01",
           "y"
          ],
          [
           "2015-04-02",
           "y"
          ],
          [
           "2015-04-03",
           "y"
          ],
          [
           "2015-04-04",
           "y"
          ],
          [
           "2015-04-05",
           "y"
          ],
          [
           "2015-04-06",
           "y"
          ],
          [
           "2015-04-07",
           "y"
          ],
          [
           "2015-04-08",
           "y"
          ],
          [
           "2015-04-09",
           "y"
          ],
          [
           "2015-04-10",
           "y"
          ],
          [
           "2015-04-11",
           "y"
          ],
          [
           "2015-04-12",
           "y"
          ],
          [
           "2015-04-13",
           "y"
          ],
          [
           "2015-04-14",
           "y"
          ],
          [
           "2015-04-15",
           "y"
          ],
          [
           "2015-04-16",
           "y"
          ],
          [
           "2015-04-17",
           "y"
          ],
          [
           "2015-04-18",
           "y"
          ],
          [
           "2015-04-19",
           "y"
          ],
          [
           "2015-04-20",
           "y"
          ],
          [
           "2015-04-21",
           "y"
          ],
          [
           "2015-04-22",
           "y"
          ],
          [
           "2015-04-23",
           "y"
          ],
          [
           "2015-04-24",
           "y"
          ],
          [
           "2015-04-25",
           "y"
          ],
          [
           "2015-04-26",
           "y"
          ],
          [
           "2015-04-27",
           "y"
          ],
          [
           "2015-04-28",
           "y"
          ],
          [
           "2015-04-29",
           "y"
          ],
          [
           "2015-04-30",
           "y"
          ],
          [
           "2015-05-01",
           "y"
          ],
          [
           "2015-05-02",
           "y"
          ],
          [
           "2015-05-03",
           "y"
          ],
          [
           "2015-05-04",
           "y"
          ],
          [
           "2015-05-05",
           "y"
          ],
          [
           "2015-05-06",
           "y"
          ],
          [
           "2015-05-07",
           "y"
          ],
          [
           "2015-05-08",
           "y"
          ],
          [
           "2015-05-09",
           "y"
          ],
          [
           "2015-05-10",
           "y"
          ],
          [
           "2015-05-11",
           "y"
          ],
          [
           "2015-05-12",
           "y"
          ],
          [
           "2015-05-13",
           "y"
          ],
          [
           "2015-05-14",
           "y"
          ],
          [
           "2015-05-15",
           "y"
          ],
          [
           "2015-05-16",
           "y"
          ],
          [
           "2015-05-17",
           "y"
          ],
          [
           "2015-05-18",
           "y"
          ],
          [
           "2015-05-19",
           "y"
          ],
          [
           "2015-05-20",
           "y"
          ],
          [
           "2015-05-21",
           "y"
          ],
          [
           "2015-05-22",
           "y"
          ],
          [
           "2015-05-23",
           "y"
          ],
          [
           "2015-05-24",
           "y"
          ],
          [
           "2015-05-25",
           "y"
          ],
          [
           "2015-05-26",
           "y"
          ],
          [
           "2015-05-27",
           "y"
          ],
          [
           "2015-05-28",
           "y"
          ],
          [
           "2015-05-29",
           "y"
          ],
          [
           "2015-05-30",
           "y"
          ],
          [
           "2015-05-31",
           "y"
          ],
          [
           "2015-06-01",
           "y"
          ],
          [
           "2015-06-02",
           "y"
          ],
          [
           "2015-06-03",
           "y"
          ],
          [
           "2015-06-04",
           "y"
          ],
          [
           "2015-06-05",
           "y"
          ],
          [
           "2015-06-06",
           "y"
          ],
          [
           "2015-06-07",
           "y"
          ],
          [
           "2015-06-08",
           "y"
          ],
          [
           "2015-06-09",
           "y"
          ],
          [
           "2015-06-10",
           "y"
          ],
          [
           "2015-06-11",
           "y"
          ],
          [
           "2015-06-12",
           "y"
          ],
          [
           "2015-06-13",
           "y"
          ],
          [
           "2015-06-14",
           "y"
          ],
          [
           "2015-06-15",
           "y"
          ],
          [
           "2015-06-16",
           "y"
          ],
          [
           "2015-06-17",
           "y"
          ],
          [
           "2015-06-18",
           "y"
          ],
          [
           "2015-06-19",
           "y"
          ],
          [
           "2015-06-20",
           "y"
          ],
          [
           "2015-06-21",
           "y"
          ],
          [
           "2015-06-22",
           "y"
          ],
          [
           "2015-06-23",
           "y"
          ],
          [
           "2015-06-24",
           "y"
          ],
          [
           "2015-06-25",
           "y"
          ],
          [
           "2015-06-26",
           "y"
          ],
          [
           "2015-06-27",
           "y"
          ],
          [
           "2015-06-28",
           "y"
          ],
          [
           "2015-06-29",
           "y"
          ],
          [
           "2015-06-30",
           "y"
          ],
          [
           "2015-07-01",
           "y"
          ],
          [
           "2015-07-02",
           "y"
          ],
          [
           "2015-07-03",
           "y"
          ],
          [
           "2015-07-04",
           "y"
          ],
          [
           "2015-07-05",
           "y"
          ],
          [
           "2015-07-06",
           "y"
          ],
          [
           "2015-07-07",
           "y"
          ],
          [
           "2015-07-08",
           "y"
          ],
          [
           "2015-07-09",
           "y"
          ],
          [
           "2015-07-10",
           "y"
          ],
          [
           "2015-07-11",
           "y"
          ],
          [
           "2015-07-12",
           "y"
          ],
          [
           "2015-07-13",
           "y"
          ],
          [
           "2015-07-14",
           "y"
          ],
          [
           "2015-07-15",
           "y"
          ],
          [
           "2015-07-16",
           "y"
          ],
          [
           "2015-07-17",
           "y"
          ],
          [
           "2015-07-18",
           "y"
          ],
          [
           "2015-07-19",
           "y"
          ],
          [
           "2015-07-20",
           "y"
          ],
          [
           "2015-07-21",
           "y"
          ],
          [
           "2015-07-22",
           "y"
          ],
          [
           "2015-07-23",
           "y"
          ],
          [
           "2015-07-24",
           "y"
          ],
          [
           "2015-07-25",
           "y"
          ],
          [
           "2015-07-26",
           "y"
          ],
          [
           "2015-07-27",
           "y"
          ],
          [
           "2015-07-28",
           "y"
          ],
          [
           "2015-07-29",
           "y"
          ],
          [
           "2015-07-30",
           "y"
          ],
          [
           "2015-07-31",
           "y"
          ],
          [
           "2015-08-01",
           "y"
          ],
          [
           "2015-08-02",
           "y"
          ],
          [
           "2015-08-03",
           "y"
          ],
          [
           "2015-08-04",
           "y"
          ],
          [
           "2015-08-05",
           "y"
          ],
          [
           "2015-08-06",
           "y"
          ],
          [
           "2015-08-07",
           "y"
          ],
          [
           "2015-08-08",
           "y"
          ],
          [
           "2015-08-09",
           "y"
          ],
          [
           "2015-08-10",
           "y"
          ],
          [
           "2015-08-11",
           "y"
          ],
          [
           "2015-08-12",
           "y"
          ],
          [
           "2015-08-13",
           "y"
          ],
          [
           "2015-08-14",
           "y"
          ],
          [
           "2015-08-15",
           "y"
          ],
          [
           "2015-08-16",
           "y"
          ],
          [
           "2015-08-17",
           "y"
          ],
          [
           "2015-08-18",
           "y"
          ],
          [
           "2015-08-19",
           "y"
          ],
          [
           "2015-08-20",
           "y"
          ],
          [
           "2015-08-21",
           "y"
          ],
          [
           "2015-08-22",
           "y"
          ],
          [
           "2015-08-23",
           "y"
          ],
          [
           "2015-08-24",
           "y"
          ],
          [
           "2015-08-25",
           "y"
          ],
          [
           "2015-08-26",
           "y"
          ],
          [
           "2015-08-27",
           "y"
          ],
          [
           "2015-08-28",
           "y"
          ],
          [
           "2015-08-29",
           "y"
          ],
          [
           "2015-08-30",
           "y"
          ],
          [
           "2015-08-31",
           "y"
          ],
          [
           "2015-09-01",
           "y"
          ],
          [
           "2015-09-02",
           "y"
          ],
          [
           "2015-09-03",
           "y"
          ],
          [
           "2015-09-04",
           "y"
          ],
          [
           "2015-09-05",
           "y"
          ],
          [
           "2015-09-06",
           "y"
          ],
          [
           "2015-09-07",
           "y"
          ],
          [
           "2015-09-08",
           "y"
          ],
          [
           "2015-09-09",
           "y"
          ],
          [
           "2015-09-10",
           "y"
          ],
          [
           "2015-09-11",
           "y"
          ],
          [
           "2015-09-12",
           "y"
          ],
          [
           "2015-09-13",
           "y"
          ],
          [
           "2015-09-14",
           "y"
          ],
          [
           "2015-09-15",
           "y"
          ],
          [
           "2015-09-16",
           "y"
          ],
          [
           "2015-09-17",
           "y"
          ],
          [
           "2015-09-18",
           "y"
          ],
          [
           "2015-09-19",
           "y"
          ],
          [
           "2015-09-20",
           "y"
          ],
          [
           "2015-09-21",
           "y"
          ],
          [
           "2015-09-22",
           "y"
          ],
          [
           "2015-09-23",
           "y"
          ],
          [
           "2015-09-24",
           "y"
          ],
          [
           "2015-09-25",
           "y"
          ],
          [
           "2015-09-26",
           "y"
          ],
          [
           "2015-09-27",
           "y"
          ],
          [
           "2015-09-28",
           "y"
          ],
          [
           "2015-09-29",
           "y"
          ],
          [
           "2015-09-30",
           "y"
          ],
          [
           "2015-10-01",
           "y"
          ],
          [
           "2015-10-02",
           "y"
          ],
          [
           "2015-10-03",
           "y"
          ],
          [
           "2015-10-04",
           "y"
          ],
          [
           "2015-10-05",
           "y"
          ],
          [
           "2015-10-06",
           "y"
          ],
          [
           "2015-10-07",
           "y"
          ],
          [
           "2015-10-08",
           "y"
          ],
          [
           "2015-10-09",
           "y"
          ],
          [
           "2015-10-10",
           "y"
          ],
          [
           "2015-10-11",
           "y"
          ],
          [
           "2015-10-12",
           "y"
          ],
          [
           "2015-10-13",
           "y"
          ],
          [
           "2015-10-14",
           "y"
          ],
          [
           "2015-10-15",
           "y"
          ],
          [
           "2015-10-16",
           "y"
          ],
          [
           "2015-10-17",
           "y"
          ],
          [
           "2015-10-18",
           "y"
          ],
          [
           "2015-10-19",
           "y"
          ],
          [
           "2015-10-20",
           "y"
          ],
          [
           "2015-10-21",
           "y"
          ],
          [
           "2015-10-22",
           "y"
          ],
          [
           "2015-10-23",
           "y"
          ],
          [
           "2015-10-24",
           "y"
          ],
          [
           "2015-10-25",
           "y"
          ],
          [
           "2015-10-26",
           "y"
          ],
          [
           "2015-10-27",
           "y"
          ],
          [
           "2015-10-28",
           "y"
          ],
          [
           "2015-10-29",
           "y"
          ],
          [
           "2015-10-30",
           "y"
          ],
          [
           "2015-10-31",
           "y"
          ],
          [
           "2015-11-01",
           "y"
          ],
          [
           "2015-11-02",
           "y"
          ],
          [
           "2015-11-03",
           "y"
          ],
          [
           "2015-11-04",
           "y"
          ],
          [
           "2015-11-05",
           "y"
          ],
          [
           "2015-11-06",
           "y"
          ],
          [
           "2015-11-07",
           "y"
          ],
          [
           "2015-11-08",
           "y"
          ],
          [
           "2015-11-09",
           "y"
          ],
          [
           "2015-11-10",
           "y"
          ],
          [
           "2015-11-11",
           "y"
          ],
          [
           "2015-11-12",
           "y"
          ],
          [
           "2015-11-13",
           "y"
          ],
          [
           "2015-11-14",
           "y"
          ],
          [
           "2015-11-15",
           "y"
          ],
          [
           "2015-11-16",
           "y"
          ],
          [
           "2015-11-17",
           "y"
          ],
          [
           "2015-11-18",
           "y"
          ],
          [
           "2015-11-19",
           "y"
          ],
          [
           "2015-11-20",
           "y"
          ],
          [
           "2015-11-21",
           "y"
          ],
          [
           "2015-11-22",
           "y"
          ],
          [
           "2015-11-23",
           "y"
          ],
          [
           "2015-11-24",
           "y"
          ],
          [
           "2015-11-25",
           "y"
          ],
          [
           "2015-11-26",
           "y"
          ],
          [
           "2015-11-27",
           "y"
          ],
          [
           "2015-11-28",
           "y"
          ],
          [
           "2015-11-29",
           "y"
          ],
          [
           "2015-11-30",
           "y"
          ],
          [
           "2015-12-01",
           "y"
          ],
          [
           "2015-12-02",
           "y"
          ],
          [
           "2015-12-03",
           "y"
          ],
          [
           "2015-12-04",
           "y"
          ],
          [
           "2015-12-05",
           "y"
          ],
          [
           "2015-12-06",
           "y"
          ],
          [
           "2015-12-07",
           "y"
          ],
          [
           "2015-12-08",
           "y"
          ],
          [
           "2015-12-09",
           "y"
          ],
          [
           "2015-12-10",
           "y"
          ],
          [
           "2015-12-11",
           "y"
          ],
          [
           "2015-12-12",
           "y"
          ],
          [
           "2015-12-13",
           "y"
          ],
          [
           "2015-12-14",
           "y"
          ],
          [
           "2015-12-15",
           "y"
          ],
          [
           "2015-12-16",
           "y"
          ],
          [
           "2015-12-17",
           "y"
          ],
          [
           "2015-12-18",
           "y"
          ],
          [
           "2015-12-19",
           "y"
          ],
          [
           "2015-12-20",
           "y"
          ],
          [
           "2015-12-21",
           "y"
          ],
          [
           "2015-12-22",
           "y"
          ],
          [
           "2015-12-23",
           "y"
          ],
          [
           "2015-12-24",
           "y"
          ],
          [
           "2015-12-25",
           "y"
          ],
          [
           "2015-12-26",
           "y"
          ],
          [
           "2015-12-27",
           "y"
          ],
          [
           "2015-12-28",
           "y"
          ],
          [
           "2015-12-29",
           "y"
          ],
          [
           "2015-12-29",
           "y"
          ],
          [
           "2015-12-29",
           "y"
          ],
          [
           "2015-12-30",
           "y"
          ],
          [
           "2015-12-31",
           "y"
          ]
         ],
         "hovertemplate": "%{customdata[0]} <br>%{customdata[1]}=%{z} <br>Week=%{x}",
         "name": "2015",
         "showscale": false,
         "type": "heatmap",
         "x": [
          0,
          0,
          0,
          0,
          1,
          1,
          1,
          1,
          1,
          1,
          1,
          2,
          2,
          2,
          2,
          2,
          2,
          2,
          3,
          3,
          3,
          3,
          3,
          3,
          3,
          4,
          4,
          4,
          4,
          4,
          4,
          4,
          5,
          5,
          5,
          5,
          5,
          5,
          5,
          6,
          6,
          6,
          6,
          6,
          6,
          6,
          7,
          7,
          7,
          7,
          7,
          7,
          7,
          8,
          8,
          8,
          8,
          8,
          8,
          8,
          9,
          9,
          9,
          9,
          9,
          9,
          9,
          10,
          10,
          10,
          10,
          10,
          10,
          10,
          11,
          11,
          11,
          11,
          11,
          11,
          11,
          12,
          12,
          12,
          12,
          12,
          12,
          12,
          13,
          13,
          13,
          13,
          13,
          13,
          13,
          14,
          14,
          14,
          14,
          14,
          14,
          14,
          15,
          15,
          15,
          15,
          15,
          15,
          15,
          16,
          16,
          16,
          16,
          16,
          16,
          16,
          17,
          17,
          17,
          17,
          17,
          17,
          17,
          18,
          18,
          18,
          18,
          18,
          18,
          18,
          19,
          19,
          19,
          19,
          19,
          19,
          19,
          20,
          20,
          20,
          20,
          20,
          20,
          20,
          21,
          21,
          21,
          21,
          21,
          21,
          21,
          22,
          22,
          22,
          22,
          22,
          22,
          22,
          23,
          23,
          23,
          23,
          23,
          23,
          23,
          24,
          24,
          24,
          24,
          24,
          24,
          24,
          25,
          25,
          25,
          25,
          25,
          25,
          25,
          26,
          26,
          26,
          26,
          26,
          26,
          26,
          27,
          27,
          27,
          27,
          27,
          27,
          27,
          28,
          28,
          28,
          28,
          28,
          28,
          28,
          29,
          29,
          29,
          29,
          29,
          29,
          29,
          30,
          30,
          30,
          30,
          30,
          30,
          30,
          31,
          31,
          31,
          31,
          31,
          31,
          31,
          32,
          32,
          32,
          32,
          32,
          32,
          32,
          33,
          33,
          33,
          33,
          33,
          33,
          33,
          34,
          34,
          34,
          34,
          34,
          34,
          34,
          35,
          35,
          35,
          35,
          35,
          35,
          35,
          36,
          36,
          36,
          36,
          36,
          36,
          36,
          37,
          37,
          37,
          37,
          37,
          37,
          37,
          38,
          38,
          38,
          38,
          38,
          38,
          38,
          39,
          39,
          39,
          39,
          39,
          39,
          39,
          40,
          40,
          40,
          40,
          40,
          40,
          40,
          41,
          41,
          41,
          41,
          41,
          41,
          41,
          42,
          42,
          42,
          42,
          42,
          42,
          42,
          43,
          43,
          43,
          43,
          43,
          43,
          43,
          44,
          44,
          44,
          44,
          44,
          44,
          44,
          45,
          45,
          45,
          45,
          45,
          45,
          45,
          46,
          46,
          46,
          46,
          46,
          46,
          46,
          47,
          47,
          47,
          47,
          47,
          47,
          47,
          48,
          48,
          48,
          48,
          48,
          48,
          48,
          49,
          49,
          49,
          49,
          49,
          49,
          49,
          50,
          50,
          50,
          50,
          50,
          50,
          50,
          51,
          51,
          51,
          51,
          51,
          51,
          51,
          52,
          52,
          52,
          52,
          52,
          52
         ],
         "xaxis": "x",
         "xgap": 1,
         "y": [
          3,
          4,
          5,
          6,
          0,
          1,
          2,
          3,
          4,
          5,
          6,
          0,
          1,
          2,
          3,
          4,
          5,
          6,
          0,
          1,
          2,
          3,
          4,
          5,
          6,
          0,
          1,
          2,
          3,
          4,
          5,
          6,
          0,
          1,
          2,
          3,
          4,
          5,
          6,
          0,
          1,
          2,
          3,
          4,
          5,
          6,
          0,
          1,
          2,
          3,
          4,
          5,
          6,
          0,
          1,
          2,
          3,
          4,
          5,
          6,
          0,
          1,
          2,
          3,
          4,
          5,
          6,
          0,
          1,
          2,
          3,
          4,
          5,
          6,
          0,
          1,
          2,
          3,
          4,
          5,
          6,
          0,
          1,
          2,
          3,
          4,
          5,
          6,
          0,
          1,
          2,
          3,
          4,
          5,
          6,
          0,
          1,
          2,
          3,
          4,
          5,
          6,
          0,
          1,
          2,
          3,
          4,
          5,
          6,
          0,
          1,
          2,
          3,
          4,
          5,
          6,
          0,
          1,
          2,
          3,
          4,
          5,
          6,
          0,
          1,
          2,
          3,
          4,
          5,
          6,
          0,
          1,
          2,
          3,
          4,
          5,
          6,
          0,
          1,
          2,
          3,
          4,
          5,
          6,
          0,
          1,
          2,
          3,
          4,
          5,
          6,
          0,
          1,
          2,
          3,
          4,
          5,
          6,
          0,
          1,
          2,
          3,
          4,
          5,
          6,
          0,
          1,
          2,
          3,
          4,
          5,
          6,
          0,
          1,
          2,
          3,
          4,
          5,
          6,
          0,
          1,
          2,
          3,
          4,
          5,
          6,
          0,
          1,
          2,
          3,
          4,
          5,
          6,
          0,
          1,
          2,
          3,
          4,
          5,
          6,
          0,
          1,
          2,
          3,
          4,
          5,
          6,
          0,
          1,
          2,
          3,
          4,
          5,
          6,
          0,
          1,
          2,
          3,
          4,
          5,
          6,
          0,
          1,
          2,
          3,
          4,
          5,
          6,
          0,
          1,
          2,
          3,
          4,
          5,
          6,
          0,
          1,
          2,
          3,
          4,
          5,
          6,
          0,
          1,
          2,
          3,
          4,
          5,
          6,
          0,
          1,
          2,
          3,
          4,
          5,
          6,
          0,
          1,
          2,
          3,
          4,
          5,
          6,
          0,
          1,
          2,
          3,
          4,
          5,
          6,
          0,
          1,
          2,
          3,
          4,
          5,
          6,
          0,
          1,
          2,
          3,
          4,
          5,
          6,
          0,
          1,
          2,
          3,
          4,
          5,
          6,
          0,
          1,
          2,
          3,
          4,
          5,
          6,
          0,
          1,
          2,
          3,
          4,
          5,
          6,
          0,
          1,
          2,
          3,
          4,
          5,
          6,
          0,
          1,
          2,
          3,
          4,
          5,
          6,
          0,
          1,
          2,
          3,
          4,
          5,
          6,
          0,
          1,
          2,
          3,
          4,
          5,
          6,
          0,
          1,
          2,
          3,
          4,
          5,
          6,
          0,
          1,
          2,
          3,
          4,
          5,
          6,
          0,
          1,
          2,
          3,
          4,
          5,
          6,
          0,
          1,
          2,
          3,
          4,
          5,
          6,
          0,
          1,
          1,
          1,
          2,
          3
         ],
         "yaxis": "y",
         "ygap": 1,
         "z": [
          0,
          0,
          0,
          0,
          0,
          0,
          0,
          0,
          0,
          0,
          0,
          0,
          0,
          0,
          0,
          0,
          0,
          0,
          0,
          0,
          0,
          0,
          0,
          0,
          0,
          0,
          0,
          0,
          0,
          0,
          0,
          0,
          0,
          0,
          0,
          0,
          0,
          0,
          0,
          0,
          0,
          0,
          0,
          0,
          0,
          0,
          0,
          0,
          0,
          0,
          0,
          0,
          0,
          0,
          0,
          0,
          0,
          0,
          0,
          0,
          0,
          0,
          0,
          0,
          0,
          0,
          0,
          0,
          0,
          0,
          0,
          0,
          0,
          0,
          0,
          0,
          0,
          0,
          0,
          0,
          0,
          0,
          0,
          0,
          0,
          0,
          0,
          0,
          0,
          0,
          0,
          0,
          0,
          0,
          0,
          0,
          0,
          0,
          0,
          0,
          0,
          0,
          0,
          0,
          0,
          0,
          0,
          0,
          0,
          0,
          0,
          0,
          0,
          0,
          0,
          0,
          0,
          0,
          0,
          0,
          0,
          0,
          0,
          0,
          0,
          0,
          0,
          0,
          0,
          0,
          0,
          0,
          0,
          0,
          0,
          0,
          0,
          0,
          0,
          0,
          0,
          0,
          0,
          0,
          0,
          0,
          0,
          0,
          0,
          0,
          0,
          0,
          0,
          0,
          0,
          0,
          0,
          0,
          0,
          0,
          0,
          0,
          0,
          0,
          0,
          0,
          0,
          0,
          0,
          0,
          0,
          0,
          0,
          0,
          0,
          0,
          0,
          0,
          0,
          0,
          0,
          0,
          0,
          0,
          0,
          0,
          0,
          0,
          0,
          0,
          0,
          0,
          0,
          0,
          0,
          0,
          0,
          0,
          0,
          0,
          0,
          0,
          0,
          0,
          0,
          0,
          0,
          0,
          0,
          0,
          0,
          0,
          0,
          0,
          0,
          0,
          0,
          0,
          0,
          0,
          0,
          0,
          0,
          0,
          0,
          0,
          0,
          0,
          0,
          0,
          0,
          0,
          0,
          0,
          0,
          0,
          0,
          0,
          0,
          0,
          0,
          0,
          0,
          0,
          0,
          0,
          0,
          0,
          0,
          0,
          0,
          0,
          0,
          0,
          0,
          0,
          0,
          0,
          0,
          0,
          0,
          0,
          0,
          0,
          0,
          0,
          0,
          0,
          0,
          0,
          0,
          0,
          0,
          0,
          0,
          0,
          0,
          0,
          0,
          0,
          0,
          0,
          0,
          0,
          0,
          0,
          0,
          0,
          0,
          0,
          0,
          0,
          0,
          0,
          0,
          0,
          0,
          0,
          0,
          0,
          0,
          0,
          0,
          0,
          0,
          0,
          0,
          0,
          0,
          0,
          0,
          0,
          0,
          0,
          0,
          0,
          0,
          0,
          0,
          0,
          0,
          0,
          0,
          0,
          0,
          0,
          0,
          0,
          0,
          0,
          0,
          0,
          0,
          0,
          0,
          0,
          0,
          0,
          0,
          0,
          0,
          0,
          0,
          0,
          0,
          0,
          0,
          0,
          0,
          0,
          0,
          0,
          0,
          0,
          0,
          0,
          0,
          0,
          0,
          0,
          0,
          0,
          1,
          12,
          1,
          0,
          0
         ],
         "zmax": 61,
         "zmin": 0
        },
        {
         "hoverinfo": "skip",
         "line": {
          "color": "#9e9e9e",
          "width": 1
         },
         "mode": "lines",
         "type": "scatter",
         "x": [
          -0.5,
          -0.5
         ],
         "xaxis": "x",
         "y": [
          2.5,
          6.5
         ],
         "yaxis": "y"
        },
        {
         "hoverinfo": "skip",
         "line": {
          "color": "#9e9e9e",
          "width": 1
         },
         "mode": "lines",
         "type": "scatter",
         "x": [
          -0.5,
          0.5
         ],
         "xaxis": "x",
         "y": [
          2.5,
          2.5
         ],
         "yaxis": "y"
        },
        {
         "hoverinfo": "skip",
         "line": {
          "color": "#9e9e9e",
          "width": 1
         },
         "mode": "lines",
         "type": "scatter",
         "x": [
          0.5,
          0.5
         ],
         "xaxis": "x",
         "y": [
          2.5,
          -0.5
         ],
         "yaxis": "y"
        },
        {
         "hoverinfo": "skip",
         "line": {
          "color": "#9e9e9e",
          "width": 1
         },
         "mode": "lines",
         "type": "scatter",
         "x": [
          3.5,
          3.5
         ],
         "xaxis": "x",
         "y": [
          5.5,
          6.5
         ],
         "yaxis": "y"
        },
        {
         "hoverinfo": "skip",
         "line": {
          "color": "#9e9e9e",
          "width": 1
         },
         "mode": "lines",
         "type": "scatter",
         "x": [
          3.5,
          4.5
         ],
         "xaxis": "x",
         "y": [
          5.5,
          5.5
         ],
         "yaxis": "y"
        },
        {
         "hoverinfo": "skip",
         "line": {
          "color": "#9e9e9e",
          "width": 1
         },
         "mode": "lines",
         "type": "scatter",
         "x": [
          4.5,
          4.5
         ],
         "xaxis": "x",
         "y": [
          5.5,
          -0.5
         ],
         "yaxis": "y"
        },
        {
         "hoverinfo": "skip",
         "line": {
          "color": "#9e9e9e",
          "width": 1
         },
         "mode": "lines",
         "type": "scatter",
         "x": [
          7.5,
          7.5
         ],
         "xaxis": "x",
         "y": [
          5.5,
          6.5
         ],
         "yaxis": "y"
        },
        {
         "hoverinfo": "skip",
         "line": {
          "color": "#9e9e9e",
          "width": 1
         },
         "mode": "lines",
         "type": "scatter",
         "x": [
          7.5,
          8.5
         ],
         "xaxis": "x",
         "y": [
          5.5,
          5.5
         ],
         "yaxis": "y"
        },
        {
         "hoverinfo": "skip",
         "line": {
          "color": "#9e9e9e",
          "width": 1
         },
         "mode": "lines",
         "type": "scatter",
         "x": [
          8.5,
          8.5
         ],
         "xaxis": "x",
         "y": [
          5.5,
          -0.5
         ],
         "yaxis": "y"
        },
        {
         "hoverinfo": "skip",
         "line": {
          "color": "#9e9e9e",
          "width": 1
         },
         "mode": "lines",
         "type": "scatter",
         "x": [
          12.5,
          12.5
         ],
         "xaxis": "x",
         "y": [
          1.5,
          6.5
         ],
         "yaxis": "y"
        },
        {
         "hoverinfo": "skip",
         "line": {
          "color": "#9e9e9e",
          "width": 1
         },
         "mode": "lines",
         "type": "scatter",
         "x": [
          12.5,
          13.5
         ],
         "xaxis": "x",
         "y": [
          1.5,
          1.5
         ],
         "yaxis": "y"
        },
        {
         "hoverinfo": "skip",
         "line": {
          "color": "#9e9e9e",
          "width": 1
         },
         "mode": "lines",
         "type": "scatter",
         "x": [
          13.5,
          13.5
         ],
         "xaxis": "x",
         "y": [
          1.5,
          -0.5
         ],
         "yaxis": "y"
        },
        {
         "hoverinfo": "skip",
         "line": {
          "color": "#9e9e9e",
          "width": 1
         },
         "mode": "lines",
         "type": "scatter",
         "x": [
          16.5,
          16.5
         ],
         "xaxis": "x",
         "y": [
          3.5,
          6.5
         ],
         "yaxis": "y"
        },
        {
         "hoverinfo": "skip",
         "line": {
          "color": "#9e9e9e",
          "width": 1
         },
         "mode": "lines",
         "type": "scatter",
         "x": [
          16.5,
          17.5
         ],
         "xaxis": "x",
         "y": [
          3.5,
          3.5
         ],
         "yaxis": "y"
        },
        {
         "hoverinfo": "skip",
         "line": {
          "color": "#9e9e9e",
          "width": 1
         },
         "mode": "lines",
         "type": "scatter",
         "x": [
          17.5,
          17.5
         ],
         "xaxis": "x",
         "y": [
          3.5,
          -0.5
         ],
         "yaxis": "y"
        },
        {
         "hoverinfo": "skip",
         "line": {
          "color": "#9e9e9e",
          "width": 1
         },
         "mode": "lines",
         "type": "scatter",
         "x": [
          21.5,
          21.5
         ],
         "xaxis": "x",
         "y": [
          -0.5,
          6.5
         ],
         "yaxis": "y"
        },
        {
         "hoverinfo": "skip",
         "line": {
          "color": "#9e9e9e",
          "width": 1
         },
         "mode": "lines",
         "type": "scatter",
         "x": [
          25.5,
          25.5
         ],
         "xaxis": "x",
         "y": [
          1.5,
          6.5
         ],
         "yaxis": "y"
        },
        {
         "hoverinfo": "skip",
         "line": {
          "color": "#9e9e9e",
          "width": 1
         },
         "mode": "lines",
         "type": "scatter",
         "x": [
          25.5,
          26.5
         ],
         "xaxis": "x",
         "y": [
          1.5,
          1.5
         ],
         "yaxis": "y"
        },
        {
         "hoverinfo": "skip",
         "line": {
          "color": "#9e9e9e",
          "width": 1
         },
         "mode": "lines",
         "type": "scatter",
         "x": [
          26.5,
          26.5
         ],
         "xaxis": "x",
         "y": [
          1.5,
          -0.5
         ],
         "yaxis": "y"
        },
        {
         "hoverinfo": "skip",
         "line": {
          "color": "#9e9e9e",
          "width": 1
         },
         "mode": "lines",
         "type": "scatter",
         "x": [
          29.5,
          29.5
         ],
         "xaxis": "x",
         "y": [
          4.5,
          6.5
         ],
         "yaxis": "y"
        },
        {
         "hoverinfo": "skip",
         "line": {
          "color": "#9e9e9e",
          "width": 1
         },
         "mode": "lines",
         "type": "scatter",
         "x": [
          29.5,
          30.5
         ],
         "xaxis": "x",
         "y": [
          4.5,
          4.5
         ],
         "yaxis": "y"
        },
        {
         "hoverinfo": "skip",
         "line": {
          "color": "#9e9e9e",
          "width": 1
         },
         "mode": "lines",
         "type": "scatter",
         "x": [
          30.5,
          30.5
         ],
         "xaxis": "x",
         "y": [
          4.5,
          -0.5
         ],
         "yaxis": "y"
        },
        {
         "hoverinfo": "skip",
         "line": {
          "color": "#9e9e9e",
          "width": 1
         },
         "mode": "lines",
         "type": "scatter",
         "x": [
          34.5,
          34.5
         ],
         "xaxis": "x",
         "y": [
          0.5,
          6.5
         ],
         "yaxis": "y"
        },
        {
         "hoverinfo": "skip",
         "line": {
          "color": "#9e9e9e",
          "width": 1
         },
         "mode": "lines",
         "type": "scatter",
         "x": [
          34.5,
          35.5
         ],
         "xaxis": "x",
         "y": [
          0.5,
          0.5
         ],
         "yaxis": "y"
        },
        {
         "hoverinfo": "skip",
         "line": {
          "color": "#9e9e9e",
          "width": 1
         },
         "mode": "lines",
         "type": "scatter",
         "x": [
          35.5,
          35.5
         ],
         "xaxis": "x",
         "y": [
          0.5,
          -0.5
         ],
         "yaxis": "y"
        },
        {
         "hoverinfo": "skip",
         "line": {
          "color": "#9e9e9e",
          "width": 1
         },
         "mode": "lines",
         "type": "scatter",
         "x": [
          38.5,
          38.5
         ],
         "xaxis": "x",
         "y": [
          2.5,
          6.5
         ],
         "yaxis": "y"
        },
        {
         "hoverinfo": "skip",
         "line": {
          "color": "#9e9e9e",
          "width": 1
         },
         "mode": "lines",
         "type": "scatter",
         "x": [
          38.5,
          39.5
         ],
         "xaxis": "x",
         "y": [
          2.5,
          2.5
         ],
         "yaxis": "y"
        },
        {
         "hoverinfo": "skip",
         "line": {
          "color": "#9e9e9e",
          "width": 1
         },
         "mode": "lines",
         "type": "scatter",
         "x": [
          39.5,
          39.5
         ],
         "xaxis": "x",
         "y": [
          2.5,
          -0.5
         ],
         "yaxis": "y"
        },
        {
         "hoverinfo": "skip",
         "line": {
          "color": "#9e9e9e",
          "width": 1
         },
         "mode": "lines",
         "type": "scatter",
         "x": [
          42.5,
          42.5
         ],
         "xaxis": "x",
         "y": [
          5.5,
          6.5
         ],
         "yaxis": "y"
        },
        {
         "hoverinfo": "skip",
         "line": {
          "color": "#9e9e9e",
          "width": 1
         },
         "mode": "lines",
         "type": "scatter",
         "x": [
          42.5,
          43.5
         ],
         "xaxis": "x",
         "y": [
          5.5,
          5.5
         ],
         "yaxis": "y"
        },
        {
         "hoverinfo": "skip",
         "line": {
          "color": "#9e9e9e",
          "width": 1
         },
         "mode": "lines",
         "type": "scatter",
         "x": [
          43.5,
          43.5
         ],
         "xaxis": "x",
         "y": [
          5.5,
          -0.5
         ],
         "yaxis": "y"
        },
        {
         "hoverinfo": "skip",
         "line": {
          "color": "#9e9e9e",
          "width": 1
         },
         "mode": "lines",
         "type": "scatter",
         "x": [
          47.5,
          47.5
         ],
         "xaxis": "x",
         "y": [
          0.5,
          6.5
         ],
         "yaxis": "y"
        },
        {
         "hoverinfo": "skip",
         "line": {
          "color": "#9e9e9e",
          "width": 1
         },
         "mode": "lines",
         "type": "scatter",
         "x": [
          47.5,
          48.5
         ],
         "xaxis": "x",
         "y": [
          0.5,
          0.5
         ],
         "yaxis": "y"
        },
        {
         "hoverinfo": "skip",
         "line": {
          "color": "#9e9e9e",
          "width": 1
         },
         "mode": "lines",
         "type": "scatter",
         "x": [
          48.5,
          48.5
         ],
         "xaxis": "x",
         "y": [
          0.5,
          -0.5
         ],
         "yaxis": "y"
        },
        {
         "colorscale": [
          [
           0,
           "rgb(247,252,245)"
          ],
          [
           0.125,
           "rgb(229,245,224)"
          ],
          [
           0.25,
           "rgb(199,233,192)"
          ],
          [
           0.375,
           "rgb(161,217,155)"
          ],
          [
           0.5,
           "rgb(116,196,118)"
          ],
          [
           0.625,
           "rgb(65,171,93)"
          ],
          [
           0.75,
           "rgb(35,139,69)"
          ],
          [
           0.875,
           "rgb(0,109,44)"
          ],
          [
           1,
           "rgb(0,68,27)"
          ]
         ],
         "customdata": [
          [
           "2016-01-01",
           "y"
          ],
          [
           "2016-01-02",
           "y"
          ],
          [
           "2016-01-03",
           "y"
          ],
          [
           "2016-01-04",
           "y"
          ],
          [
           "2016-01-05",
           "y"
          ],
          [
           "2016-01-06",
           "y"
          ],
          [
           "2016-01-07",
           "y"
          ],
          [
           "2016-01-08",
           "y"
          ],
          [
           "2016-01-09",
           "y"
          ],
          [
           "2016-01-10",
           "y"
          ],
          [
           "2016-01-10",
           "y"
          ],
          [
           "2016-01-11",
           "y"
          ],
          [
           "2016-01-12",
           "y"
          ],
          [
           "2016-01-13",
           "y"
          ],
          [
           "2016-01-14",
           "y"
          ],
          [
           "2016-01-15",
           "y"
          ],
          [
           "2016-01-16",
           "y"
          ],
          [
           "2016-01-17",
           "y"
          ],
          [
           "2016-01-18",
           "y"
          ],
          [
           "2016-01-19",
           "y"
          ],
          [
           "2016-01-19",
           "y"
          ],
          [
           "2016-01-19",
           "y"
          ],
          [
           "2016-01-19",
           "y"
          ],
          [
           "2016-01-19",
           "y"
          ],
          [
           "2016-01-20",
           "y"
          ],
          [
           "2016-01-21",
           "y"
          ],
          [
           "2016-01-22",
           "y"
          ],
          [
           "2016-01-23",
           "y"
          ],
          [
           "2016-01-24",
           "y"
          ],
          [
           "2016-01-25",
           "y"
          ],
          [
           "2016-01-26",
           "y"
          ],
          [
           "2016-01-27",
           "y"
          ],
          [
           "2016-01-28",
           "y"
          ],
          [
           "2016-01-28",
           "y"
          ],
          [
           "2016-01-29",
           "y"
          ],
          [
           "2016-01-30",
           "y"
          ],
          [
           "2016-01-31",
           "y"
          ],
          [
           "2016-02-01",
           "y"
          ],
          [
           "2016-02-02",
           "y"
          ],
          [
           "2016-02-03",
           "y"
          ],
          [
           "2016-02-04",
           "y"
          ],
          [
           "2016-02-05",
           "y"
          ],
          [
           "2016-02-06",
           "y"
          ],
          [
           "2016-02-07",
           "y"
          ],
          [
           "2016-02-08",
           "y"
          ],
          [
           "2016-02-09",
           "y"
          ],
          [
           "2016-02-10",
           "y"
          ],
          [
           "2016-02-11",
           "y"
          ],
          [
           "2016-02-12",
           "y"
          ],
          [
           "2016-02-13",
           "y"
          ],
          [
           "2016-02-14",
           "y"
          ],
          [
           "2016-02-15",
           "y"
          ],
          [
           "2016-02-15",
           "y"
          ],
          [
           "2016-02-16",
           "y"
          ],
          [
           "2016-02-17",
           "y"
          ],
          [
           "2016-02-18",
           "y"
          ],
          [
           "2016-02-19",
           "y"
          ],
          [
           "2016-02-20",
           "y"
          ],
          [
           "2016-02-21",
           "y"
          ],
          [
           "2016-02-22",
           "y"
          ],
          [
           "2016-02-23",
           "y"
          ],
          [
           "2016-02-24",
           "y"
          ],
          [
           "2016-02-25",
           "y"
          ],
          [
           "2016-02-25",
           "y"
          ],
          [
           "2016-02-26",
           "y"
          ],
          [
           "2016-02-26",
           "y"
          ],
          [
           "2016-02-27",
           "y"
          ],
          [
           "2016-02-28",
           "y"
          ],
          [
           "2016-02-29",
           "y"
          ],
          [
           "2016-03-01",
           "y"
          ],
          [
           "2016-03-02",
           "y"
          ],
          [
           "2016-03-03",
           "y"
          ],
          [
           "2016-03-04",
           "y"
          ],
          [
           "2016-03-05",
           "y"
          ],
          [
           "2016-03-06",
           "y"
          ],
          [
           "2016-03-07",
           "y"
          ],
          [
           "2016-03-08",
           "y"
          ],
          [
           "2016-03-09",
           "y"
          ],
          [
           "2016-03-10",
           "y"
          ],
          [
           "2016-03-10",
           "y"
          ],
          [
           "2016-03-11",
           "y"
          ],
          [
           "2016-03-12",
           "y"
          ],
          [
           "2016-03-13",
           "y"
          ],
          [
           "2016-03-14",
           "y"
          ],
          [
           "2016-03-15",
           "y"
          ],
          [
           "2016-03-16",
           "y"
          ],
          [
           "2016-03-17",
           "y"
          ],
          [
           "2016-03-18",
           "y"
          ],
          [
           "2016-03-19",
           "y"
          ],
          [
           "2016-03-20",
           "y"
          ],
          [
           "2016-03-21",
           "y"
          ],
          [
           "2016-03-22",
           "y"
          ],
          [
           "2016-03-23",
           "y"
          ],
          [
           "2016-03-24",
           "y"
          ],
          [
           "2016-03-25",
           "y"
          ],
          [
           "2016-03-26",
           "y"
          ],
          [
           "2016-03-27",
           "y"
          ],
          [
           "2016-03-28",
           "y"
          ],
          [
           "2016-03-28",
           "y"
          ],
          [
           "2016-03-28",
           "y"
          ],
          [
           "2016-03-29",
           "y"
          ],
          [
           "2016-03-30",
           "y"
          ],
          [
           "2016-03-31",
           "y"
          ],
          [
           "2016-04-01",
           "y"
          ],
          [
           "2016-04-02",
           "y"
          ],
          [
           "2016-04-03",
           "y"
          ],
          [
           "2016-04-04",
           "y"
          ],
          [
           "2016-04-05",
           "y"
          ],
          [
           "2016-04-06",
           "y"
          ],
          [
           "2016-04-07",
           "y"
          ],
          [
           "2016-04-08",
           "y"
          ],
          [
           "2016-04-09",
           "y"
          ],
          [
           "2016-04-09",
           "y"
          ],
          [
           "2016-04-09",
           "y"
          ],
          [
           "2016-04-09",
           "y"
          ],
          [
           "2016-04-09",
           "y"
          ],
          [
           "2016-04-09",
           "y"
          ],
          [
           "2016-04-10",
           "y"
          ],
          [
           "2016-04-11",
           "y"
          ],
          [
           "2016-04-12",
           "y"
          ],
          [
           "2016-04-13",
           "y"
          ],
          [
           "2016-04-13",
           "y"
          ],
          [
           "2016-04-14",
           "y"
          ],
          [
           "2016-04-15",
           "y"
          ],
          [
           "2016-04-16",
           "y"
          ],
          [
           "2016-04-17",
           "y"
          ],
          [
           "2016-04-18",
           "y"
          ],
          [
           "2016-04-19",
           "y"
          ],
          [
           "2016-04-20",
           "y"
          ],
          [
           "2016-04-21",
           "y"
          ],
          [
           "2016-04-22",
           "y"
          ],
          [
           "2016-04-23",
           "y"
          ],
          [
           "2016-04-24",
           "y"
          ],
          [
           "2016-04-25",
           "y"
          ],
          [
           "2016-04-26",
           "y"
          ],
          [
           "2016-04-27",
           "y"
          ],
          [
           "2016-04-27",
           "y"
          ],
          [
           "2016-04-28",
           "y"
          ],
          [
           "2016-04-28",
           "y"
          ],
          [
           "2016-04-28",
           "y"
          ],
          [
           "2016-04-29",
           "y"
          ],
          [
           "2016-04-30",
           "y"
          ],
          [
           "2016-05-01",
           "y"
          ],
          [
           "2016-05-02",
           "y"
          ],
          [
           "2016-05-03",
           "y"
          ],
          [
           "2016-05-04",
           "y"
          ],
          [
           "2016-05-05",
           "y"
          ],
          [
           "2016-05-05",
           "y"
          ],
          [
           "2016-05-05",
           "y"
          ],
          [
           "2016-05-06",
           "y"
          ],
          [
           "2016-05-07",
           "y"
          ],
          [
           "2016-05-08",
           "y"
          ],
          [
           "2016-05-09",
           "y"
          ],
          [
           "2016-05-10",
           "y"
          ],
          [
           "2016-05-11",
           "y"
          ],
          [
           "2016-05-12",
           "y"
          ],
          [
           "2016-05-12",
           "y"
          ],
          [
           "2016-05-13",
           "y"
          ],
          [
           "2016-05-14",
           "y"
          ],
          [
           "2016-05-15",
           "y"
          ],
          [
           "2016-05-16",
           "y"
          ],
          [
           "2016-05-17",
           "y"
          ],
          [
           "2016-05-17",
           "y"
          ],
          [
           "2016-05-17",
           "y"
          ],
          [
           "2016-05-18",
           "y"
          ],
          [
           "2016-05-19",
           "y"
          ],
          [
           "2016-05-20",
           "y"
          ],
          [
           "2016-05-21",
           "y"
          ],
          [
           "2016-05-22",
           "y"
          ],
          [
           "2016-05-23",
           "y"
          ],
          [
           "2016-05-24",
           "y"
          ],
          [
           "2016-05-24",
           "y"
          ],
          [
           "2016-05-24",
           "y"
          ],
          [
           "2016-05-24",
           "y"
          ],
          [
           "2016-05-24",
           "y"
          ],
          [
           "2016-05-25",
           "y"
          ],
          [
           "2016-05-26",
           "y"
          ],
          [
           "2016-05-27",
           "y"
          ],
          [
           "2016-05-28",
           "y"
          ],
          [
           "2016-05-29",
           "y"
          ],
          [
           "2016-05-30",
           "y"
          ],
          [
           "2016-05-31",
           "y"
          ],
          [
           "2016-06-01",
           "y"
          ],
          [
           "2016-06-02",
           "y"
          ],
          [
           "2016-06-03",
           "y"
          ],
          [
           "2016-06-04",
           "y"
          ],
          [
           "2016-06-05",
           "y"
          ],
          [
           "2016-06-06",
           "y"
          ],
          [
           "2016-06-07",
           "y"
          ],
          [
           "2016-06-08",
           "y"
          ],
          [
           "2016-06-09",
           "y"
          ],
          [
           "2016-06-09",
           "y"
          ],
          [
           "2016-06-09",
           "y"
          ],
          [
           "2016-06-09",
           "y"
          ],
          [
           "2016-06-09",
           "y"
          ],
          [
           "2016-06-10",
           "y"
          ],
          [
           "2016-06-11",
           "y"
          ],
          [
           "2016-06-12",
           "y"
          ],
          [
           "2016-06-13",
           "y"
          ],
          [
           "2016-06-14",
           "y"
          ],
          [
           "2016-06-15",
           "y"
          ],
          [
           "2016-06-16",
           "y"
          ],
          [
           "2016-06-16",
           "y"
          ],
          [
           "2016-06-16",
           "y"
          ],
          [
           "2016-06-16",
           "y"
          ],
          [
           "2016-06-17",
           "y"
          ],
          [
           "2016-06-18",
           "y"
          ],
          [
           "2016-06-19",
           "y"
          ],
          [
           "2016-06-20",
           "y"
          ],
          [
           "2016-06-21",
           "y"
          ],
          [
           "2016-06-22",
           "y"
          ],
          [
           "2016-06-23",
           "y"
          ],
          [
           "2016-06-24",
           "y"
          ],
          [
           "2016-06-25",
           "y"
          ],
          [
           "2016-06-26",
           "y"
          ],
          [
           "2016-06-27",
           "y"
          ],
          [
           "2016-06-27",
           "y"
          ],
          [
           "2016-06-27",
           "y"
          ],
          [
           "2016-06-28",
           "y"
          ],
          [
           "2016-06-28",
           "y"
          ],
          [
           "2016-06-28",
           "y"
          ],
          [
           "2016-06-28",
           "y"
          ],
          [
           "2016-06-29",
           "y"
          ],
          [
           "2016-06-29",
           "y"
          ],
          [
           "2016-06-29",
           "y"
          ],
          [
           "2016-06-29",
           "y"
          ],
          [
           "2016-06-29",
           "y"
          ],
          [
           "2016-06-29",
           "y"
          ],
          [
           "2016-06-30",
           "y"
          ],
          [
           "2016-07-01",
           "y"
          ],
          [
           "2016-07-02",
           "y"
          ],
          [
           "2016-07-03",
           "y"
          ],
          [
           "2016-07-04",
           "y"
          ],
          [
           "2016-07-04",
           "y"
          ],
          [
           "2016-07-05",
           "y"
          ],
          [
           "2016-07-06",
           "y"
          ],
          [
           "2016-07-07",
           "y"
          ],
          [
           "2016-07-08",
           "y"
          ],
          [
           "2016-07-09",
           "y"
          ],
          [
           "2016-07-10",
           "y"
          ],
          [
           "2016-07-11",
           "y"
          ],
          [
           "2016-07-12",
           "y"
          ],
          [
           "2016-07-13",
           "y"
          ],
          [
           "2016-07-14",
           "y"
          ],
          [
           "2016-07-14",
           "y"
          ],
          [
           "2016-07-14",
           "y"
          ],
          [
           "2016-07-14",
           "y"
          ],
          [
           "2016-07-14",
           "y"
          ],
          [
           "2016-07-14",
           "y"
          ],
          [
           "2016-07-14",
           "y"
          ],
          [
           "2016-07-14",
           "y"
          ],
          [
           "2016-07-15",
           "y"
          ],
          [
           "2016-07-15",
           "y"
          ],
          [
           "2016-07-15",
           "y"
          ],
          [
           "2016-07-16",
           "y"
          ],
          [
           "2016-07-17",
           "y"
          ],
          [
           "2016-07-18",
           "y"
          ],
          [
           "2016-07-19",
           "y"
          ],
          [
           "2016-07-20",
           "y"
          ],
          [
           "2016-07-21",
           "y"
          ],
          [
           "2016-07-22",
           "y"
          ],
          [
           "2016-07-23",
           "y"
          ],
          [
           "2016-07-24",
           "y"
          ],
          [
           "2016-07-25",
           "y"
          ],
          [
           "2016-07-26",
           "y"
          ],
          [
           "2016-07-27",
           "y"
          ],
          [
           "2016-07-27",
           "y"
          ],
          [
           "2016-07-27",
           "y"
          ],
          [
           "2016-07-28",
           "y"
          ],
          [
           "2016-07-28",
           "y"
          ],
          [
           "2016-07-28",
           "y"
          ],
          [
           "2016-07-28",
           "y"
          ],
          [
           "2016-07-28",
           "y"
          ],
          [
           "2016-07-28",
           "y"
          ],
          [
           "2016-07-28",
           "y"
          ],
          [
           "2016-07-28",
           "y"
          ],
          [
           "2016-07-29",
           "y"
          ],
          [
           "2016-07-29",
           "y"
          ],
          [
           "2016-07-29",
           "y"
          ],
          [
           "2016-07-30",
           "y"
          ],
          [
           "2016-07-31",
           "y"
          ],
          [
           "2016-08-01",
           "y"
          ],
          [
           "2016-08-01",
           "y"
          ],
          [
           "2016-08-01",
           "y"
          ],
          [
           "2016-08-01",
           "y"
          ],
          [
           "2016-08-01",
           "y"
          ],
          [
           "2016-08-02",
           "y"
          ],
          [
           "2016-08-02",
           "y"
          ],
          [
           "2016-08-02",
           "y"
          ],
          [
           "2016-08-03",
           "y"
          ],
          [
           "2016-08-04",
           "y"
          ],
          [
           "2016-08-05",
           "y"
          ],
          [
           "2016-08-06",
           "y"
          ],
          [
           "2016-08-07",
           "y"
          ],
          [
           "2016-08-08",
           "y"
          ],
          [
           "2016-08-09",
           "y"
          ],
          [
           "2016-08-09",
           "y"
          ],
          [
           "2016-08-09",
           "y"
          ],
          [
           "2016-08-09",
           "y"
          ],
          [
           "2016-08-09",
           "y"
          ],
          [
           "2016-08-09",
           "y"
          ],
          [
           "2016-08-09",
           "y"
          ],
          [
           "2016-08-09",
           "y"
          ],
          [
           "2016-08-09",
           "y"
          ],
          [
           "2016-08-10",
           "y"
          ],
          [
           "2016-08-11",
           "y"
          ],
          [
           "2016-08-12",
           "y"
          ],
          [
           "2016-08-13",
           "y"
          ],
          [
           "2016-08-14",
           "y"
          ],
          [
           "2016-08-15",
           "y"
          ],
          [
           "2016-08-16",
           "y"
          ],
          [
           "2016-08-16",
           "y"
          ],
          [
           "2016-08-16",
           "y"
          ],
          [
           "2016-08-16",
           "y"
          ],
          [
           "2016-08-17",
           "y"
          ],
          [
           "2016-08-18",
           "y"
          ],
          [
           "2016-08-19",
           "y"
          ],
          [
           "2016-08-19",
           "y"
          ],
          [
           "2016-08-20",
           "y"
          ],
          [
           "2016-08-21",
           "y"
          ],
          [
           "2016-08-22",
           "y"
          ],
          [
           "2016-08-22",
           "y"
          ],
          [
           "2016-08-22",
           "y"
          ],
          [
           "2016-08-22",
           "y"
          ],
          [
           "2016-08-22",
           "y"
          ],
          [
           "2016-08-23",
           "y"
          ],
          [
           "2016-08-24",
           "y"
          ],
          [
           "2016-08-25",
           "y"
          ],
          [
           "2016-08-25",
           "y"
          ],
          [
           "2016-08-25",
           "y"
          ],
          [
           "2016-08-25",
           "y"
          ],
          [
           "2016-08-25",
           "y"
          ],
          [
           "2016-08-26",
           "y"
          ],
          [
           "2016-08-27",
           "y"
          ],
          [
           "2016-08-28",
           "y"
          ],
          [
           "2016-08-29",
           "y"
          ],
          [
           "2016-08-29",
           "y"
          ],
          [
           "2016-08-30",
           "y"
          ],
          [
           "2016-08-31",
           "y"
          ],
          [
           "2016-09-01",
           "y"
          ],
          [
           "2016-09-02",
           "y"
          ],
          [
           "2016-09-03",
           "y"
          ],
          [
           "2016-09-04",
           "y"
          ],
          [
           "2016-09-05",
           "y"
          ],
          [
           "2016-09-05",
           "y"
          ],
          [
           "2016-09-05",
           "y"
          ],
          [
           "2016-09-05",
           "y"
          ],
          [
           "2016-09-05",
           "y"
          ],
          [
           "2016-09-05",
           "y"
          ],
          [
           "2016-09-06",
           "y"
          ],
          [
           "2016-09-07",
           "y"
          ],
          [
           "2016-09-08",
           "y"
          ],
          [
           "2016-09-09",
           "y"
          ],
          [
           "2016-09-10",
           "y"
          ],
          [
           "2016-09-11",
           "y"
          ],
          [
           "2016-09-12",
           "y"
          ],
          [
           "2016-09-13",
           "y"
          ],
          [
           "2016-09-14",
           "y"
          ],
          [
           "2016-09-15",
           "y"
          ],
          [
           "2016-09-16",
           "y"
          ],
          [
           "2016-09-17",
           "y"
          ],
          [
           "2016-09-18",
           "y"
          ],
          [
           "2016-09-19",
           "y"
          ],
          [
           "2016-09-20",
           "y"
          ],
          [
           "2016-09-20",
           "y"
          ],
          [
           "2016-09-20",
           "y"
          ],
          [
           "2016-09-20",
           "y"
          ],
          [
           "2016-09-20",
           "y"
          ],
          [
           "2016-09-21",
           "y"
          ],
          [
           "2016-09-21",
           "y"
          ],
          [
           "2016-09-21",
           "y"
          ],
          [
           "2016-09-21",
           "y"
          ],
          [
           "2016-09-22",
           "y"
          ],
          [
           "2016-09-23",
           "y"
          ],
          [
           "2016-09-23",
           "y"
          ],
          [
           "2016-09-23",
           "y"
          ],
          [
           "2016-09-23",
           "y"
          ],
          [
           "2016-09-23",
           "y"
          ],
          [
           "2016-09-23",
           "y"
          ],
          [
           "2016-09-24",
           "y"
          ],
          [
           "2016-09-25",
           "y"
          ],
          [
           "2016-09-26",
           "y"
          ],
          [
           "2016-09-27",
           "y"
          ],
          [
           "2016-09-28",
           "y"
          ],
          [
           "2016-09-29",
           "y"
          ],
          [
           "2016-09-30",
           "y"
          ],
          [
           "2016-10-01",
           "y"
          ],
          [
           "2016-10-02",
           "y"
          ],
          [
           "2016-10-03",
           "y"
          ],
          [
           "2016-10-04",
           "y"
          ],
          [
           "2016-10-05",
           "y"
          ],
          [
           "2016-10-05",
           "y"
          ],
          [
           "2016-10-05",
           "y"
          ],
          [
           "2016-10-05",
           "y"
          ],
          [
           "2016-10-05",
           "y"
          ],
          [
           "2016-10-05",
           "y"
          ],
          [
           "2016-10-06",
           "y"
          ],
          [
           "2016-10-06",
           "y"
          ],
          [
           "2016-10-07",
           "y"
          ],
          [
           "2016-10-08",
           "y"
          ],
          [
           "2016-10-09",
           "y"
          ],
          [
           "2016-10-10",
           "y"
          ],
          [
           "2016-10-11",
           "y"
          ],
          [
           "2016-10-11",
           "y"
          ],
          [
           "2016-10-11",
           "y"
          ],
          [
           "2016-10-11",
           "y"
          ],
          [
           "2016-10-12",
           "y"
          ],
          [
           "2016-10-13",
           "y"
          ],
          [
           "2016-10-14",
           "y"
          ],
          [
           "2016-10-15",
           "y"
          ],
          [
           "2016-10-16",
           "y"
          ],
          [
           "2016-10-17",
           "y"
          ],
          [
           "2016-10-18",
           "y"
          ],
          [
           "2016-10-19",
           "y"
          ],
          [
           "2016-10-19",
           "y"
          ],
          [
           "2016-10-20",
           "y"
          ],
          [
           "2016-10-21",
           "y"
          ],
          [
           "2016-10-22",
           "y"
          ],
          [
           "2016-10-23",
           "y"
          ],
          [
           "2016-10-24",
           "y"
          ],
          [
           "2016-10-25",
           "y"
          ],
          [
           "2016-10-26",
           "y"
          ],
          [
           "2016-10-26",
           "y"
          ],
          [
           "2016-10-26",
           "y"
          ],
          [
           "2016-10-26",
           "y"
          ],
          [
           "2016-10-26",
           "y"
          ],
          [
           "2016-10-26",
           "y"
          ],
          [
           "2016-10-27",
           "y"
          ],
          [
           "2016-10-28",
           "y"
          ],
          [
           "2016-10-29",
           "y"
          ],
          [
           "2016-10-30",
           "y"
          ],
          [
           "2016-10-31",
           "y"
          ],
          [
           "2016-11-01",
           "y"
          ],
          [
           "2016-11-02",
           "y"
          ],
          [
           "2016-11-03",
           "y"
          ],
          [
           "2016-11-04",
           "y"
          ],
          [
           "2016-11-05",
           "y"
          ],
          [
           "2016-11-06",
           "y"
          ],
          [
           "2016-11-07",
           "y"
          ],
          [
           "2016-11-08",
           "y"
          ],
          [
           "2016-11-09",
           "y"
          ],
          [
           "2016-11-10",
           "y"
          ],
          [
           "2016-11-10",
           "y"
          ],
          [
           "2016-11-10",
           "y"
          ],
          [
           "2016-11-10",
           "y"
          ],
          [
           "2016-11-10",
           "y"
          ],
          [
           "2016-11-10",
           "y"
          ],
          [
           "2016-11-10",
           "y"
          ],
          [
           "2016-11-11",
           "y"
          ],
          [
           "2016-11-12",
           "y"
          ],
          [
           "2016-11-13",
           "y"
          ],
          [
           "2016-11-14",
           "y"
          ],
          [
           "2016-11-14",
           "y"
          ],
          [
           "2016-11-14",
           "y"
          ],
          [
           "2016-11-14",
           "y"
          ],
          [
           "2016-11-15",
           "y"
          ],
          [
           "2016-11-16",
           "y"
          ],
          [
           "2016-11-17",
           "y"
          ],
          [
           "2016-11-18",
           "y"
          ],
          [
           "2016-11-19",
           "y"
          ],
          [
           "2016-11-20",
           "y"
          ],
          [
           "2016-11-21",
           "y"
          ],
          [
           "2016-11-22",
           "y"
          ],
          [
           "2016-11-23",
           "y"
          ],
          [
           "2016-11-23",
           "y"
          ],
          [
           "2016-11-23",
           "y"
          ],
          [
           "2016-11-23",
           "y"
          ],
          [
           "2016-11-23",
           "y"
          ],
          [
           "2016-11-24",
           "y"
          ],
          [
           "2016-11-24",
           "y"
          ],
          [
           "2016-11-24",
           "y"
          ],
          [
           "2016-11-24",
           "y"
          ],
          [
           "2016-11-24",
           "y"
          ],
          [
           "2016-11-24",
           "y"
          ],
          [
           "2016-11-24",
           "y"
          ],
          [
           "2016-11-24",
           "y"
          ],
          [
           "2016-11-24",
           "y"
          ],
          [
           "2016-11-24",
           "y"
          ],
          [
           "2016-11-25",
           "y"
          ],
          [
           "2016-11-25",
           "y"
          ],
          [
           "2016-11-26",
           "y"
          ],
          [
           "2016-11-27",
           "y"
          ],
          [
           "2016-11-28",
           "y"
          ],
          [
           "2016-11-29",
           "y"
          ],
          [
           "2016-11-30",
           "y"
          ],
          [
           "2016-11-30",
           "y"
          ],
          [
           "2016-12-01",
           "y"
          ],
          [
           "2016-12-02",
           "y"
          ],
          [
           "2016-12-03",
           "y"
          ],
          [
           "2016-12-04",
           "y"
          ],
          [
           "2016-12-05",
           "y"
          ],
          [
           "2016-12-06",
           "y"
          ],
          [
           "2016-12-07",
           "y"
          ],
          [
           "2016-12-08",
           "y"
          ],
          [
           "2016-12-09",
           "y"
          ],
          [
           "2016-12-10",
           "y"
          ],
          [
           "2016-12-11",
           "y"
          ],
          [
           "2016-12-12",
           "y"
          ],
          [
           "2016-12-13",
           "y"
          ],
          [
           "2016-12-14",
           "y"
          ],
          [
           "2016-12-15",
           "y"
          ],
          [
           "2016-12-16",
           "y"
          ],
          [
           "2016-12-17",
           "y"
          ],
          [
           "2016-12-18",
           "y"
          ],
          [
           "2016-12-19",
           "y"
          ],
          [
           "2016-12-19",
           "y"
          ],
          [
           "2016-12-19",
           "y"
          ],
          [
           "2016-12-20",
           "y"
          ],
          [
           "2016-12-21",
           "y"
          ],
          [
           "2016-12-22",
           "y"
          ],
          [
           "2016-12-23",
           "y"
          ],
          [
           "2016-12-24",
           "y"
          ],
          [
           "2016-12-25",
           "y"
          ],
          [
           "2016-12-26",
           "y"
          ],
          [
           "2016-12-27",
           "y"
          ],
          [
           "2016-12-27",
           "y"
          ],
          [
           "2016-12-27",
           "y"
          ],
          [
           "2016-12-27",
           "y"
          ],
          [
           "2016-12-27",
           "y"
          ],
          [
           "2016-12-28",
           "y"
          ],
          [
           "2016-12-28",
           "y"
          ],
          [
           "2016-12-29",
           "y"
          ],
          [
           "2016-12-29",
           "y"
          ],
          [
           "2016-12-30",
           "y"
          ],
          [
           "2016-12-30",
           "y"
          ],
          [
           "2016-12-30",
           "y"
          ],
          [
           "2016-12-30",
           "y"
          ],
          [
           "2016-12-30",
           "y"
          ],
          [
           "2016-12-30",
           "y"
          ],
          [
           "2016-12-31",
           "y"
          ]
         ],
         "hovertemplate": "%{customdata[0]} <br>%{customdata[1]}=%{z} <br>Week=%{x}",
         "name": "2016",
         "showscale": false,
         "type": "heatmap",
         "x": [
          0,
          0,
          0,
          1,
          1,
          1,
          1,
          1,
          1,
          1,
          1,
          2,
          2,
          2,
          2,
          2,
          2,
          2,
          3,
          3,
          3,
          3,
          3,
          3,
          3,
          3,
          3,
          3,
          3,
          4,
          4,
          4,
          4,
          4,
          4,
          4,
          4,
          5,
          5,
          5,
          5,
          5,
          5,
          5,
          6,
          6,
          6,
          6,
          6,
          6,
          6,
          7,
          7,
          7,
          7,
          7,
          7,
          7,
          7,
          8,
          8,
          8,
          8,
          8,
          8,
          8,
          8,
          8,
          9,
          9,
          9,
          9,
          9,
          9,
          9,
          10,
          10,
          10,
          10,
          10,
          10,
          10,
          10,
          11,
          11,
          11,
          11,
          11,
          11,
          11,
          12,
          12,
          12,
          12,
          12,
          12,
          12,
          13,
          13,
          13,
          13,
          13,
          13,
          13,
          13,
          13,
          14,
          14,
          14,
          14,
          14,
          14,
          14,
          14,
          14,
          14,
          14,
          14,
          15,
          15,
          15,
          15,
          15,
          15,
          15,
          15,
          16,
          16,
          16,
          16,
          16,
          16,
          16,
          17,
          17,
          17,
          17,
          17,
          17,
          17,
          17,
          17,
          17,
          18,
          18,
          18,
          18,
          18,
          18,
          18,
          18,
          18,
          19,
          19,
          19,
          19,
          19,
          19,
          19,
          19,
          20,
          20,
          20,
          20,
          20,
          20,
          20,
          20,
          20,
          21,
          21,
          21,
          21,
          21,
          21,
          21,
          21,
          21,
          21,
          21,
          22,
          22,
          22,
          22,
          22,
          22,
          22,
          23,
          23,
          23,
          23,
          23,
          23,
          23,
          23,
          23,
          23,
          23,
          24,
          24,
          24,
          24,
          24,
          24,
          24,
          24,
          24,
          24,
          25,
          25,
          25,
          25,
          25,
          25,
          25,
          26,
          26,
          26,
          26,
          26,
          26,
          26,
          26,
          26,
          26,
          26,
          26,
          26,
          26,
          26,
          26,
          26,
          27,
          27,
          27,
          27,
          27,
          27,
          27,
          27,
          28,
          28,
          28,
          28,
          28,
          28,
          28,
          28,
          28,
          28,
          28,
          28,
          28,
          28,
          28,
          28,
          29,
          29,
          29,
          29,
          29,
          29,
          29,
          30,
          30,
          30,
          30,
          30,
          30,
          30,
          30,
          30,
          30,
          30,
          30,
          30,
          30,
          30,
          30,
          30,
          30,
          31,
          31,
          31,
          31,
          31,
          31,
          31,
          31,
          31,
          31,
          31,
          31,
          31,
          32,
          32,
          32,
          32,
          32,
          32,
          32,
          32,
          32,
          32,
          32,
          32,
          32,
          32,
          32,
          33,
          33,
          33,
          33,
          33,
          33,
          33,
          33,
          33,
          33,
          33,
          34,
          34,
          34,
          34,
          34,
          34,
          34,
          34,
          34,
          34,
          34,
          34,
          34,
          34,
          34,
          35,
          35,
          35,
          35,
          35,
          35,
          35,
          35,
          36,
          36,
          36,
          36,
          36,
          36,
          36,
          36,
          36,
          36,
          36,
          36,
          37,
          37,
          37,
          37,
          37,
          37,
          37,
          38,
          38,
          38,
          38,
          38,
          38,
          38,
          38,
          38,
          38,
          38,
          38,
          38,
          38,
          38,
          38,
          38,
          38,
          38,
          39,
          39,
          39,
          39,
          39,
          39,
          39,
          40,
          40,
          40,
          40,
          40,
          40,
          40,
          40,
          40,
          40,
          40,
          40,
          40,
          41,
          41,
          41,
          41,
          41,
          41,
          41,
          41,
          41,
          41,
          42,
          42,
          42,
          42,
          42,
          42,
          42,
          42,
          43,
          43,
          43,
          43,
          43,
          43,
          43,
          43,
          43,
          43,
          43,
          43,
          44,
          44,
          44,
          44,
          44,
          44,
          44,
          45,
          45,
          45,
          45,
          45,
          45,
          45,
          45,
          45,
          45,
          45,
          45,
          45,
          46,
          46,
          46,
          46,
          46,
          46,
          46,
          46,
          46,
          46,
          47,
          47,
          47,
          47,
          47,
          47,
          47,
          47,
          47,
          47,
          47,
          47,
          47,
          47,
          47,
          47,
          47,
          47,
          47,
          47,
          47,
          48,
          48,
          48,
          48,
          48,
          48,
          48,
          48,
          49,
          49,
          49,
          49,
          49,
          49,
          49,
          50,
          50,
          50,
          50,
          50,
          50,
          50,
          51,
          51,
          51,
          51,
          51,
          51,
          51,
          51,
          51,
          52,
          52,
          52,
          52,
          52,
          52,
          52,
          52,
          52,
          52,
          52,
          52,
          52,
          52,
          52,
          52,
          52
         ],
         "xaxis": "x2",
         "xgap": 1,
         "y": [
          4,
          5,
          6,
          0,
          1,
          2,
          3,
          4,
          5,
          6,
          6,
          0,
          1,
          2,
          3,
          4,
          5,
          6,
          0,
          1,
          1,
          1,
          1,
          1,
          2,
          3,
          4,
          5,
          6,
          0,
          1,
          2,
          3,
          3,
          4,
          5,
          6,
          0,
          1,
          2,
          3,
          4,
          5,
          6,
          0,
          1,
          2,
          3,
          4,
          5,
          6,
          0,
          0,
          1,
          2,
          3,
          4,
          5,
          6,
          0,
          1,
          2,
          3,
          3,
          4,
          4,
          5,
          6,
          0,
          1,
          2,
          3,
          4,
          5,
          6,
          0,
          1,
          2,
          3,
          3,
          4,
          5,
          6,
          0,
          1,
          2,
          3,
          4,
          5,
          6,
          0,
          1,
          2,
          3,
          4,
          5,
          6,
          0,
          0,
          0,
          1,
          2,
          3,
          4,
          5,
          6,
          0,
          1,
          2,
          3,
          4,
          5,
          5,
          5,
          5,
          5,
          5,
          6,
          0,
          1,
          2,
          2,
          3,
          4,
          5,
          6,
          0,
          1,
          2,
          3,
          4,
          5,
          6,
          0,
          1,
          2,
          2,
          3,
          3,
          3,
          4,
          5,
          6,
          0,
          1,
          2,
          3,
          3,
          3,
          4,
          5,
          6,
          0,
          1,
          2,
          3,
          3,
          4,
          5,
          6,
          0,
          1,
          1,
          1,
          2,
          3,
          4,
          5,
          6,
          0,
          1,
          1,
          1,
          1,
          1,
          2,
          3,
          4,
          5,
          6,
          0,
          1,
          2,
          3,
          4,
          5,
          6,
          0,
          1,
          2,
          3,
          3,
          3,
          3,
          3,
          4,
          5,
          6,
          0,
          1,
          2,
          3,
          3,
          3,
          3,
          4,
          5,
          6,
          0,
          1,
          2,
          3,
          4,
          5,
          6,
          0,
          0,
          0,
          1,
          1,
          1,
          1,
          2,
          2,
          2,
          2,
          2,
          2,
          3,
          4,
          5,
          6,
          0,
          0,
          1,
          2,
          3,
          4,
          5,
          6,
          0,
          1,
          2,
          3,
          3,
          3,
          3,
          3,
          3,
          3,
          3,
          4,
          4,
          4,
          5,
          6,
          0,
          1,
          2,
          3,
          4,
          5,
          6,
          0,
          1,
          2,
          2,
          2,
          3,
          3,
          3,
          3,
          3,
          3,
          3,
          3,
          4,
          4,
          4,
          5,
          6,
          0,
          0,
          0,
          0,
          0,
          1,
          1,
          1,
          2,
          3,
          4,
          5,
          6,
          0,
          1,
          1,
          1,
          1,
          1,
          1,
          1,
          1,
          1,
          2,
          3,
          4,
          5,
          6,
          0,
          1,
          1,
          1,
          1,
          2,
          3,
          4,
          4,
          5,
          6,
          0,
          0,
          0,
          0,
          0,
          1,
          2,
          3,
          3,
          3,
          3,
          3,
          4,
          5,
          6,
          0,
          0,
          1,
          2,
          3,
          4,
          5,
          6,
          0,
          0,
          0,
          0,
          0,
          0,
          1,
          2,
          3,
          4,
          5,
          6,
          0,
          1,
          2,
          3,
          4,
          5,
          6,
          0,
          1,
          1,
          1,
          1,
          1,
          2,
          2,
          2,
          2,
          3,
          4,
          4,
          4,
          4,
          4,
          4,
          5,
          6,
          0,
          1,
          2,
          3,
          4,
          5,
          6,
          0,
          1,
          2,
          2,
          2,
          2,
          2,
          2,
          3,
          3,
          4,
          5,
          6,
          0,
          1,
          1,
          1,
          1,
          2,
          3,
          4,
          5,
          6,
          0,
          1,
          2,
          2,
          3,
          4,
          5,
          6,
          0,
          1,
          2,
          2,
          2,
          2,
          2,
          2,
          3,
          4,
          5,
          6,
          0,
          1,
          2,
          3,
          4,
          5,
          6,
          0,
          1,
          2,
          3,
          3,
          3,
          3,
          3,
          3,
          3,
          4,
          5,
          6,
          0,
          0,
          0,
          0,
          1,
          2,
          3,
          4,
          5,
          6,
          0,
          1,
          2,
          2,
          2,
          2,
          2,
          3,
          3,
          3,
          3,
          3,
          3,
          3,
          3,
          3,
          3,
          4,
          4,
          5,
          6,
          0,
          1,
          2,
          2,
          3,
          4,
          5,
          6,
          0,
          1,
          2,
          3,
          4,
          5,
          6,
          0,
          1,
          2,
          3,
          4,
          5,
          6,
          0,
          0,
          0,
          1,
          2,
          3,
          4,
          5,
          6,
          0,
          1,
          1,
          1,
          1,
          1,
          2,
          2,
          3,
          3,
          4,
          4,
          4,
          4,
          4,
          4,
          5
         ],
         "yaxis": "y2",
         "ygap": 1,
         "z": [
          0,
          0,
          0,
          0,
          0,
          0,
          0,
          1,
          0,
          1,
          4,
          0,
          0,
          2,
          8,
          0,
          0,
          0,
          0,
          7,
          14,
          27,
          17,
          3,
          2,
          0,
          0,
          0,
          0,
          0,
          0,
          0,
          3,
          4,
          0,
          5,
          0,
          0,
          0,
          11,
          0,
          2,
          0,
          0,
          0,
          0,
          0,
          0,
          0,
          0,
          0,
          1,
          2,
          0,
          0,
          0,
          0,
          0,
          0,
          0,
          6,
          1,
          14,
          9,
          2,
          2,
          11,
          0,
          0,
          0,
          12,
          0,
          0,
          0,
          0,
          0,
          1,
          0,
          19,
          19,
          18,
          0,
          0,
          0,
          6,
          0,
          6,
          0,
          0,
          0,
          1,
          0,
          0,
          0,
          1,
          0,
          0,
          2,
          5,
          15,
          2,
          0,
          0,
          16,
          0,
          0,
          0,
          0,
          0,
          1,
          0,
          10,
          8,
          18,
          7,
          20,
          4,
          0,
          1,
          0,
          1,
          3,
          2,
          0,
          0,
          0,
          0,
          0,
          12,
          0,
          0,
          0,
          0,
          1,
          0,
          20,
          1,
          1,
          1,
          1,
          0,
          0,
          0,
          0,
          0,
          11,
          6,
          7,
          1,
          0,
          0,
          0,
          1,
          4,
          0,
          1,
          1,
          0,
          0,
          0,
          0,
          8,
          8,
          4,
          3,
          1,
          0,
          0,
          0,
          0,
          1,
          1,
          1,
          1,
          1,
          0,
          4,
          0,
          0,
          0,
          0,
          0,
          2,
          0,
          1,
          0,
          0,
          0,
          0,
          23,
          1,
          12,
          20,
          2,
          11,
          0,
          0,
          0,
          0,
          1,
          0,
          6,
          22,
          1,
          2,
          0,
          0,
          0,
          0,
          0,
          0,
          0,
          0,
          0,
          0,
          2,
          21,
          3,
          6,
          2,
          1,
          1,
          1,
          1,
          19,
          27,
          6,
          1,
          0,
          1,
          0,
          0,
          26,
          29,
          0,
          0,
          0,
          0,
          0,
          0,
          0,
          0,
          0,
          1,
          16,
          17,
          15,
          1,
          1,
          1,
          6,
          1,
          1,
          2,
          0,
          0,
          2,
          1,
          1,
          10,
          0,
          0,
          0,
          0,
          0,
          1,
          1,
          2,
          26,
          1,
          38,
          1,
          19,
          18,
          2,
          1,
          6,
          1,
          2,
          0,
          0,
          1,
          8,
          14,
          1,
          1,
          5,
          1,
          9,
          0,
          0,
          0,
          0,
          0,
          0,
          1,
          3,
          4,
          4,
          30,
          18,
          1,
          17,
          1,
          0,
          6,
          0,
          0,
          0,
          0,
          4,
          1,
          1,
          5,
          0,
          0,
          2,
          5,
          0,
          0,
          2,
          2,
          5,
          1,
          2,
          1,
          15,
          3,
          4,
          1,
          1,
          1,
          0,
          0,
          0,
          1,
          1,
          0,
          0,
          1,
          1,
          0,
          0,
          1,
          6,
          10,
          10,
          3,
          1,
          0,
          1,
          0,
          28,
          0,
          0,
          0,
          0,
          0,
          1,
          0,
          0,
          0,
          0,
          14,
          3,
          4,
          5,
          2,
          1,
          1,
          1,
          1,
          0,
          9,
          1,
          1,
          1,
          1,
          8,
          0,
          0,
          0,
          0,
          0,
          0,
          0,
          0,
          0,
          0,
          0,
          1,
          2,
          2,
          1,
          1,
          3,
          1,
          1,
          0,
          0,
          0,
          0,
          1,
          1,
          3,
          1,
          10,
          0,
          6,
          0,
          0,
          0,
          0,
          4,
          1,
          1,
          2,
          0,
          0,
          0,
          0,
          1,
          2,
          1,
          1,
          1,
          3,
          0,
          1,
          0,
          0,
          1,
          0,
          0,
          0,
          0,
          0,
          0,
          0,
          0,
          0,
          1,
          2,
          2,
          26,
          2,
          4,
          2,
          6,
          0,
          0,
          1,
          2,
          3,
          1,
          0,
          0,
          0,
          0,
          0,
          0,
          1,
          0,
          3,
          4,
          1,
          1,
          8,
          10,
          6,
          13,
          2,
          6,
          4,
          8,
          1,
          1,
          10,
          10,
          8,
          0,
          0,
          0,
          0,
          9,
          15,
          1,
          0,
          0,
          0,
          0,
          0,
          0,
          0,
          0,
          0,
          0,
          0,
          0,
          5,
          0,
          30,
          0,
          0,
          9,
          2,
          1,
          0,
          0,
          2,
          0,
          0,
          0,
          0,
          4,
          5,
          4,
          14,
          1,
          1,
          3,
          2,
          2,
          3,
          1,
          8,
          1,
          17,
          3,
          0
         ],
         "zmax": 61,
         "zmin": 0
        },
        {
         "hoverinfo": "skip",
         "line": {
          "color": "#9e9e9e",
          "width": 1
         },
         "mode": "lines",
         "type": "scatter",
         "x": [
          -0.5,
          -0.5
         ],
         "xaxis": "x2",
         "y": [
          3.5,
          6.5
         ],
         "yaxis": "y2"
        },
        {
         "hoverinfo": "skip",
         "line": {
          "color": "#9e9e9e",
          "width": 1
         },
         "mode": "lines",
         "type": "scatter",
         "x": [
          -0.5,
          0.5
         ],
         "xaxis": "x2",
         "y": [
          3.5,
          3.5
         ],
         "yaxis": "y2"
        },
        {
         "hoverinfo": "skip",
         "line": {
          "color": "#9e9e9e",
          "width": 1
         },
         "mode": "lines",
         "type": "scatter",
         "x": [
          0.5,
          0.5
         ],
         "xaxis": "x2",
         "y": [
          3.5,
          -0.5
         ],
         "yaxis": "y2"
        },
        {
         "hoverinfo": "skip",
         "line": {
          "color": "#9e9e9e",
          "width": 1
         },
         "mode": "lines",
         "type": "scatter",
         "x": [
          4.5,
          4.5
         ],
         "xaxis": "x2",
         "y": [
          -0.5,
          6.5
         ],
         "yaxis": "y2"
        },
        {
         "hoverinfo": "skip",
         "line": {
          "color": "#9e9e9e",
          "width": 1
         },
         "mode": "lines",
         "type": "scatter",
         "x": [
          8.5,
          8.5
         ],
         "xaxis": "x2",
         "y": [
          0.5,
          6.5
         ],
         "yaxis": "y2"
        },
        {
         "hoverinfo": "skip",
         "line": {
          "color": "#9e9e9e",
          "width": 1
         },
         "mode": "lines",
         "type": "scatter",
         "x": [
          8.5,
          9.5
         ],
         "xaxis": "x2",
         "y": [
          0.5,
          0.5
         ],
         "yaxis": "y2"
        },
        {
         "hoverinfo": "skip",
         "line": {
          "color": "#9e9e9e",
          "width": 1
         },
         "mode": "lines",
         "type": "scatter",
         "x": [
          9.5,
          9.5
         ],
         "xaxis": "x2",
         "y": [
          0.5,
          -0.5
         ],
         "yaxis": "y2"
        },
        {
         "hoverinfo": "skip",
         "line": {
          "color": "#9e9e9e",
          "width": 1
         },
         "mode": "lines",
         "type": "scatter",
         "x": [
          12.5,
          12.5
         ],
         "xaxis": "x2",
         "y": [
          3.5,
          6.5
         ],
         "yaxis": "y2"
        },
        {
         "hoverinfo": "skip",
         "line": {
          "color": "#9e9e9e",
          "width": 1
         },
         "mode": "lines",
         "type": "scatter",
         "x": [
          12.5,
          13.5
         ],
         "xaxis": "x2",
         "y": [
          3.5,
          3.5
         ],
         "yaxis": "y2"
        },
        {
         "hoverinfo": "skip",
         "line": {
          "color": "#9e9e9e",
          "width": 1
         },
         "mode": "lines",
         "type": "scatter",
         "x": [
          13.5,
          13.5
         ],
         "xaxis": "x2",
         "y": [
          3.5,
          -0.5
         ],
         "yaxis": "y2"
        },
        {
         "hoverinfo": "skip",
         "line": {
          "color": "#9e9e9e",
          "width": 1
         },
         "mode": "lines",
         "type": "scatter",
         "x": [
          16.5,
          16.5
         ],
         "xaxis": "x2",
         "y": [
          5.5,
          6.5
         ],
         "yaxis": "y2"
        },
        {
         "hoverinfo": "skip",
         "line": {
          "color": "#9e9e9e",
          "width": 1
         },
         "mode": "lines",
         "type": "scatter",
         "x": [
          16.5,
          17.5
         ],
         "xaxis": "x2",
         "y": [
          5.5,
          5.5
         ],
         "yaxis": "y2"
        },
        {
         "hoverinfo": "skip",
         "line": {
          "color": "#9e9e9e",
          "width": 1
         },
         "mode": "lines",
         "type": "scatter",
         "x": [
          17.5,
          17.5
         ],
         "xaxis": "x2",
         "y": [
          5.5,
          -0.5
         ],
         "yaxis": "y2"
        },
        {
         "hoverinfo": "skip",
         "line": {
          "color": "#9e9e9e",
          "width": 1
         },
         "mode": "lines",
         "type": "scatter",
         "x": [
          21.5,
          21.5
         ],
         "xaxis": "x2",
         "y": [
          1.5,
          6.5
         ],
         "yaxis": "y2"
        },
        {
         "hoverinfo": "skip",
         "line": {
          "color": "#9e9e9e",
          "width": 1
         },
         "mode": "lines",
         "type": "scatter",
         "x": [
          21.5,
          22.5
         ],
         "xaxis": "x2",
         "y": [
          1.5,
          1.5
         ],
         "yaxis": "y2"
        },
        {
         "hoverinfo": "skip",
         "line": {
          "color": "#9e9e9e",
          "width": 1
         },
         "mode": "lines",
         "type": "scatter",
         "x": [
          22.5,
          22.5
         ],
         "xaxis": "x2",
         "y": [
          1.5,
          -0.5
         ],
         "yaxis": "y2"
        },
        {
         "hoverinfo": "skip",
         "line": {
          "color": "#9e9e9e",
          "width": 1
         },
         "mode": "lines",
         "type": "scatter",
         "x": [
          25.5,
          25.5
         ],
         "xaxis": "x2",
         "y": [
          3.5,
          6.5
         ],
         "yaxis": "y2"
        },
        {
         "hoverinfo": "skip",
         "line": {
          "color": "#9e9e9e",
          "width": 1
         },
         "mode": "lines",
         "type": "scatter",
         "x": [
          25.5,
          26.5
         ],
         "xaxis": "x2",
         "y": [
          3.5,
          3.5
         ],
         "yaxis": "y2"
        },
        {
         "hoverinfo": "skip",
         "line": {
          "color": "#9e9e9e",
          "width": 1
         },
         "mode": "lines",
         "type": "scatter",
         "x": [
          26.5,
          26.5
         ],
         "xaxis": "x2",
         "y": [
          3.5,
          -0.5
         ],
         "yaxis": "y2"
        },
        {
         "hoverinfo": "skip",
         "line": {
          "color": "#9e9e9e",
          "width": 1
         },
         "mode": "lines",
         "type": "scatter",
         "x": [
          30.5,
          30.5
         ],
         "xaxis": "x2",
         "y": [
          -0.5,
          6.5
         ],
         "yaxis": "y2"
        },
        {
         "hoverinfo": "skip",
         "line": {
          "color": "#9e9e9e",
          "width": 1
         },
         "mode": "lines",
         "type": "scatter",
         "x": [
          30.5,
          30.5
         ],
         "xaxis": "x2",
         "y": [
          -0.5,
          6.5
         ],
         "yaxis": "y2"
        },
        {
         "hoverinfo": "skip",
         "line": {
          "color": "#9e9e9e",
          "width": 1
         },
         "mode": "lines",
         "type": "scatter",
         "x": [
          30.5,
          30.5
         ],
         "xaxis": "x2",
         "y": [
          -0.5,
          6.5
         ],
         "yaxis": "y2"
        },
        {
         "hoverinfo": "skip",
         "line": {
          "color": "#9e9e9e",
          "width": 1
         },
         "mode": "lines",
         "type": "scatter",
         "x": [
          30.5,
          30.5
         ],
         "xaxis": "x2",
         "y": [
          -0.5,
          6.5
         ],
         "yaxis": "y2"
        },
        {
         "hoverinfo": "skip",
         "line": {
          "color": "#9e9e9e",
          "width": 1
         },
         "mode": "lines",
         "type": "scatter",
         "x": [
          30.5,
          30.5
         ],
         "xaxis": "x2",
         "y": [
          -0.5,
          6.5
         ],
         "yaxis": "y2"
        },
        {
         "hoverinfo": "skip",
         "line": {
          "color": "#9e9e9e",
          "width": 1
         },
         "mode": "lines",
         "type": "scatter",
         "x": [
          34.5,
          34.5
         ],
         "xaxis": "x2",
         "y": [
          2.5,
          6.5
         ],
         "yaxis": "y2"
        },
        {
         "hoverinfo": "skip",
         "line": {
          "color": "#9e9e9e",
          "width": 1
         },
         "mode": "lines",
         "type": "scatter",
         "x": [
          34.5,
          35.5
         ],
         "xaxis": "x2",
         "y": [
          2.5,
          2.5
         ],
         "yaxis": "y2"
        },
        {
         "hoverinfo": "skip",
         "line": {
          "color": "#9e9e9e",
          "width": 1
         },
         "mode": "lines",
         "type": "scatter",
         "x": [
          35.5,
          35.5
         ],
         "xaxis": "x2",
         "y": [
          2.5,
          -0.5
         ],
         "yaxis": "y2"
        },
        {
         "hoverinfo": "skip",
         "line": {
          "color": "#9e9e9e",
          "width": 1
         },
         "mode": "lines",
         "type": "scatter",
         "x": [
          38.5,
          38.5
         ],
         "xaxis": "x2",
         "y": [
          4.5,
          6.5
         ],
         "yaxis": "y2"
        },
        {
         "hoverinfo": "skip",
         "line": {
          "color": "#9e9e9e",
          "width": 1
         },
         "mode": "lines",
         "type": "scatter",
         "x": [
          38.5,
          39.5
         ],
         "xaxis": "x2",
         "y": [
          4.5,
          4.5
         ],
         "yaxis": "y2"
        },
        {
         "hoverinfo": "skip",
         "line": {
          "color": "#9e9e9e",
          "width": 1
         },
         "mode": "lines",
         "type": "scatter",
         "x": [
          39.5,
          39.5
         ],
         "xaxis": "x2",
         "y": [
          4.5,
          -0.5
         ],
         "yaxis": "y2"
        },
        {
         "hoverinfo": "skip",
         "line": {
          "color": "#9e9e9e",
          "width": 1
         },
         "mode": "lines",
         "type": "scatter",
         "x": [
          43.5,
          43.5
         ],
         "xaxis": "x2",
         "y": [
          0.5,
          6.5
         ],
         "yaxis": "y2"
        },
        {
         "hoverinfo": "skip",
         "line": {
          "color": "#9e9e9e",
          "width": 1
         },
         "mode": "lines",
         "type": "scatter",
         "x": [
          43.5,
          44.5
         ],
         "xaxis": "x2",
         "y": [
          0.5,
          0.5
         ],
         "yaxis": "y2"
        },
        {
         "hoverinfo": "skip",
         "line": {
          "color": "#9e9e9e",
          "width": 1
         },
         "mode": "lines",
         "type": "scatter",
         "x": [
          44.5,
          44.5
         ],
         "xaxis": "x2",
         "y": [
          0.5,
          -0.5
         ],
         "yaxis": "y2"
        },
        {
         "hoverinfo": "skip",
         "line": {
          "color": "#9e9e9e",
          "width": 1
         },
         "mode": "lines",
         "type": "scatter",
         "x": [
          47.5,
          47.5
         ],
         "xaxis": "x2",
         "y": [
          2.5,
          6.5
         ],
         "yaxis": "y2"
        },
        {
         "hoverinfo": "skip",
         "line": {
          "color": "#9e9e9e",
          "width": 1
         },
         "mode": "lines",
         "type": "scatter",
         "x": [
          47.5,
          48.5
         ],
         "xaxis": "x2",
         "y": [
          2.5,
          2.5
         ],
         "yaxis": "y2"
        },
        {
         "hoverinfo": "skip",
         "line": {
          "color": "#9e9e9e",
          "width": 1
         },
         "mode": "lines",
         "type": "scatter",
         "x": [
          48.5,
          48.5
         ],
         "xaxis": "x2",
         "y": [
          2.5,
          -0.5
         ],
         "yaxis": "y2"
        },
        {
         "colorscale": [
          [
           0,
           "rgb(247,252,245)"
          ],
          [
           0.125,
           "rgb(229,245,224)"
          ],
          [
           0.25,
           "rgb(199,233,192)"
          ],
          [
           0.375,
           "rgb(161,217,155)"
          ],
          [
           0.5,
           "rgb(116,196,118)"
          ],
          [
           0.625,
           "rgb(65,171,93)"
          ],
          [
           0.75,
           "rgb(35,139,69)"
          ],
          [
           0.875,
           "rgb(0,109,44)"
          ],
          [
           1,
           "rgb(0,68,27)"
          ]
         ],
         "customdata": [
          [
           "2017-01-01",
           "y"
          ],
          [
           "2017-01-02",
           "y"
          ],
          [
           "2017-01-03",
           "y"
          ],
          [
           "2017-01-04",
           "y"
          ],
          [
           "2017-01-05",
           "y"
          ],
          [
           "2017-01-06",
           "y"
          ],
          [
           "2017-01-07",
           "y"
          ],
          [
           "2017-01-08",
           "y"
          ],
          [
           "2017-01-09",
           "y"
          ],
          [
           "2017-01-10",
           "y"
          ],
          [
           "2017-01-11",
           "y"
          ],
          [
           "2017-01-12",
           "y"
          ],
          [
           "2017-01-13",
           "y"
          ],
          [
           "2017-01-14",
           "y"
          ],
          [
           "2017-01-15",
           "y"
          ],
          [
           "2017-01-16",
           "y"
          ],
          [
           "2017-01-17",
           "y"
          ],
          [
           "2017-01-18",
           "y"
          ],
          [
           "2017-01-18",
           "y"
          ],
          [
           "2017-01-19",
           "y"
          ],
          [
           "2017-01-19",
           "y"
          ],
          [
           "2017-01-19",
           "y"
          ],
          [
           "2017-01-19",
           "y"
          ],
          [
           "2017-01-19",
           "y"
          ],
          [
           "2017-01-19",
           "y"
          ],
          [
           "2017-01-19",
           "y"
          ],
          [
           "2017-01-19",
           "y"
          ],
          [
           "2017-01-20",
           "y"
          ],
          [
           "2017-01-20",
           "y"
          ],
          [
           "2017-01-20",
           "y"
          ],
          [
           "2017-01-20",
           "y"
          ],
          [
           "2017-01-20",
           "y"
          ],
          [
           "2017-01-20",
           "y"
          ],
          [
           "2017-01-21",
           "y"
          ],
          [
           "2017-01-22",
           "y"
          ],
          [
           "2017-01-23",
           "y"
          ],
          [
           "2017-01-24",
           "y"
          ],
          [
           "2017-01-25",
           "y"
          ],
          [
           "2017-01-25",
           "y"
          ],
          [
           "2017-01-26",
           "y"
          ],
          [
           "2017-01-27",
           "y"
          ],
          [
           "2017-01-28",
           "y"
          ],
          [
           "2017-01-29",
           "y"
          ],
          [
           "2017-01-30",
           "y"
          ],
          [
           "2017-01-31",
           "y"
          ],
          [
           "2017-01-31",
           "y"
          ],
          [
           "2017-01-31",
           "y"
          ],
          [
           "2017-02-01",
           "y"
          ],
          [
           "2017-02-02",
           "y"
          ],
          [
           "2017-02-03",
           "y"
          ],
          [
           "2017-02-04",
           "y"
          ],
          [
           "2017-02-05",
           "y"
          ],
          [
           "2017-02-06",
           "y"
          ],
          [
           "2017-02-07",
           "y"
          ],
          [
           "2017-02-08",
           "y"
          ],
          [
           "2017-02-08",
           "y"
          ],
          [
           "2017-02-09",
           "y"
          ],
          [
           "2017-02-10",
           "y"
          ],
          [
           "2017-02-11",
           "y"
          ],
          [
           "2017-02-12",
           "y"
          ],
          [
           "2017-02-13",
           "y"
          ],
          [
           "2017-02-14",
           "y"
          ],
          [
           "2017-02-15",
           "y"
          ],
          [
           "2017-02-16",
           "y"
          ],
          [
           "2017-02-16",
           "y"
          ],
          [
           "2017-02-17",
           "y"
          ],
          [
           "2017-02-18",
           "y"
          ],
          [
           "2017-02-19",
           "y"
          ],
          [
           "2017-02-20",
           "y"
          ],
          [
           "2017-02-21",
           "y"
          ],
          [
           "2017-02-22",
           "y"
          ],
          [
           "2017-02-22",
           "y"
          ],
          [
           "2017-02-22",
           "y"
          ],
          [
           "2017-02-23",
           "y"
          ],
          [
           "2017-02-24",
           "y"
          ],
          [
           "2017-02-25",
           "y"
          ],
          [
           "2017-02-26",
           "y"
          ],
          [
           "2017-02-27",
           "y"
          ],
          [
           "2017-02-27",
           "y"
          ],
          [
           "2017-02-27",
           "y"
          ],
          [
           "2017-02-28",
           "y"
          ],
          [
           "2017-02-28",
           "y"
          ],
          [
           "2017-03-01",
           "y"
          ],
          [
           "2017-03-02",
           "y"
          ],
          [
           "2017-03-03",
           "y"
          ],
          [
           "2017-03-04",
           "y"
          ],
          [
           "2017-03-05",
           "y"
          ],
          [
           "2017-03-06",
           "y"
          ],
          [
           "2017-03-07",
           "y"
          ],
          [
           "2017-03-08",
           "y"
          ],
          [
           "2017-03-09",
           "y"
          ],
          [
           "2017-03-10",
           "y"
          ],
          [
           "2017-03-11",
           "y"
          ],
          [
           "2017-03-12",
           "y"
          ],
          [
           "2017-03-13",
           "y"
          ],
          [
           "2017-03-13",
           "y"
          ],
          [
           "2017-03-13",
           "y"
          ],
          [
           "2017-03-13",
           "y"
          ],
          [
           "2017-03-13",
           "y"
          ],
          [
           "2017-03-13",
           "y"
          ],
          [
           "2017-03-13",
           "y"
          ],
          [
           "2017-03-14",
           "y"
          ],
          [
           "2017-03-15",
           "y"
          ],
          [
           "2017-03-16",
           "y"
          ],
          [
           "2017-03-17",
           "y"
          ],
          [
           "2017-03-18",
           "y"
          ],
          [
           "2017-03-19",
           "y"
          ],
          [
           "2017-03-20",
           "y"
          ],
          [
           "2017-03-20",
           "y"
          ],
          [
           "2017-03-20",
           "y"
          ],
          [
           "2017-03-20",
           "y"
          ],
          [
           "2017-03-20",
           "y"
          ],
          [
           "2017-03-20",
           "y"
          ],
          [
           "2017-03-20",
           "y"
          ],
          [
           "2017-03-20",
           "y"
          ],
          [
           "2017-03-20",
           "y"
          ],
          [
           "2017-03-21",
           "y"
          ],
          [
           "2017-03-22",
           "y"
          ],
          [
           "2017-03-23",
           "y"
          ],
          [
           "2017-03-24",
           "y"
          ],
          [
           "2017-03-25",
           "y"
          ],
          [
           "2017-03-26",
           "y"
          ],
          [
           "2017-03-27",
           "y"
          ],
          [
           "2017-03-27",
           "y"
          ],
          [
           "2017-03-27",
           "y"
          ],
          [
           "2017-03-27",
           "y"
          ],
          [
           "2017-03-28",
           "y"
          ],
          [
           "2017-03-28",
           "y"
          ],
          [
           "2017-03-28",
           "y"
          ],
          [
           "2017-03-28",
           "y"
          ],
          [
           "2017-03-28",
           "y"
          ],
          [
           "2017-03-29",
           "y"
          ],
          [
           "2017-03-30",
           "y"
          ],
          [
           "2017-03-31",
           "y"
          ],
          [
           "2017-04-01",
           "y"
          ],
          [
           "2017-04-02",
           "y"
          ],
          [
           "2017-04-03",
           "y"
          ],
          [
           "2017-04-04",
           "y"
          ],
          [
           "2017-04-04",
           "y"
          ],
          [
           "2017-04-05",
           "y"
          ],
          [
           "2017-04-05",
           "y"
          ],
          [
           "2017-04-06",
           "y"
          ],
          [
           "2017-04-07",
           "y"
          ],
          [
           "2017-04-08",
           "y"
          ],
          [
           "2017-04-09",
           "y"
          ],
          [
           "2017-04-10",
           "y"
          ],
          [
           "2017-04-11",
           "y"
          ],
          [
           "2017-04-12",
           "y"
          ],
          [
           "2017-04-13",
           "y"
          ],
          [
           "2017-04-14",
           "y"
          ],
          [
           "2017-04-15",
           "y"
          ],
          [
           "2017-04-16",
           "y"
          ],
          [
           "2017-04-17",
           "y"
          ],
          [
           "2017-04-18",
           "y"
          ],
          [
           "2017-04-18",
           "y"
          ],
          [
           "2017-04-19",
           "y"
          ],
          [
           "2017-04-20",
           "y"
          ],
          [
           "2017-04-20",
           "y"
          ],
          [
           "2017-04-20",
           "y"
          ],
          [
           "2017-04-20",
           "y"
          ],
          [
           "2017-04-20",
           "y"
          ],
          [
           "2017-04-20",
           "y"
          ],
          [
           "2017-04-20",
           "y"
          ],
          [
           "2017-04-21",
           "y"
          ],
          [
           "2017-04-21",
           "y"
          ],
          [
           "2017-04-21",
           "y"
          ],
          [
           "2017-04-21",
           "y"
          ],
          [
           "2017-04-21",
           "y"
          ],
          [
           "2017-04-21",
           "y"
          ],
          [
           "2017-04-21",
           "y"
          ],
          [
           "2017-04-21",
           "y"
          ],
          [
           "2017-04-21",
           "y"
          ],
          [
           "2017-04-21",
           "y"
          ],
          [
           "2017-04-21",
           "y"
          ],
          [
           "2017-04-22",
           "y"
          ],
          [
           "2017-04-23",
           "y"
          ],
          [
           "2017-04-24",
           "y"
          ],
          [
           "2017-04-25",
           "y"
          ],
          [
           "2017-04-26",
           "y"
          ],
          [
           "2017-04-26",
           "y"
          ],
          [
           "2017-04-27",
           "y"
          ],
          [
           "2017-04-28",
           "y"
          ],
          [
           "2017-04-29",
           "y"
          ],
          [
           "2017-04-30",
           "y"
          ],
          [
           "2017-05-01",
           "y"
          ],
          [
           "2017-05-02",
           "y"
          ],
          [
           "2017-05-03",
           "y"
          ],
          [
           "2017-05-04",
           "y"
          ],
          [
           "2017-05-04",
           "y"
          ],
          [
           "2017-05-04",
           "y"
          ],
          [
           "2017-05-04",
           "y"
          ],
          [
           "2017-05-05",
           "y"
          ],
          [
           "2017-05-06",
           "y"
          ],
          [
           "2017-05-07",
           "y"
          ],
          [
           "2017-05-08",
           "y"
          ],
          [
           "2017-05-09",
           "y"
          ],
          [
           "2017-05-10",
           "y"
          ],
          [
           "2017-05-11",
           "y"
          ],
          [
           "2017-05-12",
           "y"
          ],
          [
           "2017-05-13",
           "y"
          ],
          [
           "2017-05-14",
           "y"
          ],
          [
           "2017-05-15",
           "y"
          ],
          [
           "2017-05-16",
           "y"
          ],
          [
           "2017-05-17",
           "y"
          ],
          [
           "2017-05-18",
           "y"
          ],
          [
           "2017-05-19",
           "y"
          ],
          [
           "2017-05-19",
           "y"
          ],
          [
           "2017-05-19",
           "y"
          ],
          [
           "2017-05-19",
           "y"
          ],
          [
           "2017-05-19",
           "y"
          ],
          [
           "2017-05-20",
           "y"
          ],
          [
           "2017-05-21",
           "y"
          ],
          [
           "2017-05-22",
           "y"
          ],
          [
           "2017-05-23",
           "y"
          ],
          [
           "2017-05-24",
           "y"
          ],
          [
           "2017-05-25",
           "y"
          ],
          [
           "2017-05-26",
           "y"
          ],
          [
           "2017-05-26",
           "y"
          ],
          [
           "2017-05-26",
           "y"
          ],
          [
           "2017-05-26",
           "y"
          ],
          [
           "2017-05-27",
           "y"
          ],
          [
           "2017-05-28",
           "y"
          ],
          [
           "2017-05-29",
           "y"
          ],
          [
           "2017-05-30",
           "y"
          ],
          [
           "2017-05-31",
           "y"
          ],
          [
           "2017-06-01",
           "y"
          ],
          [
           "2017-06-01",
           "y"
          ],
          [
           "2017-06-01",
           "y"
          ],
          [
           "2017-06-01",
           "y"
          ],
          [
           "2017-06-02",
           "y"
          ],
          [
           "2017-06-03",
           "y"
          ],
          [
           "2017-06-04",
           "y"
          ],
          [
           "2017-06-05",
           "y"
          ],
          [
           "2017-06-06",
           "y"
          ],
          [
           "2017-06-07",
           "y"
          ],
          [
           "2017-06-08",
           "y"
          ],
          [
           "2017-06-09",
           "y"
          ],
          [
           "2017-06-10",
           "y"
          ],
          [
           "2017-06-11",
           "y"
          ],
          [
           "2017-06-12",
           "y"
          ],
          [
           "2017-06-13",
           "y"
          ],
          [
           "2017-06-14",
           "y"
          ],
          [
           "2017-06-14",
           "y"
          ],
          [
           "2017-06-14",
           "y"
          ],
          [
           "2017-06-14",
           "y"
          ],
          [
           "2017-06-14",
           "y"
          ],
          [
           "2017-06-14",
           "y"
          ],
          [
           "2017-06-15",
           "y"
          ],
          [
           "2017-06-15",
           "y"
          ],
          [
           "2017-06-16",
           "y"
          ],
          [
           "2017-06-16",
           "y"
          ],
          [
           "2017-06-16",
           "y"
          ],
          [
           "2017-06-17",
           "y"
          ],
          [
           "2017-06-18",
           "y"
          ],
          [
           "2017-06-19",
           "y"
          ],
          [
           "2017-06-20",
           "y"
          ],
          [
           "2017-06-21",
           "y"
          ],
          [
           "2017-06-22",
           "y"
          ],
          [
           "2017-06-23",
           "y"
          ],
          [
           "2017-06-24",
           "y"
          ],
          [
           "2017-06-25",
           "y"
          ],
          [
           "2017-06-26",
           "y"
          ],
          [
           "2017-06-27",
           "y"
          ],
          [
           "2017-06-28",
           "y"
          ],
          [
           "2017-06-29",
           "y"
          ],
          [
           "2017-06-30",
           "y"
          ],
          [
           "2017-07-01",
           "y"
          ],
          [
           "2017-07-02",
           "y"
          ],
          [
           "2017-07-03",
           "y"
          ],
          [
           "2017-07-03",
           "y"
          ],
          [
           "2017-07-04",
           "y"
          ],
          [
           "2017-07-05",
           "y"
          ],
          [
           "2017-07-06",
           "y"
          ],
          [
           "2017-07-07",
           "y"
          ],
          [
           "2017-07-08",
           "y"
          ],
          [
           "2017-07-09",
           "y"
          ],
          [
           "2017-07-10",
           "y"
          ],
          [
           "2017-07-11",
           "y"
          ],
          [
           "2017-07-12",
           "y"
          ],
          [
           "2017-07-12",
           "y"
          ],
          [
           "2017-07-12",
           "y"
          ],
          [
           "2017-07-12",
           "y"
          ],
          [
           "2017-07-13",
           "y"
          ],
          [
           "2017-07-14",
           "y"
          ],
          [
           "2017-07-15",
           "y"
          ],
          [
           "2017-07-16",
           "y"
          ],
          [
           "2017-07-17",
           "y"
          ],
          [
           "2017-07-18",
           "y"
          ],
          [
           "2017-07-19",
           "y"
          ],
          [
           "2017-07-20",
           "y"
          ],
          [
           "2017-07-21",
           "y"
          ],
          [
           "2017-07-21",
           "y"
          ],
          [
           "2017-07-21",
           "y"
          ],
          [
           "2017-07-21",
           "y"
          ],
          [
           "2017-07-21",
           "y"
          ],
          [
           "2017-07-22",
           "y"
          ],
          [
           "2017-07-23",
           "y"
          ],
          [
           "2017-07-24",
           "y"
          ],
          [
           "2017-07-24",
           "y"
          ],
          [
           "2017-07-25",
           "y"
          ],
          [
           "2017-07-25",
           "y"
          ],
          [
           "2017-07-25",
           "y"
          ],
          [
           "2017-07-25",
           "y"
          ],
          [
           "2017-07-25",
           "y"
          ],
          [
           "2017-07-26",
           "y"
          ],
          [
           "2017-07-26",
           "y"
          ],
          [
           "2017-07-27",
           "y"
          ],
          [
           "2017-07-27",
           "y"
          ],
          [
           "2017-07-27",
           "y"
          ],
          [
           "2017-07-28",
           "y"
          ],
          [
           "2017-07-28",
           "y"
          ],
          [
           "2017-07-28",
           "y"
          ],
          [
           "2017-07-29",
           "y"
          ],
          [
           "2017-07-30",
           "y"
          ],
          [
           "2017-07-31",
           "y"
          ],
          [
           "2017-08-01",
           "y"
          ],
          [
           "2017-08-02",
           "y"
          ],
          [
           "2017-08-02",
           "y"
          ],
          [
           "2017-08-02",
           "y"
          ],
          [
           "2017-08-02",
           "y"
          ],
          [
           "2017-08-03",
           "y"
          ],
          [
           "2017-08-04",
           "y"
          ],
          [
           "2017-08-05",
           "y"
          ],
          [
           "2017-08-06",
           "y"
          ],
          [
           "2017-08-07",
           "y"
          ],
          [
           "2017-08-08",
           "y"
          ],
          [
           "2017-08-09",
           "y"
          ],
          [
           "2017-08-09",
           "y"
          ],
          [
           "2017-08-09",
           "y"
          ],
          [
           "2017-08-10",
           "y"
          ],
          [
           "2017-08-11",
           "y"
          ],
          [
           "2017-08-12",
           "y"
          ],
          [
           "2017-08-13",
           "y"
          ],
          [
           "2017-08-14",
           "y"
          ],
          [
           "2017-08-14",
           "y"
          ],
          [
           "2017-08-14",
           "y"
          ],
          [
           "2017-08-14",
           "y"
          ],
          [
           "2017-08-15",
           "y"
          ],
          [
           "2017-08-15",
           "y"
          ],
          [
           "2017-08-16",
           "y"
          ],
          [
           "2017-08-17",
           "y"
          ],
          [
           "2017-08-17",
           "y"
          ],
          [
           "2017-08-17",
           "y"
          ],
          [
           "2017-08-18",
           "y"
          ],
          [
           "2017-08-18",
           "y"
          ],
          [
           "2017-08-19",
           "y"
          ],
          [
           "2017-08-20",
           "y"
          ],
          [
           "2017-08-21",
           "y"
          ],
          [
           "2017-08-22",
           "y"
          ],
          [
           "2017-08-23",
           "y"
          ],
          [
           "2017-08-23",
           "y"
          ],
          [
           "2017-08-23",
           "y"
          ],
          [
           "2017-08-23",
           "y"
          ],
          [
           "2017-08-23",
           "y"
          ],
          [
           "2017-08-23",
           "y"
          ],
          [
           "2017-08-24",
           "y"
          ],
          [
           "2017-08-25",
           "y"
          ],
          [
           "2017-08-26",
           "y"
          ],
          [
           "2017-08-27",
           "y"
          ],
          [
           "2017-08-28",
           "y"
          ],
          [
           "2017-08-28",
           "y"
          ],
          [
           "2017-08-28",
           "y"
          ],
          [
           "2017-08-28",
           "y"
          ],
          [
           "2017-08-29",
           "y"
          ],
          [
           "2017-08-29",
           "y"
          ],
          [
           "2017-08-29",
           "y"
          ],
          [
           "2017-08-30",
           "y"
          ],
          [
           "2017-08-31",
           "y"
          ],
          [
           "2017-09-01",
           "y"
          ],
          [
           "2017-09-02",
           "y"
          ],
          [
           "2017-09-03",
           "y"
          ],
          [
           "2017-09-04",
           "y"
          ],
          [
           "2017-09-05",
           "y"
          ],
          [
           "2017-09-06",
           "y"
          ],
          [
           "2017-09-07",
           "y"
          ],
          [
           "2017-09-07",
           "y"
          ],
          [
           "2017-09-07",
           "y"
          ],
          [
           "2017-09-07",
           "y"
          ],
          [
           "2017-09-07",
           "y"
          ],
          [
           "2017-09-07",
           "y"
          ],
          [
           "2017-09-08",
           "y"
          ],
          [
           "2017-09-09",
           "y"
          ],
          [
           "2017-09-10",
           "y"
          ],
          [
           "2017-09-11",
           "y"
          ],
          [
           "2017-09-11",
           "y"
          ],
          [
           "2017-09-12",
           "y"
          ],
          [
           "2017-09-13",
           "y"
          ],
          [
           "2017-09-14",
           "y"
          ],
          [
           "2017-09-15",
           "y"
          ],
          [
           "2017-09-16",
           "y"
          ],
          [
           "2017-09-17",
           "y"
          ],
          [
           "2017-09-18",
           "y"
          ],
          [
           "2017-09-19",
           "y"
          ],
          [
           "2017-09-20",
           "y"
          ],
          [
           "2017-09-21",
           "y"
          ],
          [
           "2017-09-22",
           "y"
          ],
          [
           "2017-09-23",
           "y"
          ],
          [
           "2017-09-24",
           "y"
          ],
          [
           "2017-09-25",
           "y"
          ],
          [
           "2017-09-26",
           "y"
          ],
          [
           "2017-09-27",
           "y"
          ],
          [
           "2017-09-28",
           "y"
          ],
          [
           "2017-09-28",
           "y"
          ],
          [
           "2017-09-29",
           "y"
          ],
          [
           "2017-09-30",
           "y"
          ],
          [
           "2017-10-01",
           "y"
          ],
          [
           "2017-10-02",
           "y"
          ],
          [
           "2017-10-02",
           "y"
          ],
          [
           "2017-10-02",
           "y"
          ],
          [
           "2017-10-03",
           "y"
          ],
          [
           "2017-10-03",
           "y"
          ],
          [
           "2017-10-03",
           "y"
          ],
          [
           "2017-10-04",
           "y"
          ],
          [
           "2017-10-04",
           "y"
          ],
          [
           "2017-10-04",
           "y"
          ],
          [
           "2017-10-05",
           "y"
          ],
          [
           "2017-10-06",
           "y"
          ],
          [
           "2017-10-07",
           "y"
          ],
          [
           "2017-10-08",
           "y"
          ],
          [
           "2017-10-09",
           "y"
          ],
          [
           "2017-10-10",
           "y"
          ],
          [
           "2017-10-11",
           "y"
          ],
          [
           "2017-10-12",
           "y"
          ],
          [
           "2017-10-12",
           "y"
          ],
          [
           "2017-10-12",
           "y"
          ],
          [
           "2017-10-12",
           "y"
          ],
          [
           "2017-10-12",
           "y"
          ],
          [
           "2017-10-12",
           "y"
          ],
          [
           "2017-10-13",
           "y"
          ],
          [
           "2017-10-14",
           "y"
          ],
          [
           "2017-10-15",
           "y"
          ],
          [
           "2017-10-16",
           "y"
          ],
          [
           "2017-10-16",
           "y"
          ],
          [
           "2017-10-17",
           "y"
          ],
          [
           "2017-10-18",
           "y"
          ],
          [
           "2017-10-19",
           "y"
          ],
          [
           "2017-10-20",
           "y"
          ],
          [
           "2017-10-21",
           "y"
          ],
          [
           "2017-10-22",
           "y"
          ],
          [
           "2017-10-23",
           "y"
          ],
          [
           "2017-10-24",
           "y"
          ],
          [
           "2017-10-25",
           "y"
          ],
          [
           "2017-10-26",
           "y"
          ],
          [
           "2017-10-27",
           "y"
          ],
          [
           "2017-10-28",
           "y"
          ],
          [
           "2017-10-29",
           "y"
          ],
          [
           "2017-10-30",
           "y"
          ],
          [
           "2017-10-30",
           "y"
          ],
          [
           "2017-10-30",
           "y"
          ],
          [
           "2017-10-30",
           "y"
          ],
          [
           "2017-10-30",
           "y"
          ],
          [
           "2017-10-30",
           "y"
          ],
          [
           "2017-10-31",
           "y"
          ],
          [
           "2017-11-01",
           "y"
          ],
          [
           "2017-11-02",
           "y"
          ],
          [
           "2017-11-03",
           "y"
          ],
          [
           "2017-11-04",
           "y"
          ],
          [
           "2017-11-05",
           "y"
          ],
          [
           "2017-11-06",
           "y"
          ],
          [
           "2017-11-07",
           "y"
          ],
          [
           "2017-11-08",
           "y"
          ],
          [
           "2017-11-09",
           "y"
          ],
          [
           "2017-11-09",
           "y"
          ],
          [
           "2017-11-09",
           "y"
          ],
          [
           "2017-11-09",
           "y"
          ],
          [
           "2017-11-09",
           "y"
          ],
          [
           "2017-11-09",
           "y"
          ],
          [
           "2017-11-10",
           "y"
          ],
          [
           "2017-11-10",
           "y"
          ],
          [
           "2017-11-11",
           "y"
          ],
          [
           "2017-11-12",
           "y"
          ],
          [
           "2017-11-13",
           "y"
          ],
          [
           "2017-11-14",
           "y"
          ],
          [
           "2017-11-15",
           "y"
          ],
          [
           "2017-11-16",
           "y"
          ],
          [
           "2017-11-16",
           "y"
          ],
          [
           "2017-11-17",
           "y"
          ],
          [
           "2017-11-18",
           "y"
          ],
          [
           "2017-11-19",
           "y"
          ],
          [
           "2017-11-20",
           "y"
          ],
          [
           "2017-11-21",
           "y"
          ],
          [
           "2017-11-22",
           "y"
          ],
          [
           "2017-11-23",
           "y"
          ],
          [
           "2017-11-24",
           "y"
          ],
          [
           "2017-11-24",
           "y"
          ],
          [
           "2017-11-24",
           "y"
          ],
          [
           "2017-11-24",
           "y"
          ],
          [
           "2017-11-24",
           "y"
          ],
          [
           "2017-11-24",
           "y"
          ],
          [
           "2017-11-25",
           "y"
          ],
          [
           "2017-11-26",
           "y"
          ],
          [
           "2017-11-27",
           "y"
          ],
          [
           "2017-11-27",
           "y"
          ],
          [
           "2017-11-28",
           "y"
          ],
          [
           "2017-11-29",
           "y"
          ],
          [
           "2017-11-29",
           "y"
          ],
          [
           "2017-11-30",
           "y"
          ],
          [
           "2017-12-01",
           "y"
          ],
          [
           "2017-12-02",
           "y"
          ],
          [
           "2017-12-03",
           "y"
          ],
          [
           "2017-12-04",
           "y"
          ],
          [
           "2017-12-05",
           "y"
          ],
          [
           "2017-12-06",
           "y"
          ],
          [
           "2017-12-06",
           "y"
          ],
          [
           "2017-12-07",
           "y"
          ],
          [
           "2017-12-08",
           "y"
          ],
          [
           "2017-12-09",
           "y"
          ],
          [
           "2017-12-10",
           "y"
          ],
          [
           "2017-12-11",
           "y"
          ],
          [
           "2017-12-12",
           "y"
          ],
          [
           "2017-12-13",
           "y"
          ],
          [
           "2017-12-14",
           "y"
          ],
          [
           "2017-12-15",
           "y"
          ],
          [
           "2017-12-16",
           "y"
          ],
          [
           "2017-12-17",
           "y"
          ],
          [
           "2017-12-18",
           "y"
          ],
          [
           "2017-12-19",
           "y"
          ],
          [
           "2017-12-20",
           "y"
          ],
          [
           "2017-12-20",
           "y"
          ],
          [
           "2017-12-20",
           "y"
          ],
          [
           "2017-12-21",
           "y"
          ],
          [
           "2017-12-22",
           "y"
          ],
          [
           "2017-12-22",
           "y"
          ],
          [
           "2017-12-22",
           "y"
          ],
          [
           "2017-12-22",
           "y"
          ],
          [
           "2017-12-22",
           "y"
          ],
          [
           "2017-12-22",
           "y"
          ],
          [
           "2017-12-23",
           "y"
          ],
          [
           "2017-12-24",
           "y"
          ],
          [
           "2017-12-25",
           "y"
          ],
          [
           "2017-12-26",
           "y"
          ],
          [
           "2017-12-27",
           "y"
          ],
          [
           "2017-12-28",
           "y"
          ],
          [
           "2017-12-29",
           "y"
          ],
          [
           "2017-12-30",
           "y"
          ],
          [
           "2017-12-31",
           "y"
          ]
         ],
         "hovertemplate": "%{customdata[0]} <br>%{customdata[1]}=%{z} <br>Week=%{x}",
         "name": "2017",
         "showscale": false,
         "type": "heatmap",
         "x": [
          0,
          1,
          1,
          1,
          1,
          1,
          1,
          1,
          2,
          2,
          2,
          2,
          2,
          2,
          2,
          3,
          3,
          3,
          3,
          3,
          3,
          3,
          3,
          3,
          3,
          3,
          3,
          3,
          3,
          3,
          3,
          3,
          3,
          3,
          3,
          4,
          4,
          4,
          4,
          4,
          4,
          4,
          4,
          5,
          5,
          5,
          5,
          5,
          5,
          5,
          5,
          5,
          6,
          6,
          6,
          6,
          6,
          6,
          6,
          6,
          7,
          7,
          7,
          7,
          7,
          7,
          7,
          7,
          8,
          8,
          8,
          8,
          8,
          8,
          8,
          8,
          8,
          9,
          9,
          9,
          9,
          9,
          9,
          9,
          9,
          9,
          9,
          10,
          10,
          10,
          10,
          10,
          10,
          10,
          11,
          11,
          11,
          11,
          11,
          11,
          11,
          11,
          11,
          11,
          11,
          11,
          11,
          12,
          12,
          12,
          12,
          12,
          12,
          12,
          12,
          12,
          12,
          12,
          12,
          12,
          12,
          12,
          13,
          13,
          13,
          13,
          13,
          13,
          13,
          13,
          13,
          13,
          13,
          13,
          13,
          13,
          14,
          14,
          14,
          14,
          14,
          14,
          14,
          14,
          14,
          15,
          15,
          15,
          15,
          15,
          15,
          15,
          16,
          16,
          16,
          16,
          16,
          16,
          16,
          16,
          16,
          16,
          16,
          16,
          16,
          16,
          16,
          16,
          16,
          16,
          16,
          16,
          16,
          16,
          16,
          16,
          17,
          17,
          17,
          17,
          17,
          17,
          17,
          17,
          18,
          18,
          18,
          18,
          18,
          18,
          18,
          18,
          18,
          18,
          19,
          19,
          19,
          19,
          19,
          19,
          19,
          20,
          20,
          20,
          20,
          20,
          20,
          20,
          20,
          20,
          20,
          20,
          21,
          21,
          21,
          21,
          21,
          21,
          21,
          21,
          21,
          21,
          22,
          22,
          22,
          22,
          22,
          22,
          22,
          22,
          22,
          22,
          23,
          23,
          23,
          23,
          23,
          23,
          23,
          24,
          24,
          24,
          24,
          24,
          24,
          24,
          24,
          24,
          24,
          24,
          24,
          24,
          24,
          24,
          25,
          25,
          25,
          25,
          25,
          25,
          25,
          26,
          26,
          26,
          26,
          26,
          26,
          26,
          27,
          27,
          27,
          27,
          27,
          27,
          27,
          27,
          28,
          28,
          28,
          28,
          28,
          28,
          28,
          28,
          28,
          28,
          29,
          29,
          29,
          29,
          29,
          29,
          29,
          29,
          29,
          29,
          29,
          30,
          30,
          30,
          30,
          30,
          30,
          30,
          30,
          30,
          30,
          30,
          30,
          30,
          30,
          30,
          30,
          30,
          31,
          31,
          31,
          31,
          31,
          31,
          31,
          31,
          31,
          31,
          32,
          32,
          32,
          32,
          32,
          32,
          32,
          32,
          32,
          33,
          33,
          33,
          33,
          33,
          33,
          33,
          33,
          33,
          33,
          33,
          33,
          33,
          33,
          34,
          34,
          34,
          34,
          34,
          34,
          34,
          34,
          34,
          34,
          34,
          34,
          35,
          35,
          35,
          35,
          35,
          35,
          35,
          35,
          35,
          35,
          35,
          35,
          36,
          36,
          36,
          36,
          36,
          36,
          36,
          36,
          36,
          36,
          36,
          36,
          37,
          37,
          37,
          37,
          37,
          37,
          37,
          37,
          38,
          38,
          38,
          38,
          38,
          38,
          38,
          39,
          39,
          39,
          39,
          39,
          39,
          39,
          39,
          40,
          40,
          40,
          40,
          40,
          40,
          40,
          40,
          40,
          40,
          40,
          40,
          40,
          41,
          41,
          41,
          41,
          41,
          41,
          41,
          41,
          41,
          41,
          41,
          41,
          42,
          42,
          42,
          42,
          42,
          42,
          42,
          42,
          43,
          43,
          43,
          43,
          43,
          43,
          43,
          44,
          44,
          44,
          44,
          44,
          44,
          44,
          44,
          44,
          44,
          44,
          44,
          45,
          45,
          45,
          45,
          45,
          45,
          45,
          45,
          45,
          45,
          45,
          45,
          45,
          46,
          46,
          46,
          46,
          46,
          46,
          46,
          46,
          47,
          47,
          47,
          47,
          47,
          47,
          47,
          47,
          47,
          47,
          47,
          47,
          48,
          48,
          48,
          48,
          48,
          48,
          48,
          48,
          48,
          49,
          49,
          49,
          49,
          49,
          49,
          49,
          49,
          50,
          50,
          50,
          50,
          50,
          50,
          50,
          51,
          51,
          51,
          51,
          51,
          51,
          51,
          51,
          51,
          51,
          51,
          51,
          51,
          51,
          52,
          52,
          52,
          52,
          52,
          52,
          52
         ],
         "xaxis": "x3",
         "xgap": 1,
         "y": [
          6,
          0,
          1,
          2,
          3,
          4,
          5,
          6,
          0,
          1,
          2,
          3,
          4,
          5,
          6,
          0,
          1,
          2,
          2,
          3,
          3,
          3,
          3,
          3,
          3,
          3,
          3,
          4,
          4,
          4,
          4,
          4,
          4,
          5,
          6,
          0,
          1,
          2,
          2,
          3,
          4,
          5,
          6,
          0,
          1,
          1,
          1,
          2,
          3,
          4,
          5,
          6,
          0,
          1,
          2,
          2,
          3,
          4,
          5,
          6,
          0,
          1,
          2,
          3,
          3,
          4,
          5,
          6,
          0,
          1,
          2,
          2,
          2,
          3,
          4,
          5,
          6,
          0,
          0,
          0,
          1,
          1,
          2,
          3,
          4,
          5,
          6,
          0,
          1,
          2,
          3,
          4,
          5,
          6,
          0,
          0,
          0,
          0,
          0,
          0,
          0,
          1,
          2,
          3,
          4,
          5,
          6,
          0,
          0,
          0,
          0,
          0,
          0,
          0,
          0,
          0,
          1,
          2,
          3,
          4,
          5,
          6,
          0,
          0,
          0,
          0,
          1,
          1,
          1,
          1,
          1,
          2,
          3,
          4,
          5,
          6,
          0,
          1,
          1,
          2,
          2,
          3,
          4,
          5,
          6,
          0,
          1,
          2,
          3,
          4,
          5,
          6,
          0,
          1,
          1,
          2,
          3,
          3,
          3,
          3,
          3,
          3,
          3,
          4,
          4,
          4,
          4,
          4,
          4,
          4,
          4,
          4,
          4,
          4,
          5,
          6,
          0,
          1,
          2,
          2,
          3,
          4,
          5,
          6,
          0,
          1,
          2,
          3,
          3,
          3,
          3,
          4,
          5,
          6,
          0,
          1,
          2,
          3,
          4,
          5,
          6,
          0,
          1,
          2,
          3,
          4,
          4,
          4,
          4,
          4,
          5,
          6,
          0,
          1,
          2,
          3,
          4,
          4,
          4,
          4,
          5,
          6,
          0,
          1,
          2,
          3,
          3,
          3,
          3,
          4,
          5,
          6,
          0,
          1,
          2,
          3,
          4,
          5,
          6,
          0,
          1,
          2,
          2,
          2,
          2,
          2,
          2,
          3,
          3,
          4,
          4,
          4,
          5,
          6,
          0,
          1,
          2,
          3,
          4,
          5,
          6,
          0,
          1,
          2,
          3,
          4,
          5,
          6,
          0,
          0,
          1,
          2,
          3,
          4,
          5,
          6,
          0,
          1,
          2,
          2,
          2,
          2,
          3,
          4,
          5,
          6,
          0,
          1,
          2,
          3,
          4,
          4,
          4,
          4,
          4,
          5,
          6,
          0,
          0,
          1,
          1,
          1,
          1,
          1,
          2,
          2,
          3,
          3,
          3,
          4,
          4,
          4,
          5,
          6,
          0,
          1,
          2,
          2,
          2,
          2,
          3,
          4,
          5,
          6,
          0,
          1,
          2,
          2,
          2,
          3,
          4,
          5,
          6,
          0,
          0,
          0,
          0,
          1,
          1,
          2,
          3,
          3,
          3,
          4,
          4,
          5,
          6,
          0,
          1,
          2,
          2,
          2,
          2,
          2,
          2,
          3,
          4,
          5,
          6,
          0,
          0,
          0,
          0,
          1,
          1,
          1,
          2,
          3,
          4,
          5,
          6,
          0,
          1,
          2,
          3,
          3,
          3,
          3,
          3,
          3,
          4,
          5,
          6,
          0,
          0,
          1,
          2,
          3,
          4,
          5,
          6,
          0,
          1,
          2,
          3,
          4,
          5,
          6,
          0,
          1,
          2,
          3,
          3,
          4,
          5,
          6,
          0,
          0,
          0,
          1,
          1,
          1,
          2,
          2,
          2,
          3,
          4,
          5,
          6,
          0,
          1,
          2,
          3,
          3,
          3,
          3,
          3,
          3,
          4,
          5,
          6,
          0,
          0,
          1,
          2,
          3,
          4,
          5,
          6,
          0,
          1,
          2,
          3,
          4,
          5,
          6,
          0,
          0,
          0,
          0,
          0,
          0,
          1,
          2,
          3,
          4,
          5,
          6,
          0,
          1,
          2,
          3,
          3,
          3,
          3,
          3,
          3,
          4,
          4,
          5,
          6,
          0,
          1,
          2,
          3,
          3,
          4,
          5,
          6,
          0,
          1,
          2,
          3,
          4,
          4,
          4,
          4,
          4,
          4,
          5,
          6,
          0,
          0,
          1,
          2,
          2,
          3,
          4,
          5,
          6,
          0,
          1,
          2,
          2,
          3,
          4,
          5,
          6,
          0,
          1,
          2,
          3,
          4,
          5,
          6,
          0,
          1,
          2,
          2,
          2,
          3,
          4,
          4,
          4,
          4,
          4,
          4,
          5,
          6,
          0,
          1,
          2,
          3,
          4,
          5,
          6
         ],
         "yaxis": "y3",
         "ygap": 1,
         "z": [
          0,
          0,
          0,
          0,
          0,
          0,
          0,
          0,
          0,
          7,
          1,
          0,
          0,
          0,
          0,
          0,
          31,
          1,
          2,
          2,
          29,
          4,
          2,
          23,
          1,
          1,
          14,
          1,
          1,
          4,
          1,
          1,
          1,
          0,
          0,
          1,
          0,
          1,
          2,
          5,
          0,
          0,
          0,
          0,
          3,
          2,
          2,
          1,
          0,
          0,
          0,
          0,
          1,
          0,
          1,
          15,
          0,
          1,
          0,
          0,
          0,
          0,
          1,
          1,
          1,
          3,
          0,
          0,
          1,
          3,
          1,
          1,
          2,
          0,
          0,
          0,
          0,
          2,
          1,
          1,
          1,
          1,
          0,
          1,
          1,
          0,
          0,
          0,
          7,
          0,
          11,
          0,
          0,
          0,
          1,
          1,
          2,
          1,
          2,
          2,
          1,
          0,
          0,
          0,
          0,
          0,
          0,
          1,
          1,
          1,
          2,
          4,
          1,
          3,
          2,
          2,
          0,
          0,
          0,
          0,
          0,
          0,
          1,
          1,
          7,
          2,
          1,
          2,
          2,
          1,
          2,
          0,
          0,
          0,
          0,
          0,
          0,
          1,
          2,
          4,
          9,
          0,
          0,
          0,
          0,
          0,
          0,
          1,
          0,
          0,
          0,
          0,
          19,
          1,
          15,
          0,
          1,
          1,
          12,
          10,
          1,
          1,
          2,
          6,
          7,
          1,
          5,
          1,
          1,
          1,
          1,
          1,
          1,
          1,
          0,
          0,
          0,
          0,
          12,
          2,
          0,
          3,
          0,
          0,
          0,
          0,
          1,
          1,
          1,
          1,
          2,
          1,
          0,
          0,
          0,
          0,
          0,
          0,
          14,
          0,
          0,
          0,
          0,
          0,
          0,
          2,
          23,
          17,
          1,
          12,
          0,
          0,
          1,
          0,
          1,
          17,
          1,
          23,
          33,
          2,
          0,
          0,
          0,
          0,
          1,
          8,
          4,
          6,
          11,
          0,
          0,
          0,
          0,
          0,
          6,
          8,
          1,
          0,
          0,
          0,
          0,
          19,
          8,
          8,
          1,
          1,
          1,
          18,
          1,
          17,
          17,
          1,
          0,
          0,
          4,
          0,
          0,
          0,
          0,
          0,
          0,
          0,
          0,
          0,
          0,
          0,
          0,
          0,
          3,
          5,
          4,
          0,
          0,
          0,
          0,
          0,
          0,
          0,
          3,
          18,
          2,
          8,
          0,
          0,
          0,
          0,
          0,
          0,
          0,
          0,
          2,
          2,
          6,
          8,
          7,
          0,
          0,
          2,
          3,
          3,
          3,
          4,
          4,
          1,
          3,
          5,
          3,
          2,
          4,
          2,
          1,
          2,
          0,
          0,
          0,
          0,
          1,
          1,
          1,
          1,
          0,
          1,
          0,
          0,
          0,
          1,
          2,
          3,
          1,
          2,
          0,
          0,
          0,
          1,
          2,
          2,
          5,
          7,
          1,
          0,
          2,
          1,
          23,
          16,
          1,
          0,
          0,
          0,
          2,
          11,
          1,
          2,
          3,
          1,
          3,
          0,
          0,
          0,
          0,
          1,
          2,
          1,
          29,
          1,
          1,
          1,
          0,
          0,
          0,
          0,
          0,
          0,
          0,
          7,
          5,
          2,
          2,
          2,
          3,
          7,
          0,
          0,
          0,
          3,
          5,
          1,
          0,
          0,
          0,
          0,
          0,
          0,
          0,
          0,
          0,
          0,
          0,
          0,
          0,
          0,
          1,
          10,
          17,
          0,
          0,
          0,
          1,
          2,
          3,
          1,
          1,
          4,
          3,
          3,
          5,
          1,
          1,
          0,
          0,
          2,
          20,
          0,
          2,
          6,
          4,
          2,
          5,
          3,
          0,
          0,
          0,
          2,
          1,
          0,
          0,
          0,
          0,
          0,
          0,
          0,
          0,
          0,
          0,
          0,
          0,
          0,
          1,
          5,
          1,
          1,
          19,
          1,
          0,
          0,
          0,
          0,
          0,
          0,
          0,
          0,
          0,
          1,
          1,
          3,
          2,
          1,
          25,
          2,
          3,
          0,
          0,
          0,
          1,
          2,
          3,
          4,
          0,
          0,
          0,
          12,
          2,
          0,
          0,
          5,
          1,
          1,
          3,
          2,
          14,
          0,
          0,
          19,
          1,
          0,
          1,
          6,
          0,
          0,
          0,
          0,
          0,
          0,
          1,
          2,
          0,
          0,
          0,
          0,
          0,
          15,
          0,
          2,
          0,
          0,
          0,
          0,
          0,
          1,
          1,
          8,
          0,
          14,
          4,
          2,
          4,
          2,
          1,
          0,
          0,
          0,
          0,
          0,
          0,
          0,
          0,
          0
         ],
         "zmax": 61,
         "zmin": 0
        },
        {
         "hoverinfo": "skip",
         "line": {
          "color": "#9e9e9e",
          "width": 1
         },
         "mode": "lines",
         "type": "scatter",
         "x": [
          -0.5,
          -0.5
         ],
         "xaxis": "x3",
         "y": [
          5.5,
          6.5
         ],
         "yaxis": "y3"
        },
        {
         "hoverinfo": "skip",
         "line": {
          "color": "#9e9e9e",
          "width": 1
         },
         "mode": "lines",
         "type": "scatter",
         "x": [
          -0.5,
          0.5
         ],
         "xaxis": "x3",
         "y": [
          5.5,
          5.5
         ],
         "yaxis": "y3"
        },
        {
         "hoverinfo": "skip",
         "line": {
          "color": "#9e9e9e",
          "width": 1
         },
         "mode": "lines",
         "type": "scatter",
         "x": [
          0.5,
          0.5
         ],
         "xaxis": "x3",
         "y": [
          5.5,
          -0.5
         ],
         "yaxis": "y3"
        },
        {
         "hoverinfo": "skip",
         "line": {
          "color": "#9e9e9e",
          "width": 1
         },
         "mode": "lines",
         "type": "scatter",
         "x": [
          4.5,
          4.5
         ],
         "xaxis": "x3",
         "y": [
          1.5,
          6.5
         ],
         "yaxis": "y3"
        },
        {
         "hoverinfo": "skip",
         "line": {
          "color": "#9e9e9e",
          "width": 1
         },
         "mode": "lines",
         "type": "scatter",
         "x": [
          4.5,
          5.5
         ],
         "xaxis": "x3",
         "y": [
          1.5,
          1.5
         ],
         "yaxis": "y3"
        },
        {
         "hoverinfo": "skip",
         "line": {
          "color": "#9e9e9e",
          "width": 1
         },
         "mode": "lines",
         "type": "scatter",
         "x": [
          5.5,
          5.5
         ],
         "xaxis": "x3",
         "y": [
          1.5,
          -0.5
         ],
         "yaxis": "y3"
        },
        {
         "hoverinfo": "skip",
         "line": {
          "color": "#9e9e9e",
          "width": 1
         },
         "mode": "lines",
         "type": "scatter",
         "x": [
          8.5,
          8.5
         ],
         "xaxis": "x3",
         "y": [
          1.5,
          6.5
         ],
         "yaxis": "y3"
        },
        {
         "hoverinfo": "skip",
         "line": {
          "color": "#9e9e9e",
          "width": 1
         },
         "mode": "lines",
         "type": "scatter",
         "x": [
          8.5,
          9.5
         ],
         "xaxis": "x3",
         "y": [
          1.5,
          1.5
         ],
         "yaxis": "y3"
        },
        {
         "hoverinfo": "skip",
         "line": {
          "color": "#9e9e9e",
          "width": 1
         },
         "mode": "lines",
         "type": "scatter",
         "x": [
          9.5,
          9.5
         ],
         "xaxis": "x3",
         "y": [
          1.5,
          -0.5
         ],
         "yaxis": "y3"
        },
        {
         "hoverinfo": "skip",
         "line": {
          "color": "#9e9e9e",
          "width": 1
         },
         "mode": "lines",
         "type": "scatter",
         "x": [
          12.5,
          12.5
         ],
         "xaxis": "x3",
         "y": [
          4.5,
          6.5
         ],
         "yaxis": "y3"
        },
        {
         "hoverinfo": "skip",
         "line": {
          "color": "#9e9e9e",
          "width": 1
         },
         "mode": "lines",
         "type": "scatter",
         "x": [
          12.5,
          13.5
         ],
         "xaxis": "x3",
         "y": [
          4.5,
          4.5
         ],
         "yaxis": "y3"
        },
        {
         "hoverinfo": "skip",
         "line": {
          "color": "#9e9e9e",
          "width": 1
         },
         "mode": "lines",
         "type": "scatter",
         "x": [
          13.5,
          13.5
         ],
         "xaxis": "x3",
         "y": [
          4.5,
          -0.5
         ],
         "yaxis": "y3"
        },
        {
         "hoverinfo": "skip",
         "line": {
          "color": "#9e9e9e",
          "width": 1
         },
         "mode": "lines",
         "type": "scatter",
         "x": [
          17.5,
          17.5
         ],
         "xaxis": "x3",
         "y": [
          -0.5,
          6.5
         ],
         "yaxis": "y3"
        },
        {
         "hoverinfo": "skip",
         "line": {
          "color": "#9e9e9e",
          "width": 1
         },
         "mode": "lines",
         "type": "scatter",
         "x": [
          21.5,
          21.5
         ],
         "xaxis": "x3",
         "y": [
          2.5,
          6.5
         ],
         "yaxis": "y3"
        },
        {
         "hoverinfo": "skip",
         "line": {
          "color": "#9e9e9e",
          "width": 1
         },
         "mode": "lines",
         "type": "scatter",
         "x": [
          21.5,
          22.5
         ],
         "xaxis": "x3",
         "y": [
          2.5,
          2.5
         ],
         "yaxis": "y3"
        },
        {
         "hoverinfo": "skip",
         "line": {
          "color": "#9e9e9e",
          "width": 1
         },
         "mode": "lines",
         "type": "scatter",
         "x": [
          22.5,
          22.5
         ],
         "xaxis": "x3",
         "y": [
          2.5,
          -0.5
         ],
         "yaxis": "y3"
        },
        {
         "hoverinfo": "skip",
         "line": {
          "color": "#9e9e9e",
          "width": 1
         },
         "mode": "lines",
         "type": "scatter",
         "x": [
          21.5,
          21.5
         ],
         "xaxis": "x3",
         "y": [
          2.5,
          6.5
         ],
         "yaxis": "y3"
        },
        {
         "hoverinfo": "skip",
         "line": {
          "color": "#9e9e9e",
          "width": 1
         },
         "mode": "lines",
         "type": "scatter",
         "x": [
          21.5,
          22.5
         ],
         "xaxis": "x3",
         "y": [
          2.5,
          2.5
         ],
         "yaxis": "y3"
        },
        {
         "hoverinfo": "skip",
         "line": {
          "color": "#9e9e9e",
          "width": 1
         },
         "mode": "lines",
         "type": "scatter",
         "x": [
          22.5,
          22.5
         ],
         "xaxis": "x3",
         "y": [
          2.5,
          -0.5
         ],
         "yaxis": "y3"
        },
        {
         "hoverinfo": "skip",
         "line": {
          "color": "#9e9e9e",
          "width": 1
         },
         "mode": "lines",
         "type": "scatter",
         "x": [
          21.5,
          21.5
         ],
         "xaxis": "x3",
         "y": [
          2.5,
          6.5
         ],
         "yaxis": "y3"
        },
        {
         "hoverinfo": "skip",
         "line": {
          "color": "#9e9e9e",
          "width": 1
         },
         "mode": "lines",
         "type": "scatter",
         "x": [
          21.5,
          22.5
         ],
         "xaxis": "x3",
         "y": [
          2.5,
          2.5
         ],
         "yaxis": "y3"
        },
        {
         "hoverinfo": "skip",
         "line": {
          "color": "#9e9e9e",
          "width": 1
         },
         "mode": "lines",
         "type": "scatter",
         "x": [
          22.5,
          22.5
         ],
         "xaxis": "x3",
         "y": [
          2.5,
          -0.5
         ],
         "yaxis": "y3"
        },
        {
         "hoverinfo": "skip",
         "line": {
          "color": "#9e9e9e",
          "width": 1
         },
         "mode": "lines",
         "type": "scatter",
         "x": [
          21.5,
          21.5
         ],
         "xaxis": "x3",
         "y": [
          2.5,
          6.5
         ],
         "yaxis": "y3"
        },
        {
         "hoverinfo": "skip",
         "line": {
          "color": "#9e9e9e",
          "width": 1
         },
         "mode": "lines",
         "type": "scatter",
         "x": [
          21.5,
          22.5
         ],
         "xaxis": "x3",
         "y": [
          2.5,
          2.5
         ],
         "yaxis": "y3"
        },
        {
         "hoverinfo": "skip",
         "line": {
          "color": "#9e9e9e",
          "width": 1
         },
         "mode": "lines",
         "type": "scatter",
         "x": [
          22.5,
          22.5
         ],
         "xaxis": "x3",
         "y": [
          2.5,
          -0.5
         ],
         "yaxis": "y3"
        },
        {
         "hoverinfo": "skip",
         "line": {
          "color": "#9e9e9e",
          "width": 1
         },
         "mode": "lines",
         "type": "scatter",
         "x": [
          25.5,
          25.5
         ],
         "xaxis": "x3",
         "y": [
          4.5,
          6.5
         ],
         "yaxis": "y3"
        },
        {
         "hoverinfo": "skip",
         "line": {
          "color": "#9e9e9e",
          "width": 1
         },
         "mode": "lines",
         "type": "scatter",
         "x": [
          25.5,
          26.5
         ],
         "xaxis": "x3",
         "y": [
          4.5,
          4.5
         ],
         "yaxis": "y3"
        },
        {
         "hoverinfo": "skip",
         "line": {
          "color": "#9e9e9e",
          "width": 1
         },
         "mode": "lines",
         "type": "scatter",
         "x": [
          26.5,
          26.5
         ],
         "xaxis": "x3",
         "y": [
          4.5,
          -0.5
         ],
         "yaxis": "y3"
        },
        {
         "hoverinfo": "skip",
         "line": {
          "color": "#9e9e9e",
          "width": 1
         },
         "mode": "lines",
         "type": "scatter",
         "x": [
          30.5,
          30.5
         ],
         "xaxis": "x3",
         "y": [
          0.5,
          6.5
         ],
         "yaxis": "y3"
        },
        {
         "hoverinfo": "skip",
         "line": {
          "color": "#9e9e9e",
          "width": 1
         },
         "mode": "lines",
         "type": "scatter",
         "x": [
          30.5,
          31.5
         ],
         "xaxis": "x3",
         "y": [
          0.5,
          0.5
         ],
         "yaxis": "y3"
        },
        {
         "hoverinfo": "skip",
         "line": {
          "color": "#9e9e9e",
          "width": 1
         },
         "mode": "lines",
         "type": "scatter",
         "x": [
          31.5,
          31.5
         ],
         "xaxis": "x3",
         "y": [
          0.5,
          -0.5
         ],
         "yaxis": "y3"
        },
        {
         "hoverinfo": "skip",
         "line": {
          "color": "#9e9e9e",
          "width": 1
         },
         "mode": "lines",
         "type": "scatter",
         "x": [
          34.5,
          34.5
         ],
         "xaxis": "x3",
         "y": [
          3.5,
          6.5
         ],
         "yaxis": "y3"
        },
        {
         "hoverinfo": "skip",
         "line": {
          "color": "#9e9e9e",
          "width": 1
         },
         "mode": "lines",
         "type": "scatter",
         "x": [
          34.5,
          35.5
         ],
         "xaxis": "x3",
         "y": [
          3.5,
          3.5
         ],
         "yaxis": "y3"
        },
        {
         "hoverinfo": "skip",
         "line": {
          "color": "#9e9e9e",
          "width": 1
         },
         "mode": "lines",
         "type": "scatter",
         "x": [
          35.5,
          35.5
         ],
         "xaxis": "x3",
         "y": [
          3.5,
          -0.5
         ],
         "yaxis": "y3"
        },
        {
         "hoverinfo": "skip",
         "line": {
          "color": "#9e9e9e",
          "width": 1
         },
         "mode": "lines",
         "type": "scatter",
         "x": [
          38.5,
          38.5
         ],
         "xaxis": "x3",
         "y": [
          5.5,
          6.5
         ],
         "yaxis": "y3"
        },
        {
         "hoverinfo": "skip",
         "line": {
          "color": "#9e9e9e",
          "width": 1
         },
         "mode": "lines",
         "type": "scatter",
         "x": [
          38.5,
          39.5
         ],
         "xaxis": "x3",
         "y": [
          5.5,
          5.5
         ],
         "yaxis": "y3"
        },
        {
         "hoverinfo": "skip",
         "line": {
          "color": "#9e9e9e",
          "width": 1
         },
         "mode": "lines",
         "type": "scatter",
         "x": [
          39.5,
          39.5
         ],
         "xaxis": "x3",
         "y": [
          5.5,
          -0.5
         ],
         "yaxis": "y3"
        },
        {
         "hoverinfo": "skip",
         "line": {
          "color": "#9e9e9e",
          "width": 1
         },
         "mode": "lines",
         "type": "scatter",
         "x": [
          43.5,
          43.5
         ],
         "xaxis": "x3",
         "y": [
          1.5,
          6.5
         ],
         "yaxis": "y3"
        },
        {
         "hoverinfo": "skip",
         "line": {
          "color": "#9e9e9e",
          "width": 1
         },
         "mode": "lines",
         "type": "scatter",
         "x": [
          43.5,
          44.5
         ],
         "xaxis": "x3",
         "y": [
          1.5,
          1.5
         ],
         "yaxis": "y3"
        },
        {
         "hoverinfo": "skip",
         "line": {
          "color": "#9e9e9e",
          "width": 1
         },
         "mode": "lines",
         "type": "scatter",
         "x": [
          44.5,
          44.5
         ],
         "xaxis": "x3",
         "y": [
          1.5,
          -0.5
         ],
         "yaxis": "y3"
        },
        {
         "hoverinfo": "skip",
         "line": {
          "color": "#9e9e9e",
          "width": 1
         },
         "mode": "lines",
         "type": "scatter",
         "x": [
          47.5,
          47.5
         ],
         "xaxis": "x3",
         "y": [
          3.5,
          6.5
         ],
         "yaxis": "y3"
        },
        {
         "hoverinfo": "skip",
         "line": {
          "color": "#9e9e9e",
          "width": 1
         },
         "mode": "lines",
         "type": "scatter",
         "x": [
          47.5,
          48.5
         ],
         "xaxis": "x3",
         "y": [
          3.5,
          3.5
         ],
         "yaxis": "y3"
        },
        {
         "hoverinfo": "skip",
         "line": {
          "color": "#9e9e9e",
          "width": 1
         },
         "mode": "lines",
         "type": "scatter",
         "x": [
          48.5,
          48.5
         ],
         "xaxis": "x3",
         "y": [
          3.5,
          -0.5
         ],
         "yaxis": "y3"
        },
        {
         "colorscale": [
          [
           0,
           "rgb(247,252,245)"
          ],
          [
           0.125,
           "rgb(229,245,224)"
          ],
          [
           0.25,
           "rgb(199,233,192)"
          ],
          [
           0.375,
           "rgb(161,217,155)"
          ],
          [
           0.5,
           "rgb(116,196,118)"
          ],
          [
           0.625,
           "rgb(65,171,93)"
          ],
          [
           0.75,
           "rgb(35,139,69)"
          ],
          [
           0.875,
           "rgb(0,109,44)"
          ],
          [
           1,
           "rgb(0,68,27)"
          ]
         ],
         "customdata": [
          [
           "2018-01-01",
           "y"
          ],
          [
           "2018-01-02",
           "y"
          ],
          [
           "2018-01-03",
           "y"
          ],
          [
           "2018-01-04",
           "y"
          ],
          [
           "2018-01-05",
           "y"
          ],
          [
           "2018-01-06",
           "y"
          ],
          [
           "2018-01-07",
           "y"
          ],
          [
           "2018-01-08",
           "y"
          ],
          [
           "2018-01-09",
           "y"
          ],
          [
           "2018-01-09",
           "y"
          ],
          [
           "2018-01-10",
           "y"
          ],
          [
           "2018-01-10",
           "y"
          ],
          [
           "2018-01-10",
           "y"
          ],
          [
           "2018-01-10",
           "y"
          ],
          [
           "2018-01-10",
           "y"
          ],
          [
           "2018-01-10",
           "y"
          ],
          [
           "2018-01-10",
           "y"
          ],
          [
           "2018-01-11",
           "y"
          ],
          [
           "2018-01-11",
           "y"
          ],
          [
           "2018-01-11",
           "y"
          ],
          [
           "2018-01-11",
           "y"
          ],
          [
           "2018-01-12",
           "y"
          ],
          [
           "2018-01-12",
           "y"
          ],
          [
           "2018-01-13",
           "y"
          ],
          [
           "2018-01-14",
           "y"
          ],
          [
           "2018-01-15",
           "y"
          ],
          [
           "2018-01-15",
           "y"
          ],
          [
           "2018-01-15",
           "y"
          ],
          [
           "2018-01-15",
           "y"
          ],
          [
           "2018-01-15",
           "y"
          ],
          [
           "2018-01-15",
           "y"
          ],
          [
           "2018-01-15",
           "y"
          ],
          [
           "2018-01-15",
           "y"
          ],
          [
           "2018-01-15",
           "y"
          ],
          [
           "2018-01-15",
           "y"
          ],
          [
           "2018-01-15",
           "y"
          ],
          [
           "2018-01-15",
           "y"
          ],
          [
           "2018-01-15",
           "y"
          ],
          [
           "2018-01-16",
           "y"
          ],
          [
           "2018-01-16",
           "y"
          ],
          [
           "2018-01-16",
           "y"
          ],
          [
           "2018-01-16",
           "y"
          ],
          [
           "2018-01-16",
           "y"
          ],
          [
           "2018-01-17",
           "y"
          ],
          [
           "2018-01-18",
           "y"
          ],
          [
           "2018-01-18",
           "y"
          ],
          [
           "2018-01-18",
           "y"
          ],
          [
           "2018-01-18",
           "y"
          ],
          [
           "2018-01-18",
           "y"
          ],
          [
           "2018-01-18",
           "y"
          ],
          [
           "2018-01-19",
           "y"
          ],
          [
           "2018-01-19",
           "y"
          ],
          [
           "2018-01-19",
           "y"
          ],
          [
           "2018-01-19",
           "y"
          ],
          [
           "2018-01-19",
           "y"
          ],
          [
           "2018-01-19",
           "y"
          ],
          [
           "2018-01-20",
           "y"
          ],
          [
           "2018-01-21",
           "y"
          ],
          [
           "2018-01-22",
           "y"
          ],
          [
           "2018-01-23",
           "y"
          ],
          [
           "2018-01-24",
           "y"
          ],
          [
           "2018-01-25",
           "y"
          ],
          [
           "2018-01-25",
           "y"
          ],
          [
           "2018-01-25",
           "y"
          ],
          [
           "2018-01-26",
           "y"
          ],
          [
           "2018-01-26",
           "y"
          ],
          [
           "2018-01-26",
           "y"
          ],
          [
           "2018-01-26",
           "y"
          ],
          [
           "2018-01-26",
           "y"
          ],
          [
           "2018-01-27",
           "y"
          ],
          [
           "2018-01-28",
           "y"
          ],
          [
           "2018-01-29",
           "y"
          ],
          [
           "2018-01-30",
           "y"
          ],
          [
           "2018-01-31",
           "y"
          ],
          [
           "2018-02-01",
           "y"
          ],
          [
           "2018-02-01",
           "y"
          ],
          [
           "2018-02-01",
           "y"
          ],
          [
           "2018-02-01",
           "y"
          ],
          [
           "2018-02-02",
           "y"
          ],
          [
           "2018-02-03",
           "y"
          ],
          [
           "2018-02-04",
           "y"
          ],
          [
           "2018-02-05",
           "y"
          ],
          [
           "2018-02-06",
           "y"
          ],
          [
           "2018-02-06",
           "y"
          ],
          [
           "2018-02-07",
           "y"
          ],
          [
           "2018-02-08",
           "y"
          ],
          [
           "2018-02-09",
           "y"
          ],
          [
           "2018-02-10",
           "y"
          ],
          [
           "2018-02-11",
           "y"
          ],
          [
           "2018-02-12",
           "y"
          ],
          [
           "2018-02-13",
           "y"
          ],
          [
           "2018-02-13",
           "y"
          ],
          [
           "2018-02-13",
           "y"
          ],
          [
           "2018-02-13",
           "y"
          ],
          [
           "2018-02-13",
           "y"
          ],
          [
           "2018-02-14",
           "y"
          ],
          [
           "2018-02-15",
           "y"
          ],
          [
           "2018-02-16",
           "y"
          ],
          [
           "2018-02-17",
           "y"
          ],
          [
           "2018-02-18",
           "y"
          ],
          [
           "2018-02-19",
           "y"
          ],
          [
           "2018-02-20",
           "y"
          ],
          [
           "2018-02-21",
           "y"
          ],
          [
           "2018-02-21",
           "y"
          ],
          [
           "2018-02-21",
           "y"
          ],
          [
           "2018-02-22",
           "y"
          ],
          [
           "2018-02-23",
           "y"
          ],
          [
           "2018-02-24",
           "y"
          ],
          [
           "2018-02-25",
           "y"
          ],
          [
           "2018-02-26",
           "y"
          ],
          [
           "2018-02-26",
           "y"
          ],
          [
           "2018-02-26",
           "y"
          ],
          [
           "2018-02-26",
           "y"
          ],
          [
           "2018-02-26",
           "y"
          ],
          [
           "2018-02-26",
           "y"
          ],
          [
           "2018-02-27",
           "y"
          ],
          [
           "2018-02-28",
           "y"
          ],
          [
           "2018-03-01",
           "y"
          ],
          [
           "2018-03-02",
           "y"
          ],
          [
           "2018-03-03",
           "y"
          ],
          [
           "2018-03-04",
           "y"
          ],
          [
           "2018-03-05",
           "y"
          ],
          [
           "2018-03-05",
           "y"
          ],
          [
           "2018-03-06",
           "y"
          ],
          [
           "2018-03-07",
           "y"
          ],
          [
           "2018-03-08",
           "y"
          ],
          [
           "2018-03-09",
           "y"
          ],
          [
           "2018-03-10",
           "y"
          ],
          [
           "2018-03-11",
           "y"
          ],
          [
           "2018-03-12",
           "y"
          ],
          [
           "2018-03-13",
           "y"
          ],
          [
           "2018-03-14",
           "y"
          ],
          [
           "2018-03-15",
           "y"
          ],
          [
           "2018-03-16",
           "y"
          ],
          [
           "2018-03-17",
           "y"
          ],
          [
           "2018-03-18",
           "y"
          ],
          [
           "2018-03-19",
           "y"
          ],
          [
           "2018-03-20",
           "y"
          ],
          [
           "2018-03-20",
           "y"
          ],
          [
           "2018-03-21",
           "y"
          ],
          [
           "2018-03-22",
           "y"
          ],
          [
           "2018-03-23",
           "y"
          ],
          [
           "2018-03-24",
           "y"
          ],
          [
           "2018-03-25",
           "y"
          ],
          [
           "2018-03-26",
           "y"
          ],
          [
           "2018-03-26",
           "y"
          ],
          [
           "2018-03-27",
           "y"
          ],
          [
           "2018-03-28",
           "y"
          ],
          [
           "2018-03-29",
           "y"
          ],
          [
           "2018-03-29",
           "y"
          ],
          [
           "2018-03-29",
           "y"
          ],
          [
           "2018-03-30",
           "y"
          ],
          [
           "2018-03-31",
           "y"
          ],
          [
           "2018-04-01",
           "y"
          ],
          [
           "2018-04-02",
           "y"
          ],
          [
           "2018-04-03",
           "y"
          ],
          [
           "2018-04-04",
           "y"
          ],
          [
           "2018-04-05",
           "y"
          ],
          [
           "2018-04-05",
           "y"
          ],
          [
           "2018-04-05",
           "y"
          ],
          [
           "2018-04-05",
           "y"
          ],
          [
           "2018-04-05",
           "y"
          ],
          [
           "2018-04-05",
           "y"
          ],
          [
           "2018-04-05",
           "y"
          ],
          [
           "2018-04-06",
           "y"
          ],
          [
           "2018-04-07",
           "y"
          ],
          [
           "2018-04-08",
           "y"
          ],
          [
           "2018-04-09",
           "y"
          ],
          [
           "2018-04-09",
           "y"
          ],
          [
           "2018-04-09",
           "y"
          ],
          [
           "2018-04-09",
           "y"
          ],
          [
           "2018-04-10",
           "y"
          ],
          [
           "2018-04-10",
           "y"
          ],
          [
           "2018-04-11",
           "y"
          ],
          [
           "2018-04-12",
           "y"
          ],
          [
           "2018-04-13",
           "y"
          ],
          [
           "2018-04-13",
           "y"
          ],
          [
           "2018-04-13",
           "y"
          ],
          [
           "2018-04-13",
           "y"
          ],
          [
           "2018-04-13",
           "y"
          ],
          [
           "2018-04-13",
           "y"
          ],
          [
           "2018-04-13",
           "y"
          ],
          [
           "2018-04-14",
           "y"
          ],
          [
           "2018-04-15",
           "y"
          ],
          [
           "2018-04-16",
           "y"
          ],
          [
           "2018-04-17",
           "y"
          ],
          [
           "2018-04-18",
           "y"
          ],
          [
           "2018-04-19",
           "y"
          ],
          [
           "2018-04-20",
           "y"
          ],
          [
           "2018-04-21",
           "y"
          ],
          [
           "2018-04-22",
           "y"
          ],
          [
           "2018-04-23",
           "y"
          ],
          [
           "2018-04-24",
           "y"
          ],
          [
           "2018-04-25",
           "y"
          ],
          [
           "2018-04-25",
           "y"
          ],
          [
           "2018-04-25",
           "y"
          ],
          [
           "2018-04-25",
           "y"
          ],
          [
           "2018-04-25",
           "y"
          ],
          [
           "2018-04-26",
           "y"
          ],
          [
           "2018-04-26",
           "y"
          ],
          [
           "2018-04-27",
           "y"
          ],
          [
           "2018-04-28",
           "y"
          ],
          [
           "2018-04-29",
           "y"
          ],
          [
           "2018-04-30",
           "y"
          ],
          [
           "2018-05-01",
           "y"
          ],
          [
           "2018-05-02",
           "y"
          ],
          [
           "2018-05-03",
           "y"
          ],
          [
           "2018-05-03",
           "y"
          ],
          [
           "2018-05-03",
           "y"
          ],
          [
           "2018-05-03",
           "y"
          ],
          [
           "2018-05-03",
           "y"
          ],
          [
           "2018-05-03",
           "y"
          ],
          [
           "2018-05-03",
           "y"
          ],
          [
           "2018-05-03",
           "y"
          ],
          [
           "2018-05-03",
           "y"
          ],
          [
           "2018-05-04",
           "y"
          ],
          [
           "2018-05-05",
           "y"
          ],
          [
           "2018-05-06",
           "y"
          ],
          [
           "2018-05-07",
           "y"
          ],
          [
           "2018-05-08",
           "y"
          ],
          [
           "2018-05-08",
           "y"
          ],
          [
           "2018-05-08",
           "y"
          ],
          [
           "2018-05-08",
           "y"
          ],
          [
           "2018-05-08",
           "y"
          ],
          [
           "2018-05-08",
           "y"
          ],
          [
           "2018-05-08",
           "y"
          ],
          [
           "2018-05-08",
           "y"
          ],
          [
           "2018-05-08",
           "y"
          ],
          [
           "2018-05-08",
           "y"
          ],
          [
           "2018-05-08",
           "y"
          ],
          [
           "2018-05-09",
           "y"
          ],
          [
           "2018-05-10",
           "y"
          ],
          [
           "2018-05-11",
           "y"
          ],
          [
           "2018-05-12",
           "y"
          ],
          [
           "2018-05-13",
           "y"
          ],
          [
           "2018-05-14",
           "y"
          ],
          [
           "2018-05-15",
           "y"
          ],
          [
           "2018-05-16",
           "y"
          ],
          [
           "2018-05-17",
           "y"
          ],
          [
           "2018-05-18",
           "y"
          ],
          [
           "2018-05-19",
           "y"
          ],
          [
           "2018-05-20",
           "y"
          ],
          [
           "2018-05-21",
           "y"
          ],
          [
           "2018-05-21",
           "y"
          ],
          [
           "2018-05-22",
           "y"
          ],
          [
           "2018-05-23",
           "y"
          ],
          [
           "2018-05-24",
           "y"
          ],
          [
           "2018-05-25",
           "y"
          ],
          [
           "2018-05-26",
           "y"
          ],
          [
           "2018-05-27",
           "y"
          ],
          [
           "2018-05-28",
           "y"
          ],
          [
           "2018-05-29",
           "y"
          ],
          [
           "2018-05-30",
           "y"
          ],
          [
           "2018-05-31",
           "y"
          ],
          [
           "2018-06-01",
           "y"
          ],
          [
           "2018-06-02",
           "y"
          ],
          [
           "2018-06-03",
           "y"
          ],
          [
           "2018-06-04",
           "y"
          ],
          [
           "2018-06-05",
           "y"
          ],
          [
           "2018-06-06",
           "y"
          ],
          [
           "2018-06-07",
           "y"
          ],
          [
           "2018-06-08",
           "y"
          ],
          [
           "2018-06-09",
           "y"
          ],
          [
           "2018-06-10",
           "y"
          ],
          [
           "2018-06-11",
           "y"
          ],
          [
           "2018-06-11",
           "y"
          ],
          [
           "2018-06-12",
           "y"
          ],
          [
           "2018-06-12",
           "y"
          ],
          [
           "2018-06-12",
           "y"
          ],
          [
           "2018-06-12",
           "y"
          ],
          [
           "2018-06-12",
           "y"
          ],
          [
           "2018-06-12",
           "y"
          ],
          [
           "2018-06-12",
           "y"
          ],
          [
           "2018-06-12",
           "y"
          ],
          [
           "2018-06-12",
           "y"
          ],
          [
           "2018-06-12",
           "y"
          ],
          [
           "2018-06-12",
           "y"
          ],
          [
           "2018-06-12",
           "y"
          ],
          [
           "2018-06-12",
           "y"
          ],
          [
           "2018-06-12",
           "y"
          ],
          [
           "2018-06-13",
           "y"
          ],
          [
           "2018-06-13",
           "y"
          ],
          [
           "2018-06-13",
           "y"
          ],
          [
           "2018-06-13",
           "y"
          ],
          [
           "2018-06-13",
           "y"
          ],
          [
           "2018-06-14",
           "y"
          ],
          [
           "2018-06-15",
           "y"
          ],
          [
           "2018-06-16",
           "y"
          ],
          [
           "2018-06-17",
           "y"
          ],
          [
           "2018-06-18",
           "y"
          ],
          [
           "2018-06-19",
           "y"
          ],
          [
           "2018-06-20",
           "y"
          ],
          [
           "2018-06-21",
           "y"
          ],
          [
           "2018-06-22",
           "y"
          ],
          [
           "2018-06-23",
           "y"
          ],
          [
           "2018-06-24",
           "y"
          ],
          [
           "2018-06-25",
           "y"
          ],
          [
           "2018-06-26",
           "y"
          ],
          [
           "2018-06-27",
           "y"
          ],
          [
           "2018-06-27",
           "y"
          ],
          [
           "2018-06-27",
           "y"
          ],
          [
           "2018-06-27",
           "y"
          ],
          [
           "2018-06-27",
           "y"
          ],
          [
           "2018-06-27",
           "y"
          ],
          [
           "2018-06-27",
           "y"
          ],
          [
           "2018-06-28",
           "y"
          ],
          [
           "2018-06-28",
           "y"
          ],
          [
           "2018-06-28",
           "y"
          ],
          [
           "2018-06-29",
           "y"
          ],
          [
           "2018-06-30",
           "y"
          ],
          [
           "2018-07-01",
           "y"
          ],
          [
           "2018-07-02",
           "y"
          ],
          [
           "2018-07-02",
           "y"
          ],
          [
           "2018-07-02",
           "y"
          ],
          [
           "2018-07-02",
           "y"
          ],
          [
           "2018-07-02",
           "y"
          ],
          [
           "2018-07-03",
           "y"
          ],
          [
           "2018-07-04",
           "y"
          ],
          [
           "2018-07-04",
           "y"
          ],
          [
           "2018-07-05",
           "y"
          ],
          [
           "2018-07-06",
           "y"
          ],
          [
           "2018-07-07",
           "y"
          ],
          [
           "2018-07-08",
           "y"
          ],
          [
           "2018-07-09",
           "y"
          ],
          [
           "2018-07-10",
           "y"
          ],
          [
           "2018-07-11",
           "y"
          ],
          [
           "2018-07-12",
           "y"
          ],
          [
           "2018-07-12",
           "y"
          ],
          [
           "2018-07-12",
           "y"
          ],
          [
           "2018-07-12",
           "y"
          ],
          [
           "2018-07-12",
           "y"
          ],
          [
           "2018-07-12",
           "y"
          ],
          [
           "2018-07-13",
           "y"
          ],
          [
           "2018-07-14",
           "y"
          ],
          [
           "2018-07-15",
           "y"
          ],
          [
           "2018-07-16",
           "y"
          ],
          [
           "2018-07-17",
           "y"
          ],
          [
           "2018-07-17",
           "y"
          ],
          [
           "2018-07-17",
           "y"
          ],
          [
           "2018-07-17",
           "y"
          ],
          [
           "2018-07-17",
           "y"
          ],
          [
           "2018-07-17",
           "y"
          ],
          [
           "2018-07-17",
           "y"
          ],
          [
           "2018-07-18",
           "y"
          ],
          [
           "2018-07-19",
           "y"
          ],
          [
           "2018-07-20",
           "y"
          ],
          [
           "2018-07-21",
           "y"
          ],
          [
           "2018-07-22",
           "y"
          ],
          [
           "2018-07-23",
           "y"
          ],
          [
           "2018-07-24",
           "y"
          ],
          [
           "2018-07-25",
           "y"
          ],
          [
           "2018-07-26",
           "y"
          ],
          [
           "2018-07-27",
           "y"
          ],
          [
           "2018-07-28",
           "y"
          ],
          [
           "2018-07-29",
           "y"
          ],
          [
           "2018-07-30",
           "y"
          ],
          [
           "2018-07-30",
           "y"
          ],
          [
           "2018-07-31",
           "y"
          ],
          [
           "2018-08-01",
           "y"
          ],
          [
           "2018-08-02",
           "y"
          ],
          [
           "2018-08-03",
           "y"
          ],
          [
           "2018-08-04",
           "y"
          ],
          [
           "2018-08-05",
           "y"
          ],
          [
           "2018-08-06",
           "y"
          ],
          [
           "2018-08-07",
           "y"
          ],
          [
           "2018-08-07",
           "y"
          ],
          [
           "2018-08-07",
           "y"
          ],
          [
           "2018-08-07",
           "y"
          ],
          [
           "2018-08-07",
           "y"
          ],
          [
           "2018-08-07",
           "y"
          ],
          [
           "2018-08-08",
           "y"
          ],
          [
           "2018-08-09",
           "y"
          ],
          [
           "2018-08-10",
           "y"
          ],
          [
           "2018-08-11",
           "y"
          ],
          [
           "2018-08-12",
           "y"
          ],
          [
           "2018-08-13",
           "y"
          ],
          [
           "2018-08-14",
           "y"
          ],
          [
           "2018-08-15",
           "y"
          ],
          [
           "2018-08-16",
           "y"
          ],
          [
           "2018-08-17",
           "y"
          ],
          [
           "2018-08-18",
           "y"
          ],
          [
           "2018-08-19",
           "y"
          ],
          [
           "2018-08-20",
           "y"
          ],
          [
           "2018-08-20",
           "y"
          ],
          [
           "2018-08-21",
           "y"
          ],
          [
           "2018-08-21",
           "y"
          ],
          [
           "2018-08-21",
           "y"
          ],
          [
           "2018-08-22",
           "y"
          ],
          [
           "2018-08-23",
           "y"
          ],
          [
           "2018-08-24",
           "y"
          ],
          [
           "2018-08-25",
           "y"
          ],
          [
           "2018-08-26",
           "y"
          ],
          [
           "2018-08-27",
           "y"
          ],
          [
           "2018-08-27",
           "y"
          ],
          [
           "2018-08-27",
           "y"
          ],
          [
           "2018-08-27",
           "y"
          ],
          [
           "2018-08-27",
           "y"
          ],
          [
           "2018-08-27",
           "y"
          ],
          [
           "2018-08-28",
           "y"
          ],
          [
           "2018-08-28",
           "y"
          ],
          [
           "2018-08-28",
           "y"
          ],
          [
           "2018-08-28",
           "y"
          ],
          [
           "2018-08-28",
           "y"
          ],
          [
           "2018-08-28",
           "y"
          ],
          [
           "2018-08-28",
           "y"
          ],
          [
           "2018-08-28",
           "y"
          ],
          [
           "2018-08-28",
           "y"
          ],
          [
           "2018-08-28",
           "y"
          ],
          [
           "2018-08-28",
           "y"
          ],
          [
           "2018-08-28",
           "y"
          ],
          [
           "2018-08-28",
           "y"
          ],
          [
           "2018-08-29",
           "y"
          ],
          [
           "2018-08-30",
           "y"
          ],
          [
           "2018-08-31",
           "y"
          ],
          [
           "2018-09-01",
           "y"
          ],
          [
           "2018-09-02",
           "y"
          ],
          [
           "2018-09-03",
           "y"
          ],
          [
           "2018-09-04",
           "y"
          ],
          [
           "2018-09-04",
           "y"
          ],
          [
           "2018-09-04",
           "y"
          ],
          [
           "2018-09-04",
           "y"
          ],
          [
           "2018-09-04",
           "y"
          ],
          [
           "2018-09-04",
           "y"
          ],
          [
           "2018-09-04",
           "y"
          ],
          [
           "2018-09-04",
           "y"
          ],
          [
           "2018-09-04",
           "y"
          ],
          [
           "2018-09-05",
           "y"
          ],
          [
           "2018-09-05",
           "y"
          ],
          [
           "2018-09-06",
           "y"
          ],
          [
           "2018-09-07",
           "y"
          ],
          [
           "2018-09-08",
           "y"
          ],
          [
           "2018-09-09",
           "y"
          ],
          [
           "2018-09-10",
           "y"
          ],
          [
           "2018-09-11",
           "y"
          ],
          [
           "2018-09-12",
           "y"
          ],
          [
           "2018-09-13",
           "y"
          ],
          [
           "2018-09-14",
           "y"
          ],
          [
           "2018-09-14",
           "y"
          ],
          [
           "2018-09-14",
           "y"
          ],
          [
           "2018-09-15",
           "y"
          ],
          [
           "2018-09-16",
           "y"
          ],
          [
           "2018-09-17",
           "y"
          ],
          [
           "2018-09-18",
           "y"
          ],
          [
           "2018-09-19",
           "y"
          ],
          [
           "2018-09-20",
           "y"
          ],
          [
           "2018-09-20",
           "y"
          ],
          [
           "2018-09-21",
           "y"
          ],
          [
           "2018-09-22",
           "y"
          ],
          [
           "2018-09-23",
           "y"
          ],
          [
           "2018-09-24",
           "y"
          ],
          [
           "2018-09-25",
           "y"
          ],
          [
           "2018-09-25",
           "y"
          ],
          [
           "2018-09-25",
           "y"
          ],
          [
           "2018-09-25",
           "y"
          ],
          [
           "2018-09-25",
           "y"
          ],
          [
           "2018-09-25",
           "y"
          ],
          [
           "2018-09-25",
           "y"
          ],
          [
           "2018-09-26",
           "y"
          ],
          [
           "2018-09-27",
           "y"
          ],
          [
           "2018-09-27",
           "y"
          ],
          [
           "2018-09-27",
           "y"
          ],
          [
           "2018-09-27",
           "y"
          ],
          [
           "2018-09-28",
           "y"
          ],
          [
           "2018-09-29",
           "y"
          ],
          [
           "2018-09-30",
           "y"
          ],
          [
           "2018-10-01",
           "y"
          ],
          [
           "2018-10-02",
           "y"
          ],
          [
           "2018-10-03",
           "y"
          ],
          [
           "2018-10-04",
           "y"
          ],
          [
           "2018-10-05",
           "y"
          ],
          [
           "2018-10-06",
           "y"
          ],
          [
           "2018-10-07",
           "y"
          ],
          [
           "2018-10-08",
           "y"
          ],
          [
           "2018-10-08",
           "y"
          ],
          [
           "2018-10-09",
           "y"
          ],
          [
           "2018-10-10",
           "y"
          ],
          [
           "2018-10-11",
           "y"
          ],
          [
           "2018-10-11",
           "y"
          ],
          [
           "2018-10-11",
           "y"
          ],
          [
           "2018-10-11",
           "y"
          ],
          [
           "2018-10-12",
           "y"
          ],
          [
           "2018-10-12",
           "y"
          ],
          [
           "2018-10-12",
           "y"
          ],
          [
           "2018-10-13",
           "y"
          ],
          [
           "2018-10-14",
           "y"
          ],
          [
           "2018-10-15",
           "y"
          ],
          [
           "2018-10-16",
           "y"
          ],
          [
           "2018-10-17",
           "y"
          ],
          [
           "2018-10-18",
           "y"
          ],
          [
           "2018-10-18",
           "y"
          ],
          [
           "2018-10-18",
           "y"
          ],
          [
           "2018-10-18",
           "y"
          ],
          [
           "2018-10-18",
           "y"
          ],
          [
           "2018-10-19",
           "y"
          ],
          [
           "2018-10-20",
           "y"
          ],
          [
           "2018-10-21",
           "y"
          ],
          [
           "2018-10-22",
           "y"
          ],
          [
           "2018-10-23",
           "y"
          ],
          [
           "2018-10-24",
           "y"
          ],
          [
           "2018-10-25",
           "y"
          ],
          [
           "2018-10-26",
           "y"
          ],
          [
           "2018-10-27",
           "y"
          ],
          [
           "2018-10-28",
           "y"
          ],
          [
           "2018-10-29",
           "y"
          ],
          [
           "2018-10-30",
           "y"
          ],
          [
           "2018-10-31",
           "y"
          ],
          [
           "2018-11-01",
           "y"
          ],
          [
           "2018-11-02",
           "y"
          ],
          [
           "2018-11-03",
           "y"
          ],
          [
           "2018-11-04",
           "y"
          ],
          [
           "2018-11-05",
           "y"
          ],
          [
           "2018-11-06",
           "y"
          ],
          [
           "2018-11-07",
           "y"
          ],
          [
           "2018-11-08",
           "y"
          ],
          [
           "2018-11-09",
           "y"
          ],
          [
           "2018-11-10",
           "y"
          ],
          [
           "2018-11-11",
           "y"
          ],
          [
           "2018-11-12",
           "y"
          ],
          [
           "2018-11-13",
           "y"
          ],
          [
           "2018-11-14",
           "y"
          ],
          [
           "2018-11-15",
           "y"
          ],
          [
           "2018-11-16",
           "y"
          ],
          [
           "2018-11-16",
           "y"
          ],
          [
           "2018-11-17",
           "y"
          ],
          [
           "2018-11-18",
           "y"
          ],
          [
           "2018-11-19",
           "y"
          ],
          [
           "2018-11-20",
           "y"
          ],
          [
           "2018-11-21",
           "y"
          ],
          [
           "2018-11-22",
           "y"
          ],
          [
           "2018-11-23",
           "y"
          ],
          [
           "2018-11-23",
           "y"
          ],
          [
           "2018-11-24",
           "y"
          ],
          [
           "2018-11-25",
           "y"
          ],
          [
           "2018-11-26",
           "y"
          ],
          [
           "2018-11-27",
           "y"
          ],
          [
           "2018-11-28",
           "y"
          ],
          [
           "2018-11-28",
           "y"
          ],
          [
           "2018-11-28",
           "y"
          ],
          [
           "2018-11-28",
           "y"
          ],
          [
           "2018-11-28",
           "y"
          ],
          [
           "2018-11-29",
           "y"
          ],
          [
           "2018-11-30",
           "y"
          ],
          [
           "2018-12-01",
           "y"
          ],
          [
           "2018-12-02",
           "y"
          ],
          [
           "2018-12-03",
           "y"
          ],
          [
           "2018-12-04",
           "y"
          ],
          [
           "2018-12-05",
           "y"
          ],
          [
           "2018-12-06",
           "y"
          ],
          [
           "2018-12-07",
           "y"
          ],
          [
           "2018-12-07",
           "y"
          ],
          [
           "2018-12-08",
           "y"
          ],
          [
           "2018-12-09",
           "y"
          ],
          [
           "2018-12-10",
           "y"
          ],
          [
           "2018-12-11",
           "y"
          ],
          [
           "2018-12-12",
           "y"
          ],
          [
           "2018-12-13",
           "y"
          ],
          [
           "2018-12-14",
           "y"
          ],
          [
           "2018-12-15",
           "y"
          ],
          [
           "2018-12-16",
           "y"
          ],
          [
           "2018-12-17",
           "y"
          ],
          [
           "2018-12-18",
           "y"
          ],
          [
           "2018-12-19",
           "y"
          ],
          [
           "2018-12-20",
           "y"
          ],
          [
           "2018-12-20",
           "y"
          ],
          [
           "2018-12-20",
           "y"
          ],
          [
           "2018-12-21",
           "y"
          ],
          [
           "2018-12-22",
           "y"
          ],
          [
           "2018-12-22",
           "y"
          ],
          [
           "2018-12-22",
           "y"
          ],
          [
           "2018-12-22",
           "y"
          ],
          [
           "2018-12-22",
           "y"
          ],
          [
           "2018-12-22",
           "y"
          ],
          [
           "2018-12-22",
           "y"
          ],
          [
           "2018-12-23",
           "y"
          ],
          [
           "2018-12-23",
           "y"
          ],
          [
           "2018-12-23",
           "y"
          ],
          [
           "2018-12-23",
           "y"
          ],
          [
           "2018-12-24",
           "y"
          ],
          [
           "2018-12-25",
           "y"
          ],
          [
           "2018-12-26",
           "y"
          ],
          [
           "2018-12-27",
           "y"
          ],
          [
           "2018-12-28",
           "y"
          ],
          [
           "2018-12-29",
           "y"
          ],
          [
           "2018-12-30",
           "y"
          ],
          [
           "2018-12-31",
           "y"
          ]
         ],
         "hovertemplate": "%{customdata[0]} <br>%{customdata[1]}=%{z} <br>Week=%{x}",
         "name": "2018",
         "showscale": false,
         "type": "heatmap",
         "x": [
          1,
          1,
          1,
          1,
          1,
          1,
          1,
          2,
          2,
          2,
          2,
          2,
          2,
          2,
          2,
          2,
          2,
          2,
          2,
          2,
          2,
          2,
          2,
          2,
          2,
          3,
          3,
          3,
          3,
          3,
          3,
          3,
          3,
          3,
          3,
          3,
          3,
          3,
          3,
          3,
          3,
          3,
          3,
          3,
          3,
          3,
          3,
          3,
          3,
          3,
          3,
          3,
          3,
          3,
          3,
          3,
          3,
          3,
          4,
          4,
          4,
          4,
          4,
          4,
          4,
          4,
          4,
          4,
          4,
          4,
          4,
          5,
          5,
          5,
          5,
          5,
          5,
          5,
          5,
          5,
          5,
          6,
          6,
          6,
          6,
          6,
          6,
          6,
          6,
          7,
          7,
          7,
          7,
          7,
          7,
          7,
          7,
          7,
          7,
          7,
          8,
          8,
          8,
          8,
          8,
          8,
          8,
          8,
          8,
          9,
          9,
          9,
          9,
          9,
          9,
          9,
          9,
          9,
          9,
          9,
          9,
          10,
          10,
          10,
          10,
          10,
          10,
          10,
          10,
          11,
          11,
          11,
          11,
          11,
          11,
          11,
          12,
          12,
          12,
          12,
          12,
          12,
          12,
          12,
          13,
          13,
          13,
          13,
          13,
          13,
          13,
          13,
          13,
          13,
          14,
          14,
          14,
          14,
          14,
          14,
          14,
          14,
          14,
          14,
          14,
          14,
          14,
          15,
          15,
          15,
          15,
          15,
          15,
          15,
          15,
          15,
          15,
          15,
          15,
          15,
          15,
          15,
          15,
          15,
          16,
          16,
          16,
          16,
          16,
          16,
          16,
          17,
          17,
          17,
          17,
          17,
          17,
          17,
          17,
          17,
          17,
          17,
          17,
          18,
          18,
          18,
          18,
          18,
          18,
          18,
          18,
          18,
          18,
          18,
          18,
          18,
          18,
          18,
          19,
          19,
          19,
          19,
          19,
          19,
          19,
          19,
          19,
          19,
          19,
          19,
          19,
          19,
          19,
          19,
          19,
          20,
          20,
          20,
          20,
          20,
          20,
          20,
          21,
          21,
          21,
          21,
          21,
          21,
          21,
          21,
          22,
          22,
          22,
          22,
          22,
          22,
          22,
          23,
          23,
          23,
          23,
          23,
          23,
          23,
          24,
          24,
          24,
          24,
          24,
          24,
          24,
          24,
          24,
          24,
          24,
          24,
          24,
          24,
          24,
          24,
          24,
          24,
          24,
          24,
          24,
          24,
          24,
          24,
          24,
          25,
          25,
          25,
          25,
          25,
          25,
          25,
          26,
          26,
          26,
          26,
          26,
          26,
          26,
          26,
          26,
          26,
          26,
          26,
          26,
          26,
          26,
          27,
          27,
          27,
          27,
          27,
          27,
          27,
          27,
          27,
          27,
          27,
          27,
          28,
          28,
          28,
          28,
          28,
          28,
          28,
          28,
          28,
          28,
          28,
          28,
          29,
          29,
          29,
          29,
          29,
          29,
          29,
          29,
          29,
          29,
          29,
          29,
          29,
          30,
          30,
          30,
          30,
          30,
          30,
          30,
          31,
          31,
          31,
          31,
          31,
          31,
          31,
          31,
          32,
          32,
          32,
          32,
          32,
          32,
          32,
          32,
          32,
          32,
          32,
          32,
          33,
          33,
          33,
          33,
          33,
          33,
          33,
          34,
          34,
          34,
          34,
          34,
          34,
          34,
          34,
          34,
          34,
          35,
          35,
          35,
          35,
          35,
          35,
          35,
          35,
          35,
          35,
          35,
          35,
          35,
          35,
          35,
          35,
          35,
          35,
          35,
          35,
          35,
          35,
          35,
          35,
          36,
          36,
          36,
          36,
          36,
          36,
          36,
          36,
          36,
          36,
          36,
          36,
          36,
          36,
          36,
          36,
          37,
          37,
          37,
          37,
          37,
          37,
          37,
          37,
          37,
          38,
          38,
          38,
          38,
          38,
          38,
          38,
          38,
          39,
          39,
          39,
          39,
          39,
          39,
          39,
          39,
          39,
          39,
          39,
          39,
          39,
          39,
          39,
          39,
          40,
          40,
          40,
          40,
          40,
          40,
          40,
          41,
          41,
          41,
          41,
          41,
          41,
          41,
          41,
          41,
          41,
          41,
          41,
          41,
          42,
          42,
          42,
          42,
          42,
          42,
          42,
          42,
          42,
          42,
          42,
          43,
          43,
          43,
          43,
          43,
          43,
          43,
          44,
          44,
          44,
          44,
          44,
          44,
          44,
          45,
          45,
          45,
          45,
          45,
          45,
          45,
          46,
          46,
          46,
          46,
          46,
          46,
          46,
          46,
          47,
          47,
          47,
          47,
          47,
          47,
          47,
          47,
          48,
          48,
          48,
          48,
          48,
          48,
          48,
          48,
          48,
          48,
          48,
          49,
          49,
          49,
          49,
          49,
          49,
          49,
          49,
          50,
          50,
          50,
          50,
          50,
          50,
          50,
          51,
          51,
          51,
          51,
          51,
          51,
          51,
          51,
          51,
          51,
          51,
          51,
          51,
          51,
          51,
          51,
          51,
          51,
          52,
          52,
          52,
          52,
          52,
          52,
          52,
          53
         ],
         "xaxis": "x4",
         "xgap": 1,
         "y": [
          0,
          1,
          2,
          3,
          4,
          5,
          6,
          0,
          1,
          1,
          2,
          2,
          2,
          2,
          2,
          2,
          2,
          3,
          3,
          3,
          3,
          4,
          4,
          5,
          6,
          0,
          0,
          0,
          0,
          0,
          0,
          0,
          0,
          0,
          0,
          0,
          0,
          0,
          1,
          1,
          1,
          1,
          1,
          2,
          3,
          3,
          3,
          3,
          3,
          3,
          4,
          4,
          4,
          4,
          4,
          4,
          5,
          6,
          0,
          1,
          2,
          3,
          3,
          3,
          4,
          4,
          4,
          4,
          4,
          5,
          6,
          0,
          1,
          2,
          3,
          3,
          3,
          3,
          4,
          5,
          6,
          0,
          1,
          1,
          2,
          3,
          4,
          5,
          6,
          0,
          1,
          1,
          1,
          1,
          1,
          2,
          3,
          4,
          5,
          6,
          0,
          1,
          2,
          2,
          2,
          3,
          4,
          5,
          6,
          0,
          0,
          0,
          0,
          0,
          0,
          1,
          2,
          3,
          4,
          5,
          6,
          0,
          0,
          1,
          2,
          3,
          4,
          5,
          6,
          0,
          1,
          2,
          3,
          4,
          5,
          6,
          0,
          1,
          1,
          2,
          3,
          4,
          5,
          6,
          0,
          0,
          1,
          2,
          3,
          3,
          3,
          4,
          5,
          6,
          0,
          1,
          2,
          3,
          3,
          3,
          3,
          3,
          3,
          3,
          4,
          5,
          6,
          0,
          0,
          0,
          0,
          1,
          1,
          2,
          3,
          4,
          4,
          4,
          4,
          4,
          4,
          4,
          5,
          6,
          0,
          1,
          2,
          3,
          4,
          5,
          6,
          0,
          1,
          2,
          2,
          2,
          2,
          2,
          3,
          3,
          4,
          5,
          6,
          0,
          1,
          2,
          3,
          3,
          3,
          3,
          3,
          3,
          3,
          3,
          3,
          4,
          5,
          6,
          0,
          1,
          1,
          1,
          1,
          1,
          1,
          1,
          1,
          1,
          1,
          1,
          2,
          3,
          4,
          5,
          6,
          0,
          1,
          2,
          3,
          4,
          5,
          6,
          0,
          0,
          1,
          2,
          3,
          4,
          5,
          6,
          0,
          1,
          2,
          3,
          4,
          5,
          6,
          0,
          1,
          2,
          3,
          4,
          5,
          6,
          0,
          0,
          1,
          1,
          1,
          1,
          1,
          1,
          1,
          1,
          1,
          1,
          1,
          1,
          1,
          1,
          2,
          2,
          2,
          2,
          2,
          3,
          4,
          5,
          6,
          0,
          1,
          2,
          3,
          4,
          5,
          6,
          0,
          1,
          2,
          2,
          2,
          2,
          2,
          2,
          2,
          3,
          3,
          3,
          4,
          5,
          6,
          0,
          0,
          0,
          0,
          0,
          1,
          2,
          2,
          3,
          4,
          5,
          6,
          0,
          1,
          2,
          3,
          3,
          3,
          3,
          3,
          3,
          4,
          5,
          6,
          0,
          1,
          1,
          1,
          1,
          1,
          1,
          1,
          2,
          3,
          4,
          5,
          6,
          0,
          1,
          2,
          3,
          4,
          5,
          6,
          0,
          0,
          1,
          2,
          3,
          4,
          5,
          6,
          0,
          1,
          1,
          1,
          1,
          1,
          1,
          2,
          3,
          4,
          5,
          6,
          0,
          1,
          2,
          3,
          4,
          5,
          6,
          0,
          0,
          1,
          1,
          1,
          2,
          3,
          4,
          5,
          6,
          0,
          0,
          0,
          0,
          0,
          0,
          1,
          1,
          1,
          1,
          1,
          1,
          1,
          1,
          1,
          1,
          1,
          1,
          1,
          2,
          3,
          4,
          5,
          6,
          0,
          1,
          1,
          1,
          1,
          1,
          1,
          1,
          1,
          1,
          2,
          2,
          3,
          4,
          5,
          6,
          0,
          1,
          2,
          3,
          4,
          4,
          4,
          5,
          6,
          0,
          1,
          2,
          3,
          3,
          4,
          5,
          6,
          0,
          1,
          1,
          1,
          1,
          1,
          1,
          1,
          2,
          3,
          3,
          3,
          3,
          4,
          5,
          6,
          0,
          1,
          2,
          3,
          4,
          5,
          6,
          0,
          0,
          1,
          2,
          3,
          3,
          3,
          3,
          4,
          4,
          4,
          5,
          6,
          0,
          1,
          2,
          3,
          3,
          3,
          3,
          3,
          4,
          5,
          6,
          0,
          1,
          2,
          3,
          4,
          5,
          6,
          0,
          1,
          2,
          3,
          4,
          5,
          6,
          0,
          1,
          2,
          3,
          4,
          5,
          6,
          0,
          1,
          2,
          3,
          4,
          4,
          5,
          6,
          0,
          1,
          2,
          3,
          4,
          4,
          5,
          6,
          0,
          1,
          2,
          2,
          2,
          2,
          2,
          3,
          4,
          5,
          6,
          0,
          1,
          2,
          3,
          4,
          4,
          5,
          6,
          0,
          1,
          2,
          3,
          4,
          5,
          6,
          0,
          1,
          2,
          3,
          3,
          3,
          4,
          5,
          5,
          5,
          5,
          5,
          5,
          5,
          6,
          6,
          6,
          6,
          0,
          1,
          2,
          3,
          4,
          5,
          6,
          0
         ],
         "yaxis": "y4",
         "ygap": 1,
         "z": [
          0,
          0,
          0,
          0,
          0,
          0,
          0,
          0,
          2,
          9,
          3,
          31,
          1,
          1,
          4,
          1,
          1,
          2,
          2,
          15,
          14,
          9,
          1,
          0,
          0,
          2,
          3,
          2,
          1,
          2,
          1,
          1,
          7,
          16,
          15,
          7,
          14,
          4,
          1,
          2,
          2,
          17,
          1,
          11,
          2,
          1,
          1,
          1,
          8,
          10,
          1,
          18,
          1,
          2,
          1,
          13,
          0,
          0,
          0,
          0,
          0,
          3,
          2,
          1,
          1,
          1,
          1,
          1,
          1,
          0,
          0,
          1,
          0,
          0,
          1,
          1,
          1,
          1,
          0,
          0,
          0,
          3,
          2,
          3,
          0,
          0,
          0,
          0,
          0,
          0,
          4,
          5,
          2,
          1,
          1,
          0,
          0,
          0,
          0,
          0,
          0,
          0,
          3,
          19,
          6,
          0,
          0,
          0,
          0,
          15,
          15,
          11,
          15,
          2,
          1,
          0,
          0,
          0,
          0,
          0,
          0,
          1,
          2,
          2,
          0,
          0,
          0,
          0,
          0,
          0,
          0,
          0,
          1,
          0,
          0,
          0,
          0,
          1,
          1,
          0,
          0,
          1,
          0,
          0,
          1,
          2,
          0,
          0,
          1,
          2,
          1,
          0,
          0,
          0,
          0,
          0,
          0,
          2,
          1,
          1,
          2,
          2,
          3,
          3,
          0,
          0,
          0,
          1,
          2,
          1,
          3,
          1,
          1,
          0,
          1,
          1,
          1,
          1,
          1,
          2,
          1,
          1,
          0,
          0,
          0,
          0,
          0,
          0,
          15,
          0,
          0,
          0,
          0,
          5,
          5,
          1,
          7,
          2,
          14,
          2,
          13,
          0,
          0,
          0,
          0,
          3,
          1,
          1,
          3,
          32,
          1,
          2,
          7,
          1,
          8,
          1,
          0,
          0,
          0,
          1,
          5,
          1,
          2,
          6,
          2,
          1,
          13,
          1,
          3,
          1,
          0,
          0,
          0,
          0,
          0,
          0,
          0,
          0,
          1,
          4,
          0,
          0,
          1,
          2,
          13,
          16,
          0,
          15,
          0,
          0,
          0,
          0,
          0,
          0,
          14,
          0,
          0,
          0,
          1,
          1,
          2,
          0,
          0,
          0,
          1,
          2,
          1,
          1,
          2,
          1,
          2,
          2,
          1,
          1,
          7,
          1,
          1,
          15,
          2,
          1,
          1,
          2,
          1,
          1,
          5,
          0,
          0,
          0,
          0,
          0,
          0,
          0,
          0,
          0,
          0,
          0,
          13,
          0,
          1,
          1,
          9,
          1,
          2,
          3,
          2,
          2,
          2,
          1,
          0,
          0,
          0,
          1,
          2,
          2,
          3,
          1,
          0,
          2,
          19,
          1,
          0,
          0,
          0,
          0,
          0,
          0,
          4,
          1,
          2,
          1,
          2,
          1,
          0,
          0,
          0,
          0,
          1,
          1,
          2,
          1,
          1,
          10,
          1,
          4,
          3,
          0,
          0,
          0,
          1,
          0,
          0,
          0,
          0,
          0,
          0,
          1,
          11,
          0,
          0,
          1,
          0,
          0,
          0,
          1,
          1,
          1,
          1,
          1,
          1,
          8,
          0,
          0,
          0,
          0,
          0,
          1,
          0,
          0,
          0,
          1,
          0,
          0,
          1,
          2,
          1,
          5,
          3,
          0,
          0,
          0,
          0,
          0,
          2,
          4,
          12,
          1,
          2,
          4,
          1,
          1,
          2,
          1,
          1,
          1,
          6,
          1,
          5,
          1,
          14,
          2,
          2,
          0,
          0,
          0,
          0,
          0,
          0,
          8,
          5,
          8,
          1,
          3,
          1,
          4,
          1,
          1,
          1,
          1,
          0,
          0,
          0,
          0,
          0,
          0,
          0,
          0,
          1,
          1,
          4,
          0,
          0,
          0,
          0,
          0,
          1,
          12,
          0,
          0,
          0,
          0,
          1,
          1,
          2,
          1,
          10,
          7,
          24,
          2,
          1,
          1,
          9,
          2,
          0,
          0,
          0,
          0,
          0,
          2,
          0,
          1,
          0,
          0,
          13,
          19,
          0,
          0,
          2,
          1,
          2,
          16,
          1,
          1,
          3,
          0,
          0,
          0,
          0,
          2,
          1,
          2,
          1,
          1,
          1,
          0,
          0,
          0,
          0,
          8,
          0,
          1,
          0,
          0,
          0,
          0,
          0,
          0,
          0,
          0,
          0,
          0,
          8,
          0,
          13,
          0,
          2,
          0,
          0,
          0,
          0,
          0,
          0,
          1,
          3,
          0,
          0,
          0,
          0,
          0,
          0,
          7,
          6,
          0,
          0,
          12,
          0,
          9,
          6,
          1,
          1,
          43,
          0,
          0,
          0,
          0,
          0,
          0,
          3,
          0,
          1,
          1,
          0,
          0,
          0,
          0,
          0,
          0,
          14,
          0,
          0,
          0,
          2,
          12,
          2,
          10,
          1,
          2,
          16,
          5,
          6,
          7,
          3,
          3,
          1,
          2,
          4,
          1,
          4,
          0,
          6,
          0,
          1,
          0,
          0,
          0,
          0
         ],
         "zmax": 61,
         "zmin": 0
        },
        {
         "hoverinfo": "skip",
         "line": {
          "color": "#9e9e9e",
          "width": 1
         },
         "mode": "lines",
         "type": "scatter",
         "x": [
          0.5,
          0.5
         ],
         "xaxis": "x4",
         "y": [
          -0.5,
          6.5
         ],
         "yaxis": "y4"
        },
        {
         "hoverinfo": "skip",
         "line": {
          "color": "#9e9e9e",
          "width": 1
         },
         "mode": "lines",
         "type": "scatter",
         "x": [
          4.5,
          4.5
         ],
         "xaxis": "x4",
         "y": [
          2.5,
          6.5
         ],
         "yaxis": "y4"
        },
        {
         "hoverinfo": "skip",
         "line": {
          "color": "#9e9e9e",
          "width": 1
         },
         "mode": "lines",
         "type": "scatter",
         "x": [
          4.5,
          5.5
         ],
         "xaxis": "x4",
         "y": [
          2.5,
          2.5
         ],
         "yaxis": "y4"
        },
        {
         "hoverinfo": "skip",
         "line": {
          "color": "#9e9e9e",
          "width": 1
         },
         "mode": "lines",
         "type": "scatter",
         "x": [
          5.5,
          5.5
         ],
         "xaxis": "x4",
         "y": [
          2.5,
          -0.5
         ],
         "yaxis": "y4"
        },
        {
         "hoverinfo": "skip",
         "line": {
          "color": "#9e9e9e",
          "width": 1
         },
         "mode": "lines",
         "type": "scatter",
         "x": [
          4.5,
          4.5
         ],
         "xaxis": "x4",
         "y": [
          2.5,
          6.5
         ],
         "yaxis": "y4"
        },
        {
         "hoverinfo": "skip",
         "line": {
          "color": "#9e9e9e",
          "width": 1
         },
         "mode": "lines",
         "type": "scatter",
         "x": [
          4.5,
          5.5
         ],
         "xaxis": "x4",
         "y": [
          2.5,
          2.5
         ],
         "yaxis": "y4"
        },
        {
         "hoverinfo": "skip",
         "line": {
          "color": "#9e9e9e",
          "width": 1
         },
         "mode": "lines",
         "type": "scatter",
         "x": [
          5.5,
          5.5
         ],
         "xaxis": "x4",
         "y": [
          2.5,
          -0.5
         ],
         "yaxis": "y4"
        },
        {
         "hoverinfo": "skip",
         "line": {
          "color": "#9e9e9e",
          "width": 1
         },
         "mode": "lines",
         "type": "scatter",
         "x": [
          4.5,
          4.5
         ],
         "xaxis": "x4",
         "y": [
          2.5,
          6.5
         ],
         "yaxis": "y4"
        },
        {
         "hoverinfo": "skip",
         "line": {
          "color": "#9e9e9e",
          "width": 1
         },
         "mode": "lines",
         "type": "scatter",
         "x": [
          4.5,
          5.5
         ],
         "xaxis": "x4",
         "y": [
          2.5,
          2.5
         ],
         "yaxis": "y4"
        },
        {
         "hoverinfo": "skip",
         "line": {
          "color": "#9e9e9e",
          "width": 1
         },
         "mode": "lines",
         "type": "scatter",
         "x": [
          5.5,
          5.5
         ],
         "xaxis": "x4",
         "y": [
          2.5,
          -0.5
         ],
         "yaxis": "y4"
        },
        {
         "hoverinfo": "skip",
         "line": {
          "color": "#9e9e9e",
          "width": 1
         },
         "mode": "lines",
         "type": "scatter",
         "x": [
          4.5,
          4.5
         ],
         "xaxis": "x4",
         "y": [
          2.5,
          6.5
         ],
         "yaxis": "y4"
        },
        {
         "hoverinfo": "skip",
         "line": {
          "color": "#9e9e9e",
          "width": 1
         },
         "mode": "lines",
         "type": "scatter",
         "x": [
          4.5,
          5.5
         ],
         "xaxis": "x4",
         "y": [
          2.5,
          2.5
         ],
         "yaxis": "y4"
        },
        {
         "hoverinfo": "skip",
         "line": {
          "color": "#9e9e9e",
          "width": 1
         },
         "mode": "lines",
         "type": "scatter",
         "x": [
          5.5,
          5.5
         ],
         "xaxis": "x4",
         "y": [
          2.5,
          -0.5
         ],
         "yaxis": "y4"
        },
        {
         "hoverinfo": "skip",
         "line": {
          "color": "#9e9e9e",
          "width": 1
         },
         "mode": "lines",
         "type": "scatter",
         "x": [
          8.5,
          8.5
         ],
         "xaxis": "x4",
         "y": [
          2.5,
          6.5
         ],
         "yaxis": "y4"
        },
        {
         "hoverinfo": "skip",
         "line": {
          "color": "#9e9e9e",
          "width": 1
         },
         "mode": "lines",
         "type": "scatter",
         "x": [
          8.5,
          9.5
         ],
         "xaxis": "x4",
         "y": [
          2.5,
          2.5
         ],
         "yaxis": "y4"
        },
        {
         "hoverinfo": "skip",
         "line": {
          "color": "#9e9e9e",
          "width": 1
         },
         "mode": "lines",
         "type": "scatter",
         "x": [
          9.5,
          9.5
         ],
         "xaxis": "x4",
         "y": [
          2.5,
          -0.5
         ],
         "yaxis": "y4"
        },
        {
         "hoverinfo": "skip",
         "line": {
          "color": "#9e9e9e",
          "width": 1
         },
         "mode": "lines",
         "type": "scatter",
         "x": [
          12.5,
          12.5
         ],
         "xaxis": "x4",
         "y": [
          5.5,
          6.5
         ],
         "yaxis": "y4"
        },
        {
         "hoverinfo": "skip",
         "line": {
          "color": "#9e9e9e",
          "width": 1
         },
         "mode": "lines",
         "type": "scatter",
         "x": [
          12.5,
          13.5
         ],
         "xaxis": "x4",
         "y": [
          5.5,
          5.5
         ],
         "yaxis": "y4"
        },
        {
         "hoverinfo": "skip",
         "line": {
          "color": "#9e9e9e",
          "width": 1
         },
         "mode": "lines",
         "type": "scatter",
         "x": [
          13.5,
          13.5
         ],
         "xaxis": "x4",
         "y": [
          5.5,
          -0.5
         ],
         "yaxis": "y4"
        },
        {
         "hoverinfo": "skip",
         "line": {
          "color": "#9e9e9e",
          "width": 1
         },
         "mode": "lines",
         "type": "scatter",
         "x": [
          17.5,
          17.5
         ],
         "xaxis": "x4",
         "y": [
          0.5,
          6.5
         ],
         "yaxis": "y4"
        },
        {
         "hoverinfo": "skip",
         "line": {
          "color": "#9e9e9e",
          "width": 1
         },
         "mode": "lines",
         "type": "scatter",
         "x": [
          17.5,
          18.5
         ],
         "xaxis": "x4",
         "y": [
          0.5,
          0.5
         ],
         "yaxis": "y4"
        },
        {
         "hoverinfo": "skip",
         "line": {
          "color": "#9e9e9e",
          "width": 1
         },
         "mode": "lines",
         "type": "scatter",
         "x": [
          18.5,
          18.5
         ],
         "xaxis": "x4",
         "y": [
          0.5,
          -0.5
         ],
         "yaxis": "y4"
        },
        {
         "hoverinfo": "skip",
         "line": {
          "color": "#9e9e9e",
          "width": 1
         },
         "mode": "lines",
         "type": "scatter",
         "x": [
          21.5,
          21.5
         ],
         "xaxis": "x4",
         "y": [
          3.5,
          6.5
         ],
         "yaxis": "y4"
        },
        {
         "hoverinfo": "skip",
         "line": {
          "color": "#9e9e9e",
          "width": 1
         },
         "mode": "lines",
         "type": "scatter",
         "x": [
          21.5,
          22.5
         ],
         "xaxis": "x4",
         "y": [
          3.5,
          3.5
         ],
         "yaxis": "y4"
        },
        {
         "hoverinfo": "skip",
         "line": {
          "color": "#9e9e9e",
          "width": 1
         },
         "mode": "lines",
         "type": "scatter",
         "x": [
          22.5,
          22.5
         ],
         "xaxis": "x4",
         "y": [
          3.5,
          -0.5
         ],
         "yaxis": "y4"
        },
        {
         "hoverinfo": "skip",
         "line": {
          "color": "#9e9e9e",
          "width": 1
         },
         "mode": "lines",
         "type": "scatter",
         "x": [
          25.5,
          25.5
         ],
         "xaxis": "x4",
         "y": [
          5.5,
          6.5
         ],
         "yaxis": "y4"
        },
        {
         "hoverinfo": "skip",
         "line": {
          "color": "#9e9e9e",
          "width": 1
         },
         "mode": "lines",
         "type": "scatter",
         "x": [
          25.5,
          26.5
         ],
         "xaxis": "x4",
         "y": [
          5.5,
          5.5
         ],
         "yaxis": "y4"
        },
        {
         "hoverinfo": "skip",
         "line": {
          "color": "#9e9e9e",
          "width": 1
         },
         "mode": "lines",
         "type": "scatter",
         "x": [
          26.5,
          26.5
         ],
         "xaxis": "x4",
         "y": [
          5.5,
          -0.5
         ],
         "yaxis": "y4"
        },
        {
         "hoverinfo": "skip",
         "line": {
          "color": "#9e9e9e",
          "width": 1
         },
         "mode": "lines",
         "type": "scatter",
         "x": [
          30.5,
          30.5
         ],
         "xaxis": "x4",
         "y": [
          1.5,
          6.5
         ],
         "yaxis": "y4"
        },
        {
         "hoverinfo": "skip",
         "line": {
          "color": "#9e9e9e",
          "width": 1
         },
         "mode": "lines",
         "type": "scatter",
         "x": [
          30.5,
          31.5
         ],
         "xaxis": "x4",
         "y": [
          1.5,
          1.5
         ],
         "yaxis": "y4"
        },
        {
         "hoverinfo": "skip",
         "line": {
          "color": "#9e9e9e",
          "width": 1
         },
         "mode": "lines",
         "type": "scatter",
         "x": [
          31.5,
          31.5
         ],
         "xaxis": "x4",
         "y": [
          1.5,
          -0.5
         ],
         "yaxis": "y4"
        },
        {
         "hoverinfo": "skip",
         "line": {
          "color": "#9e9e9e",
          "width": 1
         },
         "mode": "lines",
         "type": "scatter",
         "x": [
          34.5,
          34.5
         ],
         "xaxis": "x4",
         "y": [
          4.5,
          6.5
         ],
         "yaxis": "y4"
        },
        {
         "hoverinfo": "skip",
         "line": {
          "color": "#9e9e9e",
          "width": 1
         },
         "mode": "lines",
         "type": "scatter",
         "x": [
          34.5,
          35.5
         ],
         "xaxis": "x4",
         "y": [
          4.5,
          4.5
         ],
         "yaxis": "y4"
        },
        {
         "hoverinfo": "skip",
         "line": {
          "color": "#9e9e9e",
          "width": 1
         },
         "mode": "lines",
         "type": "scatter",
         "x": [
          35.5,
          35.5
         ],
         "xaxis": "x4",
         "y": [
          4.5,
          -0.5
         ],
         "yaxis": "y4"
        },
        {
         "hoverinfo": "skip",
         "line": {
          "color": "#9e9e9e",
          "width": 1
         },
         "mode": "lines",
         "type": "scatter",
         "x": [
          39.5,
          39.5
         ],
         "xaxis": "x4",
         "y": [
          -0.5,
          6.5
         ],
         "yaxis": "y4"
        },
        {
         "hoverinfo": "skip",
         "line": {
          "color": "#9e9e9e",
          "width": 1
         },
         "mode": "lines",
         "type": "scatter",
         "x": [
          43.5,
          43.5
         ],
         "xaxis": "x4",
         "y": [
          2.5,
          6.5
         ],
         "yaxis": "y4"
        },
        {
         "hoverinfo": "skip",
         "line": {
          "color": "#9e9e9e",
          "width": 1
         },
         "mode": "lines",
         "type": "scatter",
         "x": [
          43.5,
          44.5
         ],
         "xaxis": "x4",
         "y": [
          2.5,
          2.5
         ],
         "yaxis": "y4"
        },
        {
         "hoverinfo": "skip",
         "line": {
          "color": "#9e9e9e",
          "width": 1
         },
         "mode": "lines",
         "type": "scatter",
         "x": [
          44.5,
          44.5
         ],
         "xaxis": "x4",
         "y": [
          2.5,
          -0.5
         ],
         "yaxis": "y4"
        },
        {
         "hoverinfo": "skip",
         "line": {
          "color": "#9e9e9e",
          "width": 1
         },
         "mode": "lines",
         "type": "scatter",
         "x": [
          47.5,
          47.5
         ],
         "xaxis": "x4",
         "y": [
          4.5,
          6.5
         ],
         "yaxis": "y4"
        },
        {
         "hoverinfo": "skip",
         "line": {
          "color": "#9e9e9e",
          "width": 1
         },
         "mode": "lines",
         "type": "scatter",
         "x": [
          47.5,
          48.5
         ],
         "xaxis": "x4",
         "y": [
          4.5,
          4.5
         ],
         "yaxis": "y4"
        },
        {
         "hoverinfo": "skip",
         "line": {
          "color": "#9e9e9e",
          "width": 1
         },
         "mode": "lines",
         "type": "scatter",
         "x": [
          48.5,
          48.5
         ],
         "xaxis": "x4",
         "y": [
          4.5,
          -0.5
         ],
         "yaxis": "y4"
        },
        {
         "colorscale": [
          [
           0,
           "rgb(247,252,245)"
          ],
          [
           0.125,
           "rgb(229,245,224)"
          ],
          [
           0.25,
           "rgb(199,233,192)"
          ],
          [
           0.375,
           "rgb(161,217,155)"
          ],
          [
           0.5,
           "rgb(116,196,118)"
          ],
          [
           0.625,
           "rgb(65,171,93)"
          ],
          [
           0.75,
           "rgb(35,139,69)"
          ],
          [
           0.875,
           "rgb(0,109,44)"
          ],
          [
           1,
           "rgb(0,68,27)"
          ]
         ],
         "customdata": [
          [
           "2019-01-01",
           "y"
          ],
          [
           "2019-01-02",
           "y"
          ],
          [
           "2019-01-03",
           "y"
          ],
          [
           "2019-01-03",
           "y"
          ],
          [
           "2019-01-04",
           "y"
          ],
          [
           "2019-01-05",
           "y"
          ],
          [
           "2019-01-06",
           "y"
          ],
          [
           "2019-01-07",
           "y"
          ],
          [
           "2019-01-07",
           "y"
          ],
          [
           "2019-01-07",
           "y"
          ],
          [
           "2019-01-07",
           "y"
          ],
          [
           "2019-01-07",
           "y"
          ],
          [
           "2019-01-07",
           "y"
          ],
          [
           "2019-01-08",
           "y"
          ],
          [
           "2019-01-09",
           "y"
          ],
          [
           "2019-01-09",
           "y"
          ],
          [
           "2019-01-09",
           "y"
          ],
          [
           "2019-01-09",
           "y"
          ],
          [
           "2019-01-09",
           "y"
          ],
          [
           "2019-01-10",
           "y"
          ],
          [
           "2019-01-11",
           "y"
          ],
          [
           "2019-01-12",
           "y"
          ],
          [
           "2019-01-13",
           "y"
          ],
          [
           "2019-01-14",
           "y"
          ],
          [
           "2019-01-14",
           "y"
          ],
          [
           "2019-01-14",
           "y"
          ],
          [
           "2019-01-14",
           "y"
          ],
          [
           "2019-01-15",
           "y"
          ],
          [
           "2019-01-16",
           "y"
          ],
          [
           "2019-01-17",
           "y"
          ],
          [
           "2019-01-18",
           "y"
          ],
          [
           "2019-01-19",
           "y"
          ],
          [
           "2019-01-20",
           "y"
          ],
          [
           "2019-01-21",
           "y"
          ],
          [
           "2019-01-22",
           "y"
          ],
          [
           "2019-01-23",
           "y"
          ],
          [
           "2019-01-24",
           "y"
          ],
          [
           "2019-01-25",
           "y"
          ],
          [
           "2019-01-25",
           "y"
          ],
          [
           "2019-01-26",
           "y"
          ],
          [
           "2019-01-27",
           "y"
          ],
          [
           "2019-01-28",
           "y"
          ],
          [
           "2019-01-29",
           "y"
          ],
          [
           "2019-01-30",
           "y"
          ],
          [
           "2019-01-31",
           "y"
          ],
          [
           "2019-02-01",
           "y"
          ],
          [
           "2019-02-02",
           "y"
          ],
          [
           "2019-02-03",
           "y"
          ],
          [
           "2019-02-04",
           "y"
          ],
          [
           "2019-02-05",
           "y"
          ],
          [
           "2019-02-06",
           "y"
          ],
          [
           "2019-02-07",
           "y"
          ],
          [
           "2019-02-08",
           "y"
          ],
          [
           "2019-02-09",
           "y"
          ],
          [
           "2019-02-10",
           "y"
          ],
          [
           "2019-02-11",
           "y"
          ],
          [
           "2019-02-12",
           "y"
          ],
          [
           "2019-02-12",
           "y"
          ],
          [
           "2019-02-13",
           "y"
          ],
          [
           "2019-02-14",
           "y"
          ],
          [
           "2019-02-15",
           "y"
          ],
          [
           "2019-02-16",
           "y"
          ],
          [
           "2019-02-17",
           "y"
          ],
          [
           "2019-02-18",
           "y"
          ],
          [
           "2019-02-19",
           "y"
          ],
          [
           "2019-02-20",
           "y"
          ],
          [
           "2019-02-21",
           "y"
          ],
          [
           "2019-02-22",
           "y"
          ],
          [
           "2019-02-23",
           "y"
          ],
          [
           "2019-02-24",
           "y"
          ],
          [
           "2019-02-25",
           "y"
          ],
          [
           "2019-02-25",
           "y"
          ],
          [
           "2019-02-26",
           "y"
          ],
          [
           "2019-02-27",
           "y"
          ],
          [
           "2019-02-27",
           "y"
          ],
          [
           "2019-02-27",
           "y"
          ],
          [
           "2019-02-28",
           "y"
          ],
          [
           "2019-03-01",
           "y"
          ],
          [
           "2019-03-02",
           "y"
          ],
          [
           "2019-03-03",
           "y"
          ],
          [
           "2019-03-04",
           "y"
          ],
          [
           "2019-03-05",
           "y"
          ],
          [
           "2019-03-06",
           "y"
          ],
          [
           "2019-03-06",
           "y"
          ],
          [
           "2019-03-06",
           "y"
          ],
          [
           "2019-03-06",
           "y"
          ],
          [
           "2019-03-06",
           "y"
          ],
          [
           "2019-03-06",
           "y"
          ],
          [
           "2019-03-06",
           "y"
          ],
          [
           "2019-03-06",
           "y"
          ],
          [
           "2019-03-06",
           "y"
          ],
          [
           "2019-03-07",
           "y"
          ],
          [
           "2019-03-08",
           "y"
          ],
          [
           "2019-03-09",
           "y"
          ],
          [
           "2019-03-10",
           "y"
          ],
          [
           "2019-03-11",
           "y"
          ],
          [
           "2019-03-12",
           "y"
          ],
          [
           "2019-03-13",
           "y"
          ],
          [
           "2019-03-14",
           "y"
          ],
          [
           "2019-03-15",
           "y"
          ],
          [
           "2019-03-16",
           "y"
          ],
          [
           "2019-03-17",
           "y"
          ],
          [
           "2019-03-18",
           "y"
          ],
          [
           "2019-03-19",
           "y"
          ],
          [
           "2019-03-20",
           "y"
          ],
          [
           "2019-03-21",
           "y"
          ],
          [
           "2019-03-21",
           "y"
          ],
          [
           "2019-03-21",
           "y"
          ],
          [
           "2019-03-21",
           "y"
          ],
          [
           "2019-03-21",
           "y"
          ],
          [
           "2019-03-21",
           "y"
          ],
          [
           "2019-03-21",
           "y"
          ],
          [
           "2019-03-21",
           "y"
          ],
          [
           "2019-03-22",
           "y"
          ],
          [
           "2019-03-23",
           "y"
          ],
          [
           "2019-03-24",
           "y"
          ],
          [
           "2019-03-25",
           "y"
          ],
          [
           "2019-03-26",
           "y"
          ],
          [
           "2019-03-26",
           "y"
          ],
          [
           "2019-03-26",
           "y"
          ],
          [
           "2019-03-26",
           "y"
          ],
          [
           "2019-03-26",
           "y"
          ],
          [
           "2019-03-26",
           "y"
          ],
          [
           "2019-03-26",
           "y"
          ],
          [
           "2019-03-26",
           "y"
          ],
          [
           "2019-03-26",
           "y"
          ],
          [
           "2019-03-26",
           "y"
          ],
          [
           "2019-03-26",
           "y"
          ],
          [
           "2019-03-26",
           "y"
          ],
          [
           "2019-03-26",
           "y"
          ],
          [
           "2019-03-26",
           "y"
          ],
          [
           "2019-03-26",
           "y"
          ],
          [
           "2019-03-26",
           "y"
          ],
          [
           "2019-03-26",
           "y"
          ],
          [
           "2019-03-26",
           "y"
          ],
          [
           "2019-03-26",
           "y"
          ],
          [
           "2019-03-26",
           "y"
          ],
          [
           "2019-03-27",
           "y"
          ],
          [
           "2019-03-28",
           "y"
          ],
          [
           "2019-03-28",
           "y"
          ],
          [
           "2019-03-28",
           "y"
          ],
          [
           "2019-03-28",
           "y"
          ],
          [
           "2019-03-29",
           "y"
          ],
          [
           "2019-03-29",
           "y"
          ],
          [
           "2019-03-30",
           "y"
          ],
          [
           "2019-03-31",
           "y"
          ],
          [
           "2019-04-01",
           "y"
          ],
          [
           "2019-04-02",
           "y"
          ],
          [
           "2019-04-03",
           "y"
          ],
          [
           "2019-04-04",
           "y"
          ],
          [
           "2019-04-04",
           "y"
          ],
          [
           "2019-04-04",
           "y"
          ],
          [
           "2019-04-05",
           "y"
          ],
          [
           "2019-04-06",
           "y"
          ],
          [
           "2019-04-07",
           "y"
          ],
          [
           "2019-04-08",
           "y"
          ],
          [
           "2019-04-08",
           "y"
          ],
          [
           "2019-04-09",
           "y"
          ],
          [
           "2019-04-10",
           "y"
          ],
          [
           "2019-04-11",
           "y"
          ],
          [
           "2019-04-12",
           "y"
          ],
          [
           "2019-04-13",
           "y"
          ],
          [
           "2019-04-14",
           "y"
          ],
          [
           "2019-04-15",
           "y"
          ],
          [
           "2019-04-16",
           "y"
          ],
          [
           "2019-04-17",
           "y"
          ],
          [
           "2019-04-18",
           "y"
          ],
          [
           "2019-04-19",
           "y"
          ],
          [
           "2019-04-20",
           "y"
          ],
          [
           "2019-04-21",
           "y"
          ],
          [
           "2019-04-22",
           "y"
          ],
          [
           "2019-04-22",
           "y"
          ],
          [
           "2019-04-22",
           "y"
          ],
          [
           "2019-04-22",
           "y"
          ],
          [
           "2019-04-22",
           "y"
          ],
          [
           "2019-04-22",
           "y"
          ],
          [
           "2019-04-22",
           "y"
          ],
          [
           "2019-04-23",
           "y"
          ],
          [
           "2019-04-24",
           "y"
          ],
          [
           "2019-04-25",
           "y"
          ],
          [
           "2019-04-26",
           "y"
          ],
          [
           "2019-04-26",
           "y"
          ],
          [
           "2019-04-27",
           "y"
          ],
          [
           "2019-04-28",
           "y"
          ],
          [
           "2019-04-29",
           "y"
          ],
          [
           "2019-04-29",
           "y"
          ],
          [
           "2019-04-29",
           "y"
          ],
          [
           "2019-04-29",
           "y"
          ],
          [
           "2019-04-30",
           "y"
          ],
          [
           "2019-04-30",
           "y"
          ],
          [
           "2019-04-30",
           "y"
          ],
          [
           "2019-04-30",
           "y"
          ],
          [
           "2019-04-30",
           "y"
          ],
          [
           "2019-04-30",
           "y"
          ],
          [
           "2019-04-30",
           "y"
          ],
          [
           "2019-04-30",
           "y"
          ],
          [
           "2019-04-30",
           "y"
          ],
          [
           "2019-04-30",
           "y"
          ],
          [
           "2019-04-30",
           "y"
          ],
          [
           "2019-04-30",
           "y"
          ],
          [
           "2019-05-01",
           "y"
          ],
          [
           "2019-05-02",
           "y"
          ],
          [
           "2019-05-02",
           "y"
          ],
          [
           "2019-05-02",
           "y"
          ],
          [
           "2019-05-02",
           "y"
          ],
          [
           "2019-05-02",
           "y"
          ],
          [
           "2019-05-02",
           "y"
          ],
          [
           "2019-05-02",
           "y"
          ],
          [
           "2019-05-02",
           "y"
          ],
          [
           "2019-05-02",
           "y"
          ],
          [
           "2019-05-02",
           "y"
          ],
          [
           "2019-05-02",
           "y"
          ],
          [
           "2019-05-02",
           "y"
          ],
          [
           "2019-05-03",
           "y"
          ],
          [
           "2019-05-04",
           "y"
          ],
          [
           "2019-05-05",
           "y"
          ],
          [
           "2019-05-06",
           "y"
          ],
          [
           "2019-05-07",
           "y"
          ],
          [
           "2019-05-07",
           "y"
          ],
          [
           "2019-05-07",
           "y"
          ],
          [
           "2019-05-07",
           "y"
          ],
          [
           "2019-05-07",
           "y"
          ],
          [
           "2019-05-07",
           "y"
          ],
          [
           "2019-05-08",
           "y"
          ],
          [
           "2019-05-09",
           "y"
          ],
          [
           "2019-05-10",
           "y"
          ],
          [
           "2019-05-11",
           "y"
          ],
          [
           "2019-05-12",
           "y"
          ],
          [
           "2019-05-13",
           "y"
          ],
          [
           "2019-05-14",
           "y"
          ],
          [
           "2019-05-15",
           "y"
          ],
          [
           "2019-05-16",
           "y"
          ],
          [
           "2019-05-17",
           "y"
          ],
          [
           "2019-05-18",
           "y"
          ],
          [
           "2019-05-19",
           "y"
          ],
          [
           "2019-05-20",
           "y"
          ],
          [
           "2019-05-21",
           "y"
          ],
          [
           "2019-05-22",
           "y"
          ],
          [
           "2019-05-23",
           "y"
          ],
          [
           "2019-05-24",
           "y"
          ],
          [
           "2019-05-25",
           "y"
          ],
          [
           "2019-05-26",
           "y"
          ],
          [
           "2019-05-27",
           "y"
          ],
          [
           "2019-05-27",
           "y"
          ],
          [
           "2019-05-28",
           "y"
          ],
          [
           "2019-05-28",
           "y"
          ],
          [
           "2019-05-28",
           "y"
          ],
          [
           "2019-05-28",
           "y"
          ],
          [
           "2019-05-28",
           "y"
          ],
          [
           "2019-05-28",
           "y"
          ],
          [
           "2019-05-28",
           "y"
          ],
          [
           "2019-05-28",
           "y"
          ],
          [
           "2019-05-28",
           "y"
          ],
          [
           "2019-05-28",
           "y"
          ],
          [
           "2019-05-28",
           "y"
          ],
          [
           "2019-05-28",
           "y"
          ],
          [
           "2019-05-28",
           "y"
          ],
          [
           "2019-05-29",
           "y"
          ],
          [
           "2019-05-30",
           "y"
          ],
          [
           "2019-05-31",
           "y"
          ],
          [
           "2019-06-01",
           "y"
          ],
          [
           "2019-06-01",
           "y"
          ],
          [
           "2019-06-02",
           "y"
          ],
          [
           "2019-06-03",
           "y"
          ],
          [
           "2019-06-03",
           "y"
          ],
          [
           "2019-06-03",
           "y"
          ],
          [
           "2019-06-03",
           "y"
          ],
          [
           "2019-06-03",
           "y"
          ],
          [
           "2019-06-03",
           "y"
          ],
          [
           "2019-06-03",
           "y"
          ],
          [
           "2019-06-03",
           "y"
          ],
          [
           "2019-06-04",
           "y"
          ],
          [
           "2019-06-05",
           "y"
          ],
          [
           "2019-06-06",
           "y"
          ],
          [
           "2019-06-07",
           "y"
          ],
          [
           "2019-06-08",
           "y"
          ],
          [
           "2019-06-09",
           "y"
          ],
          [
           "2019-06-10",
           "y"
          ],
          [
           "2019-06-11",
           "y"
          ],
          [
           "2019-06-12",
           "y"
          ],
          [
           "2019-06-12",
           "y"
          ],
          [
           "2019-06-12",
           "y"
          ],
          [
           "2019-06-12",
           "y"
          ],
          [
           "2019-06-12",
           "y"
          ],
          [
           "2019-06-12",
           "y"
          ],
          [
           "2019-06-12",
           "y"
          ],
          [
           "2019-06-13",
           "y"
          ],
          [
           "2019-06-13",
           "y"
          ],
          [
           "2019-06-13",
           "y"
          ],
          [
           "2019-06-13",
           "y"
          ],
          [
           "2019-06-14",
           "y"
          ],
          [
           "2019-06-15",
           "y"
          ],
          [
           "2019-06-16",
           "y"
          ],
          [
           "2019-06-17",
           "y"
          ],
          [
           "2019-06-18",
           "y"
          ],
          [
           "2019-06-19",
           "y"
          ],
          [
           "2019-06-20",
           "y"
          ],
          [
           "2019-06-21",
           "y"
          ],
          [
           "2019-06-22",
           "y"
          ],
          [
           "2019-06-23",
           "y"
          ],
          [
           "2019-06-24",
           "y"
          ],
          [
           "2019-06-25",
           "y"
          ],
          [
           "2019-06-26",
           "y"
          ],
          [
           "2019-06-27",
           "y"
          ],
          [
           "2019-06-27",
           "y"
          ],
          [
           "2019-06-28",
           "y"
          ],
          [
           "2019-06-29",
           "y"
          ],
          [
           "2019-06-30",
           "y"
          ],
          [
           "2019-07-01",
           "y"
          ],
          [
           "2019-07-02",
           "y"
          ],
          [
           "2019-07-03",
           "y"
          ],
          [
           "2019-07-04",
           "y"
          ],
          [
           "2019-07-04",
           "y"
          ],
          [
           "2019-07-04",
           "y"
          ],
          [
           "2019-07-05",
           "y"
          ],
          [
           "2019-07-05",
           "y"
          ],
          [
           "2019-07-06",
           "y"
          ],
          [
           "2019-07-07",
           "y"
          ],
          [
           "2019-07-08",
           "y"
          ],
          [
           "2019-07-09",
           "y"
          ],
          [
           "2019-07-10",
           "y"
          ],
          [
           "2019-07-11",
           "y"
          ],
          [
           "2019-07-12",
           "y"
          ],
          [
           "2019-07-13",
           "y"
          ],
          [
           "2019-07-14",
           "y"
          ],
          [
           "2019-07-15",
           "y"
          ],
          [
           "2019-07-16",
           "y"
          ],
          [
           "2019-07-16",
           "y"
          ],
          [
           "2019-07-16",
           "y"
          ],
          [
           "2019-07-16",
           "y"
          ],
          [
           "2019-07-16",
           "y"
          ],
          [
           "2019-07-16",
           "y"
          ],
          [
           "2019-07-17",
           "y"
          ],
          [
           "2019-07-18",
           "y"
          ],
          [
           "2019-07-19",
           "y"
          ],
          [
           "2019-07-20",
           "y"
          ],
          [
           "2019-07-21",
           "y"
          ],
          [
           "2019-07-22",
           "y"
          ],
          [
           "2019-07-23",
           "y"
          ],
          [
           "2019-07-24",
           "y"
          ],
          [
           "2019-07-25",
           "y"
          ],
          [
           "2019-07-26",
           "y"
          ],
          [
           "2019-07-27",
           "y"
          ],
          [
           "2019-07-28",
           "y"
          ],
          [
           "2019-07-29",
           "y"
          ],
          [
           "2019-07-30",
           "y"
          ],
          [
           "2019-07-31",
           "y"
          ],
          [
           "2019-08-01",
           "y"
          ],
          [
           "2019-08-02",
           "y"
          ],
          [
           "2019-08-02",
           "y"
          ],
          [
           "2019-08-02",
           "y"
          ],
          [
           "2019-08-02",
           "y"
          ],
          [
           "2019-08-02",
           "y"
          ],
          [
           "2019-08-02",
           "y"
          ],
          [
           "2019-08-02",
           "y"
          ],
          [
           "2019-08-03",
           "y"
          ],
          [
           "2019-08-04",
           "y"
          ],
          [
           "2019-08-05",
           "y"
          ],
          [
           "2019-08-06",
           "y"
          ],
          [
           "2019-08-07",
           "y"
          ],
          [
           "2019-08-08",
           "y"
          ],
          [
           "2019-08-08",
           "y"
          ],
          [
           "2019-08-08",
           "y"
          ],
          [
           "2019-08-08",
           "y"
          ],
          [
           "2019-08-08",
           "y"
          ],
          [
           "2019-08-08",
           "y"
          ],
          [
           "2019-08-08",
           "y"
          ],
          [
           "2019-08-08",
           "y"
          ],
          [
           "2019-08-08",
           "y"
          ],
          [
           "2019-08-08",
           "y"
          ],
          [
           "2019-08-09",
           "y"
          ],
          [
           "2019-08-10",
           "y"
          ],
          [
           "2019-08-11",
           "y"
          ],
          [
           "2019-08-12",
           "y"
          ],
          [
           "2019-08-13",
           "y"
          ],
          [
           "2019-08-13",
           "y"
          ],
          [
           "2019-08-13",
           "y"
          ],
          [
           "2019-08-13",
           "y"
          ],
          [
           "2019-08-13",
           "y"
          ],
          [
           "2019-08-14",
           "y"
          ],
          [
           "2019-08-14",
           "y"
          ],
          [
           "2019-08-15",
           "y"
          ],
          [
           "2019-08-16",
           "y"
          ],
          [
           "2019-08-16",
           "y"
          ],
          [
           "2019-08-16",
           "y"
          ],
          [
           "2019-08-16",
           "y"
          ],
          [
           "2019-08-16",
           "y"
          ],
          [
           "2019-08-16",
           "y"
          ],
          [
           "2019-08-16",
           "y"
          ],
          [
           "2019-08-16",
           "y"
          ],
          [
           "2019-08-16",
           "y"
          ],
          [
           "2019-08-16",
           "y"
          ],
          [
           "2019-08-16",
           "y"
          ],
          [
           "2019-08-17",
           "y"
          ],
          [
           "2019-08-17",
           "y"
          ],
          [
           "2019-08-17",
           "y"
          ],
          [
           "2019-08-18",
           "y"
          ],
          [
           "2019-08-19",
           "y"
          ],
          [
           "2019-08-20",
           "y"
          ],
          [
           "2019-08-21",
           "y"
          ],
          [
           "2019-08-22",
           "y"
          ],
          [
           "2019-08-23",
           "y"
          ],
          [
           "2019-08-23",
           "y"
          ],
          [
           "2019-08-23",
           "y"
          ],
          [
           "2019-08-23",
           "y"
          ],
          [
           "2019-08-23",
           "y"
          ],
          [
           "2019-08-24",
           "y"
          ],
          [
           "2019-08-25",
           "y"
          ],
          [
           "2019-08-26",
           "y"
          ],
          [
           "2019-08-27",
           "y"
          ],
          [
           "2019-08-28",
           "y"
          ],
          [
           "2019-08-29",
           "y"
          ],
          [
           "2019-08-30",
           "y"
          ],
          [
           "2019-08-31",
           "y"
          ],
          [
           "2019-09-01",
           "y"
          ],
          [
           "2019-09-02",
           "y"
          ],
          [
           "2019-09-03",
           "y"
          ],
          [
           "2019-09-04",
           "y"
          ],
          [
           "2019-09-04",
           "y"
          ],
          [
           "2019-09-04",
           "y"
          ],
          [
           "2019-09-04",
           "y"
          ],
          [
           "2019-09-04",
           "y"
          ],
          [
           "2019-09-04",
           "y"
          ],
          [
           "2019-09-05",
           "y"
          ],
          [
           "2019-09-06",
           "y"
          ],
          [
           "2019-09-07",
           "y"
          ],
          [
           "2019-09-08",
           "y"
          ],
          [
           "2019-09-09",
           "y"
          ],
          [
           "2019-09-10",
           "y"
          ],
          [
           "2019-09-10",
           "y"
          ],
          [
           "2019-09-10",
           "y"
          ],
          [
           "2019-09-11",
           "y"
          ],
          [
           "2019-09-11",
           "y"
          ],
          [
           "2019-09-11",
           "y"
          ],
          [
           "2019-09-12",
           "y"
          ],
          [
           "2019-09-13",
           "y"
          ],
          [
           "2019-09-14",
           "y"
          ],
          [
           "2019-09-15",
           "y"
          ],
          [
           "2019-09-16",
           "y"
          ],
          [
           "2019-09-17",
           "y"
          ],
          [
           "2019-09-18",
           "y"
          ],
          [
           "2019-09-19",
           "y"
          ],
          [
           "2019-09-19",
           "y"
          ],
          [
           "2019-09-20",
           "y"
          ],
          [
           "2019-09-21",
           "y"
          ],
          [
           "2019-09-22",
           "y"
          ],
          [
           "2019-09-23",
           "y"
          ],
          [
           "2019-09-23",
           "y"
          ],
          [
           "2019-09-23",
           "y"
          ],
          [
           "2019-09-24",
           "y"
          ],
          [
           "2019-09-25",
           "y"
          ],
          [
           "2019-09-25",
           "y"
          ],
          [
           "2019-09-25",
           "y"
          ],
          [
           "2019-09-25",
           "y"
          ],
          [
           "2019-09-25",
           "y"
          ],
          [
           "2019-09-25",
           "y"
          ],
          [
           "2019-09-25",
           "y"
          ],
          [
           "2019-09-25",
           "y"
          ],
          [
           "2019-09-25",
           "y"
          ],
          [
           "2019-09-25",
           "y"
          ],
          [
           "2019-09-25",
           "y"
          ],
          [
           "2019-09-26",
           "y"
          ],
          [
           "2019-09-26",
           "y"
          ],
          [
           "2019-09-26",
           "y"
          ],
          [
           "2019-09-27",
           "y"
          ],
          [
           "2019-09-27",
           "y"
          ],
          [
           "2019-09-27",
           "y"
          ],
          [
           "2019-09-28",
           "y"
          ],
          [
           "2019-09-29",
           "y"
          ],
          [
           "2019-09-30",
           "y"
          ],
          [
           "2019-10-01",
           "y"
          ],
          [
           "2019-10-02",
           "y"
          ],
          [
           "2019-10-03",
           "y"
          ],
          [
           "2019-10-04",
           "y"
          ],
          [
           "2019-10-05",
           "y"
          ],
          [
           "2019-10-06",
           "y"
          ],
          [
           "2019-10-07",
           "y"
          ],
          [
           "2019-10-08",
           "y"
          ],
          [
           "2019-10-08",
           "y"
          ],
          [
           "2019-10-09",
           "y"
          ],
          [
           "2019-10-09",
           "y"
          ],
          [
           "2019-10-09",
           "y"
          ],
          [
           "2019-10-09",
           "y"
          ],
          [
           "2019-10-09",
           "y"
          ],
          [
           "2019-10-10",
           "y"
          ],
          [
           "2019-10-10",
           "y"
          ],
          [
           "2019-10-10",
           "y"
          ],
          [
           "2019-10-10",
           "y"
          ],
          [
           "2019-10-11",
           "y"
          ],
          [
           "2019-10-12",
           "y"
          ],
          [
           "2019-10-13",
           "y"
          ],
          [
           "2019-10-14",
           "y"
          ],
          [
           "2019-10-15",
           "y"
          ],
          [
           "2019-10-16",
           "y"
          ],
          [
           "2019-10-16",
           "y"
          ],
          [
           "2019-10-16",
           "y"
          ],
          [
           "2019-10-17",
           "y"
          ],
          [
           "2019-10-18",
           "y"
          ],
          [
           "2019-10-19",
           "y"
          ],
          [
           "2019-10-20",
           "y"
          ],
          [
           "2019-10-21",
           "y"
          ],
          [
           "2019-10-21",
           "y"
          ],
          [
           "2019-10-22",
           "y"
          ],
          [
           "2019-10-23",
           "y"
          ],
          [
           "2019-10-24",
           "y"
          ],
          [
           "2019-10-25",
           "y"
          ],
          [
           "2019-10-25",
           "y"
          ],
          [
           "2019-10-25",
           "y"
          ],
          [
           "2019-10-26",
           "y"
          ],
          [
           "2019-10-27",
           "y"
          ],
          [
           "2019-10-28",
           "y"
          ],
          [
           "2019-10-29",
           "y"
          ],
          [
           "2019-10-30",
           "y"
          ],
          [
           "2019-10-30",
           "y"
          ],
          [
           "2019-10-31",
           "y"
          ],
          [
           "2019-10-31",
           "y"
          ],
          [
           "2019-10-31",
           "y"
          ],
          [
           "2019-10-31",
           "y"
          ],
          [
           "2019-10-31",
           "y"
          ],
          [
           "2019-10-31",
           "y"
          ],
          [
           "2019-11-01",
           "y"
          ],
          [
           "2019-11-02",
           "y"
          ],
          [
           "2019-11-03",
           "y"
          ],
          [
           "2019-11-04",
           "y"
          ],
          [
           "2019-11-05",
           "y"
          ],
          [
           "2019-11-05",
           "y"
          ],
          [
           "2019-11-06",
           "y"
          ],
          [
           "2019-11-07",
           "y"
          ],
          [
           "2019-11-08",
           "y"
          ],
          [
           "2019-11-09",
           "y"
          ],
          [
           "2019-11-10",
           "y"
          ],
          [
           "2019-11-11",
           "y"
          ],
          [
           "2019-11-12",
           "y"
          ],
          [
           "2019-11-13",
           "y"
          ],
          [
           "2019-11-14",
           "y"
          ],
          [
           "2019-11-15",
           "y"
          ],
          [
           "2019-11-16",
           "y"
          ],
          [
           "2019-11-17",
           "y"
          ],
          [
           "2019-11-18",
           "y"
          ],
          [
           "2019-11-18",
           "y"
          ],
          [
           "2019-11-18",
           "y"
          ],
          [
           "2019-11-18",
           "y"
          ],
          [
           "2019-11-18",
           "y"
          ],
          [
           "2019-11-18",
           "y"
          ],
          [
           "2019-11-18",
           "y"
          ],
          [
           "2019-11-18",
           "y"
          ],
          [
           "2019-11-18",
           "y"
          ],
          [
           "2019-11-19",
           "y"
          ],
          [
           "2019-11-19",
           "y"
          ],
          [
           "2019-11-20",
           "y"
          ],
          [
           "2019-11-21",
           "y"
          ],
          [
           "2019-11-22",
           "y"
          ],
          [
           "2019-11-23",
           "y"
          ],
          [
           "2019-11-24",
           "y"
          ],
          [
           "2019-11-25",
           "y"
          ],
          [
           "2019-11-25",
           "y"
          ],
          [
           "2019-11-26",
           "y"
          ],
          [
           "2019-11-27",
           "y"
          ],
          [
           "2019-11-28",
           "y"
          ],
          [
           "2019-11-28",
           "y"
          ],
          [
           "2019-11-28",
           "y"
          ],
          [
           "2019-11-28",
           "y"
          ],
          [
           "2019-11-29",
           "y"
          ],
          [
           "2019-11-30",
           "y"
          ],
          [
           "2019-12-01",
           "y"
          ],
          [
           "2019-12-02",
           "y"
          ],
          [
           "2019-12-03",
           "y"
          ],
          [
           "2019-12-04",
           "y"
          ],
          [
           "2019-12-05",
           "y"
          ],
          [
           "2019-12-06",
           "y"
          ],
          [
           "2019-12-07",
           "y"
          ],
          [
           "2019-12-08",
           "y"
          ],
          [
           "2019-12-09",
           "y"
          ],
          [
           "2019-12-10",
           "y"
          ],
          [
           "2019-12-11",
           "y"
          ],
          [
           "2019-12-12",
           "y"
          ],
          [
           "2019-12-13",
           "y"
          ],
          [
           "2019-12-14",
           "y"
          ],
          [
           "2019-12-14",
           "y"
          ],
          [
           "2019-12-14",
           "y"
          ],
          [
           "2019-12-14",
           "y"
          ],
          [
           "2019-12-14",
           "y"
          ],
          [
           "2019-12-14",
           "y"
          ],
          [
           "2019-12-14",
           "y"
          ],
          [
           "2019-12-15",
           "y"
          ],
          [
           "2019-12-16",
           "y"
          ],
          [
           "2019-12-17",
           "y"
          ],
          [
           "2019-12-18",
           "y"
          ],
          [
           "2019-12-19",
           "y"
          ],
          [
           "2019-12-20",
           "y"
          ],
          [
           "2019-12-21",
           "y"
          ],
          [
           "2019-12-22",
           "y"
          ],
          [
           "2019-12-23",
           "y"
          ],
          [
           "2019-12-24",
           "y"
          ],
          [
           "2019-12-25",
           "y"
          ],
          [
           "2019-12-25",
           "y"
          ],
          [
           "2019-12-25",
           "y"
          ],
          [
           "2019-12-25",
           "y"
          ],
          [
           "2019-12-25",
           "y"
          ],
          [
           "2019-12-25",
           "y"
          ],
          [
           "2019-12-25",
           "y"
          ],
          [
           "2019-12-25",
           "y"
          ],
          [
           "2019-12-25",
           "y"
          ],
          [
           "2019-12-25",
           "y"
          ],
          [
           "2019-12-26",
           "y"
          ],
          [
           "2019-12-27",
           "y"
          ],
          [
           "2019-12-28",
           "y"
          ],
          [
           "2019-12-29",
           "y"
          ],
          [
           "2019-12-30",
           "y"
          ],
          [
           "2019-12-31",
           "y"
          ]
         ],
         "hovertemplate": "%{customdata[0]} <br>%{customdata[1]}=%{z} <br>Week=%{x}",
         "name": "2019",
         "showscale": false,
         "type": "heatmap",
         "x": [
          0,
          0,
          0,
          0,
          0,
          0,
          0,
          1,
          1,
          1,
          1,
          1,
          1,
          1,
          1,
          1,
          1,
          1,
          1,
          1,
          1,
          1,
          1,
          2,
          2,
          2,
          2,
          2,
          2,
          2,
          2,
          2,
          2,
          3,
          3,
          3,
          3,
          3,
          3,
          3,
          3,
          4,
          4,
          4,
          4,
          4,
          4,
          4,
          5,
          5,
          5,
          5,
          5,
          5,
          5,
          6,
          6,
          6,
          6,
          6,
          6,
          6,
          6,
          7,
          7,
          7,
          7,
          7,
          7,
          7,
          8,
          8,
          8,
          8,
          8,
          8,
          8,
          8,
          8,
          8,
          9,
          9,
          9,
          9,
          9,
          9,
          9,
          9,
          9,
          9,
          9,
          9,
          9,
          9,
          9,
          10,
          10,
          10,
          10,
          10,
          10,
          10,
          11,
          11,
          11,
          11,
          11,
          11,
          11,
          11,
          11,
          11,
          11,
          11,
          11,
          11,
          12,
          12,
          12,
          12,
          12,
          12,
          12,
          12,
          12,
          12,
          12,
          12,
          12,
          12,
          12,
          12,
          12,
          12,
          12,
          12,
          12,
          12,
          12,
          12,
          12,
          12,
          12,
          12,
          12,
          12,
          13,
          13,
          13,
          13,
          13,
          13,
          13,
          13,
          13,
          14,
          14,
          14,
          14,
          14,
          14,
          14,
          14,
          15,
          15,
          15,
          15,
          15,
          15,
          15,
          16,
          16,
          16,
          16,
          16,
          16,
          16,
          16,
          16,
          16,
          16,
          16,
          16,
          16,
          17,
          17,
          17,
          17,
          17,
          17,
          17,
          17,
          17,
          17,
          17,
          17,
          17,
          17,
          17,
          17,
          17,
          17,
          17,
          17,
          17,
          17,
          17,
          17,
          17,
          17,
          17,
          17,
          17,
          17,
          17,
          17,
          18,
          18,
          18,
          18,
          18,
          18,
          18,
          18,
          18,
          18,
          18,
          18,
          19,
          19,
          19,
          19,
          19,
          19,
          19,
          20,
          20,
          20,
          20,
          20,
          20,
          20,
          21,
          21,
          21,
          21,
          21,
          21,
          21,
          21,
          21,
          21,
          21,
          21,
          21,
          21,
          21,
          21,
          21,
          21,
          21,
          21,
          21,
          22,
          22,
          22,
          22,
          22,
          22,
          22,
          22,
          22,
          22,
          22,
          22,
          22,
          22,
          23,
          23,
          23,
          23,
          23,
          23,
          23,
          23,
          23,
          23,
          23,
          23,
          23,
          23,
          23,
          23,
          24,
          24,
          24,
          24,
          24,
          24,
          24,
          25,
          25,
          25,
          25,
          25,
          25,
          25,
          25,
          26,
          26,
          26,
          26,
          26,
          26,
          26,
          26,
          26,
          26,
          27,
          27,
          27,
          27,
          27,
          27,
          27,
          28,
          28,
          28,
          28,
          28,
          28,
          28,
          28,
          28,
          28,
          28,
          28,
          29,
          29,
          29,
          29,
          29,
          29,
          29,
          30,
          30,
          30,
          30,
          30,
          30,
          30,
          30,
          30,
          30,
          30,
          30,
          30,
          31,
          31,
          31,
          31,
          31,
          31,
          31,
          31,
          31,
          31,
          31,
          31,
          31,
          31,
          31,
          31,
          32,
          32,
          32,
          32,
          32,
          32,
          32,
          32,
          32,
          32,
          32,
          32,
          32,
          32,
          32,
          32,
          32,
          32,
          32,
          32,
          32,
          32,
          32,
          32,
          33,
          33,
          33,
          33,
          33,
          33,
          33,
          33,
          33,
          33,
          33,
          34,
          34,
          34,
          34,
          34,
          34,
          34,
          35,
          35,
          35,
          35,
          35,
          35,
          35,
          35,
          35,
          35,
          35,
          35,
          36,
          36,
          36,
          36,
          36,
          36,
          36,
          36,
          36,
          36,
          36,
          37,
          37,
          37,
          37,
          37,
          37,
          37,
          37,
          38,
          38,
          38,
          38,
          38,
          38,
          38,
          38,
          38,
          38,
          38,
          38,
          38,
          38,
          38,
          38,
          38,
          38,
          38,
          38,
          38,
          38,
          38,
          39,
          39,
          39,
          39,
          39,
          39,
          39,
          40,
          40,
          40,
          40,
          40,
          40,
          40,
          40,
          40,
          40,
          40,
          40,
          40,
          40,
          40,
          41,
          41,
          41,
          41,
          41,
          41,
          41,
          41,
          41,
          42,
          42,
          42,
          42,
          42,
          42,
          42,
          42,
          42,
          42,
          43,
          43,
          43,
          43,
          43,
          43,
          43,
          43,
          43,
          43,
          43,
          43,
          43,
          44,
          44,
          44,
          44,
          44,
          44,
          44,
          44,
          45,
          45,
          45,
          45,
          45,
          45,
          45,
          46,
          46,
          46,
          46,
          46,
          46,
          46,
          46,
          46,
          46,
          46,
          46,
          46,
          46,
          46,
          46,
          47,
          47,
          47,
          47,
          47,
          47,
          47,
          47,
          47,
          47,
          47,
          48,
          48,
          48,
          48,
          48,
          48,
          48,
          49,
          49,
          49,
          49,
          49,
          49,
          49,
          49,
          49,
          49,
          49,
          49,
          49,
          50,
          50,
          50,
          50,
          50,
          50,
          50,
          51,
          51,
          51,
          51,
          51,
          51,
          51,
          51,
          51,
          51,
          51,
          51,
          51,
          51,
          51,
          51,
          52,
          52
         ],
         "xaxis": "x5",
         "xgap": 1,
         "y": [
          1,
          2,
          3,
          3,
          4,
          5,
          6,
          0,
          0,
          0,
          0,
          0,
          0,
          1,
          2,
          2,
          2,
          2,
          2,
          3,
          4,
          5,
          6,
          0,
          0,
          0,
          0,
          1,
          2,
          3,
          4,
          5,
          6,
          0,
          1,
          2,
          3,
          4,
          4,
          5,
          6,
          0,
          1,
          2,
          3,
          4,
          5,
          6,
          0,
          1,
          2,
          3,
          4,
          5,
          6,
          0,
          1,
          1,
          2,
          3,
          4,
          5,
          6,
          0,
          1,
          2,
          3,
          4,
          5,
          6,
          0,
          0,
          1,
          2,
          2,
          2,
          3,
          4,
          5,
          6,
          0,
          1,
          2,
          2,
          2,
          2,
          2,
          2,
          2,
          2,
          2,
          3,
          4,
          5,
          6,
          0,
          1,
          2,
          3,
          4,
          5,
          6,
          0,
          1,
          2,
          3,
          3,
          3,
          3,
          3,
          3,
          3,
          3,
          4,
          5,
          6,
          0,
          1,
          1,
          1,
          1,
          1,
          1,
          1,
          1,
          1,
          1,
          1,
          1,
          1,
          1,
          1,
          1,
          1,
          1,
          1,
          1,
          2,
          3,
          3,
          3,
          3,
          4,
          4,
          5,
          6,
          0,
          1,
          2,
          3,
          3,
          3,
          4,
          5,
          6,
          0,
          0,
          1,
          2,
          3,
          4,
          5,
          6,
          0,
          1,
          2,
          3,
          4,
          5,
          6,
          0,
          0,
          0,
          0,
          0,
          0,
          0,
          1,
          2,
          3,
          4,
          4,
          5,
          6,
          0,
          0,
          0,
          0,
          1,
          1,
          1,
          1,
          1,
          1,
          1,
          1,
          1,
          1,
          1,
          1,
          2,
          3,
          3,
          3,
          3,
          3,
          3,
          3,
          3,
          3,
          3,
          3,
          3,
          4,
          5,
          6,
          0,
          1,
          1,
          1,
          1,
          1,
          1,
          2,
          3,
          4,
          5,
          6,
          0,
          1,
          2,
          3,
          4,
          5,
          6,
          0,
          1,
          2,
          3,
          4,
          5,
          6,
          0,
          0,
          1,
          1,
          1,
          1,
          1,
          1,
          1,
          1,
          1,
          1,
          1,
          1,
          1,
          2,
          3,
          4,
          5,
          5,
          6,
          0,
          0,
          0,
          0,
          0,
          0,
          0,
          0,
          1,
          2,
          3,
          4,
          5,
          6,
          0,
          1,
          2,
          2,
          2,
          2,
          2,
          2,
          2,
          3,
          3,
          3,
          3,
          4,
          5,
          6,
          0,
          1,
          2,
          3,
          4,
          5,
          6,
          0,
          1,
          2,
          3,
          3,
          4,
          5,
          6,
          0,
          1,
          2,
          3,
          3,
          3,
          4,
          4,
          5,
          6,
          0,
          1,
          2,
          3,
          4,
          5,
          6,
          0,
          1,
          1,
          1,
          1,
          1,
          1,
          2,
          3,
          4,
          5,
          6,
          0,
          1,
          2,
          3,
          4,
          5,
          6,
          0,
          1,
          2,
          3,
          4,
          4,
          4,
          4,
          4,
          4,
          4,
          5,
          6,
          0,
          1,
          2,
          3,
          3,
          3,
          3,
          3,
          3,
          3,
          3,
          3,
          3,
          4,
          5,
          6,
          0,
          1,
          1,
          1,
          1,
          1,
          2,
          2,
          3,
          4,
          4,
          4,
          4,
          4,
          4,
          4,
          4,
          4,
          4,
          4,
          5,
          5,
          5,
          6,
          0,
          1,
          2,
          3,
          4,
          4,
          4,
          4,
          4,
          5,
          6,
          0,
          1,
          2,
          3,
          4,
          5,
          6,
          0,
          1,
          2,
          2,
          2,
          2,
          2,
          2,
          3,
          4,
          5,
          6,
          0,
          1,
          1,
          1,
          2,
          2,
          2,
          3,
          4,
          5,
          6,
          0,
          1,
          2,
          3,
          3,
          4,
          5,
          6,
          0,
          0,
          0,
          1,
          2,
          2,
          2,
          2,
          2,
          2,
          2,
          2,
          2,
          2,
          2,
          3,
          3,
          3,
          4,
          4,
          4,
          5,
          6,
          0,
          1,
          2,
          3,
          4,
          5,
          6,
          0,
          1,
          1,
          2,
          2,
          2,
          2,
          2,
          3,
          3,
          3,
          3,
          4,
          5,
          6,
          0,
          1,
          2,
          2,
          2,
          3,
          4,
          5,
          6,
          0,
          0,
          1,
          2,
          3,
          4,
          4,
          4,
          5,
          6,
          0,
          1,
          2,
          2,
          3,
          3,
          3,
          3,
          3,
          3,
          4,
          5,
          6,
          0,
          1,
          1,
          2,
          3,
          4,
          5,
          6,
          0,
          1,
          2,
          3,
          4,
          5,
          6,
          0,
          0,
          0,
          0,
          0,
          0,
          0,
          0,
          0,
          1,
          1,
          2,
          3,
          4,
          5,
          6,
          0,
          0,
          1,
          2,
          3,
          3,
          3,
          3,
          4,
          5,
          6,
          0,
          1,
          2,
          3,
          4,
          5,
          6,
          0,
          1,
          2,
          3,
          4,
          5,
          5,
          5,
          5,
          5,
          5,
          5,
          6,
          0,
          1,
          2,
          3,
          4,
          5,
          6,
          0,
          1,
          2,
          2,
          2,
          2,
          2,
          2,
          2,
          2,
          2,
          2,
          3,
          4,
          5,
          6,
          0,
          1
         ],
         "yaxis": "y5",
         "ygap": 1,
         "z": [
          0,
          0,
          1,
          2,
          0,
          0,
          0,
          6,
          1,
          1,
          3,
          1,
          5,
          22,
          1,
          3,
          1,
          2,
          4,
          0,
          14,
          0,
          0,
          8,
          1,
          2,
          1,
          1,
          4,
          0,
          0,
          0,
          0,
          0,
          0,
          0,
          0,
          18,
          1,
          0,
          0,
          0,
          2,
          1,
          0,
          8,
          0,
          0,
          0,
          0,
          0,
          11,
          0,
          0,
          0,
          0,
          21,
          9,
          0,
          0,
          8,
          0,
          0,
          0,
          0,
          0,
          4,
          0,
          0,
          0,
          9,
          4,
          0,
          1,
          1,
          4,
          8,
          0,
          0,
          0,
          0,
          6,
          1,
          1,
          1,
          2,
          1,
          7,
          1,
          1,
          1,
          0,
          7,
          0,
          0,
          0,
          0,
          0,
          0,
          0,
          0,
          0,
          0,
          0,
          0,
          15,
          4,
          3,
          3,
          2,
          1,
          1,
          1,
          0,
          0,
          0,
          0,
          2,
          1,
          1,
          1,
          1,
          4,
          2,
          8,
          1,
          8,
          2,
          1,
          1,
          10,
          1,
          12,
          1,
          10,
          1,
          1,
          1,
          1,
          1,
          2,
          1,
          2,
          9,
          0,
          0,
          0,
          0,
          0,
          2,
          7,
          1,
          0,
          0,
          0,
          4,
          1,
          0,
          0,
          0,
          0,
          0,
          0,
          1,
          0,
          0,
          0,
          0,
          0,
          0,
          1,
          31,
          1,
          1,
          3,
          1,
          1,
          0,
          0,
          0,
          1,
          15,
          0,
          0,
          1,
          1,
          1,
          1,
          1,
          4,
          3,
          1,
          7,
          15,
          1,
          1,
          3,
          11,
          1,
          1,
          0,
          1,
          1,
          1,
          2,
          5,
          1,
          2,
          1,
          9,
          3,
          1,
          8,
          1,
          0,
          0,
          0,
          2,
          3,
          4,
          3,
          1,
          1,
          15,
          2,
          0,
          0,
          0,
          0,
          0,
          2,
          0,
          0,
          0,
          0,
          0,
          0,
          0,
          0,
          0,
          0,
          0,
          1,
          3,
          1,
          3,
          2,
          2,
          1,
          2,
          1,
          6,
          1,
          2,
          1,
          1,
          1,
          0,
          8,
          0,
          1,
          12,
          0,
          1,
          4,
          1,
          1,
          2,
          8,
          6,
          1,
          0,
          0,
          0,
          0,
          0,
          0,
          1,
          0,
          2,
          3,
          1,
          3,
          1,
          7,
          1,
          1,
          2,
          1,
          1,
          0,
          0,
          0,
          0,
          1,
          0,
          0,
          0,
          0,
          0,
          0,
          0,
          0,
          8,
          3,
          9,
          0,
          0,
          0,
          0,
          0,
          4,
          14,
          6,
          1,
          1,
          0,
          0,
          1,
          0,
          1,
          0,
          0,
          0,
          0,
          0,
          2,
          4,
          4,
          2,
          3,
          3,
          0,
          0,
          0,
          0,
          0,
          0,
          1,
          0,
          0,
          0,
          0,
          0,
          0,
          0,
          0,
          0,
          1,
          3,
          8,
          1,
          2,
          1,
          2,
          0,
          0,
          0,
          0,
          0,
          1,
          3,
          2,
          4,
          1,
          3,
          9,
          11,
          6,
          1,
          1,
          0,
          0,
          0,
          1,
          1,
          3,
          3,
          1,
          1,
          6,
          0,
          1,
          6,
          2,
          6,
          4,
          1,
          1,
          6,
          6,
          6,
          1,
          2,
          2,
          1,
          0,
          0,
          0,
          0,
          0,
          1,
          4,
          3,
          1,
          1,
          0,
          0,
          0,
          0,
          0,
          5,
          0,
          0,
          0,
          0,
          0,
          3,
          9,
          1,
          3,
          3,
          14,
          0,
          0,
          0,
          0,
          0,
          1,
          11,
          6,
          5,
          1,
          4,
          0,
          0,
          0,
          0,
          0,
          0,
          0,
          1,
          6,
          0,
          0,
          0,
          2,
          2,
          1,
          0,
          2,
          5,
          2,
          1,
          5,
          2,
          1,
          9,
          1,
          18,
          3,
          1,
          1,
          1,
          4,
          12,
          1,
          0,
          0,
          0,
          0,
          0,
          0,
          0,
          0,
          0,
          0,
          8,
          8,
          2,
          6,
          3,
          1,
          1,
          2,
          3,
          4,
          10,
          0,
          0,
          0,
          22,
          3,
          1,
          4,
          9,
          0,
          1,
          0,
          0,
          21,
          1,
          0,
          0,
          0,
          1,
          4,
          3,
          0,
          0,
          0,
          0,
          5,
          1,
          1,
          13,
          1,
          3,
          3,
          1,
          0,
          0,
          0,
          0,
          1,
          2,
          0,
          0,
          0,
          0,
          0,
          0,
          0,
          0,
          0,
          0,
          0,
          0,
          2,
          1,
          1,
          1,
          2,
          1,
          1,
          1,
          1,
          6,
          3,
          0,
          6,
          0,
          0,
          0,
          1,
          7,
          0,
          2,
          11,
          8,
          1,
          18,
          0,
          0,
          0,
          0,
          0,
          0,
          0,
          0,
          0,
          0,
          0,
          1,
          0,
          0,
          0,
          3,
          1,
          1,
          1,
          1,
          6,
          2,
          0,
          1,
          0,
          0,
          0,
          0,
          0,
          0,
          0,
          0,
          2,
          3,
          1,
          2,
          4,
          2,
          3,
          1,
          1,
          2,
          1,
          16,
          0,
          0,
          11,
          0
         ],
         "zmax": 61,
         "zmin": 0
        },
        {
         "hoverinfo": "skip",
         "line": {
          "color": "#9e9e9e",
          "width": 1
         },
         "mode": "lines",
         "type": "scatter",
         "x": [
          -0.5,
          -0.5
         ],
         "xaxis": "x5",
         "y": [
          0.5,
          6.5
         ],
         "yaxis": "y5"
        },
        {
         "hoverinfo": "skip",
         "line": {
          "color": "#9e9e9e",
          "width": 1
         },
         "mode": "lines",
         "type": "scatter",
         "x": [
          -0.5,
          0.5
         ],
         "xaxis": "x5",
         "y": [
          0.5,
          0.5
         ],
         "yaxis": "y5"
        },
        {
         "hoverinfo": "skip",
         "line": {
          "color": "#9e9e9e",
          "width": 1
         },
         "mode": "lines",
         "type": "scatter",
         "x": [
          0.5,
          0.5
         ],
         "xaxis": "x5",
         "y": [
          0.5,
          -0.5
         ],
         "yaxis": "y5"
        },
        {
         "hoverinfo": "skip",
         "line": {
          "color": "#9e9e9e",
          "width": 1
         },
         "mode": "lines",
         "type": "scatter",
         "x": [
          3.5,
          3.5
         ],
         "xaxis": "x5",
         "y": [
          3.5,
          6.5
         ],
         "yaxis": "y5"
        },
        {
         "hoverinfo": "skip",
         "line": {
          "color": "#9e9e9e",
          "width": 1
         },
         "mode": "lines",
         "type": "scatter",
         "x": [
          3.5,
          4.5
         ],
         "xaxis": "x5",
         "y": [
          3.5,
          3.5
         ],
         "yaxis": "y5"
        },
        {
         "hoverinfo": "skip",
         "line": {
          "color": "#9e9e9e",
          "width": 1
         },
         "mode": "lines",
         "type": "scatter",
         "x": [
          4.5,
          4.5
         ],
         "xaxis": "x5",
         "y": [
          3.5,
          -0.5
         ],
         "yaxis": "y5"
        },
        {
         "hoverinfo": "skip",
         "line": {
          "color": "#9e9e9e",
          "width": 1
         },
         "mode": "lines",
         "type": "scatter",
         "x": [
          7.5,
          7.5
         ],
         "xaxis": "x5",
         "y": [
          3.5,
          6.5
         ],
         "yaxis": "y5"
        },
        {
         "hoverinfo": "skip",
         "line": {
          "color": "#9e9e9e",
          "width": 1
         },
         "mode": "lines",
         "type": "scatter",
         "x": [
          7.5,
          8.5
         ],
         "xaxis": "x5",
         "y": [
          3.5,
          3.5
         ],
         "yaxis": "y5"
        },
        {
         "hoverinfo": "skip",
         "line": {
          "color": "#9e9e9e",
          "width": 1
         },
         "mode": "lines",
         "type": "scatter",
         "x": [
          8.5,
          8.5
         ],
         "xaxis": "x5",
         "y": [
          3.5,
          -0.5
         ],
         "yaxis": "y5"
        },
        {
         "hoverinfo": "skip",
         "line": {
          "color": "#9e9e9e",
          "width": 1
         },
         "mode": "lines",
         "type": "scatter",
         "x": [
          12.5,
          12.5
         ],
         "xaxis": "x5",
         "y": [
          -0.5,
          6.5
         ],
         "yaxis": "y5"
        },
        {
         "hoverinfo": "skip",
         "line": {
          "color": "#9e9e9e",
          "width": 1
         },
         "mode": "lines",
         "type": "scatter",
         "x": [
          16.5,
          16.5
         ],
         "xaxis": "x5",
         "y": [
          1.5,
          6.5
         ],
         "yaxis": "y5"
        },
        {
         "hoverinfo": "skip",
         "line": {
          "color": "#9e9e9e",
          "width": 1
         },
         "mode": "lines",
         "type": "scatter",
         "x": [
          16.5,
          17.5
         ],
         "xaxis": "x5",
         "y": [
          1.5,
          1.5
         ],
         "yaxis": "y5"
        },
        {
         "hoverinfo": "skip",
         "line": {
          "color": "#9e9e9e",
          "width": 1
         },
         "mode": "lines",
         "type": "scatter",
         "x": [
          17.5,
          17.5
         ],
         "xaxis": "x5",
         "y": [
          1.5,
          -0.5
         ],
         "yaxis": "y5"
        },
        {
         "hoverinfo": "skip",
         "line": {
          "color": "#9e9e9e",
          "width": 1
         },
         "mode": "lines",
         "type": "scatter",
         "x": [
          20.5,
          20.5
         ],
         "xaxis": "x5",
         "y": [
          4.5,
          6.5
         ],
         "yaxis": "y5"
        },
        {
         "hoverinfo": "skip",
         "line": {
          "color": "#9e9e9e",
          "width": 1
         },
         "mode": "lines",
         "type": "scatter",
         "x": [
          20.5,
          21.5
         ],
         "xaxis": "x5",
         "y": [
          4.5,
          4.5
         ],
         "yaxis": "y5"
        },
        {
         "hoverinfo": "skip",
         "line": {
          "color": "#9e9e9e",
          "width": 1
         },
         "mode": "lines",
         "type": "scatter",
         "x": [
          21.5,
          21.5
         ],
         "xaxis": "x5",
         "y": [
          4.5,
          -0.5
         ],
         "yaxis": "y5"
        },
        {
         "hoverinfo": "skip",
         "line": {
          "color": "#9e9e9e",
          "width": 1
         },
         "mode": "lines",
         "type": "scatter",
         "x": [
          20.5,
          20.5
         ],
         "xaxis": "x5",
         "y": [
          4.5,
          6.5
         ],
         "yaxis": "y5"
        },
        {
         "hoverinfo": "skip",
         "line": {
          "color": "#9e9e9e",
          "width": 1
         },
         "mode": "lines",
         "type": "scatter",
         "x": [
          20.5,
          21.5
         ],
         "xaxis": "x5",
         "y": [
          4.5,
          4.5
         ],
         "yaxis": "y5"
        },
        {
         "hoverinfo": "skip",
         "line": {
          "color": "#9e9e9e",
          "width": 1
         },
         "mode": "lines",
         "type": "scatter",
         "x": [
          21.5,
          21.5
         ],
         "xaxis": "x5",
         "y": [
          4.5,
          -0.5
         ],
         "yaxis": "y5"
        },
        {
         "hoverinfo": "skip",
         "line": {
          "color": "#9e9e9e",
          "width": 1
         },
         "mode": "lines",
         "type": "scatter",
         "x": [
          25.5,
          25.5
         ],
         "xaxis": "x5",
         "y": [
          -0.5,
          6.5
         ],
         "yaxis": "y5"
        },
        {
         "hoverinfo": "skip",
         "line": {
          "color": "#9e9e9e",
          "width": 1
         },
         "mode": "lines",
         "type": "scatter",
         "x": [
          29.5,
          29.5
         ],
         "xaxis": "x5",
         "y": [
          2.5,
          6.5
         ],
         "yaxis": "y5"
        },
        {
         "hoverinfo": "skip",
         "line": {
          "color": "#9e9e9e",
          "width": 1
         },
         "mode": "lines",
         "type": "scatter",
         "x": [
          29.5,
          30.5
         ],
         "xaxis": "x5",
         "y": [
          2.5,
          2.5
         ],
         "yaxis": "y5"
        },
        {
         "hoverinfo": "skip",
         "line": {
          "color": "#9e9e9e",
          "width": 1
         },
         "mode": "lines",
         "type": "scatter",
         "x": [
          30.5,
          30.5
         ],
         "xaxis": "x5",
         "y": [
          2.5,
          -0.5
         ],
         "yaxis": "y5"
        },
        {
         "hoverinfo": "skip",
         "line": {
          "color": "#9e9e9e",
          "width": 1
         },
         "mode": "lines",
         "type": "scatter",
         "x": [
          33.5,
          33.5
         ],
         "xaxis": "x5",
         "y": [
          5.5,
          6.5
         ],
         "yaxis": "y5"
        },
        {
         "hoverinfo": "skip",
         "line": {
          "color": "#9e9e9e",
          "width": 1
         },
         "mode": "lines",
         "type": "scatter",
         "x": [
          33.5,
          34.5
         ],
         "xaxis": "x5",
         "y": [
          5.5,
          5.5
         ],
         "yaxis": "y5"
        },
        {
         "hoverinfo": "skip",
         "line": {
          "color": "#9e9e9e",
          "width": 1
         },
         "mode": "lines",
         "type": "scatter",
         "x": [
          34.5,
          34.5
         ],
         "xaxis": "x5",
         "y": [
          5.5,
          -0.5
         ],
         "yaxis": "y5"
        },
        {
         "hoverinfo": "skip",
         "line": {
          "color": "#9e9e9e",
          "width": 1
         },
         "mode": "lines",
         "type": "scatter",
         "x": [
          38.5,
          38.5
         ],
         "xaxis": "x5",
         "y": [
          0.5,
          6.5
         ],
         "yaxis": "y5"
        },
        {
         "hoverinfo": "skip",
         "line": {
          "color": "#9e9e9e",
          "width": 1
         },
         "mode": "lines",
         "type": "scatter",
         "x": [
          38.5,
          39.5
         ],
         "xaxis": "x5",
         "y": [
          0.5,
          0.5
         ],
         "yaxis": "y5"
        },
        {
         "hoverinfo": "skip",
         "line": {
          "color": "#9e9e9e",
          "width": 1
         },
         "mode": "lines",
         "type": "scatter",
         "x": [
          39.5,
          39.5
         ],
         "xaxis": "x5",
         "y": [
          0.5,
          -0.5
         ],
         "yaxis": "y5"
        },
        {
         "hoverinfo": "skip",
         "line": {
          "color": "#9e9e9e",
          "width": 1
         },
         "mode": "lines",
         "type": "scatter",
         "x": [
          42.5,
          42.5
         ],
         "xaxis": "x5",
         "y": [
          3.5,
          6.5
         ],
         "yaxis": "y5"
        },
        {
         "hoverinfo": "skip",
         "line": {
          "color": "#9e9e9e",
          "width": 1
         },
         "mode": "lines",
         "type": "scatter",
         "x": [
          42.5,
          43.5
         ],
         "xaxis": "x5",
         "y": [
          3.5,
          3.5
         ],
         "yaxis": "y5"
        },
        {
         "hoverinfo": "skip",
         "line": {
          "color": "#9e9e9e",
          "width": 1
         },
         "mode": "lines",
         "type": "scatter",
         "x": [
          43.5,
          43.5
         ],
         "xaxis": "x5",
         "y": [
          3.5,
          -0.5
         ],
         "yaxis": "y5"
        },
        {
         "hoverinfo": "skip",
         "line": {
          "color": "#9e9e9e",
          "width": 1
         },
         "mode": "lines",
         "type": "scatter",
         "x": [
          46.5,
          46.5
         ],
         "xaxis": "x5",
         "y": [
          5.5,
          6.5
         ],
         "yaxis": "y5"
        },
        {
         "hoverinfo": "skip",
         "line": {
          "color": "#9e9e9e",
          "width": 1
         },
         "mode": "lines",
         "type": "scatter",
         "x": [
          46.5,
          47.5
         ],
         "xaxis": "x5",
         "y": [
          5.5,
          5.5
         ],
         "yaxis": "y5"
        },
        {
         "hoverinfo": "skip",
         "line": {
          "color": "#9e9e9e",
          "width": 1
         },
         "mode": "lines",
         "type": "scatter",
         "x": [
          47.5,
          47.5
         ],
         "xaxis": "x5",
         "y": [
          5.5,
          -0.5
         ],
         "yaxis": "y5"
        },
        {
         "colorscale": [
          [
           0,
           "rgb(247,252,245)"
          ],
          [
           0.125,
           "rgb(229,245,224)"
          ],
          [
           0.25,
           "rgb(199,233,192)"
          ],
          [
           0.375,
           "rgb(161,217,155)"
          ],
          [
           0.5,
           "rgb(116,196,118)"
          ],
          [
           0.625,
           "rgb(65,171,93)"
          ],
          [
           0.75,
           "rgb(35,139,69)"
          ],
          [
           0.875,
           "rgb(0,109,44)"
          ],
          [
           1,
           "rgb(0,68,27)"
          ]
         ],
         "customdata": [
          [
           "2020-01-01",
           "y"
          ],
          [
           "2020-01-02",
           "y"
          ],
          [
           "2020-01-03",
           "y"
          ],
          [
           "2020-01-04",
           "y"
          ],
          [
           "2020-01-05",
           "y"
          ],
          [
           "2020-01-06",
           "y"
          ],
          [
           "2020-01-07",
           "y"
          ],
          [
           "2020-01-07",
           "y"
          ],
          [
           "2020-01-07",
           "y"
          ],
          [
           "2020-01-07",
           "y"
          ],
          [
           "2020-01-07",
           "y"
          ],
          [
           "2020-01-07",
           "y"
          ],
          [
           "2020-01-07",
           "y"
          ],
          [
           "2020-01-08",
           "y"
          ],
          [
           "2020-01-08",
           "y"
          ],
          [
           "2020-01-08",
           "y"
          ],
          [
           "2020-01-08",
           "y"
          ],
          [
           "2020-01-09",
           "y"
          ],
          [
           "2020-01-10",
           "y"
          ],
          [
           "2020-01-10",
           "y"
          ],
          [
           "2020-01-10",
           "y"
          ],
          [
           "2020-01-10",
           "y"
          ],
          [
           "2020-01-10",
           "y"
          ],
          [
           "2020-01-10",
           "y"
          ],
          [
           "2020-01-11",
           "y"
          ],
          [
           "2020-01-12",
           "y"
          ],
          [
           "2020-01-13",
           "y"
          ],
          [
           "2020-01-14",
           "y"
          ],
          [
           "2020-01-15",
           "y"
          ],
          [
           "2020-01-16",
           "y"
          ],
          [
           "2020-01-17",
           "y"
          ],
          [
           "2020-01-18",
           "y"
          ],
          [
           "2020-01-18",
           "y"
          ],
          [
           "2020-01-19",
           "y"
          ],
          [
           "2020-01-20",
           "y"
          ],
          [
           "2020-01-21",
           "y"
          ],
          [
           "2020-01-21",
           "y"
          ],
          [
           "2020-01-21",
           "y"
          ],
          [
           "2020-01-21",
           "y"
          ],
          [
           "2020-01-22",
           "y"
          ],
          [
           "2020-01-23",
           "y"
          ],
          [
           "2020-01-24",
           "y"
          ],
          [
           "2020-01-24",
           "y"
          ],
          [
           "2020-01-24",
           "y"
          ],
          [
           "2020-01-24",
           "y"
          ],
          [
           "2020-01-25",
           "y"
          ],
          [
           "2020-01-26",
           "y"
          ],
          [
           "2020-01-27",
           "y"
          ],
          [
           "2020-01-28",
           "y"
          ],
          [
           "2020-01-29",
           "y"
          ],
          [
           "2020-01-30",
           "y"
          ],
          [
           "2020-01-31",
           "y"
          ],
          [
           "2020-02-01",
           "y"
          ],
          [
           "2020-02-02",
           "y"
          ],
          [
           "2020-02-03",
           "y"
          ],
          [
           "2020-02-04",
           "y"
          ],
          [
           "2020-02-05",
           "y"
          ],
          [
           "2020-02-06",
           "y"
          ],
          [
           "2020-02-07",
           "y"
          ],
          [
           "2020-02-08",
           "y"
          ],
          [
           "2020-02-09",
           "y"
          ],
          [
           "2020-02-10",
           "y"
          ],
          [
           "2020-02-11",
           "y"
          ],
          [
           "2020-02-12",
           "y"
          ],
          [
           "2020-02-13",
           "y"
          ],
          [
           "2020-02-14",
           "y"
          ],
          [
           "2020-02-14",
           "y"
          ],
          [
           "2020-02-15",
           "y"
          ],
          [
           "2020-02-16",
           "y"
          ],
          [
           "2020-02-17",
           "y"
          ],
          [
           "2020-02-18",
           "y"
          ],
          [
           "2020-02-19",
           "y"
          ],
          [
           "2020-02-19",
           "y"
          ],
          [
           "2020-02-19",
           "y"
          ],
          [
           "2020-02-19",
           "y"
          ],
          [
           "2020-02-20",
           "y"
          ],
          [
           "2020-02-21",
           "y"
          ],
          [
           "2020-02-22",
           "y"
          ],
          [
           "2020-02-23",
           "y"
          ],
          [
           "2020-02-24",
           "y"
          ],
          [
           "2020-02-25",
           "y"
          ],
          [
           "2020-02-26",
           "y"
          ],
          [
           "2020-02-27",
           "y"
          ],
          [
           "2020-02-28",
           "y"
          ],
          [
           "2020-02-29",
           "y"
          ],
          [
           "2020-03-01",
           "y"
          ],
          [
           "2020-03-02",
           "y"
          ],
          [
           "2020-03-03",
           "y"
          ],
          [
           "2020-03-04",
           "y"
          ],
          [
           "2020-03-05",
           "y"
          ],
          [
           "2020-03-06",
           "y"
          ],
          [
           "2020-03-07",
           "y"
          ],
          [
           "2020-03-08",
           "y"
          ],
          [
           "2020-03-09",
           "y"
          ],
          [
           "2020-03-10",
           "y"
          ],
          [
           "2020-03-11",
           "y"
          ],
          [
           "2020-03-12",
           "y"
          ],
          [
           "2020-03-13",
           "y"
          ],
          [
           "2020-03-13",
           "y"
          ],
          [
           "2020-03-14",
           "y"
          ],
          [
           "2020-03-15",
           "y"
          ],
          [
           "2020-03-16",
           "y"
          ],
          [
           "2020-03-17",
           "y"
          ],
          [
           "2020-03-18",
           "y"
          ],
          [
           "2020-03-19",
           "y"
          ],
          [
           "2020-03-20",
           "y"
          ],
          [
           "2020-03-21",
           "y"
          ],
          [
           "2020-03-22",
           "y"
          ],
          [
           "2020-03-23",
           "y"
          ],
          [
           "2020-03-24",
           "y"
          ],
          [
           "2020-03-25",
           "y"
          ],
          [
           "2020-03-26",
           "y"
          ],
          [
           "2020-03-27",
           "y"
          ],
          [
           "2020-03-28",
           "y"
          ],
          [
           "2020-03-29",
           "y"
          ],
          [
           "2020-03-30",
           "y"
          ],
          [
           "2020-03-31",
           "y"
          ],
          [
           "2020-04-01",
           "y"
          ],
          [
           "2020-04-02",
           "y"
          ],
          [
           "2020-04-03",
           "y"
          ],
          [
           "2020-04-04",
           "y"
          ],
          [
           "2020-04-05",
           "y"
          ],
          [
           "2020-04-06",
           "y"
          ],
          [
           "2020-04-07",
           "y"
          ],
          [
           "2020-04-08",
           "y"
          ],
          [
           "2020-04-09",
           "y"
          ],
          [
           "2020-04-10",
           "y"
          ],
          [
           "2020-04-11",
           "y"
          ],
          [
           "2020-04-12",
           "y"
          ],
          [
           "2020-04-13",
           "y"
          ],
          [
           "2020-04-14",
           "y"
          ],
          [
           "2020-04-15",
           "y"
          ],
          [
           "2020-04-16",
           "y"
          ],
          [
           "2020-04-17",
           "y"
          ],
          [
           "2020-04-18",
           "y"
          ],
          [
           "2020-04-19",
           "y"
          ],
          [
           "2020-04-20",
           "y"
          ],
          [
           "2020-04-21",
           "y"
          ],
          [
           "2020-04-22",
           "y"
          ],
          [
           "2020-04-23",
           "y"
          ],
          [
           "2020-04-24",
           "y"
          ],
          [
           "2020-04-25",
           "y"
          ],
          [
           "2020-04-26",
           "y"
          ],
          [
           "2020-04-27",
           "y"
          ],
          [
           "2020-04-28",
           "y"
          ],
          [
           "2020-04-28",
           "y"
          ],
          [
           "2020-04-28",
           "y"
          ],
          [
           "2020-04-28",
           "y"
          ],
          [
           "2020-04-28",
           "y"
          ],
          [
           "2020-04-28",
           "y"
          ],
          [
           "2020-04-28",
           "y"
          ],
          [
           "2020-04-28",
           "y"
          ],
          [
           "2020-04-28",
           "y"
          ],
          [
           "2020-04-28",
           "y"
          ],
          [
           "2020-04-29",
           "y"
          ],
          [
           "2020-04-30",
           "y"
          ],
          [
           "2020-05-01",
           "y"
          ],
          [
           "2020-05-02",
           "y"
          ],
          [
           "2020-05-03",
           "y"
          ],
          [
           "2020-05-04",
           "y"
          ],
          [
           "2020-05-05",
           "y"
          ],
          [
           "2020-05-06",
           "y"
          ],
          [
           "2020-05-07",
           "y"
          ],
          [
           "2020-05-08",
           "y"
          ],
          [
           "2020-05-09",
           "y"
          ],
          [
           "2020-05-10",
           "y"
          ],
          [
           "2020-05-11",
           "y"
          ],
          [
           "2020-05-12",
           "y"
          ],
          [
           "2020-05-13",
           "y"
          ],
          [
           "2020-05-14",
           "y"
          ],
          [
           "2020-05-15",
           "y"
          ],
          [
           "2020-05-16",
           "y"
          ],
          [
           "2020-05-17",
           "y"
          ],
          [
           "2020-05-18",
           "y"
          ],
          [
           "2020-05-19",
           "y"
          ],
          [
           "2020-05-20",
           "y"
          ],
          [
           "2020-05-21",
           "y"
          ],
          [
           "2020-05-22",
           "y"
          ],
          [
           "2020-05-23",
           "y"
          ],
          [
           "2020-05-24",
           "y"
          ],
          [
           "2020-05-25",
           "y"
          ],
          [
           "2020-05-26",
           "y"
          ],
          [
           "2020-05-27",
           "y"
          ],
          [
           "2020-05-28",
           "y"
          ],
          [
           "2020-05-29",
           "y"
          ],
          [
           "2020-05-30",
           "y"
          ],
          [
           "2020-05-31",
           "y"
          ],
          [
           "2020-06-01",
           "y"
          ],
          [
           "2020-06-02",
           "y"
          ],
          [
           "2020-06-03",
           "y"
          ],
          [
           "2020-06-04",
           "y"
          ],
          [
           "2020-06-05",
           "y"
          ],
          [
           "2020-06-06",
           "y"
          ],
          [
           "2020-06-07",
           "y"
          ],
          [
           "2020-06-08",
           "y"
          ],
          [
           "2020-06-09",
           "y"
          ],
          [
           "2020-06-10",
           "y"
          ],
          [
           "2020-06-10",
           "y"
          ],
          [
           "2020-06-10",
           "y"
          ],
          [
           "2020-06-10",
           "y"
          ],
          [
           "2020-06-10",
           "y"
          ],
          [
           "2020-06-10",
           "y"
          ],
          [
           "2020-06-10",
           "y"
          ],
          [
           "2020-06-10",
           "y"
          ],
          [
           "2020-06-10",
           "y"
          ],
          [
           "2020-06-10",
           "y"
          ],
          [
           "2020-06-10",
           "y"
          ],
          [
           "2020-06-10",
           "y"
          ],
          [
           "2020-06-10",
           "y"
          ],
          [
           "2020-06-10",
           "y"
          ],
          [
           "2020-06-10",
           "y"
          ],
          [
           "2020-06-10",
           "y"
          ],
          [
           "2020-06-11",
           "y"
          ],
          [
           "2020-06-12",
           "y"
          ],
          [
           "2020-06-13",
           "y"
          ],
          [
           "2020-06-14",
           "y"
          ],
          [
           "2020-06-15",
           "y"
          ],
          [
           "2020-06-16",
           "y"
          ],
          [
           "2020-06-17",
           "y"
          ],
          [
           "2020-06-18",
           "y"
          ],
          [
           "2020-06-19",
           "y"
          ],
          [
           "2020-06-20",
           "y"
          ],
          [
           "2020-06-21",
           "y"
          ],
          [
           "2020-06-22",
           "y"
          ],
          [
           "2020-06-22",
           "y"
          ],
          [
           "2020-06-22",
           "y"
          ],
          [
           "2020-06-22",
           "y"
          ],
          [
           "2020-06-22",
           "y"
          ],
          [
           "2020-06-22",
           "y"
          ],
          [
           "2020-06-23",
           "y"
          ],
          [
           "2020-06-23",
           "y"
          ],
          [
           "2020-06-23",
           "y"
          ],
          [
           "2020-06-23",
           "y"
          ],
          [
           "2020-06-24",
           "y"
          ],
          [
           "2020-06-25",
           "y"
          ],
          [
           "2020-06-26",
           "y"
          ],
          [
           "2020-06-27",
           "y"
          ],
          [
           "2020-06-28",
           "y"
          ],
          [
           "2020-06-29",
           "y"
          ],
          [
           "2020-06-30",
           "y"
          ],
          [
           "2020-07-01",
           "y"
          ],
          [
           "2020-07-02",
           "y"
          ],
          [
           "2020-07-03",
           "y"
          ],
          [
           "2020-07-04",
           "y"
          ],
          [
           "2020-07-05",
           "y"
          ],
          [
           "2020-07-06",
           "y"
          ],
          [
           "2020-07-06",
           "y"
          ],
          [
           "2020-07-06",
           "y"
          ],
          [
           "2020-07-06",
           "y"
          ],
          [
           "2020-07-06",
           "y"
          ],
          [
           "2020-07-06",
           "y"
          ],
          [
           "2020-07-07",
           "y"
          ],
          [
           "2020-07-07",
           "y"
          ],
          [
           "2020-07-07",
           "y"
          ],
          [
           "2020-07-07",
           "y"
          ],
          [
           "2020-07-07",
           "y"
          ],
          [
           "2020-07-07",
           "y"
          ],
          [
           "2020-07-07",
           "y"
          ],
          [
           "2020-07-08",
           "y"
          ],
          [
           "2020-07-08",
           "y"
          ],
          [
           "2020-07-09",
           "y"
          ],
          [
           "2020-07-10",
           "y"
          ],
          [
           "2020-07-11",
           "y"
          ],
          [
           "2020-07-12",
           "y"
          ],
          [
           "2020-07-13",
           "y"
          ],
          [
           "2020-07-14",
           "y"
          ],
          [
           "2020-07-14",
           "y"
          ],
          [
           "2020-07-15",
           "y"
          ],
          [
           "2020-07-16",
           "y"
          ],
          [
           "2020-07-17",
           "y"
          ],
          [
           "2020-07-18",
           "y"
          ],
          [
           "2020-07-19",
           "y"
          ],
          [
           "2020-07-20",
           "y"
          ],
          [
           "2020-07-21",
           "y"
          ],
          [
           "2020-07-21",
           "y"
          ],
          [
           "2020-07-21",
           "y"
          ],
          [
           "2020-07-22",
           "y"
          ],
          [
           "2020-07-23",
           "y"
          ],
          [
           "2020-07-24",
           "y"
          ],
          [
           "2020-07-24",
           "y"
          ],
          [
           "2020-07-25",
           "y"
          ],
          [
           "2020-07-26",
           "y"
          ],
          [
           "2020-07-27",
           "y"
          ],
          [
           "2020-07-27",
           "y"
          ],
          [
           "2020-07-28",
           "y"
          ],
          [
           "2020-07-29",
           "y"
          ],
          [
           "2020-07-30",
           "y"
          ],
          [
           "2020-07-31",
           "y"
          ],
          [
           "2020-08-01",
           "y"
          ],
          [
           "2020-08-02",
           "y"
          ],
          [
           "2020-08-03",
           "y"
          ],
          [
           "2020-08-04",
           "y"
          ],
          [
           "2020-08-05",
           "y"
          ],
          [
           "2020-08-06",
           "y"
          ],
          [
           "2020-08-06",
           "y"
          ],
          [
           "2020-08-06",
           "y"
          ],
          [
           "2020-08-06",
           "y"
          ],
          [
           "2020-08-07",
           "y"
          ],
          [
           "2020-08-08",
           "y"
          ],
          [
           "2020-08-09",
           "y"
          ],
          [
           "2020-08-10",
           "y"
          ],
          [
           "2020-08-11",
           "y"
          ],
          [
           "2020-08-11",
           "y"
          ],
          [
           "2020-08-12",
           "y"
          ],
          [
           "2020-08-13",
           "y"
          ],
          [
           "2020-08-13",
           "y"
          ],
          [
           "2020-08-14",
           "y"
          ],
          [
           "2020-08-15",
           "y"
          ],
          [
           "2020-08-16",
           "y"
          ],
          [
           "2020-08-17",
           "y"
          ],
          [
           "2020-08-18",
           "y"
          ],
          [
           "2020-08-19",
           "y"
          ],
          [
           "2020-08-19",
           "y"
          ],
          [
           "2020-08-20",
           "y"
          ],
          [
           "2020-08-21",
           "y"
          ],
          [
           "2020-08-22",
           "y"
          ],
          [
           "2020-08-23",
           "y"
          ],
          [
           "2020-08-24",
           "y"
          ],
          [
           "2020-08-24",
           "y"
          ],
          [
           "2020-08-25",
           "y"
          ],
          [
           "2020-08-25",
           "y"
          ],
          [
           "2020-08-25",
           "y"
          ],
          [
           "2020-08-25",
           "y"
          ],
          [
           "2020-08-25",
           "y"
          ],
          [
           "2020-08-25",
           "y"
          ],
          [
           "2020-08-25",
           "y"
          ],
          [
           "2020-08-26",
           "y"
          ],
          [
           "2020-08-27",
           "y"
          ],
          [
           "2020-08-28",
           "y"
          ],
          [
           "2020-08-28",
           "y"
          ],
          [
           "2020-08-28",
           "y"
          ],
          [
           "2020-08-29",
           "y"
          ],
          [
           "2020-08-30",
           "y"
          ],
          [
           "2020-08-31",
           "y"
          ],
          [
           "2020-09-01",
           "y"
          ],
          [
           "2020-09-02",
           "y"
          ],
          [
           "2020-09-02",
           "y"
          ],
          [
           "2020-09-03",
           "y"
          ],
          [
           "2020-09-03",
           "y"
          ],
          [
           "2020-09-04",
           "y"
          ],
          [
           "2020-09-04",
           "y"
          ],
          [
           "2020-09-04",
           "y"
          ],
          [
           "2020-09-04",
           "y"
          ],
          [
           "2020-09-04",
           "y"
          ],
          [
           "2020-09-04",
           "y"
          ],
          [
           "2020-09-05",
           "y"
          ],
          [
           "2020-09-06",
           "y"
          ],
          [
           "2020-09-07",
           "y"
          ],
          [
           "2020-09-07",
           "y"
          ],
          [
           "2020-09-08",
           "y"
          ],
          [
           "2020-09-09",
           "y"
          ],
          [
           "2020-09-09",
           "y"
          ],
          [
           "2020-09-10",
           "y"
          ],
          [
           "2020-09-10",
           "y"
          ],
          [
           "2020-09-10",
           "y"
          ],
          [
           "2020-09-11",
           "y"
          ],
          [
           "2020-09-12",
           "y"
          ],
          [
           "2020-09-13",
           "y"
          ],
          [
           "2020-09-14",
           "y"
          ],
          [
           "2020-09-14",
           "y"
          ],
          [
           "2020-09-15",
           "y"
          ],
          [
           "2020-09-16",
           "y"
          ],
          [
           "2020-09-17",
           "y"
          ],
          [
           "2020-09-18",
           "y"
          ],
          [
           "2020-09-19",
           "y"
          ],
          [
           "2020-09-20",
           "y"
          ],
          [
           "2020-09-21",
           "y"
          ],
          [
           "2020-09-22",
           "y"
          ],
          [
           "2020-09-23",
           "y"
          ],
          [
           "2020-09-23",
           "y"
          ],
          [
           "2020-09-24",
           "y"
          ],
          [
           "2020-09-24",
           "y"
          ],
          [
           "2020-09-24",
           "y"
          ],
          [
           "2020-09-24",
           "y"
          ],
          [
           "2020-09-24",
           "y"
          ],
          [
           "2020-09-24",
           "y"
          ],
          [
           "2020-09-25",
           "y"
          ],
          [
           "2020-09-26",
           "y"
          ],
          [
           "2020-09-27",
           "y"
          ],
          [
           "2020-09-28",
           "y"
          ],
          [
           "2020-09-29",
           "y"
          ],
          [
           "2020-09-30",
           "y"
          ],
          [
           "2020-10-01",
           "y"
          ],
          [
           "2020-10-02",
           "y"
          ],
          [
           "2020-10-02",
           "y"
          ],
          [
           "2020-10-02",
           "y"
          ],
          [
           "2020-10-02",
           "y"
          ],
          [
           "2020-10-02",
           "y"
          ],
          [
           "2020-10-02",
           "y"
          ],
          [
           "2020-10-03",
           "y"
          ],
          [
           "2020-10-04",
           "y"
          ],
          [
           "2020-10-05",
           "y"
          ],
          [
           "2020-10-05",
           "y"
          ],
          [
           "2020-10-06",
           "y"
          ],
          [
           "2020-10-06",
           "y"
          ],
          [
           "2020-10-07",
           "y"
          ],
          [
           "2020-10-08",
           "y"
          ],
          [
           "2020-10-09",
           "y"
          ],
          [
           "2020-10-10",
           "y"
          ],
          [
           "2020-10-11",
           "y"
          ],
          [
           "2020-10-12",
           "y"
          ],
          [
           "2020-10-13",
           "y"
          ],
          [
           "2020-10-13",
           "y"
          ],
          [
           "2020-10-13",
           "y"
          ],
          [
           "2020-10-14",
           "y"
          ],
          [
           "2020-10-15",
           "y"
          ],
          [
           "2020-10-16",
           "y"
          ],
          [
           "2020-10-16",
           "y"
          ],
          [
           "2020-10-16",
           "y"
          ],
          [
           "2020-10-16",
           "y"
          ],
          [
           "2020-10-17",
           "y"
          ],
          [
           "2020-10-18",
           "y"
          ],
          [
           "2020-10-19",
           "y"
          ],
          [
           "2020-10-20",
           "y"
          ],
          [
           "2020-10-20",
           "y"
          ],
          [
           "2020-10-20",
           "y"
          ],
          [
           "2020-10-20",
           "y"
          ],
          [
           "2020-10-20",
           "y"
          ],
          [
           "2020-10-21",
           "y"
          ],
          [
           "2020-10-22",
           "y"
          ],
          [
           "2020-10-23",
           "y"
          ],
          [
           "2020-10-23",
           "y"
          ],
          [
           "2020-10-23",
           "y"
          ],
          [
           "2020-10-23",
           "y"
          ],
          [
           "2020-10-23",
           "y"
          ],
          [
           "2020-10-23",
           "y"
          ],
          [
           "2020-10-23",
           "y"
          ],
          [
           "2020-10-24",
           "y"
          ],
          [
           "2020-10-25",
           "y"
          ],
          [
           "2020-10-26",
           "y"
          ],
          [
           "2020-10-27",
           "y"
          ],
          [
           "2020-10-27",
           "y"
          ],
          [
           "2020-10-28",
           "y"
          ],
          [
           "2020-10-28",
           "y"
          ],
          [
           "2020-10-28",
           "y"
          ],
          [
           "2020-10-28",
           "y"
          ],
          [
           "2020-10-28",
           "y"
          ],
          [
           "2020-10-28",
           "y"
          ],
          [
           "2020-10-29",
           "y"
          ],
          [
           "2020-10-30",
           "y"
          ],
          [
           "2020-10-31",
           "y"
          ],
          [
           "2020-11-01",
           "y"
          ],
          [
           "2020-11-02",
           "y"
          ],
          [
           "2020-11-03",
           "y"
          ],
          [
           "2020-11-03",
           "y"
          ],
          [
           "2020-11-04",
           "y"
          ],
          [
           "2020-11-04",
           "y"
          ],
          [
           "2020-11-04",
           "y"
          ],
          [
           "2020-11-04",
           "y"
          ],
          [
           "2020-11-05",
           "y"
          ],
          [
           "2020-11-06",
           "y"
          ],
          [
           "2020-11-06",
           "y"
          ],
          [
           "2020-11-07",
           "y"
          ],
          [
           "2020-11-08",
           "y"
          ],
          [
           "2020-11-09",
           "y"
          ],
          [
           "2020-11-09",
           "y"
          ],
          [
           "2020-11-09",
           "y"
          ],
          [
           "2020-11-10",
           "y"
          ],
          [
           "2020-11-10",
           "y"
          ],
          [
           "2020-11-11",
           "y"
          ],
          [
           "2020-11-12",
           "y"
          ],
          [
           "2020-11-12",
           "y"
          ],
          [
           "2020-11-12",
           "y"
          ],
          [
           "2020-11-12",
           "y"
          ],
          [
           "2020-11-12",
           "y"
          ],
          [
           "2020-11-13",
           "y"
          ],
          [
           "2020-11-14",
           "y"
          ],
          [
           "2020-11-15",
           "y"
          ],
          [
           "2020-11-16",
           "y"
          ],
          [
           "2020-11-17",
           "y"
          ],
          [
           "2020-11-18",
           "y"
          ],
          [
           "2020-11-19",
           "y"
          ],
          [
           "2020-11-20",
           "y"
          ],
          [
           "2020-11-20",
           "y"
          ],
          [
           "2020-11-21",
           "y"
          ],
          [
           "2020-11-22",
           "y"
          ],
          [
           "2020-11-23",
           "y"
          ],
          [
           "2020-11-23",
           "y"
          ],
          [
           "2020-11-24",
           "y"
          ],
          [
           "2020-11-25",
           "y"
          ],
          [
           "2020-11-26",
           "y"
          ],
          [
           "2020-11-27",
           "y"
          ],
          [
           "2020-11-27",
           "y"
          ],
          [
           "2020-11-28",
           "y"
          ],
          [
           "2020-11-29",
           "y"
          ],
          [
           "2020-11-30",
           "y"
          ],
          [
           "2020-12-01",
           "y"
          ],
          [
           "2020-12-01",
           "y"
          ],
          [
           "2020-12-01",
           "y"
          ],
          [
           "2020-12-01",
           "y"
          ],
          [
           "2020-12-02",
           "y"
          ],
          [
           "2020-12-02",
           "y"
          ],
          [
           "2020-12-02",
           "y"
          ],
          [
           "2020-12-03",
           "y"
          ],
          [
           "2020-12-04",
           "y"
          ],
          [
           "2020-12-05",
           "y"
          ],
          [
           "2020-12-06",
           "y"
          ],
          [
           "2020-12-07",
           "y"
          ],
          [
           "2020-12-07",
           "y"
          ],
          [
           "2020-12-07",
           "y"
          ],
          [
           "2020-12-07",
           "y"
          ],
          [
           "2020-12-07",
           "y"
          ],
          [
           "2020-12-08",
           "y"
          ],
          [
           "2020-12-09",
           "y"
          ],
          [
           "2020-12-10",
           "y"
          ],
          [
           "2020-12-11",
           "y"
          ],
          [
           "2020-12-12",
           "y"
          ],
          [
           "2020-12-13",
           "y"
          ],
          [
           "2020-12-14",
           "y"
          ],
          [
           "2020-12-15",
           "y"
          ],
          [
           "2020-12-15",
           "y"
          ],
          [
           "2020-12-15",
           "y"
          ],
          [
           "2020-12-15",
           "y"
          ],
          [
           "2020-12-15",
           "y"
          ],
          [
           "2020-12-15",
           "y"
          ],
          [
           "2020-12-15",
           "y"
          ],
          [
           "2020-12-15",
           "y"
          ],
          [
           "2020-12-16",
           "y"
          ],
          [
           "2020-12-16",
           "y"
          ],
          [
           "2020-12-16",
           "y"
          ],
          [
           "2020-12-17",
           "y"
          ],
          [
           "2020-12-17",
           "y"
          ],
          [
           "2020-12-18",
           "y"
          ],
          [
           "2020-12-18",
           "y"
          ],
          [
           "2020-12-19",
           "y"
          ],
          [
           "2020-12-20",
           "y"
          ],
          [
           "2020-12-21",
           "y"
          ],
          [
           "2020-12-22",
           "y"
          ],
          [
           "2020-12-23",
           "y"
          ],
          [
           "2020-12-23",
           "y"
          ],
          [
           "2020-12-23",
           "y"
          ],
          [
           "2020-12-23",
           "y"
          ],
          [
           "2020-12-23",
           "y"
          ],
          [
           "2020-12-24",
           "y"
          ],
          [
           "2020-12-24",
           "y"
          ],
          [
           "2020-12-24",
           "y"
          ],
          [
           "2020-12-25",
           "y"
          ],
          [
           "2020-12-26",
           "y"
          ],
          [
           "2020-12-27",
           "y"
          ],
          [
           "2020-12-28",
           "y"
          ],
          [
           "2020-12-28",
           "y"
          ],
          [
           "2020-12-28",
           "y"
          ],
          [
           "2020-12-29",
           "y"
          ],
          [
           "2020-12-30",
           "y"
          ],
          [
           "2020-12-31",
           "y"
          ]
         ],
         "hovertemplate": "%{customdata[0]} <br>%{customdata[1]}=%{z} <br>Week=%{x}",
         "name": "2020",
         "showscale": false,
         "type": "heatmap",
         "x": [
          0,
          0,
          0,
          0,
          0,
          1,
          1,
          1,
          1,
          1,
          1,
          1,
          1,
          1,
          1,
          1,
          1,
          1,
          1,
          1,
          1,
          1,
          1,
          1,
          1,
          1,
          2,
          2,
          2,
          2,
          2,
          2,
          2,
          2,
          3,
          3,
          3,
          3,
          3,
          3,
          3,
          3,
          3,
          3,
          3,
          3,
          3,
          4,
          4,
          4,
          4,
          4,
          4,
          4,
          5,
          5,
          5,
          5,
          5,
          5,
          5,
          6,
          6,
          6,
          6,
          6,
          6,
          6,
          6,
          7,
          7,
          7,
          7,
          7,
          7,
          7,
          7,
          7,
          7,
          8,
          8,
          8,
          8,
          8,
          8,
          8,
          9,
          9,
          9,
          9,
          9,
          9,
          9,
          10,
          10,
          10,
          10,
          10,
          10,
          10,
          10,
          11,
          11,
          11,
          11,
          11,
          11,
          11,
          12,
          12,
          12,
          12,
          12,
          12,
          12,
          13,
          13,
          13,
          13,
          13,
          13,
          13,
          14,
          14,
          14,
          14,
          14,
          14,
          14,
          15,
          15,
          15,
          15,
          15,
          15,
          15,
          16,
          16,
          16,
          16,
          16,
          16,
          16,
          17,
          17,
          17,
          17,
          17,
          17,
          17,
          17,
          17,
          17,
          17,
          17,
          17,
          17,
          17,
          17,
          18,
          18,
          18,
          18,
          18,
          18,
          18,
          19,
          19,
          19,
          19,
          19,
          19,
          19,
          20,
          20,
          20,
          20,
          20,
          20,
          20,
          21,
          21,
          21,
          21,
          21,
          21,
          21,
          22,
          22,
          22,
          22,
          22,
          22,
          22,
          23,
          23,
          23,
          23,
          23,
          23,
          23,
          23,
          23,
          23,
          23,
          23,
          23,
          23,
          23,
          23,
          23,
          23,
          23,
          23,
          23,
          23,
          24,
          24,
          24,
          24,
          24,
          24,
          24,
          25,
          25,
          25,
          25,
          25,
          25,
          25,
          25,
          25,
          25,
          25,
          25,
          25,
          25,
          25,
          26,
          26,
          26,
          26,
          26,
          26,
          26,
          27,
          27,
          27,
          27,
          27,
          27,
          27,
          27,
          27,
          27,
          27,
          27,
          27,
          27,
          27,
          27,
          27,
          27,
          27,
          28,
          28,
          28,
          28,
          28,
          28,
          28,
          28,
          29,
          29,
          29,
          29,
          29,
          29,
          29,
          29,
          29,
          29,
          30,
          30,
          30,
          30,
          30,
          30,
          30,
          30,
          31,
          31,
          31,
          31,
          31,
          31,
          31,
          31,
          31,
          31,
          32,
          32,
          32,
          32,
          32,
          32,
          32,
          32,
          32,
          33,
          33,
          33,
          33,
          33,
          33,
          33,
          33,
          34,
          34,
          34,
          34,
          34,
          34,
          34,
          34,
          34,
          34,
          34,
          34,
          34,
          34,
          34,
          34,
          35,
          35,
          35,
          35,
          35,
          35,
          35,
          35,
          35,
          35,
          35,
          35,
          35,
          35,
          36,
          36,
          36,
          36,
          36,
          36,
          36,
          36,
          36,
          36,
          36,
          37,
          37,
          37,
          37,
          37,
          37,
          37,
          37,
          38,
          38,
          38,
          38,
          38,
          38,
          38,
          38,
          38,
          38,
          38,
          38,
          38,
          39,
          39,
          39,
          39,
          39,
          39,
          39,
          39,
          39,
          39,
          39,
          39,
          40,
          40,
          40,
          40,
          40,
          40,
          40,
          40,
          40,
          41,
          41,
          41,
          41,
          41,
          41,
          41,
          41,
          41,
          41,
          41,
          41,
          42,
          42,
          42,
          42,
          42,
          42,
          42,
          42,
          42,
          42,
          42,
          42,
          42,
          42,
          42,
          42,
          42,
          43,
          43,
          43,
          43,
          43,
          43,
          43,
          43,
          43,
          43,
          43,
          43,
          43,
          44,
          44,
          44,
          44,
          44,
          44,
          44,
          44,
          44,
          44,
          44,
          44,
          45,
          45,
          45,
          45,
          45,
          45,
          45,
          45,
          45,
          45,
          45,
          45,
          45,
          45,
          46,
          46,
          46,
          46,
          46,
          46,
          46,
          46,
          47,
          47,
          47,
          47,
          47,
          47,
          47,
          47,
          47,
          48,
          48,
          48,
          48,
          48,
          48,
          48,
          48,
          48,
          48,
          48,
          48,
          49,
          49,
          49,
          49,
          49,
          49,
          49,
          49,
          49,
          49,
          49,
          50,
          50,
          50,
          50,
          50,
          50,
          50,
          50,
          50,
          50,
          50,
          50,
          50,
          50,
          50,
          50,
          50,
          50,
          51,
          51,
          51,
          51,
          51,
          51,
          51,
          51,
          51,
          51,
          51,
          51,
          51,
          52,
          52,
          52,
          52,
          52,
          52
         ],
         "xaxis": "x6",
         "xgap": 1,
         "y": [
          2,
          3,
          4,
          5,
          6,
          0,
          1,
          1,
          1,
          1,
          1,
          1,
          1,
          2,
          2,
          2,
          2,
          3,
          4,
          4,
          4,
          4,
          4,
          4,
          5,
          6,
          0,
          1,
          2,
          3,
          4,
          5,
          5,
          6,
          0,
          1,
          1,
          1,
          1,
          2,
          3,
          4,
          4,
          4,
          4,
          5,
          6,
          0,
          1,
          2,
          3,
          4,
          5,
          6,
          0,
          1,
          2,
          3,
          4,
          5,
          6,
          0,
          1,
          2,
          3,
          4,
          4,
          5,
          6,
          0,
          1,
          2,
          2,
          2,
          2,
          3,
          4,
          5,
          6,
          0,
          1,
          2,
          3,
          4,
          5,
          6,
          0,
          1,
          2,
          3,
          4,
          5,
          6,
          0,
          1,
          2,
          3,
          4,
          4,
          5,
          6,
          0,
          1,
          2,
          3,
          4,
          5,
          6,
          0,
          1,
          2,
          3,
          4,
          5,
          6,
          0,
          1,
          2,
          3,
          4,
          5,
          6,
          0,
          1,
          2,
          3,
          4,
          5,
          6,
          0,
          1,
          2,
          3,
          4,
          5,
          6,
          0,
          1,
          2,
          3,
          4,
          5,
          6,
          0,
          1,
          1,
          1,
          1,
          1,
          1,
          1,
          1,
          1,
          1,
          2,
          3,
          4,
          5,
          6,
          0,
          1,
          2,
          3,
          4,
          5,
          6,
          0,
          1,
          2,
          3,
          4,
          5,
          6,
          0,
          1,
          2,
          3,
          4,
          5,
          6,
          0,
          1,
          2,
          3,
          4,
          5,
          6,
          0,
          1,
          2,
          3,
          4,
          5,
          6,
          0,
          1,
          2,
          2,
          2,
          2,
          2,
          2,
          2,
          2,
          2,
          2,
          2,
          2,
          2,
          2,
          2,
          2,
          3,
          4,
          5,
          6,
          0,
          1,
          2,
          3,
          4,
          5,
          6,
          0,
          0,
          0,
          0,
          0,
          0,
          1,
          1,
          1,
          1,
          2,
          3,
          4,
          5,
          6,
          0,
          1,
          2,
          3,
          4,
          5,
          6,
          0,
          0,
          0,
          0,
          0,
          0,
          1,
          1,
          1,
          1,
          1,
          1,
          1,
          2,
          2,
          3,
          4,
          5,
          6,
          0,
          1,
          1,
          2,
          3,
          4,
          5,
          6,
          0,
          1,
          1,
          1,
          2,
          3,
          4,
          4,
          5,
          6,
          0,
          0,
          1,
          2,
          3,
          4,
          5,
          6,
          0,
          1,
          2,
          3,
          3,
          3,
          3,
          4,
          5,
          6,
          0,
          1,
          1,
          2,
          3,
          3,
          4,
          5,
          6,
          0,
          1,
          2,
          2,
          3,
          4,
          5,
          6,
          0,
          0,
          1,
          1,
          1,
          1,
          1,
          1,
          1,
          2,
          3,
          4,
          4,
          4,
          5,
          6,
          0,
          1,
          2,
          2,
          3,
          3,
          4,
          4,
          4,
          4,
          4,
          4,
          5,
          6,
          0,
          0,
          1,
          2,
          2,
          3,
          3,
          3,
          4,
          5,
          6,
          0,
          0,
          1,
          2,
          3,
          4,
          5,
          6,
          0,
          1,
          2,
          2,
          3,
          3,
          3,
          3,
          3,
          3,
          4,
          5,
          6,
          0,
          1,
          2,
          3,
          4,
          4,
          4,
          4,
          4,
          4,
          5,
          6,
          0,
          0,
          1,
          1,
          2,
          3,
          4,
          5,
          6,
          0,
          1,
          1,
          1,
          2,
          3,
          4,
          4,
          4,
          4,
          5,
          6,
          0,
          1,
          1,
          1,
          1,
          1,
          2,
          3,
          4,
          4,
          4,
          4,
          4,
          4,
          4,
          5,
          6,
          0,
          1,
          1,
          2,
          2,
          2,
          2,
          2,
          2,
          3,
          4,
          5,
          6,
          0,
          1,
          1,
          2,
          2,
          2,
          2,
          3,
          4,
          4,
          5,
          6,
          0,
          0,
          0,
          1,
          1,
          2,
          3,
          3,
          3,
          3,
          3,
          4,
          5,
          6,
          0,
          1,
          2,
          3,
          4,
          4,
          5,
          6,
          0,
          0,
          1,
          2,
          3,
          4,
          4,
          5,
          6,
          0,
          1,
          1,
          1,
          1,
          2,
          2,
          2,
          3,
          4,
          5,
          6,
          0,
          0,
          0,
          0,
          0,
          1,
          2,
          3,
          4,
          5,
          6,
          0,
          1,
          1,
          1,
          1,
          1,
          1,
          1,
          1,
          2,
          2,
          2,
          3,
          3,
          4,
          4,
          5,
          6,
          0,
          1,
          2,
          2,
          2,
          2,
          2,
          3,
          3,
          3,
          4,
          5,
          6,
          0,
          0,
          0,
          1,
          2,
          3
         ],
         "yaxis": "y6",
         "ygap": 1,
         "z": [
          0,
          0,
          0,
          0,
          0,
          0,
          1,
          1,
          1,
          6,
          1,
          2,
          5,
          2,
          4,
          10,
          2,
          0,
          1,
          1,
          1,
          4,
          12,
          4,
          0,
          0,
          0,
          1,
          0,
          0,
          0,
          3,
          1,
          0,
          0,
          1,
          2,
          1,
          1,
          0,
          0,
          3,
          2,
          1,
          18,
          0,
          0,
          0,
          0,
          0,
          0,
          0,
          0,
          0,
          0,
          0,
          0,
          0,
          0,
          0,
          0,
          0,
          0,
          0,
          0,
          3,
          18,
          0,
          0,
          4,
          0,
          1,
          1,
          1,
          2,
          0,
          0,
          0,
          0,
          0,
          0,
          0,
          0,
          0,
          0,
          0,
          0,
          0,
          0,
          0,
          3,
          0,
          0,
          0,
          0,
          0,
          0,
          8,
          7,
          0,
          0,
          0,
          0,
          0,
          0,
          0,
          0,
          0,
          0,
          0,
          0,
          0,
          0,
          0,
          0,
          0,
          0,
          0,
          0,
          0,
          0,
          0,
          0,
          0,
          0,
          0,
          0,
          0,
          0,
          0,
          0,
          0,
          0,
          0,
          0,
          0,
          0,
          0,
          0,
          0,
          0,
          0,
          0,
          0,
          1,
          1,
          1,
          9,
          1,
          4,
          1,
          5,
          4,
          5,
          0,
          0,
          16,
          0,
          0,
          0,
          0,
          0,
          0,
          0,
          0,
          0,
          0,
          0,
          0,
          0,
          0,
          0,
          0,
          0,
          0,
          0,
          0,
          0,
          0,
          0,
          0,
          0,
          4,
          0,
          0,
          0,
          0,
          0,
          0,
          0,
          0,
          0,
          0,
          0,
          0,
          0,
          1,
          2,
          1,
          1,
          2,
          1,
          3,
          1,
          1,
          2,
          1,
          1,
          1,
          7,
          1,
          1,
          2,
          0,
          0,
          0,
          0,
          0,
          0,
          0,
          0,
          0,
          0,
          1,
          2,
          9,
          24,
          1,
          3,
          2,
          4,
          6,
          13,
          0,
          0,
          0,
          0,
          0,
          0,
          14,
          0,
          0,
          0,
          0,
          0,
          1,
          1,
          4,
          4,
          18,
          2,
          1,
          1,
          8,
          1,
          10,
          1,
          3,
          4,
          2,
          0,
          0,
          0,
          0,
          1,
          1,
          1,
          0,
          0,
          0,
          0,
          0,
          0,
          1,
          9,
          6,
          3,
          0,
          23,
          7,
          0,
          0,
          2,
          18,
          0,
          0,
          0,
          0,
          0,
          0,
          0,
          0,
          0,
          1,
          2,
          2,
          3,
          0,
          0,
          0,
          0,
          1,
          1,
          0,
          6,
          13,
          0,
          0,
          0,
          0,
          0,
          1,
          1,
          0,
          0,
          0,
          0,
          1,
          1,
          1,
          1,
          6,
          1,
          5,
          11,
          1,
          5,
          0,
          36,
          1,
          1,
          0,
          0,
          0,
          0,
          1,
          3,
          1,
          3,
          2,
          5,
          1,
          4,
          7,
          2,
          0,
          0,
          4,
          2,
          0,
          2,
          11,
          1,
          1,
          1,
          0,
          0,
          0,
          3,
          1,
          1,
          0,
          0,
          11,
          0,
          0,
          14,
          0,
          25,
          1,
          4,
          1,
          3,
          3,
          1,
          2,
          0,
          0,
          0,
          0,
          0,
          0,
          0,
          1,
          1,
          1,
          3,
          2,
          8,
          0,
          0,
          6,
          2,
          4,
          2,
          0,
          0,
          0,
          0,
          0,
          0,
          12,
          3,
          1,
          0,
          0,
          12,
          6,
          10,
          1,
          0,
          0,
          2,
          1,
          6,
          1,
          1,
          1,
          0,
          3,
          2,
          2,
          8,
          6,
          3,
          1,
          1,
          0,
          0,
          1,
          2,
          3,
          3,
          4,
          15,
          1,
          3,
          9,
          0,
          0,
          0,
          0,
          2,
          8,
          20,
          2,
          19,
          18,
          5,
          1,
          1,
          4,
          0,
          0,
          5,
          1,
          1,
          2,
          2,
          3,
          1,
          1,
          2,
          2,
          3,
          1,
          0,
          0,
          1,
          0,
          1,
          0,
          29,
          2,
          0,
          0,
          1,
          2,
          0,
          0,
          0,
          1,
          2,
          0,
          0,
          0,
          1,
          2,
          1,
          2,
          9,
          6,
          8,
          0,
          0,
          0,
          0,
          1,
          4,
          1,
          15,
          1,
          1,
          0,
          0,
          0,
          0,
          0,
          0,
          1,
          1,
          18,
          7,
          1,
          4,
          1,
          1,
          1,
          1,
          4,
          1,
          1,
          2,
          1,
          0,
          0,
          0,
          0,
          1,
          1,
          3,
          1,
          7,
          1,
          3,
          3,
          0,
          0,
          0,
          1,
          1,
          1,
          0,
          4,
          0
         ],
         "zmax": 61,
         "zmin": 0
        },
        {
         "hoverinfo": "skip",
         "line": {
          "color": "#9e9e9e",
          "width": 1
         },
         "mode": "lines",
         "type": "scatter",
         "x": [
          -0.5,
          -0.5
         ],
         "xaxis": "x6",
         "y": [
          1.5,
          6.5
         ],
         "yaxis": "y6"
        },
        {
         "hoverinfo": "skip",
         "line": {
          "color": "#9e9e9e",
          "width": 1
         },
         "mode": "lines",
         "type": "scatter",
         "x": [
          -0.5,
          0.5
         ],
         "xaxis": "x6",
         "y": [
          1.5,
          1.5
         ],
         "yaxis": "y6"
        },
        {
         "hoverinfo": "skip",
         "line": {
          "color": "#9e9e9e",
          "width": 1
         },
         "mode": "lines",
         "type": "scatter",
         "x": [
          0.5,
          0.5
         ],
         "xaxis": "x6",
         "y": [
          1.5,
          -0.5
         ],
         "yaxis": "y6"
        },
        {
         "hoverinfo": "skip",
         "line": {
          "color": "#9e9e9e",
          "width": 1
         },
         "mode": "lines",
         "type": "scatter",
         "x": [
          3.5,
          3.5
         ],
         "xaxis": "x6",
         "y": [
          4.5,
          6.5
         ],
         "yaxis": "y6"
        },
        {
         "hoverinfo": "skip",
         "line": {
          "color": "#9e9e9e",
          "width": 1
         },
         "mode": "lines",
         "type": "scatter",
         "x": [
          3.5,
          4.5
         ],
         "xaxis": "x6",
         "y": [
          4.5,
          4.5
         ],
         "yaxis": "y6"
        },
        {
         "hoverinfo": "skip",
         "line": {
          "color": "#9e9e9e",
          "width": 1
         },
         "mode": "lines",
         "type": "scatter",
         "x": [
          4.5,
          4.5
         ],
         "xaxis": "x6",
         "y": [
          4.5,
          -0.5
         ],
         "yaxis": "y6"
        },
        {
         "hoverinfo": "skip",
         "line": {
          "color": "#9e9e9e",
          "width": 1
         },
         "mode": "lines",
         "type": "scatter",
         "x": [
          7.5,
          7.5
         ],
         "xaxis": "x6",
         "y": [
          5.5,
          6.5
         ],
         "yaxis": "y6"
        },
        {
         "hoverinfo": "skip",
         "line": {
          "color": "#9e9e9e",
          "width": 1
         },
         "mode": "lines",
         "type": "scatter",
         "x": [
          7.5,
          8.5
         ],
         "xaxis": "x6",
         "y": [
          5.5,
          5.5
         ],
         "yaxis": "y6"
        },
        {
         "hoverinfo": "skip",
         "line": {
          "color": "#9e9e9e",
          "width": 1
         },
         "mode": "lines",
         "type": "scatter",
         "x": [
          8.5,
          8.5
         ],
         "xaxis": "x6",
         "y": [
          5.5,
          -0.5
         ],
         "yaxis": "y6"
        },
        {
         "hoverinfo": "skip",
         "line": {
          "color": "#9e9e9e",
          "width": 1
         },
         "mode": "lines",
         "type": "scatter",
         "x": [
          12.5,
          12.5
         ],
         "xaxis": "x6",
         "y": [
          1.5,
          6.5
         ],
         "yaxis": "y6"
        },
        {
         "hoverinfo": "skip",
         "line": {
          "color": "#9e9e9e",
          "width": 1
         },
         "mode": "lines",
         "type": "scatter",
         "x": [
          12.5,
          13.5
         ],
         "xaxis": "x6",
         "y": [
          1.5,
          1.5
         ],
         "yaxis": "y6"
        },
        {
         "hoverinfo": "skip",
         "line": {
          "color": "#9e9e9e",
          "width": 1
         },
         "mode": "lines",
         "type": "scatter",
         "x": [
          13.5,
          13.5
         ],
         "xaxis": "x6",
         "y": [
          1.5,
          -0.5
         ],
         "yaxis": "y6"
        },
        {
         "hoverinfo": "skip",
         "line": {
          "color": "#9e9e9e",
          "width": 1
         },
         "mode": "lines",
         "type": "scatter",
         "x": [
          16.5,
          16.5
         ],
         "xaxis": "x6",
         "y": [
          3.5,
          6.5
         ],
         "yaxis": "y6"
        },
        {
         "hoverinfo": "skip",
         "line": {
          "color": "#9e9e9e",
          "width": 1
         },
         "mode": "lines",
         "type": "scatter",
         "x": [
          16.5,
          17.5
         ],
         "xaxis": "x6",
         "y": [
          3.5,
          3.5
         ],
         "yaxis": "y6"
        },
        {
         "hoverinfo": "skip",
         "line": {
          "color": "#9e9e9e",
          "width": 1
         },
         "mode": "lines",
         "type": "scatter",
         "x": [
          17.5,
          17.5
         ],
         "xaxis": "x6",
         "y": [
          3.5,
          -0.5
         ],
         "yaxis": "y6"
        },
        {
         "hoverinfo": "skip",
         "line": {
          "color": "#9e9e9e",
          "width": 1
         },
         "mode": "lines",
         "type": "scatter",
         "x": [
          21.5,
          21.5
         ],
         "xaxis": "x6",
         "y": [
          -0.5,
          6.5
         ],
         "yaxis": "y6"
        },
        {
         "hoverinfo": "skip",
         "line": {
          "color": "#9e9e9e",
          "width": 1
         },
         "mode": "lines",
         "type": "scatter",
         "x": [
          25.5,
          25.5
         ],
         "xaxis": "x6",
         "y": [
          1.5,
          6.5
         ],
         "yaxis": "y6"
        },
        {
         "hoverinfo": "skip",
         "line": {
          "color": "#9e9e9e",
          "width": 1
         },
         "mode": "lines",
         "type": "scatter",
         "x": [
          25.5,
          26.5
         ],
         "xaxis": "x6",
         "y": [
          1.5,
          1.5
         ],
         "yaxis": "y6"
        },
        {
         "hoverinfo": "skip",
         "line": {
          "color": "#9e9e9e",
          "width": 1
         },
         "mode": "lines",
         "type": "scatter",
         "x": [
          26.5,
          26.5
         ],
         "xaxis": "x6",
         "y": [
          1.5,
          -0.5
         ],
         "yaxis": "y6"
        },
        {
         "hoverinfo": "skip",
         "line": {
          "color": "#9e9e9e",
          "width": 1
         },
         "mode": "lines",
         "type": "scatter",
         "x": [
          29.5,
          29.5
         ],
         "xaxis": "x6",
         "y": [
          4.5,
          6.5
         ],
         "yaxis": "y6"
        },
        {
         "hoverinfo": "skip",
         "line": {
          "color": "#9e9e9e",
          "width": 1
         },
         "mode": "lines",
         "type": "scatter",
         "x": [
          29.5,
          30.5
         ],
         "xaxis": "x6",
         "y": [
          4.5,
          4.5
         ],
         "yaxis": "y6"
        },
        {
         "hoverinfo": "skip",
         "line": {
          "color": "#9e9e9e",
          "width": 1
         },
         "mode": "lines",
         "type": "scatter",
         "x": [
          30.5,
          30.5
         ],
         "xaxis": "x6",
         "y": [
          4.5,
          -0.5
         ],
         "yaxis": "y6"
        },
        {
         "hoverinfo": "skip",
         "line": {
          "color": "#9e9e9e",
          "width": 1
         },
         "mode": "lines",
         "type": "scatter",
         "x": [
          34.5,
          34.5
         ],
         "xaxis": "x6",
         "y": [
          0.5,
          6.5
         ],
         "yaxis": "y6"
        },
        {
         "hoverinfo": "skip",
         "line": {
          "color": "#9e9e9e",
          "width": 1
         },
         "mode": "lines",
         "type": "scatter",
         "x": [
          34.5,
          35.5
         ],
         "xaxis": "x6",
         "y": [
          0.5,
          0.5
         ],
         "yaxis": "y6"
        },
        {
         "hoverinfo": "skip",
         "line": {
          "color": "#9e9e9e",
          "width": 1
         },
         "mode": "lines",
         "type": "scatter",
         "x": [
          35.5,
          35.5
         ],
         "xaxis": "x6",
         "y": [
          0.5,
          -0.5
         ],
         "yaxis": "y6"
        },
        {
         "hoverinfo": "skip",
         "line": {
          "color": "#9e9e9e",
          "width": 1
         },
         "mode": "lines",
         "type": "scatter",
         "x": [
          38.5,
          38.5
         ],
         "xaxis": "x6",
         "y": [
          2.5,
          6.5
         ],
         "yaxis": "y6"
        },
        {
         "hoverinfo": "skip",
         "line": {
          "color": "#9e9e9e",
          "width": 1
         },
         "mode": "lines",
         "type": "scatter",
         "x": [
          38.5,
          39.5
         ],
         "xaxis": "x6",
         "y": [
          2.5,
          2.5
         ],
         "yaxis": "y6"
        },
        {
         "hoverinfo": "skip",
         "line": {
          "color": "#9e9e9e",
          "width": 1
         },
         "mode": "lines",
         "type": "scatter",
         "x": [
          39.5,
          39.5
         ],
         "xaxis": "x6",
         "y": [
          2.5,
          -0.5
         ],
         "yaxis": "y6"
        },
        {
         "hoverinfo": "skip",
         "line": {
          "color": "#9e9e9e",
          "width": 1
         },
         "mode": "lines",
         "type": "scatter",
         "x": [
          42.5,
          42.5
         ],
         "xaxis": "x6",
         "y": [
          5.5,
          6.5
         ],
         "yaxis": "y6"
        },
        {
         "hoverinfo": "skip",
         "line": {
          "color": "#9e9e9e",
          "width": 1
         },
         "mode": "lines",
         "type": "scatter",
         "x": [
          42.5,
          43.5
         ],
         "xaxis": "x6",
         "y": [
          5.5,
          5.5
         ],
         "yaxis": "y6"
        },
        {
         "hoverinfo": "skip",
         "line": {
          "color": "#9e9e9e",
          "width": 1
         },
         "mode": "lines",
         "type": "scatter",
         "x": [
          43.5,
          43.5
         ],
         "xaxis": "x6",
         "y": [
          5.5,
          -0.5
         ],
         "yaxis": "y6"
        },
        {
         "hoverinfo": "skip",
         "line": {
          "color": "#9e9e9e",
          "width": 1
         },
         "mode": "lines",
         "type": "scatter",
         "x": [
          47.5,
          47.5
         ],
         "xaxis": "x6",
         "y": [
          0.5,
          6.5
         ],
         "yaxis": "y6"
        },
        {
         "hoverinfo": "skip",
         "line": {
          "color": "#9e9e9e",
          "width": 1
         },
         "mode": "lines",
         "type": "scatter",
         "x": [
          47.5,
          48.5
         ],
         "xaxis": "x6",
         "y": [
          0.5,
          0.5
         ],
         "yaxis": "y6"
        },
        {
         "hoverinfo": "skip",
         "line": {
          "color": "#9e9e9e",
          "width": 1
         },
         "mode": "lines",
         "type": "scatter",
         "x": [
          48.5,
          48.5
         ],
         "xaxis": "x6",
         "y": [
          0.5,
          -0.5
         ],
         "yaxis": "y6"
        },
        {
         "hoverinfo": "skip",
         "line": {
          "color": "#9e9e9e",
          "width": 1
         },
         "mode": "lines",
         "type": "scatter",
         "x": [
          47.5,
          47.5
         ],
         "xaxis": "x6",
         "y": [
          0.5,
          6.5
         ],
         "yaxis": "y6"
        },
        {
         "hoverinfo": "skip",
         "line": {
          "color": "#9e9e9e",
          "width": 1
         },
         "mode": "lines",
         "type": "scatter",
         "x": [
          47.5,
          48.5
         ],
         "xaxis": "x6",
         "y": [
          0.5,
          0.5
         ],
         "yaxis": "y6"
        },
        {
         "hoverinfo": "skip",
         "line": {
          "color": "#9e9e9e",
          "width": 1
         },
         "mode": "lines",
         "type": "scatter",
         "x": [
          48.5,
          48.5
         ],
         "xaxis": "x6",
         "y": [
          0.5,
          -0.5
         ],
         "yaxis": "y6"
        },
        {
         "hoverinfo": "skip",
         "line": {
          "color": "#9e9e9e",
          "width": 1
         },
         "mode": "lines",
         "type": "scatter",
         "x": [
          47.5,
          47.5
         ],
         "xaxis": "x6",
         "y": [
          0.5,
          6.5
         ],
         "yaxis": "y6"
        },
        {
         "hoverinfo": "skip",
         "line": {
          "color": "#9e9e9e",
          "width": 1
         },
         "mode": "lines",
         "type": "scatter",
         "x": [
          47.5,
          48.5
         ],
         "xaxis": "x6",
         "y": [
          0.5,
          0.5
         ],
         "yaxis": "y6"
        },
        {
         "hoverinfo": "skip",
         "line": {
          "color": "#9e9e9e",
          "width": 1
         },
         "mode": "lines",
         "type": "scatter",
         "x": [
          48.5,
          48.5
         ],
         "xaxis": "x6",
         "y": [
          0.5,
          -0.5
         ],
         "yaxis": "y6"
        },
        {
         "hoverinfo": "skip",
         "line": {
          "color": "#9e9e9e",
          "width": 1
         },
         "mode": "lines",
         "type": "scatter",
         "x": [
          47.5,
          47.5
         ],
         "xaxis": "x6",
         "y": [
          0.5,
          6.5
         ],
         "yaxis": "y6"
        },
        {
         "hoverinfo": "skip",
         "line": {
          "color": "#9e9e9e",
          "width": 1
         },
         "mode": "lines",
         "type": "scatter",
         "x": [
          47.5,
          48.5
         ],
         "xaxis": "x6",
         "y": [
          0.5,
          0.5
         ],
         "yaxis": "y6"
        },
        {
         "hoverinfo": "skip",
         "line": {
          "color": "#9e9e9e",
          "width": 1
         },
         "mode": "lines",
         "type": "scatter",
         "x": [
          48.5,
          48.5
         ],
         "xaxis": "x6",
         "y": [
          0.5,
          -0.5
         ],
         "yaxis": "y6"
        },
        {
         "colorscale": [
          [
           0,
           "rgb(247,252,245)"
          ],
          [
           0.125,
           "rgb(229,245,224)"
          ],
          [
           0.25,
           "rgb(199,233,192)"
          ],
          [
           0.375,
           "rgb(161,217,155)"
          ],
          [
           0.5,
           "rgb(116,196,118)"
          ],
          [
           0.625,
           "rgb(65,171,93)"
          ],
          [
           0.75,
           "rgb(35,139,69)"
          ],
          [
           0.875,
           "rgb(0,109,44)"
          ],
          [
           1,
           "rgb(0,68,27)"
          ]
         ],
         "customdata": [
          [
           "2021-01-01",
           "y"
          ],
          [
           "2021-01-02",
           "y"
          ],
          [
           "2021-01-03",
           "y"
          ],
          [
           "2021-01-04",
           "y"
          ],
          [
           "2021-01-05",
           "y"
          ],
          [
           "2021-01-06",
           "y"
          ],
          [
           "2021-01-06",
           "y"
          ],
          [
           "2021-01-07",
           "y"
          ],
          [
           "2021-01-08",
           "y"
          ],
          [
           "2021-01-09",
           "y"
          ],
          [
           "2021-01-10",
           "y"
          ],
          [
           "2021-01-11",
           "y"
          ],
          [
           "2021-01-12",
           "y"
          ],
          [
           "2021-01-13",
           "y"
          ],
          [
           "2021-01-14",
           "y"
          ],
          [
           "2021-01-15",
           "y"
          ],
          [
           "2021-01-15",
           "y"
          ],
          [
           "2021-01-15",
           "y"
          ],
          [
           "2021-01-15",
           "y"
          ],
          [
           "2021-01-15",
           "y"
          ],
          [
           "2021-01-16",
           "y"
          ],
          [
           "2021-01-17",
           "y"
          ],
          [
           "2021-01-18",
           "y"
          ],
          [
           "2021-01-19",
           "y"
          ],
          [
           "2021-01-20",
           "y"
          ],
          [
           "2021-01-21",
           "y"
          ],
          [
           "2021-01-22",
           "y"
          ],
          [
           "2021-01-23",
           "y"
          ],
          [
           "2021-01-24",
           "y"
          ],
          [
           "2021-01-25",
           "y"
          ],
          [
           "2021-01-25",
           "y"
          ],
          [
           "2021-01-26",
           "y"
          ],
          [
           "2021-01-27",
           "y"
          ],
          [
           "2021-01-28",
           "y"
          ],
          [
           "2021-01-29",
           "y"
          ],
          [
           "2021-01-29",
           "y"
          ],
          [
           "2021-01-30",
           "y"
          ],
          [
           "2021-01-31",
           "y"
          ],
          [
           "2021-02-01",
           "y"
          ],
          [
           "2021-02-02",
           "y"
          ],
          [
           "2021-02-03",
           "y"
          ],
          [
           "2021-02-04",
           "y"
          ],
          [
           "2021-02-04",
           "y"
          ],
          [
           "2021-02-04",
           "y"
          ],
          [
           "2021-02-04",
           "y"
          ],
          [
           "2021-02-05",
           "y"
          ],
          [
           "2021-02-05",
           "y"
          ],
          [
           "2021-02-05",
           "y"
          ],
          [
           "2021-02-05",
           "y"
          ],
          [
           "2021-02-05",
           "y"
          ],
          [
           "2021-02-06",
           "y"
          ],
          [
           "2021-02-07",
           "y"
          ],
          [
           "2021-02-08",
           "y"
          ],
          [
           "2021-02-08",
           "y"
          ],
          [
           "2021-02-09",
           "y"
          ],
          [
           "2021-02-10",
           "y"
          ],
          [
           "2021-02-11",
           "y"
          ],
          [
           "2021-02-12",
           "y"
          ],
          [
           "2021-02-13",
           "y"
          ],
          [
           "2021-02-14",
           "y"
          ],
          [
           "2021-02-15",
           "y"
          ],
          [
           "2021-02-16",
           "y"
          ],
          [
           "2021-02-17",
           "y"
          ],
          [
           "2021-02-18",
           "y"
          ],
          [
           "2021-02-19",
           "y"
          ],
          [
           "2021-02-20",
           "y"
          ],
          [
           "2021-02-21",
           "y"
          ],
          [
           "2021-02-22",
           "y"
          ],
          [
           "2021-02-23",
           "y"
          ],
          [
           "2021-02-24",
           "y"
          ],
          [
           "2021-02-24",
           "y"
          ],
          [
           "2021-02-24",
           "y"
          ],
          [
           "2021-02-24",
           "y"
          ],
          [
           "2021-02-24",
           "y"
          ],
          [
           "2021-02-24",
           "y"
          ],
          [
           "2021-02-25",
           "y"
          ],
          [
           "2021-02-26",
           "y"
          ],
          [
           "2021-02-26",
           "y"
          ],
          [
           "2021-02-27",
           "y"
          ],
          [
           "2021-02-28",
           "y"
          ],
          [
           "2021-03-01",
           "y"
          ],
          [
           "2021-03-02",
           "y"
          ],
          [
           "2021-03-03",
           "y"
          ],
          [
           "2021-03-04",
           "y"
          ],
          [
           "2021-03-04",
           "y"
          ],
          [
           "2021-03-04",
           "y"
          ],
          [
           "2021-03-04",
           "y"
          ],
          [
           "2021-03-04",
           "y"
          ],
          [
           "2021-03-04",
           "y"
          ],
          [
           "2021-03-05",
           "y"
          ],
          [
           "2021-03-06",
           "y"
          ],
          [
           "2021-03-07",
           "y"
          ],
          [
           "2021-03-08",
           "y"
          ],
          [
           "2021-03-08",
           "y"
          ],
          [
           "2021-03-09",
           "y"
          ],
          [
           "2021-03-10",
           "y"
          ],
          [
           "2021-03-10",
           "y"
          ],
          [
           "2021-03-11",
           "y"
          ],
          [
           "2021-03-11",
           "y"
          ],
          [
           "2021-03-12",
           "y"
          ],
          [
           "2021-03-12",
           "y"
          ],
          [
           "2021-03-12",
           "y"
          ],
          [
           "2021-03-13",
           "y"
          ],
          [
           "2021-03-14",
           "y"
          ],
          [
           "2021-03-15",
           "y"
          ],
          [
           "2021-03-15",
           "y"
          ],
          [
           "2021-03-15",
           "y"
          ],
          [
           "2021-03-15",
           "y"
          ],
          [
           "2021-03-16",
           "y"
          ],
          [
           "2021-03-16",
           "y"
          ],
          [
           "2021-03-17",
           "y"
          ],
          [
           "2021-03-18",
           "y"
          ],
          [
           "2021-03-19",
           "y"
          ],
          [
           "2021-03-19",
           "y"
          ],
          [
           "2021-03-20",
           "y"
          ],
          [
           "2021-03-21",
           "y"
          ],
          [
           "2021-03-22",
           "y"
          ],
          [
           "2021-03-22",
           "y"
          ],
          [
           "2021-03-22",
           "y"
          ],
          [
           "2021-03-23",
           "y"
          ],
          [
           "2021-03-24",
           "y"
          ],
          [
           "2021-03-25",
           "y"
          ],
          [
           "2021-03-26",
           "y"
          ],
          [
           "2021-03-27",
           "y"
          ],
          [
           "2021-03-28",
           "y"
          ],
          [
           "2021-03-29",
           "y"
          ],
          [
           "2021-03-30",
           "y"
          ],
          [
           "2021-03-31",
           "y"
          ],
          [
           "2021-04-01",
           "y"
          ],
          [
           "2021-04-01",
           "y"
          ],
          [
           "2021-04-01",
           "y"
          ],
          [
           "2021-04-02",
           "y"
          ],
          [
           "2021-04-03",
           "y"
          ],
          [
           "2021-04-04",
           "y"
          ],
          [
           "2021-04-05",
           "y"
          ],
          [
           "2021-04-06",
           "y"
          ],
          [
           "2021-04-07",
           "y"
          ],
          [
           "2021-04-07",
           "y"
          ],
          [
           "2021-04-07",
           "y"
          ],
          [
           "2021-04-07",
           "y"
          ],
          [
           "2021-04-07",
           "y"
          ],
          [
           "2021-04-07",
           "y"
          ],
          [
           "2021-04-07",
           "y"
          ],
          [
           "2021-04-08",
           "y"
          ],
          [
           "2021-04-09",
           "y"
          ],
          [
           "2021-04-10",
           "y"
          ],
          [
           "2021-04-11",
           "y"
          ],
          [
           "2021-04-12",
           "y"
          ],
          [
           "2021-04-13",
           "y"
          ],
          [
           "2021-04-14",
           "y"
          ],
          [
           "2021-04-15",
           "y"
          ],
          [
           "2021-04-16",
           "y"
          ],
          [
           "2021-04-17",
           "y"
          ],
          [
           "2021-04-18",
           "y"
          ],
          [
           "2021-04-19",
           "y"
          ],
          [
           "2021-04-20",
           "y"
          ],
          [
           "2021-04-21",
           "y"
          ],
          [
           "2021-04-22",
           "y"
          ],
          [
           "2021-04-23",
           "y"
          ],
          [
           "2021-04-23",
           "y"
          ],
          [
           "2021-04-23",
           "y"
          ],
          [
           "2021-04-23",
           "y"
          ],
          [
           "2021-04-23",
           "y"
          ],
          [
           "2021-04-23",
           "y"
          ],
          [
           "2021-04-23",
           "y"
          ],
          [
           "2021-04-24",
           "y"
          ],
          [
           "2021-04-25",
           "y"
          ],
          [
           "2021-04-26",
           "y"
          ],
          [
           "2021-04-26",
           "y"
          ],
          [
           "2021-04-27",
           "y"
          ],
          [
           "2021-04-27",
           "y"
          ],
          [
           "2021-04-28",
           "y"
          ],
          [
           "2021-04-29",
           "y"
          ],
          [
           "2021-04-30",
           "y"
          ],
          [
           "2021-05-01",
           "y"
          ],
          [
           "2021-05-02",
           "y"
          ],
          [
           "2021-05-03",
           "y"
          ],
          [
           "2021-05-04",
           "y"
          ],
          [
           "2021-05-05",
           "y"
          ],
          [
           "2021-05-06",
           "y"
          ],
          [
           "2021-05-07",
           "y"
          ],
          [
           "2021-05-08",
           "y"
          ],
          [
           "2021-05-09",
           "y"
          ],
          [
           "2021-05-10",
           "y"
          ],
          [
           "2021-05-10",
           "y"
          ],
          [
           "2021-05-10",
           "y"
          ],
          [
           "2021-05-10",
           "y"
          ],
          [
           "2021-05-10",
           "y"
          ],
          [
           "2021-05-10",
           "y"
          ],
          [
           "2021-05-10",
           "y"
          ],
          [
           "2021-05-11",
           "y"
          ],
          [
           "2021-05-12",
           "y"
          ],
          [
           "2021-05-13",
           "y"
          ],
          [
           "2021-05-14",
           "y"
          ],
          [
           "2021-05-15",
           "y"
          ],
          [
           "2021-05-16",
           "y"
          ],
          [
           "2021-05-17",
           "y"
          ],
          [
           "2021-05-18",
           "y"
          ],
          [
           "2021-05-19",
           "y"
          ],
          [
           "2021-05-20",
           "y"
          ],
          [
           "2021-05-21",
           "y"
          ],
          [
           "2021-05-21",
           "y"
          ],
          [
           "2021-05-22",
           "y"
          ],
          [
           "2021-05-22",
           "y"
          ],
          [
           "2021-05-22",
           "y"
          ],
          [
           "2021-05-22",
           "y"
          ],
          [
           "2021-05-22",
           "y"
          ],
          [
           "2021-05-23",
           "y"
          ],
          [
           "2021-05-24",
           "y"
          ],
          [
           "2021-05-24",
           "y"
          ],
          [
           "2021-05-24",
           "y"
          ],
          [
           "2021-05-24",
           "y"
          ],
          [
           "2021-05-24",
           "y"
          ],
          [
           "2021-05-24",
           "y"
          ],
          [
           "2021-05-24",
           "y"
          ],
          [
           "2021-05-25",
           "y"
          ],
          [
           "2021-05-26",
           "y"
          ],
          [
           "2021-05-27",
           "y"
          ],
          [
           "2021-05-28",
           "y"
          ],
          [
           "2021-05-29",
           "y"
          ],
          [
           "2021-05-29",
           "y"
          ],
          [
           "2021-05-30",
           "y"
          ],
          [
           "2021-05-31",
           "y"
          ],
          [
           "2021-05-31",
           "y"
          ],
          [
           "2021-05-31",
           "y"
          ],
          [
           "2021-06-01",
           "y"
          ],
          [
           "2021-06-02",
           "y"
          ],
          [
           "2021-06-03",
           "y"
          ],
          [
           "2021-06-04",
           "y"
          ],
          [
           "2021-06-05",
           "y"
          ],
          [
           "2021-06-06",
           "y"
          ],
          [
           "2021-06-07",
           "y"
          ],
          [
           "2021-06-08",
           "y"
          ],
          [
           "2021-06-09",
           "y"
          ],
          [
           "2021-06-10",
           "y"
          ],
          [
           "2021-06-11",
           "y"
          ],
          [
           "2021-06-12",
           "y"
          ],
          [
           "2021-06-13",
           "y"
          ],
          [
           "2021-06-14",
           "y"
          ],
          [
           "2021-06-15",
           "y"
          ],
          [
           "2021-06-16",
           "y"
          ],
          [
           "2021-06-17",
           "y"
          ],
          [
           "2021-06-18",
           "y"
          ],
          [
           "2021-06-19",
           "y"
          ],
          [
           "2021-06-20",
           "y"
          ],
          [
           "2021-06-21",
           "y"
          ],
          [
           "2021-06-22",
           "y"
          ],
          [
           "2021-06-23",
           "y"
          ],
          [
           "2021-06-24",
           "y"
          ],
          [
           "2021-06-25",
           "y"
          ],
          [
           "2021-06-26",
           "y"
          ],
          [
           "2021-06-27",
           "y"
          ],
          [
           "2021-06-28",
           "y"
          ],
          [
           "2021-06-29",
           "y"
          ],
          [
           "2021-06-30",
           "y"
          ],
          [
           "2021-07-01",
           "y"
          ],
          [
           "2021-07-02",
           "y"
          ],
          [
           "2021-07-03",
           "y"
          ],
          [
           "2021-07-04",
           "y"
          ],
          [
           "2021-07-05",
           "y"
          ],
          [
           "2021-07-06",
           "y"
          ],
          [
           "2021-07-07",
           "y"
          ],
          [
           "2021-07-08",
           "y"
          ],
          [
           "2021-07-09",
           "y"
          ],
          [
           "2021-07-10",
           "y"
          ],
          [
           "2021-07-11",
           "y"
          ],
          [
           "2021-07-12",
           "y"
          ],
          [
           "2021-07-13",
           "y"
          ],
          [
           "2021-07-14",
           "y"
          ],
          [
           "2021-07-15",
           "y"
          ],
          [
           "2021-07-16",
           "y"
          ],
          [
           "2021-07-17",
           "y"
          ],
          [
           "2021-07-18",
           "y"
          ],
          [
           "2021-07-19",
           "y"
          ],
          [
           "2021-07-20",
           "y"
          ],
          [
           "2021-07-21",
           "y"
          ],
          [
           "2021-07-22",
           "y"
          ],
          [
           "2021-07-23",
           "y"
          ],
          [
           "2021-07-24",
           "y"
          ],
          [
           "2021-07-25",
           "y"
          ],
          [
           "2021-07-26",
           "y"
          ],
          [
           "2021-07-27",
           "y"
          ],
          [
           "2021-07-28",
           "y"
          ],
          [
           "2021-07-29",
           "y"
          ],
          [
           "2021-07-30",
           "y"
          ],
          [
           "2021-07-31",
           "y"
          ],
          [
           "2021-08-01",
           "y"
          ],
          [
           "2021-08-02",
           "y"
          ],
          [
           "2021-08-03",
           "y"
          ],
          [
           "2021-08-04",
           "y"
          ],
          [
           "2021-08-05",
           "y"
          ],
          [
           "2021-08-06",
           "y"
          ],
          [
           "2021-08-07",
           "y"
          ],
          [
           "2021-08-08",
           "y"
          ],
          [
           "2021-08-09",
           "y"
          ],
          [
           "2021-08-10",
           "y"
          ],
          [
           "2021-08-11",
           "y"
          ],
          [
           "2021-08-12",
           "y"
          ],
          [
           "2021-08-13",
           "y"
          ],
          [
           "2021-08-14",
           "y"
          ],
          [
           "2021-08-15",
           "y"
          ],
          [
           "2021-08-15",
           "y"
          ],
          [
           "2021-08-16",
           "y"
          ],
          [
           "2021-08-17",
           "y"
          ],
          [
           "2021-08-17",
           "y"
          ],
          [
           "2021-08-17",
           "y"
          ],
          [
           "2021-08-17",
           "y"
          ],
          [
           "2021-08-17",
           "y"
          ],
          [
           "2021-08-17",
           "y"
          ],
          [
           "2021-08-17",
           "y"
          ],
          [
           "2021-08-17",
           "y"
          ],
          [
           "2021-08-18",
           "y"
          ],
          [
           "2021-08-18",
           "y"
          ],
          [
           "2021-08-18",
           "y"
          ],
          [
           "2021-08-19",
           "y"
          ],
          [
           "2021-08-20",
           "y"
          ],
          [
           "2021-08-20",
           "y"
          ],
          [
           "2021-08-20",
           "y"
          ],
          [
           "2021-08-20",
           "y"
          ],
          [
           "2021-08-20",
           "y"
          ],
          [
           "2021-08-20",
           "y"
          ],
          [
           "2021-08-21",
           "y"
          ],
          [
           "2021-08-22",
           "y"
          ],
          [
           "2021-08-23",
           "y"
          ],
          [
           "2021-08-24",
           "y"
          ],
          [
           "2021-08-25",
           "y"
          ],
          [
           "2021-08-25",
           "y"
          ],
          [
           "2021-08-25",
           "y"
          ],
          [
           "2021-08-25",
           "y"
          ],
          [
           "2021-08-25",
           "y"
          ],
          [
           "2021-08-25",
           "y"
          ],
          [
           "2021-08-25",
           "y"
          ],
          [
           "2021-08-26",
           "y"
          ],
          [
           "2021-08-26",
           "y"
          ],
          [
           "2021-08-27",
           "y"
          ],
          [
           "2021-08-27",
           "y"
          ],
          [
           "2021-08-27",
           "y"
          ],
          [
           "2021-08-27",
           "y"
          ],
          [
           "2021-08-28",
           "y"
          ],
          [
           "2021-08-29",
           "y"
          ],
          [
           "2021-08-30",
           "y"
          ],
          [
           "2021-08-30",
           "y"
          ],
          [
           "2021-08-31",
           "y"
          ],
          [
           "2021-09-01",
           "y"
          ],
          [
           "2021-09-01",
           "y"
          ],
          [
           "2021-09-02",
           "y"
          ],
          [
           "2021-09-03",
           "y"
          ],
          [
           "2021-09-04",
           "y"
          ],
          [
           "2021-09-05",
           "y"
          ],
          [
           "2021-09-06",
           "y"
          ],
          [
           "2021-09-07",
           "y"
          ],
          [
           "2021-09-08",
           "y"
          ],
          [
           "2021-09-09",
           "y"
          ],
          [
           "2021-09-10",
           "y"
          ],
          [
           "2021-09-11",
           "y"
          ],
          [
           "2021-09-12",
           "y"
          ],
          [
           "2021-09-13",
           "y"
          ],
          [
           "2021-09-14",
           "y"
          ],
          [
           "2021-09-15",
           "y"
          ],
          [
           "2021-09-16",
           "y"
          ],
          [
           "2021-09-17",
           "y"
          ],
          [
           "2021-09-18",
           "y"
          ],
          [
           "2021-09-19",
           "y"
          ],
          [
           "2021-09-20",
           "y"
          ],
          [
           "2021-09-21",
           "y"
          ],
          [
           "2021-09-22",
           "y"
          ],
          [
           "2021-09-23",
           "y"
          ],
          [
           "2021-09-23",
           "y"
          ],
          [
           "2021-09-23",
           "y"
          ],
          [
           "2021-09-23",
           "y"
          ],
          [
           "2021-09-23",
           "y"
          ],
          [
           "2021-09-23",
           "y"
          ],
          [
           "2021-09-23",
           "y"
          ],
          [
           "2021-09-23",
           "y"
          ],
          [
           "2021-09-24",
           "y"
          ],
          [
           "2021-09-25",
           "y"
          ],
          [
           "2021-09-26",
           "y"
          ],
          [
           "2021-09-27",
           "y"
          ],
          [
           "2021-09-28",
           "y"
          ],
          [
           "2021-09-28",
           "y"
          ],
          [
           "2021-09-29",
           "y"
          ],
          [
           "2021-09-30",
           "y"
          ],
          [
           "2021-10-01",
           "y"
          ],
          [
           "2021-10-01",
           "y"
          ],
          [
           "2021-10-01",
           "y"
          ],
          [
           "2021-10-01",
           "y"
          ],
          [
           "2021-10-01",
           "y"
          ],
          [
           "2021-10-01",
           "y"
          ],
          [
           "2021-10-01",
           "y"
          ],
          [
           "2021-10-02",
           "y"
          ],
          [
           "2021-10-03",
           "y"
          ],
          [
           "2021-10-04",
           "y"
          ],
          [
           "2021-10-04",
           "y"
          ],
          [
           "2021-10-04",
           "y"
          ],
          [
           "2021-10-05",
           "y"
          ],
          [
           "2021-10-06",
           "y"
          ],
          [
           "2021-10-06",
           "y"
          ],
          [
           "2021-10-06",
           "y"
          ],
          [
           "2021-10-07",
           "y"
          ],
          [
           "2021-10-08",
           "y"
          ],
          [
           "2021-10-08",
           "y"
          ],
          [
           "2021-10-08",
           "y"
          ],
          [
           "2021-10-08",
           "y"
          ],
          [
           "2021-10-08",
           "y"
          ],
          [
           "2021-10-08",
           "y"
          ],
          [
           "2021-10-08",
           "y"
          ],
          [
           "2021-10-09",
           "y"
          ],
          [
           "2021-10-10",
           "y"
          ],
          [
           "2021-10-11",
           "y"
          ],
          [
           "2021-10-11",
           "y"
          ],
          [
           "2021-10-11",
           "y"
          ],
          [
           "2021-10-12",
           "y"
          ],
          [
           "2021-10-12",
           "y"
          ],
          [
           "2021-10-12",
           "y"
          ],
          [
           "2021-10-12",
           "y"
          ],
          [
           "2021-10-12",
           "y"
          ],
          [
           "2021-10-12",
           "y"
          ],
          [
           "2021-10-12",
           "y"
          ],
          [
           "2021-10-13",
           "y"
          ],
          [
           "2021-10-14",
           "y"
          ],
          [
           "2021-10-15",
           "y"
          ],
          [
           "2021-10-15",
           "y"
          ],
          [
           "2021-10-15",
           "y"
          ],
          [
           "2021-10-15",
           "y"
          ],
          [
           "2021-10-15",
           "y"
          ],
          [
           "2021-10-15",
           "y"
          ],
          [
           "2021-10-16",
           "y"
          ],
          [
           "2021-10-17",
           "y"
          ],
          [
           "2021-10-18",
           "y"
          ],
          [
           "2021-10-18",
           "y"
          ],
          [
           "2021-10-18",
           "y"
          ],
          [
           "2021-10-18",
           "y"
          ],
          [
           "2021-10-18",
           "y"
          ],
          [
           "2021-10-18",
           "y"
          ],
          [
           "2021-10-19",
           "y"
          ],
          [
           "2021-10-20",
           "y"
          ],
          [
           "2021-10-21",
           "y"
          ],
          [
           "2021-10-22",
           "y"
          ],
          [
           "2021-10-23",
           "y"
          ],
          [
           "2021-10-24",
           "y"
          ],
          [
           "2021-10-25",
           "y"
          ],
          [
           "2021-10-26",
           "y"
          ],
          [
           "2021-10-26",
           "y"
          ],
          [
           "2021-10-26",
           "y"
          ],
          [
           "2021-10-26",
           "y"
          ],
          [
           "2021-10-27",
           "y"
          ],
          [
           "2021-10-27",
           "y"
          ],
          [
           "2021-10-28",
           "y"
          ],
          [
           "2021-10-28",
           "y"
          ],
          [
           "2021-10-28",
           "y"
          ],
          [
           "2021-10-28",
           "y"
          ],
          [
           "2021-10-29",
           "y"
          ],
          [
           "2021-10-30",
           "y"
          ],
          [
           "2021-10-31",
           "y"
          ],
          [
           "2021-11-01",
           "y"
          ],
          [
           "2021-11-02",
           "y"
          ],
          [
           "2021-11-03",
           "y"
          ],
          [
           "2021-11-04",
           "y"
          ],
          [
           "2021-11-05",
           "y"
          ],
          [
           "2021-11-06",
           "y"
          ],
          [
           "2021-11-07",
           "y"
          ],
          [
           "2021-11-08",
           "y"
          ],
          [
           "2021-11-08",
           "y"
          ],
          [
           "2021-11-08",
           "y"
          ],
          [
           "2021-11-08",
           "y"
          ],
          [
           "2021-11-08",
           "y"
          ],
          [
           "2021-11-08",
           "y"
          ],
          [
           "2021-11-09",
           "y"
          ],
          [
           "2021-11-09",
           "y"
          ],
          [
           "2021-11-10",
           "y"
          ],
          [
           "2021-11-11",
           "y"
          ],
          [
           "2021-11-11",
           "y"
          ],
          [
           "2021-11-12",
           "y"
          ],
          [
           "2021-11-12",
           "y"
          ],
          [
           "2021-11-13",
           "y"
          ],
          [
           "2021-11-14",
           "y"
          ],
          [
           "2021-11-15",
           "y"
          ],
          [
           "2021-11-16",
           "y"
          ],
          [
           "2021-11-17",
           "y"
          ],
          [
           "2021-11-18",
           "y"
          ],
          [
           "2021-11-19",
           "y"
          ],
          [
           "2021-11-20",
           "y"
          ],
          [
           "2021-11-21",
           "y"
          ],
          [
           "2021-11-22",
           "y"
          ],
          [
           "2021-11-23",
           "y"
          ],
          [
           "2021-11-24",
           "y"
          ],
          [
           "2021-11-24",
           "y"
          ],
          [
           "2021-11-24",
           "y"
          ],
          [
           "2021-11-24",
           "y"
          ],
          [
           "2021-11-25",
           "y"
          ],
          [
           "2021-11-26",
           "y"
          ],
          [
           "2021-11-27",
           "y"
          ],
          [
           "2021-11-28",
           "y"
          ],
          [
           "2021-11-29",
           "y"
          ],
          [
           "2021-11-29",
           "y"
          ],
          [
           "2021-11-30",
           "y"
          ],
          [
           "2021-12-01",
           "y"
          ],
          [
           "2021-12-01",
           "y"
          ],
          [
           "2021-12-01",
           "y"
          ],
          [
           "2021-12-02",
           "y"
          ],
          [
           "2021-12-03",
           "y"
          ],
          [
           "2021-12-04",
           "y"
          ],
          [
           "2021-12-05",
           "y"
          ],
          [
           "2021-12-06",
           "y"
          ],
          [
           "2021-12-07",
           "y"
          ],
          [
           "2021-12-07",
           "y"
          ],
          [
           "2021-12-08",
           "y"
          ],
          [
           "2021-12-09",
           "y"
          ],
          [
           "2021-12-10",
           "y"
          ],
          [
           "2021-12-11",
           "y"
          ],
          [
           "2021-12-12",
           "y"
          ],
          [
           "2021-12-13",
           "y"
          ],
          [
           "2021-12-13",
           "y"
          ],
          [
           "2021-12-13",
           "y"
          ],
          [
           "2021-12-13",
           "y"
          ],
          [
           "2021-12-14",
           "y"
          ],
          [
           "2021-12-15",
           "y"
          ],
          [
           "2021-12-16",
           "y"
          ],
          [
           "2021-12-17",
           "y"
          ],
          [
           "2021-12-18",
           "y"
          ],
          [
           "2021-12-19",
           "y"
          ],
          [
           "2021-12-20",
           "y"
          ],
          [
           "2021-12-21",
           "y"
          ],
          [
           "2021-12-22",
           "y"
          ],
          [
           "2021-12-23",
           "y"
          ],
          [
           "2021-12-24",
           "y"
          ],
          [
           "2021-12-24",
           "y"
          ],
          [
           "2021-12-24",
           "y"
          ],
          [
           "2021-12-24",
           "y"
          ],
          [
           "2021-12-25",
           "y"
          ],
          [
           "2021-12-26",
           "y"
          ],
          [
           "2021-12-27",
           "y"
          ],
          [
           "2021-12-27",
           "y"
          ],
          [
           "2021-12-27",
           "y"
          ],
          [
           "2021-12-28",
           "y"
          ],
          [
           "2021-12-28",
           "y"
          ],
          [
           "2021-12-29",
           "y"
          ],
          [
           "2021-12-30",
           "y"
          ],
          [
           "2021-12-31",
           "y"
          ]
         ],
         "hovertemplate": "%{customdata[0]} <br>%{customdata[1]}=%{z} <br>Week=%{x}",
         "name": "2021",
         "showscale": false,
         "type": "heatmap",
         "x": [
          0,
          0,
          0,
          1,
          1,
          1,
          1,
          1,
          1,
          1,
          1,
          2,
          2,
          2,
          2,
          2,
          2,
          2,
          2,
          2,
          2,
          2,
          3,
          3,
          3,
          3,
          3,
          3,
          3,
          4,
          4,
          4,
          4,
          4,
          4,
          4,
          4,
          4,
          5,
          5,
          5,
          5,
          5,
          5,
          5,
          5,
          5,
          5,
          5,
          5,
          5,
          5,
          6,
          6,
          6,
          6,
          6,
          6,
          6,
          6,
          7,
          7,
          7,
          7,
          7,
          7,
          7,
          8,
          8,
          8,
          8,
          8,
          8,
          8,
          8,
          8,
          8,
          8,
          8,
          8,
          9,
          9,
          9,
          9,
          9,
          9,
          9,
          9,
          9,
          9,
          9,
          9,
          10,
          10,
          10,
          10,
          10,
          10,
          10,
          10,
          10,
          10,
          10,
          10,
          11,
          11,
          11,
          11,
          11,
          11,
          11,
          11,
          11,
          11,
          11,
          11,
          12,
          12,
          12,
          12,
          12,
          12,
          12,
          12,
          12,
          13,
          13,
          13,
          13,
          13,
          13,
          13,
          13,
          13,
          14,
          14,
          14,
          14,
          14,
          14,
          14,
          14,
          14,
          14,
          14,
          14,
          14,
          15,
          15,
          15,
          15,
          15,
          15,
          15,
          16,
          16,
          16,
          16,
          16,
          16,
          16,
          16,
          16,
          16,
          16,
          16,
          16,
          17,
          17,
          17,
          17,
          17,
          17,
          17,
          17,
          17,
          18,
          18,
          18,
          18,
          18,
          18,
          18,
          19,
          19,
          19,
          19,
          19,
          19,
          19,
          19,
          19,
          19,
          19,
          19,
          19,
          20,
          20,
          20,
          20,
          20,
          20,
          20,
          20,
          20,
          20,
          20,
          20,
          21,
          21,
          21,
          21,
          21,
          21,
          21,
          21,
          21,
          21,
          21,
          21,
          21,
          21,
          22,
          22,
          22,
          22,
          22,
          22,
          22,
          22,
          22,
          23,
          23,
          23,
          23,
          23,
          23,
          23,
          24,
          24,
          24,
          24,
          24,
          24,
          24,
          25,
          25,
          25,
          25,
          25,
          25,
          25,
          26,
          26,
          26,
          26,
          26,
          26,
          26,
          27,
          27,
          27,
          27,
          27,
          27,
          27,
          28,
          28,
          28,
          28,
          28,
          28,
          28,
          29,
          29,
          29,
          29,
          29,
          29,
          29,
          30,
          30,
          30,
          30,
          30,
          30,
          30,
          31,
          31,
          31,
          31,
          31,
          31,
          31,
          32,
          32,
          32,
          32,
          32,
          32,
          32,
          32,
          33,
          33,
          33,
          33,
          33,
          33,
          33,
          33,
          33,
          33,
          33,
          33,
          33,
          33,
          33,
          33,
          33,
          33,
          33,
          33,
          33,
          34,
          34,
          34,
          34,
          34,
          34,
          34,
          34,
          34,
          34,
          34,
          34,
          34,
          34,
          34,
          34,
          34,
          35,
          35,
          35,
          35,
          35,
          35,
          35,
          35,
          35,
          36,
          36,
          36,
          36,
          36,
          36,
          36,
          37,
          37,
          37,
          37,
          37,
          37,
          37,
          38,
          38,
          38,
          38,
          38,
          38,
          38,
          38,
          38,
          38,
          38,
          38,
          38,
          38,
          39,
          39,
          39,
          39,
          39,
          39,
          39,
          39,
          39,
          39,
          39,
          39,
          39,
          39,
          40,
          40,
          40,
          40,
          40,
          40,
          40,
          40,
          40,
          40,
          40,
          40,
          40,
          40,
          40,
          40,
          40,
          41,
          41,
          41,
          41,
          41,
          41,
          41,
          41,
          41,
          41,
          41,
          41,
          41,
          41,
          41,
          41,
          41,
          41,
          41,
          41,
          42,
          42,
          42,
          42,
          42,
          42,
          42,
          42,
          42,
          42,
          42,
          42,
          43,
          43,
          43,
          43,
          43,
          43,
          43,
          43,
          43,
          43,
          43,
          43,
          43,
          43,
          44,
          44,
          44,
          44,
          44,
          44,
          44,
          45,
          45,
          45,
          45,
          45,
          45,
          45,
          45,
          45,
          45,
          45,
          45,
          45,
          45,
          45,
          46,
          46,
          46,
          46,
          46,
          46,
          46,
          47,
          47,
          47,
          47,
          47,
          47,
          47,
          47,
          47,
          47,
          48,
          48,
          48,
          48,
          48,
          48,
          48,
          48,
          48,
          48,
          49,
          49,
          49,
          49,
          49,
          49,
          49,
          49,
          50,
          50,
          50,
          50,
          50,
          50,
          50,
          50,
          50,
          50,
          51,
          51,
          51,
          51,
          51,
          51,
          51,
          51,
          51,
          51,
          52,
          52,
          52,
          52,
          52,
          52,
          52,
          52
         ],
         "xaxis": "x7",
         "xgap": 1,
         "y": [
          4,
          5,
          6,
          0,
          1,
          2,
          2,
          3,
          4,
          5,
          6,
          0,
          1,
          2,
          3,
          4,
          4,
          4,
          4,
          4,
          5,
          6,
          0,
          1,
          2,
          3,
          4,
          5,
          6,
          0,
          0,
          1,
          2,
          3,
          4,
          4,
          5,
          6,
          0,
          1,
          2,
          3,
          3,
          3,
          3,
          4,
          4,
          4,
          4,
          4,
          5,
          6,
          0,
          0,
          1,
          2,
          3,
          4,
          5,
          6,
          0,
          1,
          2,
          3,
          4,
          5,
          6,
          0,
          1,
          2,
          2,
          2,
          2,
          2,
          2,
          3,
          4,
          4,
          5,
          6,
          0,
          1,
          2,
          3,
          3,
          3,
          3,
          3,
          3,
          4,
          5,
          6,
          0,
          0,
          1,
          2,
          2,
          3,
          3,
          4,
          4,
          4,
          5,
          6,
          0,
          0,
          0,
          0,
          1,
          1,
          2,
          3,
          4,
          4,
          5,
          6,
          0,
          0,
          0,
          1,
          2,
          3,
          4,
          5,
          6,
          0,
          1,
          2,
          3,
          3,
          3,
          4,
          5,
          6,
          0,
          1,
          2,
          2,
          2,
          2,
          2,
          2,
          2,
          3,
          4,
          5,
          6,
          0,
          1,
          2,
          3,
          4,
          5,
          6,
          0,
          1,
          2,
          3,
          4,
          4,
          4,
          4,
          4,
          4,
          4,
          5,
          6,
          0,
          0,
          1,
          1,
          2,
          3,
          4,
          5,
          6,
          0,
          1,
          2,
          3,
          4,
          5,
          6,
          0,
          0,
          0,
          0,
          0,
          0,
          0,
          1,
          2,
          3,
          4,
          5,
          6,
          0,
          1,
          2,
          3,
          4,
          4,
          5,
          5,
          5,
          5,
          5,
          6,
          0,
          0,
          0,
          0,
          0,
          0,
          0,
          1,
          2,
          3,
          4,
          5,
          5,
          6,
          0,
          0,
          0,
          1,
          2,
          3,
          4,
          5,
          6,
          0,
          1,
          2,
          3,
          4,
          5,
          6,
          0,
          1,
          2,
          3,
          4,
          5,
          6,
          0,
          1,
          2,
          3,
          4,
          5,
          6,
          0,
          1,
          2,
          3,
          4,
          5,
          6,
          0,
          1,
          2,
          3,
          4,
          5,
          6,
          0,
          1,
          2,
          3,
          4,
          5,
          6,
          0,
          1,
          2,
          3,
          4,
          5,
          6,
          0,
          1,
          2,
          3,
          4,
          5,
          6,
          0,
          1,
          2,
          3,
          4,
          5,
          6,
          0,
          1,
          2,
          3,
          4,
          5,
          6,
          6,
          0,
          1,
          1,
          1,
          1,
          1,
          1,
          1,
          1,
          2,
          2,
          2,
          3,
          4,
          4,
          4,
          4,
          4,
          4,
          5,
          6,
          0,
          1,
          2,
          2,
          2,
          2,
          2,
          2,
          2,
          3,
          3,
          4,
          4,
          4,
          4,
          5,
          6,
          0,
          0,
          1,
          2,
          2,
          3,
          4,
          5,
          6,
          0,
          1,
          2,
          3,
          4,
          5,
          6,
          0,
          1,
          2,
          3,
          4,
          5,
          6,
          0,
          1,
          2,
          3,
          3,
          3,
          3,
          3,
          3,
          3,
          3,
          4,
          5,
          6,
          0,
          1,
          1,
          2,
          3,
          4,
          4,
          4,
          4,
          4,
          4,
          4,
          5,
          6,
          0,
          0,
          0,
          1,
          2,
          2,
          2,
          3,
          4,
          4,
          4,
          4,
          4,
          4,
          4,
          5,
          6,
          0,
          0,
          0,
          1,
          1,
          1,
          1,
          1,
          1,
          1,
          2,
          3,
          4,
          4,
          4,
          4,
          4,
          4,
          5,
          6,
          0,
          0,
          0,
          0,
          0,
          0,
          1,
          2,
          3,
          4,
          5,
          6,
          0,
          1,
          1,
          1,
          1,
          2,
          2,
          3,
          3,
          3,
          3,
          4,
          5,
          6,
          0,
          1,
          2,
          3,
          4,
          5,
          6,
          0,
          0,
          0,
          0,
          0,
          0,
          1,
          1,
          2,
          3,
          3,
          4,
          4,
          5,
          6,
          0,
          1,
          2,
          3,
          4,
          5,
          6,
          0,
          1,
          2,
          2,
          2,
          2,
          3,
          4,
          5,
          6,
          0,
          0,
          1,
          2,
          2,
          2,
          3,
          4,
          5,
          6,
          0,
          1,
          1,
          2,
          3,
          4,
          5,
          6,
          0,
          0,
          0,
          0,
          1,
          2,
          3,
          4,
          5,
          6,
          0,
          1,
          2,
          3,
          4,
          4,
          4,
          4,
          5,
          6,
          0,
          0,
          0,
          1,
          1,
          2,
          3,
          4
         ],
         "yaxis": "y7",
         "ygap": 1,
         "z": [
          0,
          0,
          0,
          2,
          3,
          17,
          2,
          17,
          1,
          0,
          0,
          0,
          4,
          0,
          14,
          7,
          7,
          1,
          1,
          15,
          0,
          0,
          0,
          0,
          0,
          0,
          0,
          0,
          0,
          1,
          10,
          1,
          0,
          0,
          5,
          2,
          0,
          0,
          0,
          0,
          0,
          4,
          2,
          1,
          1,
          1,
          2,
          10,
          6,
          1,
          0,
          0,
          1,
          10,
          15,
          1,
          0,
          0,
          0,
          0,
          0,
          0,
          0,
          0,
          0,
          0,
          0,
          0,
          4,
          4,
          1,
          13,
          1,
          1,
          11,
          10,
          5,
          5,
          0,
          0,
          1,
          0,
          5,
          1,
          3,
          17,
          1,
          1,
          1,
          0,
          0,
          0,
          1,
          1,
          0,
          2,
          1,
          2,
          4,
          27,
          2,
          1,
          0,
          0,
          10,
          1,
          1,
          1,
          1,
          1,
          1,
          0,
          5,
          10,
          0,
          0,
          5,
          2,
          1,
          0,
          1,
          0,
          1,
          0,
          0,
          0,
          0,
          0,
          1,
          4,
          9,
          0,
          0,
          0,
          0,
          0,
          1,
          1,
          1,
          1,
          1,
          1,
          1,
          2,
          0,
          0,
          0,
          0,
          6,
          0,
          0,
          0,
          0,
          0,
          0,
          0,
          0,
          0,
          1,
          6,
          1,
          2,
          2,
          1,
          2,
          0,
          0,
          1,
          2,
          3,
          2,
          0,
          0,
          0,
          0,
          0,
          2,
          1,
          0,
          0,
          0,
          0,
          0,
          24,
          20,
          6,
          3,
          6,
          4,
          1,
          0,
          0,
          0,
          0,
          0,
          0,
          0,
          0,
          0,
          4,
          6,
          9,
          1,
          1,
          1,
          8,
          2,
          0,
          1,
          1,
          14,
          2,
          10,
          6,
          10,
          0,
          0,
          0,
          0,
          17,
          1,
          0,
          17,
          1,
          1,
          0,
          0,
          0,
          0,
          0,
          0,
          0,
          0,
          0,
          0,
          0,
          0,
          0,
          0,
          0,
          0,
          0,
          0,
          0,
          0,
          0,
          0,
          0,
          0,
          0,
          0,
          0,
          0,
          0,
          0,
          0,
          0,
          0,
          0,
          0,
          0,
          0,
          0,
          0,
          0,
          0,
          0,
          0,
          0,
          0,
          0,
          0,
          0,
          0,
          0,
          0,
          0,
          0,
          0,
          0,
          2,
          0,
          0,
          0,
          0,
          0,
          0,
          0,
          0,
          0,
          0,
          9,
          0,
          0,
          0,
          0,
          1,
          0,
          10,
          0,
          4,
          1,
          0,
          23,
          7,
          26,
          16,
          3,
          1,
          1,
          5,
          19,
          8,
          6,
          0,
          1,
          4,
          13,
          1,
          4,
          1,
          0,
          0,
          2,
          1,
          4,
          2,
          1,
          2,
          3,
          1,
          2,
          2,
          1,
          3,
          1,
          1,
          17,
          0,
          0,
          1,
          2,
          0,
          16,
          6,
          0,
          34,
          0,
          0,
          0,
          0,
          34,
          10,
          0,
          0,
          0,
          0,
          0,
          1,
          0,
          1,
          0,
          0,
          0,
          0,
          0,
          1,
          1,
          22,
          1,
          1,
          1,
          1,
          2,
          0,
          0,
          0,
          0,
          6,
          2,
          3,
          7,
          6,
          2,
          4,
          6,
          8,
          1,
          1,
          0,
          0,
          3,
          5,
          3,
          3,
          2,
          3,
          1,
          4,
          4,
          6,
          2,
          7,
          9,
          1,
          3,
          0,
          0,
          1,
          8,
          6,
          3,
          2,
          1,
          12,
          5,
          6,
          10,
          0,
          61,
          2,
          1,
          2,
          8,
          33,
          30,
          0,
          0,
          5,
          8,
          8,
          18,
          2,
          1,
          0,
          0,
          0,
          0,
          0,
          0,
          0,
          1,
          1,
          4,
          1,
          8,
          14,
          1,
          2,
          16,
          6,
          0,
          0,
          0,
          0,
          2,
          0,
          0,
          0,
          0,
          0,
          1,
          11,
          1,
          1,
          2,
          9,
          1,
          3,
          0,
          4,
          20,
          3,
          1,
          0,
          0,
          0,
          0,
          0,
          1,
          2,
          0,
          0,
          0,
          0,
          2,
          4,
          1,
          2,
          0,
          0,
          0,
          0,
          5,
          4,
          0,
          2,
          25,
          1,
          0,
          17,
          0,
          0,
          0,
          1,
          17,
          0,
          0,
          0,
          0,
          0,
          2,
          11,
          2,
          10,
          9,
          4,
          0,
          0,
          0,
          0,
          0,
          0,
          0,
          0,
          1,
          3,
          2,
          5,
          0,
          0,
          2,
          45,
          3,
          4,
          7,
          0,
          0,
          0
         ],
         "zmax": 61,
         "zmin": 0
        },
        {
         "hoverinfo": "skip",
         "line": {
          "color": "#9e9e9e",
          "width": 1
         },
         "mode": "lines",
         "type": "scatter",
         "x": [
          -0.5,
          -0.5
         ],
         "xaxis": "x7",
         "y": [
          3.5,
          6.5
         ],
         "yaxis": "y7"
        },
        {
         "hoverinfo": "skip",
         "line": {
          "color": "#9e9e9e",
          "width": 1
         },
         "mode": "lines",
         "type": "scatter",
         "x": [
          -0.5,
          0.5
         ],
         "xaxis": "x7",
         "y": [
          3.5,
          3.5
         ],
         "yaxis": "y7"
        },
        {
         "hoverinfo": "skip",
         "line": {
          "color": "#9e9e9e",
          "width": 1
         },
         "mode": "lines",
         "type": "scatter",
         "x": [
          0.5,
          0.5
         ],
         "xaxis": "x7",
         "y": [
          3.5,
          -0.5
         ],
         "yaxis": "y7"
        },
        {
         "hoverinfo": "skip",
         "line": {
          "color": "#9e9e9e",
          "width": 1
         },
         "mode": "lines",
         "type": "scatter",
         "x": [
          4.5,
          4.5
         ],
         "xaxis": "x7",
         "y": [
          -0.5,
          6.5
         ],
         "yaxis": "y7"
        },
        {
         "hoverinfo": "skip",
         "line": {
          "color": "#9e9e9e",
          "width": 1
         },
         "mode": "lines",
         "type": "scatter",
         "x": [
          8.5,
          8.5
         ],
         "xaxis": "x7",
         "y": [
          -0.5,
          6.5
         ],
         "yaxis": "y7"
        },
        {
         "hoverinfo": "skip",
         "line": {
          "color": "#9e9e9e",
          "width": 1
         },
         "mode": "lines",
         "type": "scatter",
         "x": [
          12.5,
          12.5
         ],
         "xaxis": "x7",
         "y": [
          2.5,
          6.5
         ],
         "yaxis": "y7"
        },
        {
         "hoverinfo": "skip",
         "line": {
          "color": "#9e9e9e",
          "width": 1
         },
         "mode": "lines",
         "type": "scatter",
         "x": [
          12.5,
          13.5
         ],
         "xaxis": "x7",
         "y": [
          2.5,
          2.5
         ],
         "yaxis": "y7"
        },
        {
         "hoverinfo": "skip",
         "line": {
          "color": "#9e9e9e",
          "width": 1
         },
         "mode": "lines",
         "type": "scatter",
         "x": [
          13.5,
          13.5
         ],
         "xaxis": "x7",
         "y": [
          2.5,
          -0.5
         ],
         "yaxis": "y7"
        },
        {
         "hoverinfo": "skip",
         "line": {
          "color": "#9e9e9e",
          "width": 1
         },
         "mode": "lines",
         "type": "scatter",
         "x": [
          12.5,
          12.5
         ],
         "xaxis": "x7",
         "y": [
          2.5,
          6.5
         ],
         "yaxis": "y7"
        },
        {
         "hoverinfo": "skip",
         "line": {
          "color": "#9e9e9e",
          "width": 1
         },
         "mode": "lines",
         "type": "scatter",
         "x": [
          12.5,
          13.5
         ],
         "xaxis": "x7",
         "y": [
          2.5,
          2.5
         ],
         "yaxis": "y7"
        },
        {
         "hoverinfo": "skip",
         "line": {
          "color": "#9e9e9e",
          "width": 1
         },
         "mode": "lines",
         "type": "scatter",
         "x": [
          13.5,
          13.5
         ],
         "xaxis": "x7",
         "y": [
          2.5,
          -0.5
         ],
         "yaxis": "y7"
        },
        {
         "hoverinfo": "skip",
         "line": {
          "color": "#9e9e9e",
          "width": 1
         },
         "mode": "lines",
         "type": "scatter",
         "x": [
          12.5,
          12.5
         ],
         "xaxis": "x7",
         "y": [
          2.5,
          6.5
         ],
         "yaxis": "y7"
        },
        {
         "hoverinfo": "skip",
         "line": {
          "color": "#9e9e9e",
          "width": 1
         },
         "mode": "lines",
         "type": "scatter",
         "x": [
          12.5,
          13.5
         ],
         "xaxis": "x7",
         "y": [
          2.5,
          2.5
         ],
         "yaxis": "y7"
        },
        {
         "hoverinfo": "skip",
         "line": {
          "color": "#9e9e9e",
          "width": 1
         },
         "mode": "lines",
         "type": "scatter",
         "x": [
          13.5,
          13.5
         ],
         "xaxis": "x7",
         "y": [
          2.5,
          -0.5
         ],
         "yaxis": "y7"
        },
        {
         "hoverinfo": "skip",
         "line": {
          "color": "#9e9e9e",
          "width": 1
         },
         "mode": "lines",
         "type": "scatter",
         "x": [
          16.5,
          16.5
         ],
         "xaxis": "x7",
         "y": [
          4.5,
          6.5
         ],
         "yaxis": "y7"
        },
        {
         "hoverinfo": "skip",
         "line": {
          "color": "#9e9e9e",
          "width": 1
         },
         "mode": "lines",
         "type": "scatter",
         "x": [
          16.5,
          17.5
         ],
         "xaxis": "x7",
         "y": [
          4.5,
          4.5
         ],
         "yaxis": "y7"
        },
        {
         "hoverinfo": "skip",
         "line": {
          "color": "#9e9e9e",
          "width": 1
         },
         "mode": "lines",
         "type": "scatter",
         "x": [
          17.5,
          17.5
         ],
         "xaxis": "x7",
         "y": [
          4.5,
          -0.5
         ],
         "yaxis": "y7"
        },
        {
         "hoverinfo": "skip",
         "line": {
          "color": "#9e9e9e",
          "width": 1
         },
         "mode": "lines",
         "type": "scatter",
         "x": [
          21.5,
          21.5
         ],
         "xaxis": "x7",
         "y": [
          0.5,
          6.5
         ],
         "yaxis": "y7"
        },
        {
         "hoverinfo": "skip",
         "line": {
          "color": "#9e9e9e",
          "width": 1
         },
         "mode": "lines",
         "type": "scatter",
         "x": [
          21.5,
          22.5
         ],
         "xaxis": "x7",
         "y": [
          0.5,
          0.5
         ],
         "yaxis": "y7"
        },
        {
         "hoverinfo": "skip",
         "line": {
          "color": "#9e9e9e",
          "width": 1
         },
         "mode": "lines",
         "type": "scatter",
         "x": [
          22.5,
          22.5
         ],
         "xaxis": "x7",
         "y": [
          0.5,
          -0.5
         ],
         "yaxis": "y7"
        },
        {
         "hoverinfo": "skip",
         "line": {
          "color": "#9e9e9e",
          "width": 1
         },
         "mode": "lines",
         "type": "scatter",
         "x": [
          25.5,
          25.5
         ],
         "xaxis": "x7",
         "y": [
          2.5,
          6.5
         ],
         "yaxis": "y7"
        },
        {
         "hoverinfo": "skip",
         "line": {
          "color": "#9e9e9e",
          "width": 1
         },
         "mode": "lines",
         "type": "scatter",
         "x": [
          25.5,
          26.5
         ],
         "xaxis": "x7",
         "y": [
          2.5,
          2.5
         ],
         "yaxis": "y7"
        },
        {
         "hoverinfo": "skip",
         "line": {
          "color": "#9e9e9e",
          "width": 1
         },
         "mode": "lines",
         "type": "scatter",
         "x": [
          26.5,
          26.5
         ],
         "xaxis": "x7",
         "y": [
          2.5,
          -0.5
         ],
         "yaxis": "y7"
        },
        {
         "hoverinfo": "skip",
         "line": {
          "color": "#9e9e9e",
          "width": 1
         },
         "mode": "lines",
         "type": "scatter",
         "x": [
          29.5,
          29.5
         ],
         "xaxis": "x7",
         "y": [
          5.5,
          6.5
         ],
         "yaxis": "y7"
        },
        {
         "hoverinfo": "skip",
         "line": {
          "color": "#9e9e9e",
          "width": 1
         },
         "mode": "lines",
         "type": "scatter",
         "x": [
          29.5,
          30.5
         ],
         "xaxis": "x7",
         "y": [
          5.5,
          5.5
         ],
         "yaxis": "y7"
        },
        {
         "hoverinfo": "skip",
         "line": {
          "color": "#9e9e9e",
          "width": 1
         },
         "mode": "lines",
         "type": "scatter",
         "x": [
          30.5,
          30.5
         ],
         "xaxis": "x7",
         "y": [
          5.5,
          -0.5
         ],
         "yaxis": "y7"
        },
        {
         "hoverinfo": "skip",
         "line": {
          "color": "#9e9e9e",
          "width": 1
         },
         "mode": "lines",
         "type": "scatter",
         "x": [
          34.5,
          34.5
         ],
         "xaxis": "x7",
         "y": [
          1.5,
          6.5
         ],
         "yaxis": "y7"
        },
        {
         "hoverinfo": "skip",
         "line": {
          "color": "#9e9e9e",
          "width": 1
         },
         "mode": "lines",
         "type": "scatter",
         "x": [
          34.5,
          35.5
         ],
         "xaxis": "x7",
         "y": [
          1.5,
          1.5
         ],
         "yaxis": "y7"
        },
        {
         "hoverinfo": "skip",
         "line": {
          "color": "#9e9e9e",
          "width": 1
         },
         "mode": "lines",
         "type": "scatter",
         "x": [
          35.5,
          35.5
         ],
         "xaxis": "x7",
         "y": [
          1.5,
          -0.5
         ],
         "yaxis": "y7"
        },
        {
         "hoverinfo": "skip",
         "line": {
          "color": "#9e9e9e",
          "width": 1
         },
         "mode": "lines",
         "type": "scatter",
         "x": [
          34.5,
          34.5
         ],
         "xaxis": "x7",
         "y": [
          1.5,
          6.5
         ],
         "yaxis": "y7"
        },
        {
         "hoverinfo": "skip",
         "line": {
          "color": "#9e9e9e",
          "width": 1
         },
         "mode": "lines",
         "type": "scatter",
         "x": [
          34.5,
          35.5
         ],
         "xaxis": "x7",
         "y": [
          1.5,
          1.5
         ],
         "yaxis": "y7"
        },
        {
         "hoverinfo": "skip",
         "line": {
          "color": "#9e9e9e",
          "width": 1
         },
         "mode": "lines",
         "type": "scatter",
         "x": [
          35.5,
          35.5
         ],
         "xaxis": "x7",
         "y": [
          1.5,
          -0.5
         ],
         "yaxis": "y7"
        },
        {
         "hoverinfo": "skip",
         "line": {
          "color": "#9e9e9e",
          "width": 1
         },
         "mode": "lines",
         "type": "scatter",
         "x": [
          38.5,
          38.5
         ],
         "xaxis": "x7",
         "y": [
          3.5,
          6.5
         ],
         "yaxis": "y7"
        },
        {
         "hoverinfo": "skip",
         "line": {
          "color": "#9e9e9e",
          "width": 1
         },
         "mode": "lines",
         "type": "scatter",
         "x": [
          38.5,
          39.5
         ],
         "xaxis": "x7",
         "y": [
          3.5,
          3.5
         ],
         "yaxis": "y7"
        },
        {
         "hoverinfo": "skip",
         "line": {
          "color": "#9e9e9e",
          "width": 1
         },
         "mode": "lines",
         "type": "scatter",
         "x": [
          39.5,
          39.5
         ],
         "xaxis": "x7",
         "y": [
          3.5,
          -0.5
         ],
         "yaxis": "y7"
        },
        {
         "hoverinfo": "skip",
         "line": {
          "color": "#9e9e9e",
          "width": 1
         },
         "mode": "lines",
         "type": "scatter",
         "x": [
          38.5,
          38.5
         ],
         "xaxis": "x7",
         "y": [
          3.5,
          6.5
         ],
         "yaxis": "y7"
        },
        {
         "hoverinfo": "skip",
         "line": {
          "color": "#9e9e9e",
          "width": 1
         },
         "mode": "lines",
         "type": "scatter",
         "x": [
          38.5,
          39.5
         ],
         "xaxis": "x7",
         "y": [
          3.5,
          3.5
         ],
         "yaxis": "y7"
        },
        {
         "hoverinfo": "skip",
         "line": {
          "color": "#9e9e9e",
          "width": 1
         },
         "mode": "lines",
         "type": "scatter",
         "x": [
          39.5,
          39.5
         ],
         "xaxis": "x7",
         "y": [
          3.5,
          -0.5
         ],
         "yaxis": "y7"
        },
        {
         "hoverinfo": "skip",
         "line": {
          "color": "#9e9e9e",
          "width": 1
         },
         "mode": "lines",
         "type": "scatter",
         "x": [
          38.5,
          38.5
         ],
         "xaxis": "x7",
         "y": [
          3.5,
          6.5
         ],
         "yaxis": "y7"
        },
        {
         "hoverinfo": "skip",
         "line": {
          "color": "#9e9e9e",
          "width": 1
         },
         "mode": "lines",
         "type": "scatter",
         "x": [
          38.5,
          39.5
         ],
         "xaxis": "x7",
         "y": [
          3.5,
          3.5
         ],
         "yaxis": "y7"
        },
        {
         "hoverinfo": "skip",
         "line": {
          "color": "#9e9e9e",
          "width": 1
         },
         "mode": "lines",
         "type": "scatter",
         "x": [
          39.5,
          39.5
         ],
         "xaxis": "x7",
         "y": [
          3.5,
          -0.5
         ],
         "yaxis": "y7"
        },
        {
         "hoverinfo": "skip",
         "line": {
          "color": "#9e9e9e",
          "width": 1
         },
         "mode": "lines",
         "type": "scatter",
         "x": [
          38.5,
          38.5
         ],
         "xaxis": "x7",
         "y": [
          3.5,
          6.5
         ],
         "yaxis": "y7"
        },
        {
         "hoverinfo": "skip",
         "line": {
          "color": "#9e9e9e",
          "width": 1
         },
         "mode": "lines",
         "type": "scatter",
         "x": [
          38.5,
          39.5
         ],
         "xaxis": "x7",
         "y": [
          3.5,
          3.5
         ],
         "yaxis": "y7"
        },
        {
         "hoverinfo": "skip",
         "line": {
          "color": "#9e9e9e",
          "width": 1
         },
         "mode": "lines",
         "type": "scatter",
         "x": [
          39.5,
          39.5
         ],
         "xaxis": "x7",
         "y": [
          3.5,
          -0.5
         ],
         "yaxis": "y7"
        },
        {
         "hoverinfo": "skip",
         "line": {
          "color": "#9e9e9e",
          "width": 1
         },
         "mode": "lines",
         "type": "scatter",
         "x": [
          38.5,
          38.5
         ],
         "xaxis": "x7",
         "y": [
          3.5,
          6.5
         ],
         "yaxis": "y7"
        },
        {
         "hoverinfo": "skip",
         "line": {
          "color": "#9e9e9e",
          "width": 1
         },
         "mode": "lines",
         "type": "scatter",
         "x": [
          38.5,
          39.5
         ],
         "xaxis": "x7",
         "y": [
          3.5,
          3.5
         ],
         "yaxis": "y7"
        },
        {
         "hoverinfo": "skip",
         "line": {
          "color": "#9e9e9e",
          "width": 1
         },
         "mode": "lines",
         "type": "scatter",
         "x": [
          39.5,
          39.5
         ],
         "xaxis": "x7",
         "y": [
          3.5,
          -0.5
         ],
         "yaxis": "y7"
        },
        {
         "hoverinfo": "skip",
         "line": {
          "color": "#9e9e9e",
          "width": 1
         },
         "mode": "lines",
         "type": "scatter",
         "x": [
          38.5,
          38.5
         ],
         "xaxis": "x7",
         "y": [
          3.5,
          6.5
         ],
         "yaxis": "y7"
        },
        {
         "hoverinfo": "skip",
         "line": {
          "color": "#9e9e9e",
          "width": 1
         },
         "mode": "lines",
         "type": "scatter",
         "x": [
          38.5,
          39.5
         ],
         "xaxis": "x7",
         "y": [
          3.5,
          3.5
         ],
         "yaxis": "y7"
        },
        {
         "hoverinfo": "skip",
         "line": {
          "color": "#9e9e9e",
          "width": 1
         },
         "mode": "lines",
         "type": "scatter",
         "x": [
          39.5,
          39.5
         ],
         "xaxis": "x7",
         "y": [
          3.5,
          -0.5
         ],
         "yaxis": "y7"
        },
        {
         "hoverinfo": "skip",
         "line": {
          "color": "#9e9e9e",
          "width": 1
         },
         "mode": "lines",
         "type": "scatter",
         "x": [
          38.5,
          38.5
         ],
         "xaxis": "x7",
         "y": [
          3.5,
          6.5
         ],
         "yaxis": "y7"
        },
        {
         "hoverinfo": "skip",
         "line": {
          "color": "#9e9e9e",
          "width": 1
         },
         "mode": "lines",
         "type": "scatter",
         "x": [
          38.5,
          39.5
         ],
         "xaxis": "x7",
         "y": [
          3.5,
          3.5
         ],
         "yaxis": "y7"
        },
        {
         "hoverinfo": "skip",
         "line": {
          "color": "#9e9e9e",
          "width": 1
         },
         "mode": "lines",
         "type": "scatter",
         "x": [
          39.5,
          39.5
         ],
         "xaxis": "x7",
         "y": [
          3.5,
          -0.5
         ],
         "yaxis": "y7"
        },
        {
         "hoverinfo": "skip",
         "line": {
          "color": "#9e9e9e",
          "width": 1
         },
         "mode": "lines",
         "type": "scatter",
         "x": [
          43.5,
          43.5
         ],
         "xaxis": "x7",
         "y": [
          -0.5,
          6.5
         ],
         "yaxis": "y7"
        },
        {
         "hoverinfo": "skip",
         "line": {
          "color": "#9e9e9e",
          "width": 1
         },
         "mode": "lines",
         "type": "scatter",
         "x": [
          47.5,
          47.5
         ],
         "xaxis": "x7",
         "y": [
          1.5,
          6.5
         ],
         "yaxis": "y7"
        },
        {
         "hoverinfo": "skip",
         "line": {
          "color": "#9e9e9e",
          "width": 1
         },
         "mode": "lines",
         "type": "scatter",
         "x": [
          47.5,
          48.5
         ],
         "xaxis": "x7",
         "y": [
          1.5,
          1.5
         ],
         "yaxis": "y7"
        },
        {
         "hoverinfo": "skip",
         "line": {
          "color": "#9e9e9e",
          "width": 1
         },
         "mode": "lines",
         "type": "scatter",
         "x": [
          48.5,
          48.5
         ],
         "xaxis": "x7",
         "y": [
          1.5,
          -0.5
         ],
         "yaxis": "y7"
        },
        {
         "hoverinfo": "skip",
         "line": {
          "color": "#9e9e9e",
          "width": 1
         },
         "mode": "lines",
         "type": "scatter",
         "x": [
          47.5,
          47.5
         ],
         "xaxis": "x7",
         "y": [
          1.5,
          6.5
         ],
         "yaxis": "y7"
        },
        {
         "hoverinfo": "skip",
         "line": {
          "color": "#9e9e9e",
          "width": 1
         },
         "mode": "lines",
         "type": "scatter",
         "x": [
          47.5,
          48.5
         ],
         "xaxis": "x7",
         "y": [
          1.5,
          1.5
         ],
         "yaxis": "y7"
        },
        {
         "hoverinfo": "skip",
         "line": {
          "color": "#9e9e9e",
          "width": 1
         },
         "mode": "lines",
         "type": "scatter",
         "x": [
          48.5,
          48.5
         ],
         "xaxis": "x7",
         "y": [
          1.5,
          -0.5
         ],
         "yaxis": "y7"
        },
        {
         "hoverinfo": "skip",
         "line": {
          "color": "#9e9e9e",
          "width": 1
         },
         "mode": "lines",
         "type": "scatter",
         "x": [
          47.5,
          47.5
         ],
         "xaxis": "x7",
         "y": [
          1.5,
          6.5
         ],
         "yaxis": "y7"
        },
        {
         "hoverinfo": "skip",
         "line": {
          "color": "#9e9e9e",
          "width": 1
         },
         "mode": "lines",
         "type": "scatter",
         "x": [
          47.5,
          48.5
         ],
         "xaxis": "x7",
         "y": [
          1.5,
          1.5
         ],
         "yaxis": "y7"
        },
        {
         "hoverinfo": "skip",
         "line": {
          "color": "#9e9e9e",
          "width": 1
         },
         "mode": "lines",
         "type": "scatter",
         "x": [
          48.5,
          48.5
         ],
         "xaxis": "x7",
         "y": [
          1.5,
          -0.5
         ],
         "yaxis": "y7"
        },
        {
         "colorscale": [
          [
           0,
           "rgb(247,252,245)"
          ],
          [
           0.125,
           "rgb(229,245,224)"
          ],
          [
           0.25,
           "rgb(199,233,192)"
          ],
          [
           0.375,
           "rgb(161,217,155)"
          ],
          [
           0.5,
           "rgb(116,196,118)"
          ],
          [
           0.625,
           "rgb(65,171,93)"
          ],
          [
           0.75,
           "rgb(35,139,69)"
          ],
          [
           0.875,
           "rgb(0,109,44)"
          ],
          [
           1,
           "rgb(0,68,27)"
          ]
         ],
         "customdata": [
          [
           "2022-01-01",
           "y"
          ],
          [
           "2022-01-02",
           "y"
          ],
          [
           "2022-01-03",
           "y"
          ],
          [
           "2022-01-04",
           "y"
          ],
          [
           "2022-01-04",
           "y"
          ],
          [
           "2022-01-04",
           "y"
          ],
          [
           "2022-01-04",
           "y"
          ],
          [
           "2022-01-05",
           "y"
          ],
          [
           "2022-01-05",
           "y"
          ],
          [
           "2022-01-05",
           "y"
          ],
          [
           "2022-01-05",
           "y"
          ],
          [
           "2022-01-05",
           "y"
          ],
          [
           "2022-01-06",
           "y"
          ],
          [
           "2022-01-07",
           "y"
          ],
          [
           "2022-01-08",
           "y"
          ],
          [
           "2022-01-09",
           "y"
          ],
          [
           "2022-01-10",
           "y"
          ],
          [
           "2022-01-11",
           "y"
          ],
          [
           "2022-01-12",
           "y"
          ],
          [
           "2022-01-12",
           "y"
          ],
          [
           "2022-01-12",
           "y"
          ],
          [
           "2022-01-12",
           "y"
          ],
          [
           "2022-01-13",
           "y"
          ],
          [
           "2022-01-13",
           "y"
          ],
          [
           "2022-01-13",
           "y"
          ],
          [
           "2022-01-13",
           "y"
          ],
          [
           "2022-01-13",
           "y"
          ],
          [
           "2022-01-14",
           "y"
          ],
          [
           "2022-01-15",
           "y"
          ],
          [
           "2022-01-16",
           "y"
          ],
          [
           "2022-01-17",
           "y"
          ],
          [
           "2022-01-18",
           "y"
          ],
          [
           "2022-01-19",
           "y"
          ],
          [
           "2022-01-20",
           "y"
          ],
          [
           "2022-01-20",
           "y"
          ],
          [
           "2022-01-20",
           "y"
          ],
          [
           "2022-01-20",
           "y"
          ],
          [
           "2022-01-21",
           "y"
          ],
          [
           "2022-01-21",
           "y"
          ],
          [
           "2022-01-21",
           "y"
          ],
          [
           "2022-01-22",
           "y"
          ],
          [
           "2022-01-23",
           "y"
          ],
          [
           "2022-01-24",
           "y"
          ],
          [
           "2022-01-25",
           "y"
          ],
          [
           "2022-01-26",
           "y"
          ],
          [
           "2022-01-27",
           "y"
          ],
          [
           "2022-01-28",
           "y"
          ],
          [
           "2022-01-29",
           "y"
          ],
          [
           "2022-01-30",
           "y"
          ],
          [
           "2022-01-31",
           "y"
          ],
          [
           "2022-02-01",
           "y"
          ],
          [
           "2022-02-02",
           "y"
          ],
          [
           "2022-02-03",
           "y"
          ],
          [
           "2022-02-03",
           "y"
          ],
          [
           "2022-02-03",
           "y"
          ],
          [
           "2022-02-03",
           "y"
          ],
          [
           "2022-02-04",
           "y"
          ],
          [
           "2022-02-05",
           "y"
          ],
          [
           "2022-02-06",
           "y"
          ],
          [
           "2022-02-07",
           "y"
          ],
          [
           "2022-02-07",
           "y"
          ],
          [
           "2022-02-08",
           "y"
          ],
          [
           "2022-02-09",
           "y"
          ],
          [
           "2022-02-09",
           "y"
          ],
          [
           "2022-02-09",
           "y"
          ],
          [
           "2022-02-10",
           "y"
          ],
          [
           "2022-02-11",
           "y"
          ],
          [
           "2022-02-11",
           "y"
          ],
          [
           "2022-02-12",
           "y"
          ],
          [
           "2022-02-13",
           "y"
          ],
          [
           "2022-02-14",
           "y"
          ],
          [
           "2022-02-15",
           "y"
          ],
          [
           "2022-02-16",
           "y"
          ],
          [
           "2022-02-17",
           "y"
          ],
          [
           "2022-02-17",
           "y"
          ],
          [
           "2022-02-18",
           "y"
          ],
          [
           "2022-02-19",
           "y"
          ],
          [
           "2022-02-20",
           "y"
          ],
          [
           "2022-02-21",
           "y"
          ],
          [
           "2022-02-22",
           "y"
          ],
          [
           "2022-02-22",
           "y"
          ],
          [
           "2022-02-23",
           "y"
          ],
          [
           "2022-02-23",
           "y"
          ],
          [
           "2022-02-23",
           "y"
          ],
          [
           "2022-02-23",
           "y"
          ],
          [
           "2022-02-23",
           "y"
          ],
          [
           "2022-02-23",
           "y"
          ],
          [
           "2022-02-23",
           "y"
          ],
          [
           "2022-02-23",
           "y"
          ],
          [
           "2022-02-23",
           "y"
          ],
          [
           "2022-02-24",
           "y"
          ],
          [
           "2022-02-24",
           "y"
          ],
          [
           "2022-02-24",
           "y"
          ],
          [
           "2022-02-24",
           "y"
          ],
          [
           "2022-02-25",
           "y"
          ],
          [
           "2022-02-25",
           "y"
          ],
          [
           "2022-02-25",
           "y"
          ],
          [
           "2022-02-25",
           "y"
          ],
          [
           "2022-02-25",
           "y"
          ],
          [
           "2022-02-25",
           "y"
          ],
          [
           "2022-02-25",
           "y"
          ],
          [
           "2022-02-25",
           "y"
          ],
          [
           "2022-02-26",
           "y"
          ],
          [
           "2022-02-27",
           "y"
          ],
          [
           "2022-02-28",
           "y"
          ],
          [
           "2022-02-28",
           "y"
          ],
          [
           "2022-02-28",
           "y"
          ],
          [
           "2022-02-28",
           "y"
          ],
          [
           "2022-03-01",
           "y"
          ],
          [
           "2022-03-01",
           "y"
          ],
          [
           "2022-03-02",
           "y"
          ],
          [
           "2022-03-02",
           "y"
          ],
          [
           "2022-03-02",
           "y"
          ],
          [
           "2022-03-02",
           "y"
          ],
          [
           "2022-03-02",
           "y"
          ],
          [
           "2022-03-03",
           "y"
          ],
          [
           "2022-03-04",
           "y"
          ],
          [
           "2022-03-05",
           "y"
          ],
          [
           "2022-03-06",
           "y"
          ],
          [
           "2022-03-07",
           "y"
          ],
          [
           "2022-03-08",
           "y"
          ],
          [
           "2022-03-09",
           "y"
          ],
          [
           "2022-03-09",
           "y"
          ],
          [
           "2022-03-09",
           "y"
          ],
          [
           "2022-03-09",
           "y"
          ],
          [
           "2022-03-09",
           "y"
          ],
          [
           "2022-03-10",
           "y"
          ],
          [
           "2022-03-10",
           "y"
          ],
          [
           "2022-03-10",
           "y"
          ],
          [
           "2022-03-11",
           "y"
          ],
          [
           "2022-03-12",
           "y"
          ],
          [
           "2022-03-13",
           "y"
          ],
          [
           "2022-03-14",
           "y"
          ],
          [
           "2022-03-15",
           "y"
          ],
          [
           "2022-03-16",
           "y"
          ],
          [
           "2022-03-17",
           "y"
          ],
          [
           "2022-03-18",
           "y"
          ],
          [
           "2022-03-19",
           "y"
          ],
          [
           "2022-03-20",
           "y"
          ],
          [
           "2022-03-21",
           "y"
          ],
          [
           "2022-03-22",
           "y"
          ],
          [
           "2022-03-23",
           "y"
          ],
          [
           "2022-03-24",
           "y"
          ],
          [
           "2022-03-25",
           "y"
          ],
          [
           "2022-03-26",
           "y"
          ],
          [
           "2022-03-27",
           "y"
          ],
          [
           "2022-03-28",
           "y"
          ],
          [
           "2022-03-29",
           "y"
          ],
          [
           "2022-03-30",
           "y"
          ],
          [
           "2022-03-31",
           "y"
          ],
          [
           "2022-04-01",
           "y"
          ],
          [
           "2022-04-02",
           "y"
          ],
          [
           "2022-04-03",
           "y"
          ],
          [
           "2022-04-04",
           "y"
          ],
          [
           "2022-04-05",
           "y"
          ],
          [
           "2022-04-06",
           "y"
          ],
          [
           "2022-04-07",
           "y"
          ],
          [
           "2022-04-08",
           "y"
          ],
          [
           "2022-04-09",
           "y"
          ],
          [
           "2022-04-10",
           "y"
          ],
          [
           "2022-04-11",
           "y"
          ],
          [
           "2022-04-12",
           "y"
          ],
          [
           "2022-04-13",
           "y"
          ],
          [
           "2022-04-14",
           "y"
          ],
          [
           "2022-04-15",
           "y"
          ],
          [
           "2022-04-16",
           "y"
          ],
          [
           "2022-04-17",
           "y"
          ],
          [
           "2022-04-18",
           "y"
          ],
          [
           "2022-04-19",
           "y"
          ],
          [
           "2022-04-20",
           "y"
          ],
          [
           "2022-04-21",
           "y"
          ],
          [
           "2022-04-22",
           "y"
          ],
          [
           "2022-04-23",
           "y"
          ],
          [
           "2022-04-24",
           "y"
          ],
          [
           "2022-04-25",
           "y"
          ],
          [
           "2022-04-26",
           "y"
          ],
          [
           "2022-04-27",
           "y"
          ],
          [
           "2022-04-28",
           "y"
          ],
          [
           "2022-04-29",
           "y"
          ],
          [
           "2022-04-30",
           "y"
          ],
          [
           "2022-05-01",
           "y"
          ],
          [
           "2022-05-02",
           "y"
          ],
          [
           "2022-05-03",
           "y"
          ],
          [
           "2022-05-04",
           "y"
          ],
          [
           "2022-05-05",
           "y"
          ],
          [
           "2022-05-06",
           "y"
          ],
          [
           "2022-05-07",
           "y"
          ],
          [
           "2022-05-08",
           "y"
          ],
          [
           "2022-05-09",
           "y"
          ],
          [
           "2022-05-10",
           "y"
          ],
          [
           "2022-05-11",
           "y"
          ],
          [
           "2022-05-12",
           "y"
          ],
          [
           "2022-05-13",
           "y"
          ],
          [
           "2022-05-14",
           "y"
          ],
          [
           "2022-05-15",
           "y"
          ],
          [
           "2022-05-16",
           "y"
          ],
          [
           "2022-05-17",
           "y"
          ],
          [
           "2022-05-18",
           "y"
          ],
          [
           "2022-05-19",
           "y"
          ],
          [
           "2022-05-20",
           "y"
          ],
          [
           "2022-05-21",
           "y"
          ],
          [
           "2022-05-22",
           "y"
          ],
          [
           "2022-05-23",
           "y"
          ],
          [
           "2022-05-24",
           "y"
          ],
          [
           "2022-05-25",
           "y"
          ],
          [
           "2022-05-26",
           "y"
          ],
          [
           "2022-05-27",
           "y"
          ],
          [
           "2022-05-28",
           "y"
          ],
          [
           "2022-05-29",
           "y"
          ],
          [
           "2022-05-30",
           "y"
          ],
          [
           "2022-05-31",
           "y"
          ],
          [
           "2022-06-01",
           "y"
          ],
          [
           "2022-06-02",
           "y"
          ],
          [
           "2022-06-03",
           "y"
          ],
          [
           "2022-06-04",
           "y"
          ],
          [
           "2022-06-05",
           "y"
          ],
          [
           "2022-06-06",
           "y"
          ],
          [
           "2022-06-07",
           "y"
          ],
          [
           "2022-06-08",
           "y"
          ],
          [
           "2022-06-09",
           "y"
          ],
          [
           "2022-06-10",
           "y"
          ],
          [
           "2022-06-11",
           "y"
          ],
          [
           "2022-06-12",
           "y"
          ],
          [
           "2022-06-13",
           "y"
          ],
          [
           "2022-06-14",
           "y"
          ],
          [
           "2022-06-15",
           "y"
          ],
          [
           "2022-06-16",
           "y"
          ],
          [
           "2022-06-17",
           "y"
          ],
          [
           "2022-06-18",
           "y"
          ],
          [
           "2022-06-19",
           "y"
          ],
          [
           "2022-06-20",
           "y"
          ],
          [
           "2022-06-21",
           "y"
          ],
          [
           "2022-06-22",
           "y"
          ],
          [
           "2022-06-23",
           "y"
          ],
          [
           "2022-06-24",
           "y"
          ],
          [
           "2022-06-25",
           "y"
          ],
          [
           "2022-06-26",
           "y"
          ],
          [
           "2022-06-27",
           "y"
          ],
          [
           "2022-06-28",
           "y"
          ],
          [
           "2022-06-29",
           "y"
          ],
          [
           "2022-06-30",
           "y"
          ],
          [
           "2022-07-01",
           "y"
          ],
          [
           "2022-07-02",
           "y"
          ],
          [
           "2022-07-03",
           "y"
          ],
          [
           "2022-07-04",
           "y"
          ],
          [
           "2022-07-05",
           "y"
          ],
          [
           "2022-07-06",
           "y"
          ],
          [
           "2022-07-07",
           "y"
          ],
          [
           "2022-07-08",
           "y"
          ],
          [
           "2022-07-09",
           "y"
          ],
          [
           "2022-07-10",
           "y"
          ],
          [
           "2022-07-11",
           "y"
          ],
          [
           "2022-07-12",
           "y"
          ],
          [
           "2022-07-13",
           "y"
          ],
          [
           "2022-07-14",
           "y"
          ],
          [
           "2022-07-15",
           "y"
          ],
          [
           "2022-07-16",
           "y"
          ],
          [
           "2022-07-17",
           "y"
          ],
          [
           "2022-07-18",
           "y"
          ],
          [
           "2022-07-19",
           "y"
          ],
          [
           "2022-07-20",
           "y"
          ],
          [
           "2022-07-21",
           "y"
          ],
          [
           "2022-07-22",
           "y"
          ],
          [
           "2022-07-23",
           "y"
          ],
          [
           "2022-07-24",
           "y"
          ],
          [
           "2022-07-25",
           "y"
          ],
          [
           "2022-07-26",
           "y"
          ],
          [
           "2022-07-27",
           "y"
          ],
          [
           "2022-07-28",
           "y"
          ],
          [
           "2022-07-29",
           "y"
          ],
          [
           "2022-07-30",
           "y"
          ],
          [
           "2022-07-31",
           "y"
          ],
          [
           "2022-08-01",
           "y"
          ],
          [
           "2022-08-02",
           "y"
          ],
          [
           "2022-08-03",
           "y"
          ],
          [
           "2022-08-04",
           "y"
          ],
          [
           "2022-08-05",
           "y"
          ],
          [
           "2022-08-06",
           "y"
          ],
          [
           "2022-08-07",
           "y"
          ],
          [
           "2022-08-08",
           "y"
          ],
          [
           "2022-08-09",
           "y"
          ],
          [
           "2022-08-10",
           "y"
          ],
          [
           "2022-08-11",
           "y"
          ],
          [
           "2022-08-12",
           "y"
          ],
          [
           "2022-08-13",
           "y"
          ],
          [
           "2022-08-14",
           "y"
          ],
          [
           "2022-08-15",
           "y"
          ],
          [
           "2022-08-16",
           "y"
          ],
          [
           "2022-08-17",
           "y"
          ],
          [
           "2022-08-18",
           "y"
          ],
          [
           "2022-08-19",
           "y"
          ],
          [
           "2022-08-20",
           "y"
          ],
          [
           "2022-08-21",
           "y"
          ],
          [
           "2022-08-22",
           "y"
          ],
          [
           "2022-08-23",
           "y"
          ],
          [
           "2022-08-24",
           "y"
          ],
          [
           "2022-08-25",
           "y"
          ],
          [
           "2022-08-26",
           "y"
          ],
          [
           "2022-08-27",
           "y"
          ],
          [
           "2022-08-28",
           "y"
          ],
          [
           "2022-08-29",
           "y"
          ],
          [
           "2022-08-30",
           "y"
          ],
          [
           "2022-08-31",
           "y"
          ],
          [
           "2022-09-01",
           "y"
          ],
          [
           "2022-09-02",
           "y"
          ],
          [
           "2022-09-03",
           "y"
          ],
          [
           "2022-09-04",
           "y"
          ],
          [
           "2022-09-05",
           "y"
          ],
          [
           "2022-09-06",
           "y"
          ],
          [
           "2022-09-07",
           "y"
          ],
          [
           "2022-09-08",
           "y"
          ],
          [
           "2022-09-09",
           "y"
          ],
          [
           "2022-09-10",
           "y"
          ],
          [
           "2022-09-11",
           "y"
          ],
          [
           "2022-09-12",
           "y"
          ],
          [
           "2022-09-13",
           "y"
          ],
          [
           "2022-09-14",
           "y"
          ],
          [
           "2022-09-15",
           "y"
          ],
          [
           "2022-09-16",
           "y"
          ],
          [
           "2022-09-17",
           "y"
          ],
          [
           "2022-09-18",
           "y"
          ],
          [
           "2022-09-19",
           "y"
          ],
          [
           "2022-09-20",
           "y"
          ],
          [
           "2022-09-21",
           "y"
          ],
          [
           "2022-09-22",
           "y"
          ],
          [
           "2022-09-23",
           "y"
          ],
          [
           "2022-09-24",
           "y"
          ],
          [
           "2022-09-25",
           "y"
          ],
          [
           "2022-09-26",
           "y"
          ],
          [
           "2022-09-27",
           "y"
          ],
          [
           "2022-09-28",
           "y"
          ],
          [
           "2022-09-29",
           "y"
          ],
          [
           "2022-09-30",
           "y"
          ],
          [
           "2022-10-01",
           "y"
          ],
          [
           "2022-10-02",
           "y"
          ],
          [
           "2022-10-03",
           "y"
          ],
          [
           "2022-10-04",
           "y"
          ],
          [
           "2022-10-05",
           "y"
          ],
          [
           "2022-10-06",
           "y"
          ],
          [
           "2022-10-07",
           "y"
          ],
          [
           "2022-10-08",
           "y"
          ],
          [
           "2022-10-09",
           "y"
          ],
          [
           "2022-10-10",
           "y"
          ],
          [
           "2022-10-11",
           "y"
          ],
          [
           "2022-10-12",
           "y"
          ],
          [
           "2022-10-13",
           "y"
          ],
          [
           "2022-10-14",
           "y"
          ],
          [
           "2022-10-15",
           "y"
          ],
          [
           "2022-10-16",
           "y"
          ],
          [
           "2022-10-17",
           "y"
          ],
          [
           "2022-10-18",
           "y"
          ],
          [
           "2022-10-19",
           "y"
          ],
          [
           "2022-10-20",
           "y"
          ],
          [
           "2022-10-21",
           "y"
          ],
          [
           "2022-10-22",
           "y"
          ],
          [
           "2022-10-23",
           "y"
          ],
          [
           "2022-10-24",
           "y"
          ],
          [
           "2022-10-25",
           "y"
          ],
          [
           "2022-10-26",
           "y"
          ],
          [
           "2022-10-27",
           "y"
          ],
          [
           "2022-10-28",
           "y"
          ],
          [
           "2022-10-29",
           "y"
          ],
          [
           "2022-10-30",
           "y"
          ],
          [
           "2022-10-31",
           "y"
          ],
          [
           "2022-11-01",
           "y"
          ],
          [
           "2022-11-02",
           "y"
          ],
          [
           "2022-11-03",
           "y"
          ],
          [
           "2022-11-04",
           "y"
          ],
          [
           "2022-11-05",
           "y"
          ],
          [
           "2022-11-06",
           "y"
          ],
          [
           "2022-11-07",
           "y"
          ],
          [
           "2022-11-08",
           "y"
          ],
          [
           "2022-11-09",
           "y"
          ],
          [
           "2022-11-10",
           "y"
          ],
          [
           "2022-11-11",
           "y"
          ],
          [
           "2022-11-12",
           "y"
          ],
          [
           "2022-11-13",
           "y"
          ],
          [
           "2022-11-14",
           "y"
          ],
          [
           "2022-11-15",
           "y"
          ],
          [
           "2022-11-16",
           "y"
          ],
          [
           "2022-11-17",
           "y"
          ],
          [
           "2022-11-18",
           "y"
          ],
          [
           "2022-11-19",
           "y"
          ],
          [
           "2022-11-20",
           "y"
          ],
          [
           "2022-11-21",
           "y"
          ],
          [
           "2022-11-22",
           "y"
          ],
          [
           "2022-11-23",
           "y"
          ],
          [
           "2022-11-24",
           "y"
          ],
          [
           "2022-11-25",
           "y"
          ],
          [
           "2022-11-26",
           "y"
          ],
          [
           "2022-11-27",
           "y"
          ],
          [
           "2022-11-28",
           "y"
          ],
          [
           "2022-11-29",
           "y"
          ],
          [
           "2022-11-30",
           "y"
          ],
          [
           "2022-12-01",
           "y"
          ],
          [
           "2022-12-02",
           "y"
          ],
          [
           "2022-12-03",
           "y"
          ],
          [
           "2022-12-04",
           "y"
          ],
          [
           "2022-12-05",
           "y"
          ],
          [
           "2022-12-06",
           "y"
          ],
          [
           "2022-12-07",
           "y"
          ],
          [
           "2022-12-08",
           "y"
          ],
          [
           "2022-12-09",
           "y"
          ],
          [
           "2022-12-10",
           "y"
          ],
          [
           "2022-12-11",
           "y"
          ],
          [
           "2022-12-12",
           "y"
          ],
          [
           "2022-12-13",
           "y"
          ],
          [
           "2022-12-14",
           "y"
          ],
          [
           "2022-12-15",
           "y"
          ],
          [
           "2022-12-16",
           "y"
          ],
          [
           "2022-12-17",
           "y"
          ],
          [
           "2022-12-18",
           "y"
          ],
          [
           "2022-12-19",
           "y"
          ],
          [
           "2022-12-20",
           "y"
          ],
          [
           "2022-12-21",
           "y"
          ],
          [
           "2022-12-22",
           "y"
          ],
          [
           "2022-12-23",
           "y"
          ],
          [
           "2022-12-24",
           "y"
          ],
          [
           "2022-12-25",
           "y"
          ],
          [
           "2022-12-26",
           "y"
          ],
          [
           "2022-12-27",
           "y"
          ],
          [
           "2022-12-28",
           "y"
          ],
          [
           "2022-12-29",
           "y"
          ],
          [
           "2022-12-30",
           "y"
          ],
          [
           "2022-12-31",
           "y"
          ]
         ],
         "hovertemplate": "%{customdata[0]} <br>%{customdata[1]}=%{z} <br>Week=%{x}",
         "name": "2022",
         "showscale": false,
         "type": "heatmap",
         "x": [
          0,
          0,
          1,
          1,
          1,
          1,
          1,
          1,
          1,
          1,
          1,
          1,
          1,
          1,
          1,
          1,
          2,
          2,
          2,
          2,
          2,
          2,
          2,
          2,
          2,
          2,
          2,
          2,
          2,
          2,
          3,
          3,
          3,
          3,
          3,
          3,
          3,
          3,
          3,
          3,
          3,
          3,
          4,
          4,
          4,
          4,
          4,
          4,
          4,
          5,
          5,
          5,
          5,
          5,
          5,
          5,
          5,
          5,
          5,
          6,
          6,
          6,
          6,
          6,
          6,
          6,
          6,
          6,
          6,
          6,
          7,
          7,
          7,
          7,
          7,
          7,
          7,
          7,
          8,
          8,
          8,
          8,
          8,
          8,
          8,
          8,
          8,
          8,
          8,
          8,
          8,
          8,
          8,
          8,
          8,
          8,
          8,
          8,
          8,
          8,
          8,
          8,
          8,
          8,
          9,
          9,
          9,
          9,
          9,
          9,
          9,
          9,
          9,
          9,
          9,
          9,
          9,
          9,
          9,
          10,
          10,
          10,
          10,
          10,
          10,
          10,
          10,
          10,
          10,
          10,
          10,
          10,
          11,
          11,
          11,
          11,
          11,
          11,
          11,
          12,
          12,
          12,
          12,
          12,
          12,
          12,
          13,
          13,
          13,
          13,
          13,
          13,
          13,
          14,
          14,
          14,
          14,
          14,
          14,
          14,
          15,
          15,
          15,
          15,
          15,
          15,
          15,
          16,
          16,
          16,
          16,
          16,
          16,
          16,
          17,
          17,
          17,
          17,
          17,
          17,
          17,
          18,
          18,
          18,
          18,
          18,
          18,
          18,
          19,
          19,
          19,
          19,
          19,
          19,
          19,
          20,
          20,
          20,
          20,
          20,
          20,
          20,
          21,
          21,
          21,
          21,
          21,
          21,
          21,
          22,
          22,
          22,
          22,
          22,
          22,
          22,
          23,
          23,
          23,
          23,
          23,
          23,
          23,
          24,
          24,
          24,
          24,
          24,
          24,
          24,
          25,
          25,
          25,
          25,
          25,
          25,
          25,
          26,
          26,
          26,
          26,
          26,
          26,
          26,
          27,
          27,
          27,
          27,
          27,
          27,
          27,
          28,
          28,
          28,
          28,
          28,
          28,
          28,
          29,
          29,
          29,
          29,
          29,
          29,
          29,
          30,
          30,
          30,
          30,
          30,
          30,
          30,
          31,
          31,
          31,
          31,
          31,
          31,
          31,
          32,
          32,
          32,
          32,
          32,
          32,
          32,
          33,
          33,
          33,
          33,
          33,
          33,
          33,
          34,
          34,
          34,
          34,
          34,
          34,
          34,
          35,
          35,
          35,
          35,
          35,
          35,
          35,
          36,
          36,
          36,
          36,
          36,
          36,
          36,
          37,
          37,
          37,
          37,
          37,
          37,
          37,
          38,
          38,
          38,
          38,
          38,
          38,
          38,
          39,
          39,
          39,
          39,
          39,
          39,
          39,
          40,
          40,
          40,
          40,
          40,
          40,
          40,
          41,
          41,
          41,
          41,
          41,
          41,
          41,
          42,
          42,
          42,
          42,
          42,
          42,
          42,
          43,
          43,
          43,
          43,
          43,
          43,
          43,
          44,
          44,
          44,
          44,
          44,
          44,
          44,
          45,
          45,
          45,
          45,
          45,
          45,
          45,
          46,
          46,
          46,
          46,
          46,
          46,
          46,
          47,
          47,
          47,
          47,
          47,
          47,
          47,
          48,
          48,
          48,
          48,
          48,
          48,
          48,
          49,
          49,
          49,
          49,
          49,
          49,
          49,
          50,
          50,
          50,
          50,
          50,
          50,
          50,
          51,
          51,
          51,
          51,
          51,
          51,
          51,
          52,
          52,
          52,
          52,
          52,
          52
         ],
         "xaxis": "x8",
         "xgap": 1,
         "y": [
          5,
          6,
          0,
          1,
          1,
          1,
          1,
          2,
          2,
          2,
          2,
          2,
          3,
          4,
          5,
          6,
          0,
          1,
          2,
          2,
          2,
          2,
          3,
          3,
          3,
          3,
          3,
          4,
          5,
          6,
          0,
          1,
          2,
          3,
          3,
          3,
          3,
          4,
          4,
          4,
          5,
          6,
          0,
          1,
          2,
          3,
          4,
          5,
          6,
          0,
          1,
          2,
          3,
          3,
          3,
          3,
          4,
          5,
          6,
          0,
          0,
          1,
          2,
          2,
          2,
          3,
          4,
          4,
          5,
          6,
          0,
          1,
          2,
          3,
          3,
          4,
          5,
          6,
          0,
          1,
          1,
          2,
          2,
          2,
          2,
          2,
          2,
          2,
          2,
          2,
          3,
          3,
          3,
          3,
          4,
          4,
          4,
          4,
          4,
          4,
          4,
          4,
          5,
          6,
          0,
          0,
          0,
          0,
          1,
          1,
          2,
          2,
          2,
          2,
          2,
          3,
          4,
          5,
          6,
          0,
          1,
          2,
          2,
          2,
          2,
          2,
          3,
          3,
          3,
          4,
          5,
          6,
          0,
          1,
          2,
          3,
          4,
          5,
          6,
          0,
          1,
          2,
          3,
          4,
          5,
          6,
          0,
          1,
          2,
          3,
          4,
          5,
          6,
          0,
          1,
          2,
          3,
          4,
          5,
          6,
          0,
          1,
          2,
          3,
          4,
          5,
          6,
          0,
          1,
          2,
          3,
          4,
          5,
          6,
          0,
          1,
          2,
          3,
          4,
          5,
          6,
          0,
          1,
          2,
          3,
          4,
          5,
          6,
          0,
          1,
          2,
          3,
          4,
          5,
          6,
          0,
          1,
          2,
          3,
          4,
          5,
          6,
          0,
          1,
          2,
          3,
          4,
          5,
          6,
          0,
          1,
          2,
          3,
          4,
          5,
          6,
          0,
          1,
          2,
          3,
          4,
          5,
          6,
          0,
          1,
          2,
          3,
          4,
          5,
          6,
          0,
          1,
          2,
          3,
          4,
          5,
          6,
          0,
          1,
          2,
          3,
          4,
          5,
          6,
          0,
          1,
          2,
          3,
          4,
          5,
          6,
          0,
          1,
          2,
          3,
          4,
          5,
          6,
          0,
          1,
          2,
          3,
          4,
          5,
          6,
          0,
          1,
          2,
          3,
          4,
          5,
          6,
          0,
          1,
          2,
          3,
          4,
          5,
          6,
          0,
          1,
          2,
          3,
          4,
          5,
          6,
          0,
          1,
          2,
          3,
          4,
          5,
          6,
          0,
          1,
          2,
          3,
          4,
          5,
          6,
          0,
          1,
          2,
          3,
          4,
          5,
          6,
          0,
          1,
          2,
          3,
          4,
          5,
          6,
          0,
          1,
          2,
          3,
          4,
          5,
          6,
          0,
          1,
          2,
          3,
          4,
          5,
          6,
          0,
          1,
          2,
          3,
          4,
          5,
          6,
          0,
          1,
          2,
          3,
          4,
          5,
          6,
          0,
          1,
          2,
          3,
          4,
          5,
          6,
          0,
          1,
          2,
          3,
          4,
          5,
          6,
          0,
          1,
          2,
          3,
          4,
          5,
          6,
          0,
          1,
          2,
          3,
          4,
          5,
          6,
          0,
          1,
          2,
          3,
          4,
          5,
          6,
          0,
          1,
          2,
          3,
          4,
          5,
          6,
          0,
          1,
          2,
          3,
          4,
          5,
          6,
          0,
          1,
          2,
          3,
          4,
          5,
          6,
          0,
          1,
          2,
          3,
          4,
          5,
          6,
          0,
          1,
          2,
          3,
          4,
          5,
          6,
          0,
          1,
          2,
          3,
          4,
          5,
          6,
          0,
          1,
          2,
          3,
          4,
          5
         ],
         "yaxis": "y8",
         "ygap": 1,
         "z": [
          0,
          0,
          11,
          7,
          1,
          11,
          1,
          1,
          3,
          3,
          6,
          1,
          11,
          17,
          0,
          0,
          0,
          0,
          1,
          1,
          1,
          3,
          1,
          11,
          1,
          8,
          1,
          4,
          0,
          0,
          0,
          0,
          0,
          1,
          1,
          3,
          1,
          2,
          13,
          1,
          0,
          0,
          1,
          1,
          0,
          0,
          0,
          0,
          0,
          0,
          0,
          0,
          9,
          2,
          22,
          2,
          2,
          0,
          0,
          1,
          1,
          0,
          5,
          13,
          1,
          6,
          13,
          1,
          0,
          0,
          0,
          13,
          3,
          1,
          1,
          0,
          0,
          0,
          0,
          1,
          5,
          1,
          2,
          1,
          1,
          2,
          4,
          6,
          8,
          13,
          5,
          11,
          4,
          11,
          2,
          1,
          2,
          1,
          2,
          1,
          2,
          2,
          0,
          0,
          1,
          7,
          1,
          1,
          2,
          9,
          6,
          22,
          17,
          1,
          2,
          0,
          2,
          0,
          0,
          0,
          5,
          3,
          10,
          16,
          13,
          1,
          1,
          10,
          2,
          0,
          0,
          0,
          0,
          0,
          0,
          0,
          0,
          0,
          0,
          0,
          0,
          0,
          0,
          0,
          0,
          0,
          0,
          0,
          0,
          0,
          0,
          0,
          0,
          0,
          0,
          0,
          0,
          0,
          0,
          0,
          0,
          0,
          0,
          0,
          0,
          0,
          0,
          0,
          0,
          0,
          0,
          0,
          0,
          0,
          0,
          0,
          0,
          0,
          0,
          0,
          0,
          0,
          0,
          0,
          0,
          0,
          0,
          0,
          0,
          0,
          0,
          0,
          0,
          0,
          0,
          0,
          0,
          0,
          0,
          0,
          0,
          0,
          0,
          0,
          0,
          0,
          0,
          0,
          0,
          0,
          0,
          0,
          0,
          0,
          0,
          0,
          0,
          0,
          0,
          0,
          0,
          0,
          0,
          0,
          0,
          0,
          0,
          0,
          0,
          0,
          0,
          0,
          0,
          0,
          0,
          0,
          0,
          0,
          0,
          0,
          0,
          0,
          0,
          0,
          0,
          0,
          0,
          0,
          0,
          0,
          0,
          0,
          0,
          0,
          0,
          0,
          0,
          0,
          0,
          0,
          0,
          0,
          0,
          0,
          0,
          0,
          0,
          0,
          0,
          0,
          0,
          0,
          0,
          0,
          0,
          0,
          0,
          0,
          0,
          0,
          0,
          0,
          0,
          0,
          0,
          0,
          0,
          0,
          0,
          0,
          0,
          0,
          0,
          0,
          0,
          0,
          0,
          0,
          0,
          0,
          0,
          0,
          0,
          0,
          0,
          0,
          0,
          0,
          0,
          0,
          0,
          0,
          0,
          0,
          0,
          0,
          0,
          0,
          0,
          0,
          0,
          0,
          0,
          0,
          0,
          0,
          0,
          0,
          0,
          0,
          0,
          0,
          0,
          0,
          0,
          0,
          0,
          0,
          0,
          0,
          0,
          0,
          0,
          0,
          0,
          0,
          0,
          0,
          0,
          0,
          0,
          0,
          0,
          0,
          0,
          0,
          0,
          0,
          0,
          0,
          0,
          0,
          0,
          0,
          0,
          0,
          0,
          0,
          0,
          0,
          0,
          0,
          0,
          0,
          0,
          0,
          0,
          0,
          0,
          0,
          0,
          0,
          0,
          0,
          0,
          0,
          0,
          0,
          0,
          0,
          0,
          0,
          0,
          0,
          0,
          0,
          0,
          0,
          0,
          0,
          0,
          0,
          0,
          0,
          0,
          0,
          0,
          0,
          0,
          0,
          0,
          0,
          0,
          0,
          0,
          0,
          0,
          0,
          0,
          0,
          0,
          0,
          0,
          0,
          0
         ],
         "zmax": 61,
         "zmin": 0
        },
        {
         "hoverinfo": "skip",
         "line": {
          "color": "#9e9e9e",
          "width": 1
         },
         "mode": "lines",
         "type": "scatter",
         "x": [
          -0.5,
          -0.5
         ],
         "xaxis": "x8",
         "y": [
          4.5,
          6.5
         ],
         "yaxis": "y8"
        },
        {
         "hoverinfo": "skip",
         "line": {
          "color": "#9e9e9e",
          "width": 1
         },
         "mode": "lines",
         "type": "scatter",
         "x": [
          -0.5,
          0.5
         ],
         "xaxis": "x8",
         "y": [
          4.5,
          4.5
         ],
         "yaxis": "y8"
        },
        {
         "hoverinfo": "skip",
         "line": {
          "color": "#9e9e9e",
          "width": 1
         },
         "mode": "lines",
         "type": "scatter",
         "x": [
          0.5,
          0.5
         ],
         "xaxis": "x8",
         "y": [
          4.5,
          -0.5
         ],
         "yaxis": "y8"
        },
        {
         "hoverinfo": "skip",
         "line": {
          "color": "#9e9e9e",
          "width": 1
         },
         "mode": "lines",
         "type": "scatter",
         "x": [
          4.5,
          4.5
         ],
         "xaxis": "x8",
         "y": [
          0.5,
          6.5
         ],
         "yaxis": "y8"
        },
        {
         "hoverinfo": "skip",
         "line": {
          "color": "#9e9e9e",
          "width": 1
         },
         "mode": "lines",
         "type": "scatter",
         "x": [
          4.5,
          5.5
         ],
         "xaxis": "x8",
         "y": [
          0.5,
          0.5
         ],
         "yaxis": "y8"
        },
        {
         "hoverinfo": "skip",
         "line": {
          "color": "#9e9e9e",
          "width": 1
         },
         "mode": "lines",
         "type": "scatter",
         "x": [
          5.5,
          5.5
         ],
         "xaxis": "x8",
         "y": [
          0.5,
          -0.5
         ],
         "yaxis": "y8"
        },
        {
         "hoverinfo": "skip",
         "line": {
          "color": "#9e9e9e",
          "width": 1
         },
         "mode": "lines",
         "type": "scatter",
         "x": [
          8.5,
          8.5
         ],
         "xaxis": "x8",
         "y": [
          0.5,
          6.5
         ],
         "yaxis": "y8"
        },
        {
         "hoverinfo": "skip",
         "line": {
          "color": "#9e9e9e",
          "width": 1
         },
         "mode": "lines",
         "type": "scatter",
         "x": [
          8.5,
          9.5
         ],
         "xaxis": "x8",
         "y": [
          0.5,
          0.5
         ],
         "yaxis": "y8"
        },
        {
         "hoverinfo": "skip",
         "line": {
          "color": "#9e9e9e",
          "width": 1
         },
         "mode": "lines",
         "type": "scatter",
         "x": [
          9.5,
          9.5
         ],
         "xaxis": "x8",
         "y": [
          0.5,
          -0.5
         ],
         "yaxis": "y8"
        },
        {
         "hoverinfo": "skip",
         "line": {
          "color": "#9e9e9e",
          "width": 1
         },
         "mode": "lines",
         "type": "scatter",
         "x": [
          8.5,
          8.5
         ],
         "xaxis": "x8",
         "y": [
          0.5,
          6.5
         ],
         "yaxis": "y8"
        },
        {
         "hoverinfo": "skip",
         "line": {
          "color": "#9e9e9e",
          "width": 1
         },
         "mode": "lines",
         "type": "scatter",
         "x": [
          8.5,
          9.5
         ],
         "xaxis": "x8",
         "y": [
          0.5,
          0.5
         ],
         "yaxis": "y8"
        },
        {
         "hoverinfo": "skip",
         "line": {
          "color": "#9e9e9e",
          "width": 1
         },
         "mode": "lines",
         "type": "scatter",
         "x": [
          9.5,
          9.5
         ],
         "xaxis": "x8",
         "y": [
          0.5,
          -0.5
         ],
         "yaxis": "y8"
        },
        {
         "hoverinfo": "skip",
         "line": {
          "color": "#9e9e9e",
          "width": 1
         },
         "mode": "lines",
         "type": "scatter",
         "x": [
          12.5,
          12.5
         ],
         "xaxis": "x8",
         "y": [
          3.5,
          6.5
         ],
         "yaxis": "y8"
        },
        {
         "hoverinfo": "skip",
         "line": {
          "color": "#9e9e9e",
          "width": 1
         },
         "mode": "lines",
         "type": "scatter",
         "x": [
          12.5,
          13.5
         ],
         "xaxis": "x8",
         "y": [
          3.5,
          3.5
         ],
         "yaxis": "y8"
        },
        {
         "hoverinfo": "skip",
         "line": {
          "color": "#9e9e9e",
          "width": 1
         },
         "mode": "lines",
         "type": "scatter",
         "x": [
          13.5,
          13.5
         ],
         "xaxis": "x8",
         "y": [
          3.5,
          -0.5
         ],
         "yaxis": "y8"
        },
        {
         "hoverinfo": "skip",
         "line": {
          "color": "#9e9e9e",
          "width": 1
         },
         "mode": "lines",
         "type": "scatter",
         "x": [
          16.5,
          16.5
         ],
         "xaxis": "x8",
         "y": [
          5.5,
          6.5
         ],
         "yaxis": "y8"
        },
        {
         "hoverinfo": "skip",
         "line": {
          "color": "#9e9e9e",
          "width": 1
         },
         "mode": "lines",
         "type": "scatter",
         "x": [
          16.5,
          17.5
         ],
         "xaxis": "x8",
         "y": [
          5.5,
          5.5
         ],
         "yaxis": "y8"
        },
        {
         "hoverinfo": "skip",
         "line": {
          "color": "#9e9e9e",
          "width": 1
         },
         "mode": "lines",
         "type": "scatter",
         "x": [
          17.5,
          17.5
         ],
         "xaxis": "x8",
         "y": [
          5.5,
          -0.5
         ],
         "yaxis": "y8"
        },
        {
         "hoverinfo": "skip",
         "line": {
          "color": "#9e9e9e",
          "width": 1
         },
         "mode": "lines",
         "type": "scatter",
         "x": [
          21.5,
          21.5
         ],
         "xaxis": "x8",
         "y": [
          1.5,
          6.5
         ],
         "yaxis": "y8"
        },
        {
         "hoverinfo": "skip",
         "line": {
          "color": "#9e9e9e",
          "width": 1
         },
         "mode": "lines",
         "type": "scatter",
         "x": [
          21.5,
          22.5
         ],
         "xaxis": "x8",
         "y": [
          1.5,
          1.5
         ],
         "yaxis": "y8"
        },
        {
         "hoverinfo": "skip",
         "line": {
          "color": "#9e9e9e",
          "width": 1
         },
         "mode": "lines",
         "type": "scatter",
         "x": [
          22.5,
          22.5
         ],
         "xaxis": "x8",
         "y": [
          1.5,
          -0.5
         ],
         "yaxis": "y8"
        },
        {
         "hoverinfo": "skip",
         "line": {
          "color": "#9e9e9e",
          "width": 1
         },
         "mode": "lines",
         "type": "scatter",
         "x": [
          25.5,
          25.5
         ],
         "xaxis": "x8",
         "y": [
          3.5,
          6.5
         ],
         "yaxis": "y8"
        },
        {
         "hoverinfo": "skip",
         "line": {
          "color": "#9e9e9e",
          "width": 1
         },
         "mode": "lines",
         "type": "scatter",
         "x": [
          25.5,
          26.5
         ],
         "xaxis": "x8",
         "y": [
          3.5,
          3.5
         ],
         "yaxis": "y8"
        },
        {
         "hoverinfo": "skip",
         "line": {
          "color": "#9e9e9e",
          "width": 1
         },
         "mode": "lines",
         "type": "scatter",
         "x": [
          26.5,
          26.5
         ],
         "xaxis": "x8",
         "y": [
          3.5,
          -0.5
         ],
         "yaxis": "y8"
        },
        {
         "hoverinfo": "skip",
         "line": {
          "color": "#9e9e9e",
          "width": 1
         },
         "mode": "lines",
         "type": "scatter",
         "x": [
          30.5,
          30.5
         ],
         "xaxis": "x8",
         "y": [
          -0.5,
          6.5
         ],
         "yaxis": "y8"
        },
        {
         "hoverinfo": "skip",
         "line": {
          "color": "#9e9e9e",
          "width": 1
         },
         "mode": "lines",
         "type": "scatter",
         "x": [
          34.5,
          34.5
         ],
         "xaxis": "x8",
         "y": [
          2.5,
          6.5
         ],
         "yaxis": "y8"
        },
        {
         "hoverinfo": "skip",
         "line": {
          "color": "#9e9e9e",
          "width": 1
         },
         "mode": "lines",
         "type": "scatter",
         "x": [
          34.5,
          35.5
         ],
         "xaxis": "x8",
         "y": [
          2.5,
          2.5
         ],
         "yaxis": "y8"
        },
        {
         "hoverinfo": "skip",
         "line": {
          "color": "#9e9e9e",
          "width": 1
         },
         "mode": "lines",
         "type": "scatter",
         "x": [
          35.5,
          35.5
         ],
         "xaxis": "x8",
         "y": [
          2.5,
          -0.5
         ],
         "yaxis": "y8"
        },
        {
         "hoverinfo": "skip",
         "line": {
          "color": "#9e9e9e",
          "width": 1
         },
         "mode": "lines",
         "type": "scatter",
         "x": [
          38.5,
          38.5
         ],
         "xaxis": "x8",
         "y": [
          4.5,
          6.5
         ],
         "yaxis": "y8"
        },
        {
         "hoverinfo": "skip",
         "line": {
          "color": "#9e9e9e",
          "width": 1
         },
         "mode": "lines",
         "type": "scatter",
         "x": [
          38.5,
          39.5
         ],
         "xaxis": "x8",
         "y": [
          4.5,
          4.5
         ],
         "yaxis": "y8"
        },
        {
         "hoverinfo": "skip",
         "line": {
          "color": "#9e9e9e",
          "width": 1
         },
         "mode": "lines",
         "type": "scatter",
         "x": [
          39.5,
          39.5
         ],
         "xaxis": "x8",
         "y": [
          4.5,
          -0.5
         ],
         "yaxis": "y8"
        },
        {
         "hoverinfo": "skip",
         "line": {
          "color": "#9e9e9e",
          "width": 1
         },
         "mode": "lines",
         "type": "scatter",
         "x": [
          43.5,
          43.5
         ],
         "xaxis": "x8",
         "y": [
          0.5,
          6.5
         ],
         "yaxis": "y8"
        },
        {
         "hoverinfo": "skip",
         "line": {
          "color": "#9e9e9e",
          "width": 1
         },
         "mode": "lines",
         "type": "scatter",
         "x": [
          43.5,
          44.5
         ],
         "xaxis": "x8",
         "y": [
          0.5,
          0.5
         ],
         "yaxis": "y8"
        },
        {
         "hoverinfo": "skip",
         "line": {
          "color": "#9e9e9e",
          "width": 1
         },
         "mode": "lines",
         "type": "scatter",
         "x": [
          44.5,
          44.5
         ],
         "xaxis": "x8",
         "y": [
          0.5,
          -0.5
         ],
         "yaxis": "y8"
        },
        {
         "hoverinfo": "skip",
         "line": {
          "color": "#9e9e9e",
          "width": 1
         },
         "mode": "lines",
         "type": "scatter",
         "x": [
          47.5,
          47.5
         ],
         "xaxis": "x8",
         "y": [
          2.5,
          6.5
         ],
         "yaxis": "y8"
        },
        {
         "hoverinfo": "skip",
         "line": {
          "color": "#9e9e9e",
          "width": 1
         },
         "mode": "lines",
         "type": "scatter",
         "x": [
          47.5,
          48.5
         ],
         "xaxis": "x8",
         "y": [
          2.5,
          2.5
         ],
         "yaxis": "y8"
        },
        {
         "hoverinfo": "skip",
         "line": {
          "color": "#9e9e9e",
          "width": 1
         },
         "mode": "lines",
         "type": "scatter",
         "x": [
          48.5,
          48.5
         ],
         "xaxis": "x8",
         "y": [
          2.5,
          -0.5
         ],
         "yaxis": "y8"
        }
       ],
       "layout": {
        "font": {
         "color": "#9e9e9e",
         "size": 10
        },
        "height": 1200,
        "margin": {
         "b": 20,
         "t": 20
        },
        "plot_bgcolor": "#fff",
        "showlegend": false,
        "template": {
         "data": {
          "bar": [
           {
            "error_x": {
             "color": "#2a3f5f"
            },
            "error_y": {
             "color": "#2a3f5f"
            },
            "marker": {
             "line": {
              "color": "#E5ECF6",
              "width": 0.5
             },
             "pattern": {
              "fillmode": "overlay",
              "size": 10,
              "solidity": 0.2
             }
            },
            "type": "bar"
           }
          ],
          "barpolar": [
           {
            "marker": {
             "line": {
              "color": "#E5ECF6",
              "width": 0.5
             },
             "pattern": {
              "fillmode": "overlay",
              "size": 10,
              "solidity": 0.2
             }
            },
            "type": "barpolar"
           }
          ],
          "carpet": [
           {
            "aaxis": {
             "endlinecolor": "#2a3f5f",
             "gridcolor": "white",
             "linecolor": "white",
             "minorgridcolor": "white",
             "startlinecolor": "#2a3f5f"
            },
            "baxis": {
             "endlinecolor": "#2a3f5f",
             "gridcolor": "white",
             "linecolor": "white",
             "minorgridcolor": "white",
             "startlinecolor": "#2a3f5f"
            },
            "type": "carpet"
           }
          ],
          "choropleth": [
           {
            "colorbar": {
             "outlinewidth": 0,
             "ticks": ""
            },
            "type": "choropleth"
           }
          ],
          "contour": [
           {
            "colorbar": {
             "outlinewidth": 0,
             "ticks": ""
            },
            "colorscale": [
             [
              0,
              "#0d0887"
             ],
             [
              0.1111111111111111,
              "#46039f"
             ],
             [
              0.2222222222222222,
              "#7201a8"
             ],
             [
              0.3333333333333333,
              "#9c179e"
             ],
             [
              0.4444444444444444,
              "#bd3786"
             ],
             [
              0.5555555555555556,
              "#d8576b"
             ],
             [
              0.6666666666666666,
              "#ed7953"
             ],
             [
              0.7777777777777778,
              "#fb9f3a"
             ],
             [
              0.8888888888888888,
              "#fdca26"
             ],
             [
              1,
              "#f0f921"
             ]
            ],
            "type": "contour"
           }
          ],
          "contourcarpet": [
           {
            "colorbar": {
             "outlinewidth": 0,
             "ticks": ""
            },
            "type": "contourcarpet"
           }
          ],
          "heatmap": [
           {
            "colorbar": {
             "outlinewidth": 0,
             "ticks": ""
            },
            "colorscale": [
             [
              0,
              "#0d0887"
             ],
             [
              0.1111111111111111,
              "#46039f"
             ],
             [
              0.2222222222222222,
              "#7201a8"
             ],
             [
              0.3333333333333333,
              "#9c179e"
             ],
             [
              0.4444444444444444,
              "#bd3786"
             ],
             [
              0.5555555555555556,
              "#d8576b"
             ],
             [
              0.6666666666666666,
              "#ed7953"
             ],
             [
              0.7777777777777778,
              "#fb9f3a"
             ],
             [
              0.8888888888888888,
              "#fdca26"
             ],
             [
              1,
              "#f0f921"
             ]
            ],
            "type": "heatmap"
           }
          ],
          "heatmapgl": [
           {
            "colorbar": {
             "outlinewidth": 0,
             "ticks": ""
            },
            "colorscale": [
             [
              0,
              "#0d0887"
             ],
             [
              0.1111111111111111,
              "#46039f"
             ],
             [
              0.2222222222222222,
              "#7201a8"
             ],
             [
              0.3333333333333333,
              "#9c179e"
             ],
             [
              0.4444444444444444,
              "#bd3786"
             ],
             [
              0.5555555555555556,
              "#d8576b"
             ],
             [
              0.6666666666666666,
              "#ed7953"
             ],
             [
              0.7777777777777778,
              "#fb9f3a"
             ],
             [
              0.8888888888888888,
              "#fdca26"
             ],
             [
              1,
              "#f0f921"
             ]
            ],
            "type": "heatmapgl"
           }
          ],
          "histogram": [
           {
            "marker": {
             "pattern": {
              "fillmode": "overlay",
              "size": 10,
              "solidity": 0.2
             }
            },
            "type": "histogram"
           }
          ],
          "histogram2d": [
           {
            "colorbar": {
             "outlinewidth": 0,
             "ticks": ""
            },
            "colorscale": [
             [
              0,
              "#0d0887"
             ],
             [
              0.1111111111111111,
              "#46039f"
             ],
             [
              0.2222222222222222,
              "#7201a8"
             ],
             [
              0.3333333333333333,
              "#9c179e"
             ],
             [
              0.4444444444444444,
              "#bd3786"
             ],
             [
              0.5555555555555556,
              "#d8576b"
             ],
             [
              0.6666666666666666,
              "#ed7953"
             ],
             [
              0.7777777777777778,
              "#fb9f3a"
             ],
             [
              0.8888888888888888,
              "#fdca26"
             ],
             [
              1,
              "#f0f921"
             ]
            ],
            "type": "histogram2d"
           }
          ],
          "histogram2dcontour": [
           {
            "colorbar": {
             "outlinewidth": 0,
             "ticks": ""
            },
            "colorscale": [
             [
              0,
              "#0d0887"
             ],
             [
              0.1111111111111111,
              "#46039f"
             ],
             [
              0.2222222222222222,
              "#7201a8"
             ],
             [
              0.3333333333333333,
              "#9c179e"
             ],
             [
              0.4444444444444444,
              "#bd3786"
             ],
             [
              0.5555555555555556,
              "#d8576b"
             ],
             [
              0.6666666666666666,
              "#ed7953"
             ],
             [
              0.7777777777777778,
              "#fb9f3a"
             ],
             [
              0.8888888888888888,
              "#fdca26"
             ],
             [
              1,
              "#f0f921"
             ]
            ],
            "type": "histogram2dcontour"
           }
          ],
          "mesh3d": [
           {
            "colorbar": {
             "outlinewidth": 0,
             "ticks": ""
            },
            "type": "mesh3d"
           }
          ],
          "parcoords": [
           {
            "line": {
             "colorbar": {
              "outlinewidth": 0,
              "ticks": ""
             }
            },
            "type": "parcoords"
           }
          ],
          "pie": [
           {
            "automargin": true,
            "type": "pie"
           }
          ],
          "scatter": [
           {
            "fillpattern": {
             "fillmode": "overlay",
             "size": 10,
             "solidity": 0.2
            },
            "type": "scatter"
           }
          ],
          "scatter3d": [
           {
            "line": {
             "colorbar": {
              "outlinewidth": 0,
              "ticks": ""
             }
            },
            "marker": {
             "colorbar": {
              "outlinewidth": 0,
              "ticks": ""
             }
            },
            "type": "scatter3d"
           }
          ],
          "scattercarpet": [
           {
            "marker": {
             "colorbar": {
              "outlinewidth": 0,
              "ticks": ""
             }
            },
            "type": "scattercarpet"
           }
          ],
          "scattergeo": [
           {
            "marker": {
             "colorbar": {
              "outlinewidth": 0,
              "ticks": ""
             }
            },
            "type": "scattergeo"
           }
          ],
          "scattergl": [
           {
            "marker": {
             "colorbar": {
              "outlinewidth": 0,
              "ticks": ""
             }
            },
            "type": "scattergl"
           }
          ],
          "scattermapbox": [
           {
            "marker": {
             "colorbar": {
              "outlinewidth": 0,
              "ticks": ""
             }
            },
            "type": "scattermapbox"
           }
          ],
          "scatterpolar": [
           {
            "marker": {
             "colorbar": {
              "outlinewidth": 0,
              "ticks": ""
             }
            },
            "type": "scatterpolar"
           }
          ],
          "scatterpolargl": [
           {
            "marker": {
             "colorbar": {
              "outlinewidth": 0,
              "ticks": ""
             }
            },
            "type": "scatterpolargl"
           }
          ],
          "scatterternary": [
           {
            "marker": {
             "colorbar": {
              "outlinewidth": 0,
              "ticks": ""
             }
            },
            "type": "scatterternary"
           }
          ],
          "surface": [
           {
            "colorbar": {
             "outlinewidth": 0,
             "ticks": ""
            },
            "colorscale": [
             [
              0,
              "#0d0887"
             ],
             [
              0.1111111111111111,
              "#46039f"
             ],
             [
              0.2222222222222222,
              "#7201a8"
             ],
             [
              0.3333333333333333,
              "#9c179e"
             ],
             [
              0.4444444444444444,
              "#bd3786"
             ],
             [
              0.5555555555555556,
              "#d8576b"
             ],
             [
              0.6666666666666666,
              "#ed7953"
             ],
             [
              0.7777777777777778,
              "#fb9f3a"
             ],
             [
              0.8888888888888888,
              "#fdca26"
             ],
             [
              1,
              "#f0f921"
             ]
            ],
            "type": "surface"
           }
          ],
          "table": [
           {
            "cells": {
             "fill": {
              "color": "#EBF0F8"
             },
             "line": {
              "color": "white"
             }
            },
            "header": {
             "fill": {
              "color": "#C8D4E3"
             },
             "line": {
              "color": "white"
             }
            },
            "type": "table"
           }
          ]
         },
         "layout": {
          "annotationdefaults": {
           "arrowcolor": "#2a3f5f",
           "arrowhead": 0,
           "arrowwidth": 1
          },
          "autotypenumbers": "strict",
          "coloraxis": {
           "colorbar": {
            "outlinewidth": 0,
            "ticks": ""
           }
          },
          "colorscale": {
           "diverging": [
            [
             0,
             "#8e0152"
            ],
            [
             0.1,
             "#c51b7d"
            ],
            [
             0.2,
             "#de77ae"
            ],
            [
             0.3,
             "#f1b6da"
            ],
            [
             0.4,
             "#fde0ef"
            ],
            [
             0.5,
             "#f7f7f7"
            ],
            [
             0.6,
             "#e6f5d0"
            ],
            [
             0.7,
             "#b8e186"
            ],
            [
             0.8,
             "#7fbc41"
            ],
            [
             0.9,
             "#4d9221"
            ],
            [
             1,
             "#276419"
            ]
           ],
           "sequential": [
            [
             0,
             "#0d0887"
            ],
            [
             0.1111111111111111,
             "#46039f"
            ],
            [
             0.2222222222222222,
             "#7201a8"
            ],
            [
             0.3333333333333333,
             "#9c179e"
            ],
            [
             0.4444444444444444,
             "#bd3786"
            ],
            [
             0.5555555555555556,
             "#d8576b"
            ],
            [
             0.6666666666666666,
             "#ed7953"
            ],
            [
             0.7777777777777778,
             "#fb9f3a"
            ],
            [
             0.8888888888888888,
             "#fdca26"
            ],
            [
             1,
             "#f0f921"
            ]
           ],
           "sequentialminus": [
            [
             0,
             "#0d0887"
            ],
            [
             0.1111111111111111,
             "#46039f"
            ],
            [
             0.2222222222222222,
             "#7201a8"
            ],
            [
             0.3333333333333333,
             "#9c179e"
            ],
            [
             0.4444444444444444,
             "#bd3786"
            ],
            [
             0.5555555555555556,
             "#d8576b"
            ],
            [
             0.6666666666666666,
             "#ed7953"
            ],
            [
             0.7777777777777778,
             "#fb9f3a"
            ],
            [
             0.8888888888888888,
             "#fdca26"
            ],
            [
             1,
             "#f0f921"
            ]
           ]
          },
          "colorway": [
           "#636efa",
           "#EF553B",
           "#00cc96",
           "#ab63fa",
           "#FFA15A",
           "#19d3f3",
           "#FF6692",
           "#B6E880",
           "#FF97FF",
           "#FECB52"
          ],
          "font": {
           "color": "#2a3f5f"
          },
          "geo": {
           "bgcolor": "white",
           "lakecolor": "white",
           "landcolor": "#E5ECF6",
           "showlakes": true,
           "showland": true,
           "subunitcolor": "white"
          },
          "hoverlabel": {
           "align": "left"
          },
          "hovermode": "closest",
          "mapbox": {
           "style": "light"
          },
          "paper_bgcolor": "white",
          "plot_bgcolor": "#E5ECF6",
          "polar": {
           "angularaxis": {
            "gridcolor": "white",
            "linecolor": "white",
            "ticks": ""
           },
           "bgcolor": "#E5ECF6",
           "radialaxis": {
            "gridcolor": "white",
            "linecolor": "white",
            "ticks": ""
           }
          },
          "scene": {
           "xaxis": {
            "backgroundcolor": "#E5ECF6",
            "gridcolor": "white",
            "gridwidth": 2,
            "linecolor": "white",
            "showbackground": true,
            "ticks": "",
            "zerolinecolor": "white"
           },
           "yaxis": {
            "backgroundcolor": "#E5ECF6",
            "gridcolor": "white",
            "gridwidth": 2,
            "linecolor": "white",
            "showbackground": true,
            "ticks": "",
            "zerolinecolor": "white"
           },
           "zaxis": {
            "backgroundcolor": "#E5ECF6",
            "gridcolor": "white",
            "gridwidth": 2,
            "linecolor": "white",
            "showbackground": true,
            "ticks": "",
            "zerolinecolor": "white"
           }
          },
          "shapedefaults": {
           "line": {
            "color": "#2a3f5f"
           }
          },
          "ternary": {
           "aaxis": {
            "gridcolor": "white",
            "linecolor": "white",
            "ticks": ""
           },
           "baxis": {
            "gridcolor": "white",
            "linecolor": "white",
            "ticks": ""
           },
           "bgcolor": "#E5ECF6",
           "caxis": {
            "gridcolor": "white",
            "linecolor": "white",
            "ticks": ""
           }
          },
          "title": {
           "x": 0.05
          },
          "xaxis": {
           "automargin": true,
           "gridcolor": "white",
           "linecolor": "white",
           "ticks": "",
           "title": {
            "standoff": 15
           },
           "zerolinecolor": "white",
           "zerolinewidth": 2
          },
          "yaxis": {
           "automargin": true,
           "gridcolor": "white",
           "linecolor": "white",
           "ticks": "",
           "title": {
            "standoff": 15
           },
           "zerolinecolor": "white",
           "zerolinewidth": 2
          }
         }
        },
        "title": {
         "text": ""
        },
        "width": 800,
        "xaxis": {
         "anchor": "y",
         "domain": [
          0,
          1
         ],
         "showgrid": false,
         "showline": false,
         "tickmode": "array",
         "ticktext": [
          "January",
          "February",
          "March",
          "April",
          "May",
          "June",
          "July",
          "August",
          "September",
          "October",
          "November",
          "December"
         ],
         "tickvals": [
          2.2857142857142856,
          6.285714285714286,
          10.714285714285714,
          15,
          19.428571428571427,
          23.714285714285715,
          28.142857142857142,
          32.57142857142857,
          36.857142857142854,
          41.285714285714285,
          45.57142857142857,
          50
         ],
         "zeroline": false
        },
        "xaxis2": {
         "anchor": "y2",
         "domain": [
          0,
          1
         ],
         "showgrid": false,
         "showline": false,
         "tickmode": "array",
         "ticktext": [
          "January",
          "February",
          "March",
          "April",
          "May",
          "June",
          "July",
          "August",
          "September",
          "October",
          "November",
          "December"
         ],
         "tickvals": [
          2.2857142857142856,
          6.285714285714286,
          10.714285714285714,
          15,
          19.428571428571427,
          23.714285714285715,
          28.142857142857142,
          32.57142857142857,
          36.857142857142854,
          41.285714285714285,
          45.57142857142857,
          50
         ],
         "zeroline": false
        },
        "xaxis3": {
         "anchor": "y3",
         "domain": [
          0,
          1
         ],
         "showgrid": false,
         "showline": false,
         "tickmode": "array",
         "ticktext": [
          "January",
          "February",
          "March",
          "April",
          "May",
          "June",
          "July",
          "August",
          "September",
          "October",
          "November",
          "December"
         ],
         "tickvals": [
          2.2857142857142856,
          6.285714285714286,
          10.714285714285714,
          15,
          19.428571428571427,
          23.714285714285715,
          28.142857142857142,
          32.57142857142857,
          36.857142857142854,
          41.285714285714285,
          45.57142857142857,
          50
         ],
         "zeroline": false
        },
        "xaxis4": {
         "anchor": "y4",
         "domain": [
          0,
          1
         ],
         "showgrid": false,
         "showline": false,
         "tickmode": "array",
         "ticktext": [
          "January",
          "February",
          "March",
          "April",
          "May",
          "June",
          "July",
          "August",
          "September",
          "October",
          "November",
          "December"
         ],
         "tickvals": [
          2.2857142857142856,
          6.285714285714286,
          10.714285714285714,
          15,
          19.428571428571427,
          23.714285714285715,
          28.142857142857142,
          32.57142857142857,
          36.857142857142854,
          41.285714285714285,
          45.57142857142857,
          50
         ],
         "zeroline": false
        },
        "xaxis5": {
         "anchor": "y5",
         "domain": [
          0,
          1
         ],
         "showgrid": false,
         "showline": false,
         "tickmode": "array",
         "ticktext": [
          "January",
          "February",
          "March",
          "April",
          "May",
          "June",
          "July",
          "August",
          "September",
          "October",
          "November",
          "December"
         ],
         "tickvals": [
          2.2857142857142856,
          6.285714285714286,
          10.714285714285714,
          15,
          19.428571428571427,
          23.714285714285715,
          28.142857142857142,
          32.57142857142857,
          36.857142857142854,
          41.285714285714285,
          45.57142857142857,
          50
         ],
         "zeroline": false
        },
        "xaxis6": {
         "anchor": "y6",
         "domain": [
          0,
          1
         ],
         "showgrid": false,
         "showline": false,
         "tickmode": "array",
         "ticktext": [
          "January",
          "February",
          "March",
          "April",
          "May",
          "June",
          "July",
          "August",
          "September",
          "October",
          "November",
          "December"
         ],
         "tickvals": [
          2.2857142857142856,
          6.285714285714286,
          10.714285714285714,
          15,
          19.428571428571427,
          23.714285714285715,
          28.142857142857142,
          32.57142857142857,
          36.857142857142854,
          41.285714285714285,
          45.57142857142857,
          50
         ],
         "zeroline": false
        },
        "xaxis7": {
         "anchor": "y7",
         "domain": [
          0,
          1
         ],
         "showgrid": false,
         "showline": false,
         "tickmode": "array",
         "ticktext": [
          "January",
          "February",
          "March",
          "April",
          "May",
          "June",
          "July",
          "August",
          "September",
          "October",
          "November",
          "December"
         ],
         "tickvals": [
          2.2857142857142856,
          6.285714285714286,
          10.714285714285714,
          15,
          19.428571428571427,
          23.714285714285715,
          28.142857142857142,
          32.57142857142857,
          36.857142857142854,
          41.285714285714285,
          45.57142857142857,
          50
         ],
         "zeroline": false
        },
        "xaxis8": {
         "anchor": "y8",
         "domain": [
          0,
          1
         ],
         "showgrid": false,
         "showline": false,
         "tickmode": "array",
         "ticktext": [
          "January",
          "February",
          "March",
          "April",
          "May",
          "June",
          "July",
          "August",
          "September",
          "October",
          "November",
          "December"
         ],
         "tickvals": [
          2.2857142857142856,
          6.285714285714286,
          10.714285714285714,
          15,
          19.428571428571427,
          23.714285714285715,
          28.142857142857142,
          32.57142857142857,
          36.857142857142854,
          41.285714285714285,
          45.57142857142857,
          50
         ],
         "zeroline": false
        },
        "yaxis": {
         "anchor": "x",
         "autorange": "reversed",
         "domain": [
          0.9450000000000001,
          1
         ],
         "showgrid": false,
         "showline": false,
         "tickmode": "array",
         "ticktext": [
          "Mon",
          "Tue",
          "Wed",
          "Thu",
          "Fri",
          "Sat",
          "Sun"
         ],
         "tickvals": [
          0,
          1,
          2,
          3,
          4,
          5,
          6
         ],
         "zeroline": false
        },
        "yaxis2": {
         "anchor": "x2",
         "autorange": "reversed",
         "domain": [
          0.8099999999999999,
          0.865
         ],
         "showgrid": false,
         "showline": false,
         "tickmode": "array",
         "ticktext": [
          "Mon",
          "Tue",
          "Wed",
          "Thu",
          "Fri",
          "Sat",
          "Sun"
         ],
         "tickvals": [
          0,
          1,
          2,
          3,
          4,
          5,
          6
         ],
         "zeroline": false
        },
        "yaxis3": {
         "anchor": "x3",
         "autorange": "reversed",
         "domain": [
          0.675,
          0.73
         ],
         "showgrid": false,
         "showline": false,
         "tickmode": "array",
         "ticktext": [
          "Mon",
          "Tue",
          "Wed",
          "Thu",
          "Fri",
          "Sat",
          "Sun"
         ],
         "tickvals": [
          0,
          1,
          2,
          3,
          4,
          5,
          6
         ],
         "zeroline": false
        },
        "yaxis4": {
         "anchor": "x4",
         "autorange": "reversed",
         "domain": [
          0.54,
          0.595
         ],
         "showgrid": false,
         "showline": false,
         "tickmode": "array",
         "ticktext": [
          "Mon",
          "Tue",
          "Wed",
          "Thu",
          "Fri",
          "Sat",
          "Sun"
         ],
         "tickvals": [
          0,
          1,
          2,
          3,
          4,
          5,
          6
         ],
         "zeroline": false
        },
        "yaxis5": {
         "anchor": "x5",
         "autorange": "reversed",
         "domain": [
          0.40499999999999997,
          0.45999999999999996
         ],
         "showgrid": false,
         "showline": false,
         "tickmode": "array",
         "ticktext": [
          "Mon",
          "Tue",
          "Wed",
          "Thu",
          "Fri",
          "Sat",
          "Sun"
         ],
         "tickvals": [
          0,
          1,
          2,
          3,
          4,
          5,
          6
         ],
         "zeroline": false
        },
        "yaxis6": {
         "anchor": "x6",
         "autorange": "reversed",
         "domain": [
          0.27,
          0.325
         ],
         "showgrid": false,
         "showline": false,
         "tickmode": "array",
         "ticktext": [
          "Mon",
          "Tue",
          "Wed",
          "Thu",
          "Fri",
          "Sat",
          "Sun"
         ],
         "tickvals": [
          0,
          1,
          2,
          3,
          4,
          5,
          6
         ],
         "zeroline": false
        },
        "yaxis7": {
         "anchor": "x7",
         "autorange": "reversed",
         "domain": [
          0.135,
          0.19
         ],
         "showgrid": false,
         "showline": false,
         "tickmode": "array",
         "ticktext": [
          "Mon",
          "Tue",
          "Wed",
          "Thu",
          "Fri",
          "Sat",
          "Sun"
         ],
         "tickvals": [
          0,
          1,
          2,
          3,
          4,
          5,
          6
         ],
         "zeroline": false
        },
        "yaxis8": {
         "anchor": "x8",
         "autorange": "reversed",
         "domain": [
          0,
          0.05499999999999999
         ],
         "showgrid": false,
         "showline": false,
         "tickmode": "array",
         "ticktext": [
          "Mon",
          "Tue",
          "Wed",
          "Thu",
          "Fri",
          "Sat",
          "Sun"
         ],
         "tickvals": [
          0,
          1,
          2,
          3,
          4,
          5,
          6
         ],
         "zeroline": false
        }
       }
      }
     },
     "metadata": {},
     "output_type": "display_data"
    }
   ],
   "source": [
    "fig = calplot(df_group, x='CreatedDate', y='Count')\n",
    "fig.show()"
   ]
  }
 ],
 "metadata": {
  "kernelspec": {
   "display_name": "Python 3.10.2 64-bit",
   "language": "python",
   "name": "python3"
  },
  "language_info": {
   "codemirror_mode": {
    "name": "ipython",
    "version": 3
   },
   "file_extension": ".py",
   "mimetype": "text/x-python",
   "name": "python",
   "nbconvert_exporter": "python",
   "pygments_lexer": "ipython3",
   "version": "3.10.2"
  },
  "orig_nbformat": 4,
  "vscode": {
   "interpreter": {
    "hash": "20670dbee0739d2c5eb2a0a69c2bafff5f6c61a35eab1c2e2d76b689414d6deb"
   }
  }
 },
 "nbformat": 4,
 "nbformat_minor": 2
}
